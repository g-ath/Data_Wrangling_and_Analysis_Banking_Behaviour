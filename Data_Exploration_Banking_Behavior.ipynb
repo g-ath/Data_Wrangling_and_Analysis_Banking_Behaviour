{
 "cells": [
  {
   "cell_type": "code",
   "execution_count": 56,
   "id": "2536fb1d-61ad-4ddb-9ccd-f4740f19938a",
   "metadata": {},
   "outputs": [],
   "source": [
    "import numpy as np\n",
    "import pandas as pd\n",
    "import plotly"
   ]
  },
  {
   "cell_type": "code",
   "execution_count": 57,
   "id": "9e7613f5-f38b-4d75-804b-db38c1b69b63",
   "metadata": {},
   "outputs": [],
   "source": [
    "accounts = pd.read_csv('twm_accounts.csv', sep = ';')\n",
    "checking_acct = pd.read_csv('twm_checking_acct.csv', sep = ';')\n",
    "checking_tran = pd.read_csv('twm_checking_tran.csv', sep = ';')\n",
    "credit_acct = pd.read_csv('twm_credit_acct.csv', sep = ';')\n",
    "credit_tran = pd.read_csv('twm_credit_tran.csv', sep = ';')\n",
    "customer = pd.read_csv('twm_customer.csv', sep = ';')\n",
    "savings_acct = pd.read_csv('twm_savings_acct.csv', sep = ';')\n",
    "savings_tran = pd.read_csv('twm_savings_tran.csv', sep = ';')\n",
    "transaction = pd.read_csv('twm_transactions.csv', sep = ';')"
   ]
  },
  {
   "cell_type": "code",
   "execution_count": 58,
   "id": "df3d8ae3-4bae-49d1-a730-5421c8e8196d",
   "metadata": {},
   "outputs": [
    {
     "data": {
      "text/html": [
       "<div>\n",
       "<style scoped>\n",
       "    .dataframe tbody tr th:only-of-type {\n",
       "        vertical-align: middle;\n",
       "    }\n",
       "\n",
       "    .dataframe tbody tr th {\n",
       "        vertical-align: top;\n",
       "    }\n",
       "\n",
       "    .dataframe thead th {\n",
       "        text-align: right;\n",
       "    }\n",
       "</style>\n",
       "<table border=\"1\" class=\"dataframe\">\n",
       "  <thead>\n",
       "    <tr style=\"text-align: right;\">\n",
       "      <th></th>\n",
       "      <th>cust_id</th>\n",
       "      <th>income</th>\n",
       "      <th>age</th>\n",
       "      <th>years_with_bank</th>\n",
       "      <th>nbr_children</th>\n",
       "      <th>gender</th>\n",
       "      <th>marital_status</th>\n",
       "      <th>name_prefix</th>\n",
       "      <th>first_name</th>\n",
       "      <th>last_name</th>\n",
       "      <th>street_nbr</th>\n",
       "      <th>street_name</th>\n",
       "      <th>postal_code</th>\n",
       "      <th>city_name</th>\n",
       "      <th>state_code</th>\n",
       "    </tr>\n",
       "  </thead>\n",
       "  <tbody>\n",
       "    <tr>\n",
       "      <th>0</th>\n",
       "      <td>1362691</td>\n",
       "      <td>26150</td>\n",
       "      <td>46</td>\n",
       "      <td>5</td>\n",
       "      <td>1</td>\n",
       "      <td>M</td>\n",
       "      <td>2</td>\n",
       "      <td></td>\n",
       "      <td>Donald                                        ...</td>\n",
       "      <td>Marek                                         ...</td>\n",
       "      <td>8298</td>\n",
       "      <td>Second                                        ...</td>\n",
       "      <td>89194</td>\n",
       "      <td>Las Vegas</td>\n",
       "      <td>NV</td>\n",
       "    </tr>\n",
       "    <tr>\n",
       "      <th>1</th>\n",
       "      <td>1362487</td>\n",
       "      <td>6605</td>\n",
       "      <td>71</td>\n",
       "      <td>1</td>\n",
       "      <td>0</td>\n",
       "      <td>M</td>\n",
       "      <td>2</td>\n",
       "      <td></td>\n",
       "      <td>ChingDyi                                      ...</td>\n",
       "      <td>Moussavi                                      ...</td>\n",
       "      <td>10603</td>\n",
       "      <td>Daffodil                                      ...</td>\n",
       "      <td>90159</td>\n",
       "      <td>Los Angeles</td>\n",
       "      <td>CA</td>\n",
       "    </tr>\n",
       "    <tr>\n",
       "      <th>2</th>\n",
       "      <td>1363160</td>\n",
       "      <td>18548</td>\n",
       "      <td>38</td>\n",
       "      <td>8</td>\n",
       "      <td>0</td>\n",
       "      <td>F</td>\n",
       "      <td>1</td>\n",
       "      <td></td>\n",
       "      <td>Rosa                                          ...</td>\n",
       "      <td>Johnston                                      ...</td>\n",
       "      <td>8817</td>\n",
       "      <td>Figueroa                                      ...</td>\n",
       "      <td>90024</td>\n",
       "      <td>Los Angeles</td>\n",
       "      <td>CA</td>\n",
       "    </tr>\n",
       "    <tr>\n",
       "      <th>3</th>\n",
       "      <td>1362752</td>\n",
       "      <td>47668</td>\n",
       "      <td>54</td>\n",
       "      <td>3</td>\n",
       "      <td>0</td>\n",
       "      <td>F</td>\n",
       "      <td>1</td>\n",
       "      <td></td>\n",
       "      <td>Lisa                                          ...</td>\n",
       "      <td>Martin                                        ...</td>\n",
       "      <td>676</td>\n",
       "      <td>Humble                                        ...</td>\n",
       "      <td>90172</td>\n",
       "      <td>Los Angeles</td>\n",
       "      <td>CA</td>\n",
       "    </tr>\n",
       "    <tr>\n",
       "      <th>4</th>\n",
       "      <td>1362548</td>\n",
       "      <td>44554</td>\n",
       "      <td>59</td>\n",
       "      <td>9</td>\n",
       "      <td>2</td>\n",
       "      <td>F</td>\n",
       "      <td>4</td>\n",
       "      <td></td>\n",
       "      <td>Barbara                                       ...</td>\n",
       "      <td>O'Malley                                      ...</td>\n",
       "      <td>6578</td>\n",
       "      <td>C                                             ...</td>\n",
       "      <td>10138</td>\n",
       "      <td>New York City</td>\n",
       "      <td>NY</td>\n",
       "    </tr>\n",
       "  </tbody>\n",
       "</table>\n",
       "</div>"
      ],
      "text/plain": [
       "   cust_id  income  age  years_with_bank  nbr_children gender  marital_status  \\\n",
       "0  1362691   26150   46                5             1     M                2   \n",
       "1  1362487    6605   71                1             0     M                2   \n",
       "2  1363160   18548   38                8             0     F                1   \n",
       "3  1362752   47668   54                3             0     F                1   \n",
       "4  1362548   44554   59                9             2     F                4   \n",
       "\n",
       "  name_prefix                                         first_name  \\\n",
       "0              Donald                                        ...   \n",
       "1              ChingDyi                                      ...   \n",
       "2              Rosa                                          ...   \n",
       "3              Lisa                                          ...   \n",
       "4              Barbara                                       ...   \n",
       "\n",
       "                                           last_name  street_nbr  \\\n",
       "0  Marek                                         ...        8298   \n",
       "1  Moussavi                                      ...       10603   \n",
       "2  Johnston                                      ...        8817   \n",
       "3  Martin                                        ...         676   \n",
       "4  O'Malley                                      ...        6578   \n",
       "\n",
       "                                         street_name  postal_code  \\\n",
       "0  Second                                        ...        89194   \n",
       "1  Daffodil                                      ...        90159   \n",
       "2  Figueroa                                      ...        90024   \n",
       "3  Humble                                        ...        90172   \n",
       "4  C                                             ...        10138   \n",
       "\n",
       "                                  city_name state_code  \n",
       "0  Las Vegas                                      NV    \n",
       "1  Los Angeles                                    CA    \n",
       "2  Los Angeles                                    CA    \n",
       "3  Los Angeles                                    CA    \n",
       "4  New York City                                  NY    "
      ]
     },
     "execution_count": 58,
     "metadata": {},
     "output_type": "execute_result"
    }
   ],
   "source": [
    "customer.head()"
   ]
  },
  {
   "cell_type": "code",
   "execution_count": 59,
   "id": "9f687207-61aa-42c5-9fc4-a2312de41f8f",
   "metadata": {},
   "outputs": [
    {
     "data": {
      "text/html": [
       "<div>\n",
       "<style scoped>\n",
       "    .dataframe tbody tr th:only-of-type {\n",
       "        vertical-align: middle;\n",
       "    }\n",
       "\n",
       "    .dataframe tbody tr th {\n",
       "        vertical-align: top;\n",
       "    }\n",
       "\n",
       "    .dataframe thead th {\n",
       "        text-align: right;\n",
       "    }\n",
       "</style>\n",
       "<table border=\"1\" class=\"dataframe\">\n",
       "  <thead>\n",
       "    <tr style=\"text-align: right;\">\n",
       "      <th></th>\n",
       "      <th>acct_nbr</th>\n",
       "      <th>cust_id</th>\n",
       "      <th>acct_type</th>\n",
       "      <th>account_active</th>\n",
       "      <th>acct_start_date</th>\n",
       "      <th>acct_end_date</th>\n",
       "      <th>starting_balance</th>\n",
       "      <th>ending_balance</th>\n",
       "    </tr>\n",
       "  </thead>\n",
       "  <tbody>\n",
       "    <tr>\n",
       "      <th>0</th>\n",
       "      <td>13628063</td>\n",
       "      <td>1362806</td>\n",
       "      <td>SV</td>\n",
       "      <td>Y</td>\n",
       "      <td>10.12.1995</td>\n",
       "      <td>NaN</td>\n",
       "      <td>1430.22</td>\n",
       "      <td>284.58</td>\n",
       "    </tr>\n",
       "    <tr>\n",
       "      <th>1</th>\n",
       "      <td>4561143213627090</td>\n",
       "      <td>1362709</td>\n",
       "      <td>CC</td>\n",
       "      <td>Y</td>\n",
       "      <td>15.3.1993</td>\n",
       "      <td>NaN</td>\n",
       "      <td>266.34</td>\n",
       "      <td>496.15</td>\n",
       "    </tr>\n",
       "    <tr>\n",
       "      <th>2</th>\n",
       "      <td>4561143213628360</td>\n",
       "      <td>1362836</td>\n",
       "      <td>CC</td>\n",
       "      <td>Y</td>\n",
       "      <td>18.3.1992</td>\n",
       "      <td>NaN</td>\n",
       "      <td>55.90</td>\n",
       "      <td>1000.00</td>\n",
       "    </tr>\n",
       "    <tr>\n",
       "      <th>3</th>\n",
       "      <td>13633112</td>\n",
       "      <td>1363311</td>\n",
       "      <td>CK</td>\n",
       "      <td>Y</td>\n",
       "      <td>6.7.1995</td>\n",
       "      <td>NaN</td>\n",
       "      <td>11017.13</td>\n",
       "      <td>968.46</td>\n",
       "    </tr>\n",
       "  </tbody>\n",
       "</table>\n",
       "</div>"
      ],
      "text/plain": [
       "           acct_nbr  cust_id acct_type account_active acct_start_date  \\\n",
       "0          13628063  1362806      SV               Y       10.12.1995   \n",
       "1  4561143213627090  1362709      CC               Y        15.3.1993   \n",
       "2  4561143213628360  1362836      CC               Y        18.3.1992   \n",
       "3          13633112  1363311      CK               Y         6.7.1995   \n",
       "\n",
       "  acct_end_date  starting_balance  ending_balance  \n",
       "0           NaN           1430.22          284.58  \n",
       "1           NaN            266.34          496.15  \n",
       "2           NaN             55.90         1000.00  \n",
       "3           NaN          11017.13          968.46  "
      ]
     },
     "execution_count": 59,
     "metadata": {},
     "output_type": "execute_result"
    }
   ],
   "source": [
    "accounts.head(4)"
   ]
  },
  {
   "cell_type": "code",
   "execution_count": 60,
   "id": "819d854c-338b-4087-9cd0-b947884ca8de",
   "metadata": {},
   "outputs": [
    {
     "data": {
      "text/html": [
       "<div>\n",
       "<style scoped>\n",
       "    .dataframe tbody tr th:only-of-type {\n",
       "        vertical-align: middle;\n",
       "    }\n",
       "\n",
       "    .dataframe tbody tr th {\n",
       "        vertical-align: top;\n",
       "    }\n",
       "\n",
       "    .dataframe thead th {\n",
       "        text-align: right;\n",
       "    }\n",
       "</style>\n",
       "<table border=\"1\" class=\"dataframe\">\n",
       "  <thead>\n",
       "    <tr style=\"text-align: right;\">\n",
       "      <th></th>\n",
       "      <th>acct_nbr</th>\n",
       "      <th>cust_id</th>\n",
       "      <th>acct_type</th>\n",
       "      <th>ending_balance</th>\n",
       "    </tr>\n",
       "  </thead>\n",
       "  <tbody>\n",
       "    <tr>\n",
       "      <th>0</th>\n",
       "      <td>13628063</td>\n",
       "      <td>1362806</td>\n",
       "      <td>SV</td>\n",
       "      <td>284.58</td>\n",
       "    </tr>\n",
       "    <tr>\n",
       "      <th>1</th>\n",
       "      <td>4561143213627090</td>\n",
       "      <td>1362709</td>\n",
       "      <td>CC</td>\n",
       "      <td>496.15</td>\n",
       "    </tr>\n",
       "    <tr>\n",
       "      <th>2</th>\n",
       "      <td>4561143213628360</td>\n",
       "      <td>1362836</td>\n",
       "      <td>CC</td>\n",
       "      <td>1000.00</td>\n",
       "    </tr>\n",
       "    <tr>\n",
       "      <th>3</th>\n",
       "      <td>13633112</td>\n",
       "      <td>1363311</td>\n",
       "      <td>CK</td>\n",
       "      <td>968.46</td>\n",
       "    </tr>\n",
       "  </tbody>\n",
       "</table>\n",
       "</div>"
      ],
      "text/plain": [
       "           acct_nbr  cust_id acct_type  ending_balance\n",
       "0          13628063  1362806      SV            284.58\n",
       "1  4561143213627090  1362709      CC            496.15\n",
       "2  4561143213628360  1362836      CC           1000.00\n",
       "3          13633112  1363311      CK            968.46"
      ]
     },
     "execution_count": 60,
     "metadata": {},
     "output_type": "execute_result"
    }
   ],
   "source": [
    "#remove categorical and non crucial features\n",
    "accounts1 = accounts.drop(['acct_start_date', 'acct_end_date', 'account_active', 'starting_balance'], axis = 1)\n",
    "accounts1.head(4)"
   ]
  },
  {
   "cell_type": "code",
   "execution_count": 61,
   "id": "0cc6c40e-915b-419a-bcb0-a3703688c1db",
   "metadata": {},
   "outputs": [
    {
     "data": {
      "text/html": [
       "<div>\n",
       "<style scoped>\n",
       "    .dataframe tbody tr th:only-of-type {\n",
       "        vertical-align: middle;\n",
       "    }\n",
       "\n",
       "    .dataframe tbody tr th {\n",
       "        vertical-align: top;\n",
       "    }\n",
       "\n",
       "    .dataframe thead th {\n",
       "        text-align: right;\n",
       "    }\n",
       "</style>\n",
       "<table border=\"1\" class=\"dataframe\">\n",
       "  <thead>\n",
       "    <tr style=\"text-align: right;\">\n",
       "      <th></th>\n",
       "      <th>cust_id</th>\n",
       "      <th>acct_nbr</th>\n",
       "      <th>acct_type</th>\n",
       "      <th>ending_balance</th>\n",
       "    </tr>\n",
       "  </thead>\n",
       "  <tbody>\n",
       "    <tr>\n",
       "      <th>0</th>\n",
       "      <td>1362806</td>\n",
       "      <td>13628063</td>\n",
       "      <td>SV</td>\n",
       "      <td>284.58</td>\n",
       "    </tr>\n",
       "    <tr>\n",
       "      <th>1</th>\n",
       "      <td>1362709</td>\n",
       "      <td>4561143213627090</td>\n",
       "      <td>CC</td>\n",
       "      <td>496.15</td>\n",
       "    </tr>\n",
       "    <tr>\n",
       "      <th>2</th>\n",
       "      <td>1362836</td>\n",
       "      <td>4561143213628360</td>\n",
       "      <td>CC</td>\n",
       "      <td>1000.00</td>\n",
       "    </tr>\n",
       "    <tr>\n",
       "      <th>3</th>\n",
       "      <td>1363311</td>\n",
       "      <td>13633112</td>\n",
       "      <td>CK</td>\n",
       "      <td>968.46</td>\n",
       "    </tr>\n",
       "    <tr>\n",
       "      <th>4</th>\n",
       "      <td>1363361</td>\n",
       "      <td>4561143213633610</td>\n",
       "      <td>CC</td>\n",
       "      <td>462.28</td>\n",
       "    </tr>\n",
       "  </tbody>\n",
       "</table>\n",
       "</div>"
      ],
      "text/plain": [
       "   cust_id          acct_nbr acct_type  ending_balance\n",
       "0  1362806          13628063      SV            284.58\n",
       "1  1362709  4561143213627090      CC            496.15\n",
       "2  1362836  4561143213628360      CC           1000.00\n",
       "3  1363311          13633112      CK            968.46\n",
       "4  1363361  4561143213633610      CC            462.28"
      ]
     },
     "execution_count": 61,
     "metadata": {},
     "output_type": "execute_result"
    }
   ],
   "source": [
    "# set cust_id to index 0\n",
    "temp_cols=accounts1.columns.tolist()\n",
    "index=accounts1.columns.get_loc(\"cust_id\")\n",
    "new_cols=temp_cols[index:index+1] + temp_cols[0:index] + temp_cols[index+1:]\n",
    "accounts1 = accounts1[new_cols]\n",
    "accounts1.head()"
   ]
  },
  {
   "cell_type": "code",
   "execution_count": 62,
   "id": "60d3b383-6673-4318-9e46-31d1bccdc967",
   "metadata": {},
   "outputs": [],
   "source": [
    "#total saved\n",
    "savings_acct['total_saved'] =  savings_acct['ending_balance'] - savings_acct['starting_balance']"
   ]
  },
  {
   "cell_type": "code",
   "execution_count": 63,
   "id": "2ce5b07a-a021-460d-b5b1-3269e248e96b",
   "metadata": {},
   "outputs": [
    {
     "data": {
      "text/html": [
       "<div>\n",
       "<style scoped>\n",
       "    .dataframe tbody tr th:only-of-type {\n",
       "        vertical-align: middle;\n",
       "    }\n",
       "\n",
       "    .dataframe tbody tr th {\n",
       "        vertical-align: top;\n",
       "    }\n",
       "\n",
       "    .dataframe thead th {\n",
       "        text-align: right;\n",
       "    }\n",
       "</style>\n",
       "<table border=\"1\" class=\"dataframe\">\n",
       "  <thead>\n",
       "    <tr style=\"text-align: right;\">\n",
       "      <th></th>\n",
       "      <th>cust_id</th>\n",
       "      <th>acct_nbr</th>\n",
       "      <th>minimum_balance</th>\n",
       "      <th>acct_type</th>\n",
       "      <th>account_active</th>\n",
       "      <th>acct_start_date</th>\n",
       "      <th>acct_end_date</th>\n",
       "      <th>starting_balance</th>\n",
       "      <th>ending_balance</th>\n",
       "      <th>total_saved</th>\n",
       "    </tr>\n",
       "  </thead>\n",
       "  <tbody>\n",
       "    <tr>\n",
       "      <th>0</th>\n",
       "      <td>1363160</td>\n",
       "      <td>13631603</td>\n",
       "      <td>100</td>\n",
       "      <td>BS</td>\n",
       "      <td>Y</td>\n",
       "      <td>9.5.1988</td>\n",
       "      <td>NaN</td>\n",
       "      <td>113.04</td>\n",
       "      <td>122.54</td>\n",
       "      <td>9.50</td>\n",
       "    </tr>\n",
       "    <tr>\n",
       "      <th>1</th>\n",
       "      <td>1362487</td>\n",
       "      <td>13624873</td>\n",
       "      <td>500</td>\n",
       "      <td>MM</td>\n",
       "      <td>N</td>\n",
       "      <td>27.6.1994</td>\n",
       "      <td>25.8.1995</td>\n",
       "      <td>651.73</td>\n",
       "      <td>12.89</td>\n",
       "      <td>-638.84</td>\n",
       "    </tr>\n",
       "    <tr>\n",
       "      <th>2</th>\n",
       "      <td>1362548</td>\n",
       "      <td>13625483</td>\n",
       "      <td>100</td>\n",
       "      <td>BS</td>\n",
       "      <td>Y</td>\n",
       "      <td>11.11.1986</td>\n",
       "      <td>NaN</td>\n",
       "      <td>250.24</td>\n",
       "      <td>254.02</td>\n",
       "      <td>3.78</td>\n",
       "    </tr>\n",
       "    <tr>\n",
       "      <th>3</th>\n",
       "      <td>1362752</td>\n",
       "      <td>13627523</td>\n",
       "      <td>100</td>\n",
       "      <td>BS</td>\n",
       "      <td>Y</td>\n",
       "      <td>20.2.1995</td>\n",
       "      <td>NaN</td>\n",
       "      <td>600.26</td>\n",
       "      <td>609.33</td>\n",
       "      <td>9.07</td>\n",
       "    </tr>\n",
       "    <tr>\n",
       "      <th>4</th>\n",
       "      <td>1363017</td>\n",
       "      <td>13630173</td>\n",
       "      <td>100</td>\n",
       "      <td>BS</td>\n",
       "      <td>N</td>\n",
       "      <td>27.4.1994</td>\n",
       "      <td>31.10.1995</td>\n",
       "      <td>2011.02</td>\n",
       "      <td>2901.35</td>\n",
       "      <td>890.33</td>\n",
       "    </tr>\n",
       "  </tbody>\n",
       "</table>\n",
       "</div>"
      ],
      "text/plain": [
       "   cust_id  acct_nbr  minimum_balance acct_type account_active  \\\n",
       "0  1363160  13631603              100      BS               Y    \n",
       "1  1362487  13624873              500      MM               N    \n",
       "2  1362548  13625483              100      BS               Y    \n",
       "3  1362752  13627523              100      BS               Y    \n",
       "4  1363017  13630173              100      BS               N    \n",
       "\n",
       "  acct_start_date acct_end_date  starting_balance  ending_balance  total_saved  \n",
       "0        9.5.1988           NaN            113.04          122.54         9.50  \n",
       "1       27.6.1994     25.8.1995            651.73           12.89      -638.84  \n",
       "2      11.11.1986           NaN            250.24          254.02         3.78  \n",
       "3       20.2.1995           NaN            600.26          609.33         9.07  \n",
       "4       27.4.1994    31.10.1995           2011.02         2901.35       890.33  "
      ]
     },
     "execution_count": 63,
     "metadata": {},
     "output_type": "execute_result"
    }
   ],
   "source": [
    "savings_acct.head()"
   ]
  },
  {
   "cell_type": "code",
   "execution_count": 64,
   "id": "2450d7d0-8730-43d3-9fd7-c904318718cc",
   "metadata": {},
   "outputs": [],
   "source": [
    "#merge to customer list\n",
    "df_bnk_behav = customer.merge(savings_acct[['cust_id', 'account_active','total_saved']].rename(columns={'account_active':'savings_account'}),\n",
    "                                 left_on = 'cust_id',\n",
    "                                 right_on = 'cust_id',\n",
    "                                 how = 'left')"
   ]
  },
  {
   "cell_type": "code",
   "execution_count": 65,
   "id": "1d7fbed5-d91b-4e48-8c7d-38acdfa4f2bb",
   "metadata": {},
   "outputs": [],
   "source": [
    "# fill missing values\n",
    "df_bnk_behav['total_saved'].fillna(0, inplace=True)"
   ]
  },
  {
   "cell_type": "code",
   "execution_count": 66,
   "id": "cbf873b0-f6d4-4f02-bb80-0c00058a89e2",
   "metadata": {},
   "outputs": [
    {
     "data": {
      "text/html": [
       "<div>\n",
       "<style scoped>\n",
       "    .dataframe tbody tr th:only-of-type {\n",
       "        vertical-align: middle;\n",
       "    }\n",
       "\n",
       "    .dataframe tbody tr th {\n",
       "        vertical-align: top;\n",
       "    }\n",
       "\n",
       "    .dataframe thead th {\n",
       "        text-align: right;\n",
       "    }\n",
       "</style>\n",
       "<table border=\"1\" class=\"dataframe\">\n",
       "  <thead>\n",
       "    <tr style=\"text-align: right;\">\n",
       "      <th></th>\n",
       "      <th>cust_id</th>\n",
       "      <th>income</th>\n",
       "      <th>age</th>\n",
       "      <th>years_with_bank</th>\n",
       "      <th>nbr_children</th>\n",
       "      <th>gender</th>\n",
       "      <th>marital_status</th>\n",
       "      <th>name_prefix</th>\n",
       "      <th>first_name</th>\n",
       "      <th>last_name</th>\n",
       "      <th>street_nbr</th>\n",
       "      <th>street_name</th>\n",
       "      <th>postal_code</th>\n",
       "      <th>city_name</th>\n",
       "      <th>state_code</th>\n",
       "      <th>savings_account</th>\n",
       "      <th>total_saved</th>\n",
       "    </tr>\n",
       "  </thead>\n",
       "  <tbody>\n",
       "    <tr>\n",
       "      <th>0</th>\n",
       "      <td>1362691</td>\n",
       "      <td>26150</td>\n",
       "      <td>46</td>\n",
       "      <td>5</td>\n",
       "      <td>1</td>\n",
       "      <td>M</td>\n",
       "      <td>2</td>\n",
       "      <td></td>\n",
       "      <td>Donald                                        ...</td>\n",
       "      <td>Marek                                         ...</td>\n",
       "      <td>8298</td>\n",
       "      <td>Second                                        ...</td>\n",
       "      <td>89194</td>\n",
       "      <td>Las Vegas</td>\n",
       "      <td>NV</td>\n",
       "      <td>NaN</td>\n",
       "      <td>0.00</td>\n",
       "    </tr>\n",
       "    <tr>\n",
       "      <th>1</th>\n",
       "      <td>1362487</td>\n",
       "      <td>6605</td>\n",
       "      <td>71</td>\n",
       "      <td>1</td>\n",
       "      <td>0</td>\n",
       "      <td>M</td>\n",
       "      <td>2</td>\n",
       "      <td></td>\n",
       "      <td>ChingDyi                                      ...</td>\n",
       "      <td>Moussavi                                      ...</td>\n",
       "      <td>10603</td>\n",
       "      <td>Daffodil                                      ...</td>\n",
       "      <td>90159</td>\n",
       "      <td>Los Angeles</td>\n",
       "      <td>CA</td>\n",
       "      <td>N</td>\n",
       "      <td>-638.84</td>\n",
       "    </tr>\n",
       "    <tr>\n",
       "      <th>2</th>\n",
       "      <td>1363160</td>\n",
       "      <td>18548</td>\n",
       "      <td>38</td>\n",
       "      <td>8</td>\n",
       "      <td>0</td>\n",
       "      <td>F</td>\n",
       "      <td>1</td>\n",
       "      <td></td>\n",
       "      <td>Rosa                                          ...</td>\n",
       "      <td>Johnston                                      ...</td>\n",
       "      <td>8817</td>\n",
       "      <td>Figueroa                                      ...</td>\n",
       "      <td>90024</td>\n",
       "      <td>Los Angeles</td>\n",
       "      <td>CA</td>\n",
       "      <td>Y</td>\n",
       "      <td>9.50</td>\n",
       "    </tr>\n",
       "    <tr>\n",
       "      <th>3</th>\n",
       "      <td>1362752</td>\n",
       "      <td>47668</td>\n",
       "      <td>54</td>\n",
       "      <td>3</td>\n",
       "      <td>0</td>\n",
       "      <td>F</td>\n",
       "      <td>1</td>\n",
       "      <td></td>\n",
       "      <td>Lisa                                          ...</td>\n",
       "      <td>Martin                                        ...</td>\n",
       "      <td>676</td>\n",
       "      <td>Humble                                        ...</td>\n",
       "      <td>90172</td>\n",
       "      <td>Los Angeles</td>\n",
       "      <td>CA</td>\n",
       "      <td>Y</td>\n",
       "      <td>9.07</td>\n",
       "    </tr>\n",
       "    <tr>\n",
       "      <th>4</th>\n",
       "      <td>1362548</td>\n",
       "      <td>44554</td>\n",
       "      <td>59</td>\n",
       "      <td>9</td>\n",
       "      <td>2</td>\n",
       "      <td>F</td>\n",
       "      <td>4</td>\n",
       "      <td></td>\n",
       "      <td>Barbara                                       ...</td>\n",
       "      <td>O'Malley                                      ...</td>\n",
       "      <td>6578</td>\n",
       "      <td>C                                             ...</td>\n",
       "      <td>10138</td>\n",
       "      <td>New York City</td>\n",
       "      <td>NY</td>\n",
       "      <td>Y</td>\n",
       "      <td>3.78</td>\n",
       "    </tr>\n",
       "  </tbody>\n",
       "</table>\n",
       "</div>"
      ],
      "text/plain": [
       "   cust_id  income  age  years_with_bank  nbr_children gender  marital_status  \\\n",
       "0  1362691   26150   46                5             1     M                2   \n",
       "1  1362487    6605   71                1             0     M                2   \n",
       "2  1363160   18548   38                8             0     F                1   \n",
       "3  1362752   47668   54                3             0     F                1   \n",
       "4  1362548   44554   59                9             2     F                4   \n",
       "\n",
       "  name_prefix                                         first_name  \\\n",
       "0              Donald                                        ...   \n",
       "1              ChingDyi                                      ...   \n",
       "2              Rosa                                          ...   \n",
       "3              Lisa                                          ...   \n",
       "4              Barbara                                       ...   \n",
       "\n",
       "                                           last_name  street_nbr  \\\n",
       "0  Marek                                         ...        8298   \n",
       "1  Moussavi                                      ...       10603   \n",
       "2  Johnston                                      ...        8817   \n",
       "3  Martin                                        ...         676   \n",
       "4  O'Malley                                      ...        6578   \n",
       "\n",
       "                                         street_name  postal_code  \\\n",
       "0  Second                                        ...        89194   \n",
       "1  Daffodil                                      ...        90159   \n",
       "2  Figueroa                                      ...        90024   \n",
       "3  Humble                                        ...        90172   \n",
       "4  C                                             ...        10138   \n",
       "\n",
       "                                  city_name state_code savings_account  \\\n",
       "0  Las Vegas                                      NV               NaN   \n",
       "1  Los Angeles                                    CA                N    \n",
       "2  Los Angeles                                    CA                Y    \n",
       "3  Los Angeles                                    CA                Y    \n",
       "4  New York City                                  NY                Y    \n",
       "\n",
       "   total_saved  \n",
       "0         0.00  \n",
       "1      -638.84  \n",
       "2         9.50  \n",
       "3         9.07  \n",
       "4         3.78  "
      ]
     },
     "execution_count": 66,
     "metadata": {},
     "output_type": "execute_result"
    }
   ],
   "source": [
    "df_bnk_behav.head()"
   ]
  },
  {
   "cell_type": "code",
   "execution_count": 68,
   "id": "1f94d747-9f12-4d0e-a991-07274cb1c301",
   "metadata": {},
   "outputs": [],
   "source": [
    "# client balance\n",
    "credit_acct['credit_diff'] =  credit_acct['ending_balance'] - credit_acct['starting_balance']"
   ]
  },
  {
   "cell_type": "code",
   "execution_count": 69,
   "id": "cd3ea0a6-8885-442a-81f3-d327c796aa7d",
   "metadata": {},
   "outputs": [],
   "source": [
    "# merge\n",
    "df_bnk_behav = df_bnk_behav.merge(credit_acct[['cust_id', 'account_active',\n",
    "                                                      'credit_diff','credit_limit']].rename(columns={'account_active':'credit_account'}),\n",
    "                                  left_on = 'cust_id',\n",
    "                                  right_on = 'cust_id',\n",
    "                                  how = 'left')"
   ]
  },
  {
   "cell_type": "code",
   "execution_count": 74,
   "id": "b7681909-06d0-42bf-8e72-411a3dcf21b2",
   "metadata": {},
   "outputs": [],
   "source": [
    "# map values\n",
    "df_bnk_behav['credit_account'] = df_bnk_behav['credit_account'].str.strip()\\\n",
    "                                         .replace({np.nan: 'dont_have',\n",
    "                                         'Y': 'active',\n",
    "                                         'N': 'inactive'})"
   ]
  },
  {
   "cell_type": "code",
   "execution_count": 76,
   "id": "a9778bd4-0790-404e-abf8-902d816e002e",
   "metadata": {},
   "outputs": [
    {
     "data": {
      "text/html": [
       "<div>\n",
       "<style scoped>\n",
       "    .dataframe tbody tr th:only-of-type {\n",
       "        vertical-align: middle;\n",
       "    }\n",
       "\n",
       "    .dataframe tbody tr th {\n",
       "        vertical-align: top;\n",
       "    }\n",
       "\n",
       "    .dataframe thead th {\n",
       "        text-align: right;\n",
       "    }\n",
       "</style>\n",
       "<table border=\"1\" class=\"dataframe\">\n",
       "  <thead>\n",
       "    <tr style=\"text-align: right;\">\n",
       "      <th></th>\n",
       "      <th>cust_id</th>\n",
       "      <th>income</th>\n",
       "      <th>age</th>\n",
       "      <th>years_with_bank</th>\n",
       "      <th>nbr_children</th>\n",
       "      <th>gender</th>\n",
       "      <th>marital_status</th>\n",
       "      <th>name_prefix</th>\n",
       "      <th>first_name</th>\n",
       "      <th>last_name</th>\n",
       "      <th>street_nbr</th>\n",
       "      <th>street_name</th>\n",
       "      <th>postal_code</th>\n",
       "      <th>city_name</th>\n",
       "      <th>state_code</th>\n",
       "      <th>savings_account</th>\n",
       "      <th>total_saved</th>\n",
       "      <th>credit_account</th>\n",
       "      <th>credit_diff</th>\n",
       "      <th>credit_limit</th>\n",
       "    </tr>\n",
       "  </thead>\n",
       "  <tbody>\n",
       "    <tr>\n",
       "      <th>0</th>\n",
       "      <td>1362691</td>\n",
       "      <td>26150</td>\n",
       "      <td>46</td>\n",
       "      <td>5</td>\n",
       "      <td>1</td>\n",
       "      <td>M</td>\n",
       "      <td>2</td>\n",
       "      <td></td>\n",
       "      <td>Donald                                        ...</td>\n",
       "      <td>Marek                                         ...</td>\n",
       "      <td>8298</td>\n",
       "      <td>Second                                        ...</td>\n",
       "      <td>89194</td>\n",
       "      <td>Las Vegas</td>\n",
       "      <td>NV</td>\n",
       "      <td>NaN</td>\n",
       "      <td>0.00</td>\n",
       "      <td>dont_have</td>\n",
       "      <td>0.00</td>\n",
       "      <td>0.0</td>\n",
       "    </tr>\n",
       "    <tr>\n",
       "      <th>1</th>\n",
       "      <td>1362487</td>\n",
       "      <td>6605</td>\n",
       "      <td>71</td>\n",
       "      <td>1</td>\n",
       "      <td>0</td>\n",
       "      <td>M</td>\n",
       "      <td>2</td>\n",
       "      <td></td>\n",
       "      <td>ChingDyi                                      ...</td>\n",
       "      <td>Moussavi                                      ...</td>\n",
       "      <td>10603</td>\n",
       "      <td>Daffodil                                      ...</td>\n",
       "      <td>90159</td>\n",
       "      <td>Los Angeles</td>\n",
       "      <td>CA</td>\n",
       "      <td>N</td>\n",
       "      <td>-638.84</td>\n",
       "      <td>active</td>\n",
       "      <td>1548.23</td>\n",
       "      <td>3000.0</td>\n",
       "    </tr>\n",
       "    <tr>\n",
       "      <th>2</th>\n",
       "      <td>1363160</td>\n",
       "      <td>18548</td>\n",
       "      <td>38</td>\n",
       "      <td>8</td>\n",
       "      <td>0</td>\n",
       "      <td>F</td>\n",
       "      <td>1</td>\n",
       "      <td></td>\n",
       "      <td>Rosa                                          ...</td>\n",
       "      <td>Johnston                                      ...</td>\n",
       "      <td>8817</td>\n",
       "      <td>Figueroa                                      ...</td>\n",
       "      <td>90024</td>\n",
       "      <td>Los Angeles</td>\n",
       "      <td>CA</td>\n",
       "      <td>Y</td>\n",
       "      <td>9.50</td>\n",
       "      <td>active</td>\n",
       "      <td>-370.77</td>\n",
       "      <td>1000.0</td>\n",
       "    </tr>\n",
       "    <tr>\n",
       "      <th>3</th>\n",
       "      <td>1362752</td>\n",
       "      <td>47668</td>\n",
       "      <td>54</td>\n",
       "      <td>3</td>\n",
       "      <td>0</td>\n",
       "      <td>F</td>\n",
       "      <td>1</td>\n",
       "      <td></td>\n",
       "      <td>Lisa                                          ...</td>\n",
       "      <td>Martin                                        ...</td>\n",
       "      <td>676</td>\n",
       "      <td>Humble                                        ...</td>\n",
       "      <td>90172</td>\n",
       "      <td>Los Angeles</td>\n",
       "      <td>CA</td>\n",
       "      <td>Y</td>\n",
       "      <td>9.07</td>\n",
       "      <td>inactive</td>\n",
       "      <td>-2302.14</td>\n",
       "      <td>2400.0</td>\n",
       "    </tr>\n",
       "    <tr>\n",
       "      <th>4</th>\n",
       "      <td>1362548</td>\n",
       "      <td>44554</td>\n",
       "      <td>59</td>\n",
       "      <td>9</td>\n",
       "      <td>2</td>\n",
       "      <td>F</td>\n",
       "      <td>4</td>\n",
       "      <td></td>\n",
       "      <td>Barbara                                       ...</td>\n",
       "      <td>O'Malley                                      ...</td>\n",
       "      <td>6578</td>\n",
       "      <td>C                                             ...</td>\n",
       "      <td>10138</td>\n",
       "      <td>New York City</td>\n",
       "      <td>NY</td>\n",
       "      <td>Y</td>\n",
       "      <td>3.78</td>\n",
       "      <td>active</td>\n",
       "      <td>-6896.57</td>\n",
       "      <td>6700.0</td>\n",
       "    </tr>\n",
       "  </tbody>\n",
       "</table>\n",
       "</div>"
      ],
      "text/plain": [
       "   cust_id  income  age  years_with_bank  nbr_children gender  marital_status  \\\n",
       "0  1362691   26150   46                5             1     M                2   \n",
       "1  1362487    6605   71                1             0     M                2   \n",
       "2  1363160   18548   38                8             0     F                1   \n",
       "3  1362752   47668   54                3             0     F                1   \n",
       "4  1362548   44554   59                9             2     F                4   \n",
       "\n",
       "  name_prefix                                         first_name  \\\n",
       "0              Donald                                        ...   \n",
       "1              ChingDyi                                      ...   \n",
       "2              Rosa                                          ...   \n",
       "3              Lisa                                          ...   \n",
       "4              Barbara                                       ...   \n",
       "\n",
       "                                           last_name  street_nbr  \\\n",
       "0  Marek                                         ...        8298   \n",
       "1  Moussavi                                      ...       10603   \n",
       "2  Johnston                                      ...        8817   \n",
       "3  Martin                                        ...         676   \n",
       "4  O'Malley                                      ...        6578   \n",
       "\n",
       "                                         street_name  postal_code  \\\n",
       "0  Second                                        ...        89194   \n",
       "1  Daffodil                                      ...        90159   \n",
       "2  Figueroa                                      ...        90024   \n",
       "3  Humble                                        ...        90172   \n",
       "4  C                                             ...        10138   \n",
       "\n",
       "                                  city_name state_code savings_account  \\\n",
       "0  Las Vegas                                      NV               NaN   \n",
       "1  Los Angeles                                    CA                N    \n",
       "2  Los Angeles                                    CA                Y    \n",
       "3  Los Angeles                                    CA                Y    \n",
       "4  New York City                                  NY                Y    \n",
       "\n",
       "   total_saved credit_account  credit_diff  credit_limit  \n",
       "0         0.00      dont_have         0.00           0.0  \n",
       "1      -638.84         active      1548.23        3000.0  \n",
       "2         9.50         active      -370.77        1000.0  \n",
       "3         9.07       inactive     -2302.14        2400.0  \n",
       "4         3.78         active     -6896.57        6700.0  "
      ]
     },
     "execution_count": 76,
     "metadata": {},
     "output_type": "execute_result"
    }
   ],
   "source": [
    "# fill missing values\n",
    "df_bnk_behav['credit_limit'].fillna(0, inplace=True)\n",
    "df_bnk_behav['credit_diff'].fillna(0, inplace=True)\n",
    "df_bnk_behav.head()"
   ]
  },
  {
   "cell_type": "code",
   "execution_count": 75,
   "id": "ec70f5a6-b5f4-4e5d-93e0-beeb5e969e9e",
   "metadata": {},
   "outputs": [
    {
     "data": {
      "text/html": [
       "<div>\n",
       "<style scoped>\n",
       "    .dataframe tbody tr th:only-of-type {\n",
       "        vertical-align: middle;\n",
       "    }\n",
       "\n",
       "    .dataframe tbody tr th {\n",
       "        vertical-align: top;\n",
       "    }\n",
       "\n",
       "    .dataframe thead th {\n",
       "        text-align: right;\n",
       "    }\n",
       "</style>\n",
       "<table border=\"1\" class=\"dataframe\">\n",
       "  <thead>\n",
       "    <tr style=\"text-align: right;\">\n",
       "      <th></th>\n",
       "      <th>cust_id</th>\n",
       "      <th>income</th>\n",
       "      <th>age</th>\n",
       "      <th>years_with_bank</th>\n",
       "      <th>nbr_children</th>\n",
       "      <th>gender</th>\n",
       "      <th>marital_status</th>\n",
       "      <th>name_prefix</th>\n",
       "      <th>first_name</th>\n",
       "      <th>last_name</th>\n",
       "      <th>street_nbr</th>\n",
       "      <th>street_name</th>\n",
       "      <th>postal_code</th>\n",
       "      <th>city_name</th>\n",
       "      <th>state_code</th>\n",
       "      <th>savings_account</th>\n",
       "      <th>total_saved</th>\n",
       "      <th>credit_account</th>\n",
       "      <th>credit_diff</th>\n",
       "      <th>credit_limit</th>\n",
       "    </tr>\n",
       "  </thead>\n",
       "  <tbody>\n",
       "    <tr>\n",
       "      <th>0</th>\n",
       "      <td>1362691</td>\n",
       "      <td>26150</td>\n",
       "      <td>46</td>\n",
       "      <td>5</td>\n",
       "      <td>1</td>\n",
       "      <td>M</td>\n",
       "      <td>2</td>\n",
       "      <td></td>\n",
       "      <td>Donald                                        ...</td>\n",
       "      <td>Marek                                         ...</td>\n",
       "      <td>8298</td>\n",
       "      <td>Second                                        ...</td>\n",
       "      <td>89194</td>\n",
       "      <td>Las Vegas</td>\n",
       "      <td>NV</td>\n",
       "      <td>NaN</td>\n",
       "      <td>0.00</td>\n",
       "      <td>dont_have</td>\n",
       "      <td>NaN</td>\n",
       "      <td>NaN</td>\n",
       "    </tr>\n",
       "    <tr>\n",
       "      <th>1</th>\n",
       "      <td>1362487</td>\n",
       "      <td>6605</td>\n",
       "      <td>71</td>\n",
       "      <td>1</td>\n",
       "      <td>0</td>\n",
       "      <td>M</td>\n",
       "      <td>2</td>\n",
       "      <td></td>\n",
       "      <td>ChingDyi                                      ...</td>\n",
       "      <td>Moussavi                                      ...</td>\n",
       "      <td>10603</td>\n",
       "      <td>Daffodil                                      ...</td>\n",
       "      <td>90159</td>\n",
       "      <td>Los Angeles</td>\n",
       "      <td>CA</td>\n",
       "      <td>N</td>\n",
       "      <td>-638.84</td>\n",
       "      <td>active</td>\n",
       "      <td>1548.23</td>\n",
       "      <td>3000.0</td>\n",
       "    </tr>\n",
       "    <tr>\n",
       "      <th>2</th>\n",
       "      <td>1363160</td>\n",
       "      <td>18548</td>\n",
       "      <td>38</td>\n",
       "      <td>8</td>\n",
       "      <td>0</td>\n",
       "      <td>F</td>\n",
       "      <td>1</td>\n",
       "      <td></td>\n",
       "      <td>Rosa                                          ...</td>\n",
       "      <td>Johnston                                      ...</td>\n",
       "      <td>8817</td>\n",
       "      <td>Figueroa                                      ...</td>\n",
       "      <td>90024</td>\n",
       "      <td>Los Angeles</td>\n",
       "      <td>CA</td>\n",
       "      <td>Y</td>\n",
       "      <td>9.50</td>\n",
       "      <td>active</td>\n",
       "      <td>-370.77</td>\n",
       "      <td>1000.0</td>\n",
       "    </tr>\n",
       "    <tr>\n",
       "      <th>3</th>\n",
       "      <td>1362752</td>\n",
       "      <td>47668</td>\n",
       "      <td>54</td>\n",
       "      <td>3</td>\n",
       "      <td>0</td>\n",
       "      <td>F</td>\n",
       "      <td>1</td>\n",
       "      <td></td>\n",
       "      <td>Lisa                                          ...</td>\n",
       "      <td>Martin                                        ...</td>\n",
       "      <td>676</td>\n",
       "      <td>Humble                                        ...</td>\n",
       "      <td>90172</td>\n",
       "      <td>Los Angeles</td>\n",
       "      <td>CA</td>\n",
       "      <td>Y</td>\n",
       "      <td>9.07</td>\n",
       "      <td>inactive</td>\n",
       "      <td>-2302.14</td>\n",
       "      <td>2400.0</td>\n",
       "    </tr>\n",
       "    <tr>\n",
       "      <th>4</th>\n",
       "      <td>1362548</td>\n",
       "      <td>44554</td>\n",
       "      <td>59</td>\n",
       "      <td>9</td>\n",
       "      <td>2</td>\n",
       "      <td>F</td>\n",
       "      <td>4</td>\n",
       "      <td></td>\n",
       "      <td>Barbara                                       ...</td>\n",
       "      <td>O'Malley                                      ...</td>\n",
       "      <td>6578</td>\n",
       "      <td>C                                             ...</td>\n",
       "      <td>10138</td>\n",
       "      <td>New York City</td>\n",
       "      <td>NY</td>\n",
       "      <td>Y</td>\n",
       "      <td>3.78</td>\n",
       "      <td>active</td>\n",
       "      <td>-6896.57</td>\n",
       "      <td>6700.0</td>\n",
       "    </tr>\n",
       "  </tbody>\n",
       "</table>\n",
       "</div>"
      ],
      "text/plain": [
       "   cust_id  income  age  years_with_bank  nbr_children gender  marital_status  \\\n",
       "0  1362691   26150   46                5             1     M                2   \n",
       "1  1362487    6605   71                1             0     M                2   \n",
       "2  1363160   18548   38                8             0     F                1   \n",
       "3  1362752   47668   54                3             0     F                1   \n",
       "4  1362548   44554   59                9             2     F                4   \n",
       "\n",
       "  name_prefix                                         first_name  \\\n",
       "0              Donald                                        ...   \n",
       "1              ChingDyi                                      ...   \n",
       "2              Rosa                                          ...   \n",
       "3              Lisa                                          ...   \n",
       "4              Barbara                                       ...   \n",
       "\n",
       "                                           last_name  street_nbr  \\\n",
       "0  Marek                                         ...        8298   \n",
       "1  Moussavi                                      ...       10603   \n",
       "2  Johnston                                      ...        8817   \n",
       "3  Martin                                        ...         676   \n",
       "4  O'Malley                                      ...        6578   \n",
       "\n",
       "                                         street_name  postal_code  \\\n",
       "0  Second                                        ...        89194   \n",
       "1  Daffodil                                      ...        90159   \n",
       "2  Figueroa                                      ...        90024   \n",
       "3  Humble                                        ...        90172   \n",
       "4  C                                             ...        10138   \n",
       "\n",
       "                                  city_name state_code savings_account  \\\n",
       "0  Las Vegas                                      NV               NaN   \n",
       "1  Los Angeles                                    CA                N    \n",
       "2  Los Angeles                                    CA                Y    \n",
       "3  Los Angeles                                    CA                Y    \n",
       "4  New York City                                  NY                Y    \n",
       "\n",
       "   total_saved credit_account  credit_diff  credit_limit  \n",
       "0         0.00      dont_have          NaN           NaN  \n",
       "1      -638.84         active      1548.23        3000.0  \n",
       "2         9.50         active      -370.77        1000.0  \n",
       "3         9.07       inactive     -2302.14        2400.0  \n",
       "4         3.78         active     -6896.57        6700.0  "
      ]
     },
     "execution_count": 75,
     "metadata": {},
     "output_type": "execute_result"
    }
   ],
   "source": [
    "df_bnk_behav.head()"
   ]
  },
  {
   "cell_type": "code",
   "execution_count": 25,
   "id": "4c278253-502c-41a4-9c81-8b78040817f9",
   "metadata": {},
   "outputs": [
    {
     "data": {
      "text/html": [
       "<div>\n",
       "<style scoped>\n",
       "    .dataframe tbody tr th:only-of-type {\n",
       "        vertical-align: middle;\n",
       "    }\n",
       "\n",
       "    .dataframe tbody tr th {\n",
       "        vertical-align: top;\n",
       "    }\n",
       "\n",
       "    .dataframe thead th {\n",
       "        text-align: right;\n",
       "    }\n",
       "</style>\n",
       "<table border=\"1\" class=\"dataframe\">\n",
       "  <thead>\n",
       "    <tr style=\"text-align: right;\">\n",
       "      <th></th>\n",
       "      <th>cust_id</th>\n",
       "      <th>acct_nbr</th>\n",
       "      <th>credit_limit</th>\n",
       "      <th>credit_rating</th>\n",
       "      <th>account_active</th>\n",
       "      <th>acct_start_date</th>\n",
       "      <th>acct_end_date</th>\n",
       "      <th>starting_balance</th>\n",
       "      <th>ending_balance</th>\n",
       "    </tr>\n",
       "  </thead>\n",
       "  <tbody>\n",
       "    <tr>\n",
       "      <th>0</th>\n",
       "      <td>1363160</td>\n",
       "      <td>4561143213631600</td>\n",
       "      <td>1000</td>\n",
       "      <td>0</td>\n",
       "      <td>Y</td>\n",
       "      <td>12.10.1988</td>\n",
       "      <td>NaN</td>\n",
       "      <td>657.46</td>\n",
       "      <td>286.69</td>\n",
       "    </tr>\n",
       "    <tr>\n",
       "      <th>1</th>\n",
       "      <td>1362487</td>\n",
       "      <td>4561143213624870</td>\n",
       "      <td>3000</td>\n",
       "      <td>0</td>\n",
       "      <td>Y</td>\n",
       "      <td>8.8.1995</td>\n",
       "      <td>NaN</td>\n",
       "      <td>0.00</td>\n",
       "      <td>1548.23</td>\n",
       "    </tr>\n",
       "    <tr>\n",
       "      <th>2</th>\n",
       "      <td>1362548</td>\n",
       "      <td>4561143213625480</td>\n",
       "      <td>6700</td>\n",
       "      <td>0</td>\n",
       "      <td>Y</td>\n",
       "      <td>11.11.1986</td>\n",
       "      <td>NaN</td>\n",
       "      <td>6965.25</td>\n",
       "      <td>68.68</td>\n",
       "    </tr>\n",
       "    <tr>\n",
       "      <th>3</th>\n",
       "      <td>1362752</td>\n",
       "      <td>4561143213627520</td>\n",
       "      <td>2400</td>\n",
       "      <td>0</td>\n",
       "      <td>N</td>\n",
       "      <td>9.10.1994</td>\n",
       "      <td>2.4.1995</td>\n",
       "      <td>2302.14</td>\n",
       "      <td>0.00</td>\n",
       "    </tr>\n",
       "    <tr>\n",
       "      <th>4</th>\n",
       "      <td>1363017</td>\n",
       "      <td>4561143213630170</td>\n",
       "      <td>1000</td>\n",
       "      <td>0</td>\n",
       "      <td>Y</td>\n",
       "      <td>8.2.1995</td>\n",
       "      <td>NaN</td>\n",
       "      <td>0.00</td>\n",
       "      <td>1000.00</td>\n",
       "    </tr>\n",
       "  </tbody>\n",
       "</table>\n",
       "</div>"
      ],
      "text/plain": [
       "   cust_id          acct_nbr  credit_limit  credit_rating account_active  \\\n",
       "0  1363160  4561143213631600          1000              0             Y    \n",
       "1  1362487  4561143213624870          3000              0             Y    \n",
       "2  1362548  4561143213625480          6700              0             Y    \n",
       "3  1362752  4561143213627520          2400              0             N    \n",
       "4  1363017  4561143213630170          1000              0             Y    \n",
       "\n",
       "  acct_start_date acct_end_date  starting_balance  ending_balance  \n",
       "0      12.10.1988           NaN            657.46          286.69  \n",
       "1        8.8.1995           NaN              0.00         1548.23  \n",
       "2      11.11.1986           NaN           6965.25           68.68  \n",
       "3       9.10.1994      2.4.1995           2302.14            0.00  \n",
       "4        8.2.1995           NaN              0.00         1000.00  "
      ]
     },
     "execution_count": 25,
     "metadata": {},
     "output_type": "execute_result"
    }
   ],
   "source": [
    "credit_acct.head()"
   ]
  },
  {
   "cell_type": "code",
   "execution_count": 26,
   "id": "70d467e8-f3da-4d84-85e2-478d5afce4f5",
   "metadata": {},
   "outputs": [],
   "source": [
    "#create credit balance column\n",
    "credit_acct['credit_balance'] = (credit_acct['ending_balance'] - credit_acct['credit_limit'])"
   ]
  },
  {
   "cell_type": "code",
   "execution_count": 27,
   "id": "0dcacaf3-043f-4ad8-8c28-e390e4ff2e71",
   "metadata": {},
   "outputs": [
    {
     "data": {
      "text/html": [
       "<div>\n",
       "<style scoped>\n",
       "    .dataframe tbody tr th:only-of-type {\n",
       "        vertical-align: middle;\n",
       "    }\n",
       "\n",
       "    .dataframe tbody tr th {\n",
       "        vertical-align: top;\n",
       "    }\n",
       "\n",
       "    .dataframe thead th {\n",
       "        text-align: right;\n",
       "    }\n",
       "</style>\n",
       "<table border=\"1\" class=\"dataframe\">\n",
       "  <thead>\n",
       "    <tr style=\"text-align: right;\">\n",
       "      <th></th>\n",
       "      <th>cust_id</th>\n",
       "      <th>acct_nbr</th>\n",
       "      <th>credit_limit</th>\n",
       "      <th>credit_rating</th>\n",
       "      <th>account_active</th>\n",
       "      <th>acct_start_date</th>\n",
       "      <th>acct_end_date</th>\n",
       "      <th>starting_balance</th>\n",
       "      <th>ending_balance</th>\n",
       "      <th>credit_balance</th>\n",
       "    </tr>\n",
       "  </thead>\n",
       "  <tbody>\n",
       "    <tr>\n",
       "      <th>0</th>\n",
       "      <td>1363160</td>\n",
       "      <td>4561143213631600</td>\n",
       "      <td>1000</td>\n",
       "      <td>0</td>\n",
       "      <td>Y</td>\n",
       "      <td>12.10.1988</td>\n",
       "      <td>NaN</td>\n",
       "      <td>657.46</td>\n",
       "      <td>286.69</td>\n",
       "      <td>-713.31</td>\n",
       "    </tr>\n",
       "    <tr>\n",
       "      <th>1</th>\n",
       "      <td>1362487</td>\n",
       "      <td>4561143213624870</td>\n",
       "      <td>3000</td>\n",
       "      <td>0</td>\n",
       "      <td>Y</td>\n",
       "      <td>8.8.1995</td>\n",
       "      <td>NaN</td>\n",
       "      <td>0.00</td>\n",
       "      <td>1548.23</td>\n",
       "      <td>-1451.77</td>\n",
       "    </tr>\n",
       "    <tr>\n",
       "      <th>2</th>\n",
       "      <td>1362548</td>\n",
       "      <td>4561143213625480</td>\n",
       "      <td>6700</td>\n",
       "      <td>0</td>\n",
       "      <td>Y</td>\n",
       "      <td>11.11.1986</td>\n",
       "      <td>NaN</td>\n",
       "      <td>6965.25</td>\n",
       "      <td>68.68</td>\n",
       "      <td>-6631.32</td>\n",
       "    </tr>\n",
       "    <tr>\n",
       "      <th>3</th>\n",
       "      <td>1362752</td>\n",
       "      <td>4561143213627520</td>\n",
       "      <td>2400</td>\n",
       "      <td>0</td>\n",
       "      <td>N</td>\n",
       "      <td>9.10.1994</td>\n",
       "      <td>2.4.1995</td>\n",
       "      <td>2302.14</td>\n",
       "      <td>0.00</td>\n",
       "      <td>-2400.00</td>\n",
       "    </tr>\n",
       "    <tr>\n",
       "      <th>4</th>\n",
       "      <td>1363017</td>\n",
       "      <td>4561143213630170</td>\n",
       "      <td>1000</td>\n",
       "      <td>0</td>\n",
       "      <td>Y</td>\n",
       "      <td>8.2.1995</td>\n",
       "      <td>NaN</td>\n",
       "      <td>0.00</td>\n",
       "      <td>1000.00</td>\n",
       "      <td>0.00</td>\n",
       "    </tr>\n",
       "  </tbody>\n",
       "</table>\n",
       "</div>"
      ],
      "text/plain": [
       "   cust_id          acct_nbr  credit_limit  credit_rating account_active  \\\n",
       "0  1363160  4561143213631600          1000              0             Y    \n",
       "1  1362487  4561143213624870          3000              0             Y    \n",
       "2  1362548  4561143213625480          6700              0             Y    \n",
       "3  1362752  4561143213627520          2400              0             N    \n",
       "4  1363017  4561143213630170          1000              0             Y    \n",
       "\n",
       "  acct_start_date acct_end_date  starting_balance  ending_balance  \\\n",
       "0      12.10.1988           NaN            657.46          286.69   \n",
       "1        8.8.1995           NaN              0.00         1548.23   \n",
       "2      11.11.1986           NaN           6965.25           68.68   \n",
       "3       9.10.1994      2.4.1995           2302.14            0.00   \n",
       "4        8.2.1995           NaN              0.00         1000.00   \n",
       "\n",
       "   credit_balance  \n",
       "0         -713.31  \n",
       "1        -1451.77  \n",
       "2        -6631.32  \n",
       "3        -2400.00  \n",
       "4            0.00  "
      ]
     },
     "execution_count": 27,
     "metadata": {},
     "output_type": "execute_result"
    }
   ],
   "source": [
    "credit_acct.head()"
   ]
  },
  {
   "cell_type": "code",
   "execution_count": 28,
   "id": "b0f90b26-11b1-4c56-89af-ef0385caeac2",
   "metadata": {},
   "outputs": [
    {
     "data": {
      "text/html": [
       "<div>\n",
       "<style scoped>\n",
       "    .dataframe tbody tr th:only-of-type {\n",
       "        vertical-align: middle;\n",
       "    }\n",
       "\n",
       "    .dataframe tbody tr th {\n",
       "        vertical-align: top;\n",
       "    }\n",
       "\n",
       "    .dataframe thead th {\n",
       "        text-align: right;\n",
       "    }\n",
       "</style>\n",
       "<table border=\"1\" class=\"dataframe\">\n",
       "  <thead>\n",
       "    <tr style=\"text-align: right;\">\n",
       "      <th></th>\n",
       "      <th>cust_id</th>\n",
       "      <th>acct_nbr</th>\n",
       "      <th>credit_balance</th>\n",
       "    </tr>\n",
       "  </thead>\n",
       "  <tbody>\n",
       "    <tr>\n",
       "      <th>0</th>\n",
       "      <td>1363160</td>\n",
       "      <td>4561143213631600</td>\n",
       "      <td>-713.31</td>\n",
       "    </tr>\n",
       "    <tr>\n",
       "      <th>1</th>\n",
       "      <td>1362487</td>\n",
       "      <td>4561143213624870</td>\n",
       "      <td>-1451.77</td>\n",
       "    </tr>\n",
       "    <tr>\n",
       "      <th>2</th>\n",
       "      <td>1362548</td>\n",
       "      <td>4561143213625480</td>\n",
       "      <td>-6631.32</td>\n",
       "    </tr>\n",
       "    <tr>\n",
       "      <th>3</th>\n",
       "      <td>1362752</td>\n",
       "      <td>4561143213627520</td>\n",
       "      <td>-2400.00</td>\n",
       "    </tr>\n",
       "    <tr>\n",
       "      <th>4</th>\n",
       "      <td>1363017</td>\n",
       "      <td>4561143213630170</td>\n",
       "      <td>0.00</td>\n",
       "    </tr>\n",
       "  </tbody>\n",
       "</table>\n",
       "</div>"
      ],
      "text/plain": [
       "   cust_id          acct_nbr  credit_balance\n",
       "0  1363160  4561143213631600         -713.31\n",
       "1  1362487  4561143213624870        -1451.77\n",
       "2  1362548  4561143213625480        -6631.32\n",
       "3  1362752  4561143213627520        -2400.00\n",
       "4  1363017  4561143213630170            0.00"
      ]
     },
     "execution_count": 28,
     "metadata": {},
     "output_type": "execute_result"
    }
   ],
   "source": [
    "#remove non necessary features\n",
    "credit_acct = credit_acct.drop(['credit_limit', 'credit_rating', 'account_active', 'acct_start_date', 'acct_end_date', 'starting_balance', 'ending_balance'], axis = 1)\n",
    "credit_acct.head()"
   ]
  },
  {
   "cell_type": "code",
   "execution_count": 30,
   "id": "580fcdeb-0250-46a2-9688-f39ba8d8df04",
   "metadata": {},
   "outputs": [
    {
     "data": {
      "text/html": [
       "<div>\n",
       "<style scoped>\n",
       "    .dataframe tbody tr th:only-of-type {\n",
       "        vertical-align: middle;\n",
       "    }\n",
       "\n",
       "    .dataframe tbody tr th {\n",
       "        vertical-align: top;\n",
       "    }\n",
       "\n",
       "    .dataframe thead th {\n",
       "        text-align: right;\n",
       "    }\n",
       "</style>\n",
       "<table border=\"1\" class=\"dataframe\">\n",
       "  <thead>\n",
       "    <tr style=\"text-align: right;\">\n",
       "      <th></th>\n",
       "      <th>cust_id</th>\n",
       "      <th>acct_nbr_x</th>\n",
       "      <th>acct_type</th>\n",
       "      <th>ending_balance</th>\n",
       "      <th>acct_nbr_y</th>\n",
       "      <th>credit_balance</th>\n",
       "    </tr>\n",
       "  </thead>\n",
       "  <tbody>\n",
       "    <tr>\n",
       "      <th>0</th>\n",
       "      <td>1362806</td>\n",
       "      <td>13628063</td>\n",
       "      <td>SV</td>\n",
       "      <td>284.58</td>\n",
       "      <td>4561143213628060</td>\n",
       "      <td>-4358.36</td>\n",
       "    </tr>\n",
       "    <tr>\n",
       "      <th>1</th>\n",
       "      <td>1362806</td>\n",
       "      <td>13628062</td>\n",
       "      <td>CK</td>\n",
       "      <td>2561.24</td>\n",
       "      <td>4561143213628060</td>\n",
       "      <td>-4358.36</td>\n",
       "    </tr>\n",
       "    <tr>\n",
       "      <th>2</th>\n",
       "      <td>1362806</td>\n",
       "      <td>4561143213628060</td>\n",
       "      <td>CC</td>\n",
       "      <td>1541.64</td>\n",
       "      <td>4561143213628060</td>\n",
       "      <td>-4358.36</td>\n",
       "    </tr>\n",
       "    <tr>\n",
       "      <th>3</th>\n",
       "      <td>1362709</td>\n",
       "      <td>4561143213627090</td>\n",
       "      <td>CC</td>\n",
       "      <td>496.15</td>\n",
       "      <td>4561143213627090</td>\n",
       "      <td>-503.85</td>\n",
       "    </tr>\n",
       "    <tr>\n",
       "      <th>4</th>\n",
       "      <td>1362709</td>\n",
       "      <td>13627093</td>\n",
       "      <td>SV</td>\n",
       "      <td>917.33</td>\n",
       "      <td>4561143213627090</td>\n",
       "      <td>-503.85</td>\n",
       "    </tr>\n",
       "  </tbody>\n",
       "</table>\n",
       "</div>"
      ],
      "text/plain": [
       "   cust_id        acct_nbr_x acct_type  ending_balance        acct_nbr_y  \\\n",
       "0  1362806          13628063      SV            284.58  4561143213628060   \n",
       "1  1362806          13628062      CK           2561.24  4561143213628060   \n",
       "2  1362806  4561143213628060      CC           1541.64  4561143213628060   \n",
       "3  1362709  4561143213627090      CC            496.15  4561143213627090   \n",
       "4  1362709          13627093      SV            917.33  4561143213627090   \n",
       "\n",
       "   credit_balance  \n",
       "0        -4358.36  \n",
       "1        -4358.36  \n",
       "2        -4358.36  \n",
       "3         -503.85  \n",
       "4         -503.85  "
      ]
     },
     "execution_count": 30,
     "metadata": {},
     "output_type": "execute_result"
    }
   ],
   "source": [
    "# add credit_balance column to accounts df\n",
    "acct_w_credit = pd.merge(accounts1, credit_acct, on='cust_id')\n",
    "acct_w_credit.head()"
   ]
  },
  {
   "cell_type": "code",
   "execution_count": 31,
   "id": "de5202cd-7114-443c-946d-fbfa03d2c0fd",
   "metadata": {},
   "outputs": [
    {
     "data": {
      "text/html": [
       "<div>\n",
       "<style scoped>\n",
       "    .dataframe tbody tr th:only-of-type {\n",
       "        vertical-align: middle;\n",
       "    }\n",
       "\n",
       "    .dataframe tbody tr th {\n",
       "        vertical-align: top;\n",
       "    }\n",
       "\n",
       "    .dataframe thead th {\n",
       "        text-align: right;\n",
       "    }\n",
       "</style>\n",
       "<table border=\"1\" class=\"dataframe\">\n",
       "  <thead>\n",
       "    <tr style=\"text-align: right;\">\n",
       "      <th></th>\n",
       "      <th>ending_balance</th>\n",
       "      <th>credit_balance</th>\n",
       "    </tr>\n",
       "  </thead>\n",
       "  <tbody>\n",
       "    <tr>\n",
       "      <th>0</th>\n",
       "      <td>284.58</td>\n",
       "      <td>-4358.36</td>\n",
       "    </tr>\n",
       "    <tr>\n",
       "      <th>1</th>\n",
       "      <td>2561.24</td>\n",
       "      <td>-4358.36</td>\n",
       "    </tr>\n",
       "    <tr>\n",
       "      <th>2</th>\n",
       "      <td>1541.64</td>\n",
       "      <td>-4358.36</td>\n",
       "    </tr>\n",
       "    <tr>\n",
       "      <th>3</th>\n",
       "      <td>496.15</td>\n",
       "      <td>-503.85</td>\n",
       "    </tr>\n",
       "    <tr>\n",
       "      <th>4</th>\n",
       "      <td>917.33</td>\n",
       "      <td>-503.85</td>\n",
       "    </tr>\n",
       "  </tbody>\n",
       "</table>\n",
       "</div>"
      ],
      "text/plain": [
       "   ending_balance  credit_balance\n",
       "0          284.58        -4358.36\n",
       "1         2561.24        -4358.36\n",
       "2         1541.64        -4358.36\n",
       "3          496.15         -503.85\n",
       "4          917.33         -503.85"
      ]
     },
     "execution_count": 31,
     "metadata": {},
     "output_type": "execute_result"
    }
   ],
   "source": [
    "acct_w_credit = acct_w_credit.drop(['cust_id', 'acct_type', 'acct_nbr_x', 'acct_nbr_y'], axis = 1)\n",
    "acct_w_credit.head()"
   ]
  },
  {
   "cell_type": "code",
   "execution_count": 35,
   "id": "063e7eeb-690e-4d59-97b4-fd4342090c21",
   "metadata": {},
   "outputs": [],
   "source": [
    "import plotly.graph_objects as go\n",
    "def plot_radarchart(df):\n",
    "    data = []\n",
    "    for i in range(0,len(df)):\n",
    "        data.append(go.Scatterpolar(r = df.iloc[i].values,\n",
    "                                    theta = df.iloc[i].index,\n",
    "                                    name = f'cluster{df.index[i]}',\n",
    "                                    fill = 'toself'))\n",
    "\n",
    "\n",
    "    layout = go.Layout(polar = dict(radialaxis = dict(visible = True)),\n",
    "                       showlegend = True)\n",
    "    fig = go.Figure(data = data, layout = layout)\n",
    "    fig.show()"
   ]
  },
  {
   "cell_type": "code",
   "execution_count": 39,
   "id": "bee1e608-b640-4656-8469-642cc7cc6c83",
   "metadata": {
    "tags": []
   },
   "outputs": [
    {
     "data": {
      "application/vnd.plotly.v1+json": {
       "config": {
        "plotlyServerURL": "https://plot.ly"
       },
       "data": [
        {
         "fill": "toself",
         "name": "cluster0",
         "r": [
          284.58,
          -4358.36
         ],
         "theta": [
          "ending_balance",
          "credit_balance"
         ],
         "type": "scatterpolar"
        },
        {
         "fill": "toself",
         "name": "cluster1",
         "r": [
          2561.24,
          -4358.36
         ],
         "theta": [
          "ending_balance",
          "credit_balance"
         ],
         "type": "scatterpolar"
        },
        {
         "fill": "toself",
         "name": "cluster2",
         "r": [
          1541.64,
          -4358.36
         ],
         "theta": [
          "ending_balance",
          "credit_balance"
         ],
         "type": "scatterpolar"
        },
        {
         "fill": "toself",
         "name": "cluster3",
         "r": [
          496.15,
          -503.85
         ],
         "theta": [
          "ending_balance",
          "credit_balance"
         ],
         "type": "scatterpolar"
        },
        {
         "fill": "toself",
         "name": "cluster4",
         "r": [
          917.33,
          -503.85
         ],
         "theta": [
          "ending_balance",
          "credit_balance"
         ],
         "type": "scatterpolar"
        },
        {
         "fill": "toself",
         "name": "cluster5",
         "r": [
          185.9,
          -503.85
         ],
         "theta": [
          "ending_balance",
          "credit_balance"
         ],
         "type": "scatterpolar"
        },
        {
         "fill": "toself",
         "name": "cluster6",
         "r": [
          1000,
          0
         ],
         "theta": [
          "ending_balance",
          "credit_balance"
         ],
         "type": "scatterpolar"
        },
        {
         "fill": "toself",
         "name": "cluster7",
         "r": [
          1009.19,
          0
         ],
         "theta": [
          "ending_balance",
          "credit_balance"
         ],
         "type": "scatterpolar"
        },
        {
         "fill": "toself",
         "name": "cluster8",
         "r": [
          7.72,
          0
         ],
         "theta": [
          "ending_balance",
          "credit_balance"
         ],
         "type": "scatterpolar"
        },
        {
         "fill": "toself",
         "name": "cluster9",
         "r": [
          968.46,
          0
         ],
         "theta": [
          "ending_balance",
          "credit_balance"
         ],
         "type": "scatterpolar"
        },
        {
         "fill": "toself",
         "name": "cluster10",
         "r": [
          2700,
          0
         ],
         "theta": [
          "ending_balance",
          "credit_balance"
         ],
         "type": "scatterpolar"
        },
        {
         "fill": "toself",
         "name": "cluster11",
         "r": [
          299.67,
          0
         ],
         "theta": [
          "ending_balance",
          "credit_balance"
         ],
         "type": "scatterpolar"
        },
        {
         "fill": "toself",
         "name": "cluster12",
         "r": [
          462.28,
          -837.72
         ],
         "theta": [
          "ending_balance",
          "credit_balance"
         ],
         "type": "scatterpolar"
        },
        {
         "fill": "toself",
         "name": "cluster13",
         "r": [
          172.8,
          -837.72
         ],
         "theta": [
          "ending_balance",
          "credit_balance"
         ],
         "type": "scatterpolar"
        },
        {
         "fill": "toself",
         "name": "cluster14",
         "r": [
          21.54,
          -837.72
         ],
         "theta": [
          "ending_balance",
          "credit_balance"
         ],
         "type": "scatterpolar"
        },
        {
         "fill": "toself",
         "name": "cluster15",
         "r": [
          1000,
          0
         ],
         "theta": [
          "ending_balance",
          "credit_balance"
         ],
         "type": "scatterpolar"
        },
        {
         "fill": "toself",
         "name": "cluster16",
         "r": [
          3000,
          0
         ],
         "theta": [
          "ending_balance",
          "credit_balance"
         ],
         "type": "scatterpolar"
        },
        {
         "fill": "toself",
         "name": "cluster17",
         "r": [
          401.43,
          0
         ],
         "theta": [
          "ending_balance",
          "credit_balance"
         ],
         "type": "scatterpolar"
        },
        {
         "fill": "toself",
         "name": "cluster18",
         "r": [
          235.65,
          0
         ],
         "theta": [
          "ending_balance",
          "credit_balance"
         ],
         "type": "scatterpolar"
        },
        {
         "fill": "toself",
         "name": "cluster19",
         "r": [
          0,
          -14300
         ],
         "theta": [
          "ending_balance",
          "credit_balance"
         ],
         "type": "scatterpolar"
        },
        {
         "fill": "toself",
         "name": "cluster20",
         "r": [
          756.74,
          -14300
         ],
         "theta": [
          "ending_balance",
          "credit_balance"
         ],
         "type": "scatterpolar"
        },
        {
         "fill": "toself",
         "name": "cluster21",
         "r": [
          135.39,
          -14300
         ],
         "theta": [
          "ending_balance",
          "credit_balance"
         ],
         "type": "scatterpolar"
        },
        {
         "fill": "toself",
         "name": "cluster22",
         "r": [
          216.74,
          0
         ],
         "theta": [
          "ending_balance",
          "credit_balance"
         ],
         "type": "scatterpolar"
        },
        {
         "fill": "toself",
         "name": "cluster23",
         "r": [
          1000,
          0
         ],
         "theta": [
          "ending_balance",
          "credit_balance"
         ],
         "type": "scatterpolar"
        },
        {
         "fill": "toself",
         "name": "cluster24",
         "r": [
          1497.85,
          0
         ],
         "theta": [
          "ending_balance",
          "credit_balance"
         ],
         "type": "scatterpolar"
        },
        {
         "fill": "toself",
         "name": "cluster25",
         "r": [
          110.03,
          -889.97
         ],
         "theta": [
          "ending_balance",
          "credit_balance"
         ],
         "type": "scatterpolar"
        },
        {
         "fill": "toself",
         "name": "cluster26",
         "r": [
          760.1,
          -889.97
         ],
         "theta": [
          "ending_balance",
          "credit_balance"
         ],
         "type": "scatterpolar"
        },
        {
         "fill": "toself",
         "name": "cluster27",
         "r": [
          852.22,
          -889.97
         ],
         "theta": [
          "ending_balance",
          "credit_balance"
         ],
         "type": "scatterpolar"
        },
        {
         "fill": "toself",
         "name": "cluster28",
         "r": [
          375.14,
          -2494.44
         ],
         "theta": [
          "ending_balance",
          "credit_balance"
         ],
         "type": "scatterpolar"
        },
        {
         "fill": "toself",
         "name": "cluster29",
         "r": [
          505.56,
          -2494.44
         ],
         "theta": [
          "ending_balance",
          "credit_balance"
         ],
         "type": "scatterpolar"
        },
        {
         "fill": "toself",
         "name": "cluster30",
         "r": [
          1804.89,
          -2494.44
         ],
         "theta": [
          "ending_balance",
          "credit_balance"
         ],
         "type": "scatterpolar"
        },
        {
         "fill": "toself",
         "name": "cluster31",
         "r": [
          141.92,
          -2827.01
         ],
         "theta": [
          "ending_balance",
          "credit_balance"
         ],
         "type": "scatterpolar"
        },
        {
         "fill": "toself",
         "name": "cluster32",
         "r": [
          1566.97,
          -2827.01
         ],
         "theta": [
          "ending_balance",
          "credit_balance"
         ],
         "type": "scatterpolar"
        },
        {
         "fill": "toself",
         "name": "cluster33",
         "r": [
          172.99,
          -2827.01
         ],
         "theta": [
          "ending_balance",
          "credit_balance"
         ],
         "type": "scatterpolar"
        },
        {
         "fill": "toself",
         "name": "cluster34",
         "r": [
          1782.06,
          -2155.92
         ],
         "theta": [
          "ending_balance",
          "credit_balance"
         ],
         "type": "scatterpolar"
        },
        {
         "fill": "toself",
         "name": "cluster35",
         "r": [
          146.5,
          -2155.92
         ],
         "theta": [
          "ending_balance",
          "credit_balance"
         ],
         "type": "scatterpolar"
        },
        {
         "fill": "toself",
         "name": "cluster36",
         "r": [
          844.08,
          -2155.92
         ],
         "theta": [
          "ending_balance",
          "credit_balance"
         ],
         "type": "scatterpolar"
        },
        {
         "fill": "toself",
         "name": "cluster37",
         "r": [
          407.08,
          -1092.92
         ],
         "theta": [
          "ending_balance",
          "credit_balance"
         ],
         "type": "scatterpolar"
        },
        {
         "fill": "toself",
         "name": "cluster38",
         "r": [
          404.56,
          -1092.92
         ],
         "theta": [
          "ending_balance",
          "credit_balance"
         ],
         "type": "scatterpolar"
        },
        {
         "fill": "toself",
         "name": "cluster39",
         "r": [
          291.67,
          -1092.92
         ],
         "theta": [
          "ending_balance",
          "credit_balance"
         ],
         "type": "scatterpolar"
        },
        {
         "fill": "toself",
         "name": "cluster40",
         "r": [
          778.84,
          -958.78
         ],
         "theta": [
          "ending_balance",
          "credit_balance"
         ],
         "type": "scatterpolar"
        },
        {
         "fill": "toself",
         "name": "cluster41",
         "r": [
          41.22,
          -958.78
         ],
         "theta": [
          "ending_balance",
          "credit_balance"
         ],
         "type": "scatterpolar"
        },
        {
         "fill": "toself",
         "name": "cluster42",
         "r": [
          1136.06,
          -363.94000000000005
         ],
         "theta": [
          "ending_balance",
          "credit_balance"
         ],
         "type": "scatterpolar"
        },
        {
         "fill": "toself",
         "name": "cluster43",
         "r": [
          268.13,
          -363.94000000000005
         ],
         "theta": [
          "ending_balance",
          "credit_balance"
         ],
         "type": "scatterpolar"
        },
        {
         "fill": "toself",
         "name": "cluster44",
         "r": [
          41.6,
          -363.94000000000005
         ],
         "theta": [
          "ending_balance",
          "credit_balance"
         ],
         "type": "scatterpolar"
        },
        {
         "fill": "toself",
         "name": "cluster45",
         "r": [
          429.34,
          -570.6600000000001
         ],
         "theta": [
          "ending_balance",
          "credit_balance"
         ],
         "type": "scatterpolar"
        },
        {
         "fill": "toself",
         "name": "cluster46",
         "r": [
          57.08,
          -570.6600000000001
         ],
         "theta": [
          "ending_balance",
          "credit_balance"
         ],
         "type": "scatterpolar"
        },
        {
         "fill": "toself",
         "name": "cluster47",
         "r": [
          95.8,
          -570.6600000000001
         ],
         "theta": [
          "ending_balance",
          "credit_balance"
         ],
         "type": "scatterpolar"
        },
        {
         "fill": "toself",
         "name": "cluster48",
         "r": [
          920.44,
          -2451.4300000000003
         ],
         "theta": [
          "ending_balance",
          "credit_balance"
         ],
         "type": "scatterpolar"
        },
        {
         "fill": "toself",
         "name": "cluster49",
         "r": [
          1548.57,
          -2451.4300000000003
         ],
         "theta": [
          "ending_balance",
          "credit_balance"
         ],
         "type": "scatterpolar"
        },
        {
         "fill": "toself",
         "name": "cluster50",
         "r": [
          889.68,
          -110.32000000000005
         ],
         "theta": [
          "ending_balance",
          "credit_balance"
         ],
         "type": "scatterpolar"
        },
        {
         "fill": "toself",
         "name": "cluster51",
         "r": [
          52.26,
          -110.32000000000005
         ],
         "theta": [
          "ending_balance",
          "credit_balance"
         ],
         "type": "scatterpolar"
        },
        {
         "fill": "toself",
         "name": "cluster52",
         "r": [
          121.53,
          -110.32000000000005
         ],
         "theta": [
          "ending_balance",
          "credit_balance"
         ],
         "type": "scatterpolar"
        },
        {
         "fill": "toself",
         "name": "cluster53",
         "r": [
          491.88,
          -2101.96
         ],
         "theta": [
          "ending_balance",
          "credit_balance"
         ],
         "type": "scatterpolar"
        },
        {
         "fill": "toself",
         "name": "cluster54",
         "r": [
          7.35,
          -2101.96
         ],
         "theta": [
          "ending_balance",
          "credit_balance"
         ],
         "type": "scatterpolar"
        },
        {
         "fill": "toself",
         "name": "cluster55",
         "r": [
          98.04,
          -2101.96
         ],
         "theta": [
          "ending_balance",
          "credit_balance"
         ],
         "type": "scatterpolar"
        },
        {
         "fill": "toself",
         "name": "cluster56",
         "r": [
          730,
          -2270
         ],
         "theta": [
          "ending_balance",
          "credit_balance"
         ],
         "type": "scatterpolar"
        },
        {
         "fill": "toself",
         "name": "cluster57",
         "r": [
          136.18,
          -2270
         ],
         "theta": [
          "ending_balance",
          "credit_balance"
         ],
         "type": "scatterpolar"
        },
        {
         "fill": "toself",
         "name": "cluster58",
         "r": [
          1520.9,
          -2270
         ],
         "theta": [
          "ending_balance",
          "credit_balance"
         ],
         "type": "scatterpolar"
        },
        {
         "fill": "toself",
         "name": "cluster59",
         "r": [
          331.93,
          -797.01
         ],
         "theta": [
          "ending_balance",
          "credit_balance"
         ],
         "type": "scatterpolar"
        },
        {
         "fill": "toself",
         "name": "cluster60",
         "r": [
          202.99,
          -797.01
         ],
         "theta": [
          "ending_balance",
          "credit_balance"
         ],
         "type": "scatterpolar"
        },
        {
         "fill": "toself",
         "name": "cluster61",
         "r": [
          1152.38,
          -797.01
         ],
         "theta": [
          "ending_balance",
          "credit_balance"
         ],
         "type": "scatterpolar"
        },
        {
         "fill": "toself",
         "name": "cluster62",
         "r": [
          6800,
          0
         ],
         "theta": [
          "ending_balance",
          "credit_balance"
         ],
         "type": "scatterpolar"
        },
        {
         "fill": "toself",
         "name": "cluster63",
         "r": [
          45.45,
          0
         ],
         "theta": [
          "ending_balance",
          "credit_balance"
         ],
         "type": "scatterpolar"
        },
        {
         "fill": "toself",
         "name": "cluster64",
         "r": [
          1007.92,
          -1766.57
         ],
         "theta": [
          "ending_balance",
          "credit_balance"
         ],
         "type": "scatterpolar"
        },
        {
         "fill": "toself",
         "name": "cluster65",
         "r": [
          433.43,
          -1766.57
         ],
         "theta": [
          "ending_balance",
          "credit_balance"
         ],
         "type": "scatterpolar"
        },
        {
         "fill": "toself",
         "name": "cluster66",
         "r": [
          873.14,
          -1766.57
         ],
         "theta": [
          "ending_balance",
          "credit_balance"
         ],
         "type": "scatterpolar"
        },
        {
         "fill": "toself",
         "name": "cluster67",
         "r": [
          0,
          -5800
         ],
         "theta": [
          "ending_balance",
          "credit_balance"
         ],
         "type": "scatterpolar"
        },
        {
         "fill": "toself",
         "name": "cluster68",
         "r": [
          1805.16,
          -5800
         ],
         "theta": [
          "ending_balance",
          "credit_balance"
         ],
         "type": "scatterpolar"
        },
        {
         "fill": "toself",
         "name": "cluster69",
         "r": [
          223.09,
          -5800
         ],
         "theta": [
          "ending_balance",
          "credit_balance"
         ],
         "type": "scatterpolar"
        },
        {
         "fill": "toself",
         "name": "cluster70",
         "r": [
          406.96,
          -4793.04
         ],
         "theta": [
          "ending_balance",
          "credit_balance"
         ],
         "type": "scatterpolar"
        },
        {
         "fill": "toself",
         "name": "cluster71",
         "r": [
          13404.16,
          -4793.04
         ],
         "theta": [
          "ending_balance",
          "credit_balance"
         ],
         "type": "scatterpolar"
        },
        {
         "fill": "toself",
         "name": "cluster72",
         "r": [
          890.53,
          -4793.04
         ],
         "theta": [
          "ending_balance",
          "credit_balance"
         ],
         "type": "scatterpolar"
        },
        {
         "fill": "toself",
         "name": "cluster73",
         "r": [
          596.38,
          -1852.93
         ],
         "theta": [
          "ending_balance",
          "credit_balance"
         ],
         "type": "scatterpolar"
        },
        {
         "fill": "toself",
         "name": "cluster74",
         "r": [
          167.83,
          -1852.93
         ],
         "theta": [
          "ending_balance",
          "credit_balance"
         ],
         "type": "scatterpolar"
        },
        {
         "fill": "toself",
         "name": "cluster75",
         "r": [
          1147.07,
          -1852.93
         ],
         "theta": [
          "ending_balance",
          "credit_balance"
         ],
         "type": "scatterpolar"
        },
        {
         "fill": "toself",
         "name": "cluster76",
         "r": [
          338.98,
          0
         ],
         "theta": [
          "ending_balance",
          "credit_balance"
         ],
         "type": "scatterpolar"
        },
        {
         "fill": "toself",
         "name": "cluster77",
         "r": [
          1000,
          0
         ],
         "theta": [
          "ending_balance",
          "credit_balance"
         ],
         "type": "scatterpolar"
        },
        {
         "fill": "toself",
         "name": "cluster78",
         "r": [
          947.22,
          0
         ],
         "theta": [
          "ending_balance",
          "credit_balance"
         ],
         "type": "scatterpolar"
        },
        {
         "fill": "toself",
         "name": "cluster79",
         "r": [
          1000,
          0
         ],
         "theta": [
          "ending_balance",
          "credit_balance"
         ],
         "type": "scatterpolar"
        },
        {
         "fill": "toself",
         "name": "cluster80",
         "r": [
          629.06,
          0
         ],
         "theta": [
          "ending_balance",
          "credit_balance"
         ],
         "type": "scatterpolar"
        },
        {
         "fill": "toself",
         "name": "cluster81",
         "r": [
          0,
          -1000
         ],
         "theta": [
          "ending_balance",
          "credit_balance"
         ],
         "type": "scatterpolar"
        },
        {
         "fill": "toself",
         "name": "cluster82",
         "r": [
          0,
          -1000
         ],
         "theta": [
          "ending_balance",
          "credit_balance"
         ],
         "type": "scatterpolar"
        },
        {
         "fill": "toself",
         "name": "cluster83",
         "r": [
          601.14,
          -1000
         ],
         "theta": [
          "ending_balance",
          "credit_balance"
         ],
         "type": "scatterpolar"
        },
        {
         "fill": "toself",
         "name": "cluster84",
         "r": [
          682.28,
          -317.72
         ],
         "theta": [
          "ending_balance",
          "credit_balance"
         ],
         "type": "scatterpolar"
        },
        {
         "fill": "toself",
         "name": "cluster85",
         "r": [
          1797.22,
          -317.72
         ],
         "theta": [
          "ending_balance",
          "credit_balance"
         ],
         "type": "scatterpolar"
        },
        {
         "fill": "toself",
         "name": "cluster86",
         "r": [
          205.93,
          -317.72
         ],
         "theta": [
          "ending_balance",
          "credit_balance"
         ],
         "type": "scatterpolar"
        },
        {
         "fill": "toself",
         "name": "cluster87",
         "r": [
          867.84,
          0
         ],
         "theta": [
          "ending_balance",
          "credit_balance"
         ],
         "type": "scatterpolar"
        },
        {
         "fill": "toself",
         "name": "cluster88",
         "r": [
          1000,
          0
         ],
         "theta": [
          "ending_balance",
          "credit_balance"
         ],
         "type": "scatterpolar"
        },
        {
         "fill": "toself",
         "name": "cluster89",
         "r": [
          4601.37,
          -3880
         ],
         "theta": [
          "ending_balance",
          "credit_balance"
         ],
         "type": "scatterpolar"
        },
        {
         "fill": "toself",
         "name": "cluster90",
         "r": [
          20,
          -3880
         ],
         "theta": [
          "ending_balance",
          "credit_balance"
         ],
         "type": "scatterpolar"
        },
        {
         "fill": "toself",
         "name": "cluster91",
         "r": [
          1000,
          0
         ],
         "theta": [
          "ending_balance",
          "credit_balance"
         ],
         "type": "scatterpolar"
        },
        {
         "fill": "toself",
         "name": "cluster92",
         "r": [
          1706.87,
          0
         ],
         "theta": [
          "ending_balance",
          "credit_balance"
         ],
         "type": "scatterpolar"
        },
        {
         "fill": "toself",
         "name": "cluster93",
         "r": [
          269.95,
          0
         ],
         "theta": [
          "ending_balance",
          "credit_balance"
         ],
         "type": "scatterpolar"
        },
        {
         "fill": "toself",
         "name": "cluster94",
         "r": [
          1548.23,
          -1451.77
         ],
         "theta": [
          "ending_balance",
          "credit_balance"
         ],
         "type": "scatterpolar"
        },
        {
         "fill": "toself",
         "name": "cluster95",
         "r": [
          12.89,
          -1451.77
         ],
         "theta": [
          "ending_balance",
          "credit_balance"
         ],
         "type": "scatterpolar"
        },
        {
         "fill": "toself",
         "name": "cluster96",
         "r": [
          1401.21,
          -1451.77
         ],
         "theta": [
          "ending_balance",
          "credit_balance"
         ],
         "type": "scatterpolar"
        },
        {
         "fill": "toself",
         "name": "cluster97",
         "r": [
          325.81,
          0
         ],
         "theta": [
          "ending_balance",
          "credit_balance"
         ],
         "type": "scatterpolar"
        },
        {
         "fill": "toself",
         "name": "cluster98",
         "r": [
          1000,
          0
         ],
         "theta": [
          "ending_balance",
          "credit_balance"
         ],
         "type": "scatterpolar"
        },
        {
         "fill": "toself",
         "name": "cluster99",
         "r": [
          3821.12,
          0
         ],
         "theta": [
          "ending_balance",
          "credit_balance"
         ],
         "type": "scatterpolar"
        },
        {
         "fill": "toself",
         "name": "cluster100",
         "r": [
          1240.58,
          -2315.88
         ],
         "theta": [
          "ending_balance",
          "credit_balance"
         ],
         "type": "scatterpolar"
        },
        {
         "fill": "toself",
         "name": "cluster101",
         "r": [
          1395.69,
          -2315.88
         ],
         "theta": [
          "ending_balance",
          "credit_balance"
         ],
         "type": "scatterpolar"
        },
        {
         "fill": "toself",
         "name": "cluster102",
         "r": [
          684.12,
          -2315.88
         ],
         "theta": [
          "ending_balance",
          "credit_balance"
         ],
         "type": "scatterpolar"
        },
        {
         "fill": "toself",
         "name": "cluster103",
         "r": [
          153.91,
          -1270.3400000000001
         ],
         "theta": [
          "ending_balance",
          "credit_balance"
         ],
         "type": "scatterpolar"
        },
        {
         "fill": "toself",
         "name": "cluster104",
         "r": [
          3229.66,
          -1270.3400000000001
         ],
         "theta": [
          "ending_balance",
          "credit_balance"
         ],
         "type": "scatterpolar"
        },
        {
         "fill": "toself",
         "name": "cluster105",
         "r": [
          1777.03,
          -1270.3400000000001
         ],
         "theta": [
          "ending_balance",
          "credit_balance"
         ],
         "type": "scatterpolar"
        },
        {
         "fill": "toself",
         "name": "cluster106",
         "r": [
          528.25,
          -911.79
         ],
         "theta": [
          "ending_balance",
          "credit_balance"
         ],
         "type": "scatterpolar"
        },
        {
         "fill": "toself",
         "name": "cluster107",
         "r": [
          88.21,
          -911.79
         ],
         "theta": [
          "ending_balance",
          "credit_balance"
         ],
         "type": "scatterpolar"
        },
        {
         "fill": "toself",
         "name": "cluster108",
         "r": [
          35.68,
          -911.79
         ],
         "theta": [
          "ending_balance",
          "credit_balance"
         ],
         "type": "scatterpolar"
        },
        {
         "fill": "toself",
         "name": "cluster109",
         "r": [
          41.36,
          0
         ],
         "theta": [
          "ending_balance",
          "credit_balance"
         ],
         "type": "scatterpolar"
        },
        {
         "fill": "toself",
         "name": "cluster110",
         "r": [
          1200,
          0
         ],
         "theta": [
          "ending_balance",
          "credit_balance"
         ],
         "type": "scatterpolar"
        },
        {
         "fill": "toself",
         "name": "cluster111",
         "r": [
          1596.17,
          -140.55999999999995
         ],
         "theta": [
          "ending_balance",
          "credit_balance"
         ],
         "type": "scatterpolar"
        },
        {
         "fill": "toself",
         "name": "cluster112",
         "r": [
          292,
          -140.55999999999995
         ],
         "theta": [
          "ending_balance",
          "credit_balance"
         ],
         "type": "scatterpolar"
        },
        {
         "fill": "toself",
         "name": "cluster113",
         "r": [
          859.44,
          -140.55999999999995
         ],
         "theta": [
          "ending_balance",
          "credit_balance"
         ],
         "type": "scatterpolar"
        },
        {
         "fill": "toself",
         "name": "cluster114",
         "r": [
          612.74,
          -11328.61
         ],
         "theta": [
          "ending_balance",
          "credit_balance"
         ],
         "type": "scatterpolar"
        },
        {
         "fill": "toself",
         "name": "cluster115",
         "r": [
          1271.39,
          -11328.61
         ],
         "theta": [
          "ending_balance",
          "credit_balance"
         ],
         "type": "scatterpolar"
        },
        {
         "fill": "toself",
         "name": "cluster116",
         "r": [
          1699.39,
          -11328.61
         ],
         "theta": [
          "ending_balance",
          "credit_balance"
         ],
         "type": "scatterpolar"
        },
        {
         "fill": "toself",
         "name": "cluster117",
         "r": [
          1199.3,
          -1800.7
         ],
         "theta": [
          "ending_balance",
          "credit_balance"
         ],
         "type": "scatterpolar"
        },
        {
         "fill": "toself",
         "name": "cluster118",
         "r": [
          265.35,
          -1800.7
         ],
         "theta": [
          "ending_balance",
          "credit_balance"
         ],
         "type": "scatterpolar"
        },
        {
         "fill": "toself",
         "name": "cluster119",
         "r": [
          314.27,
          -1800.7
         ],
         "theta": [
          "ending_balance",
          "credit_balance"
         ],
         "type": "scatterpolar"
        },
        {
         "fill": "toself",
         "name": "cluster120",
         "r": [
          5287.76,
          0
         ],
         "theta": [
          "ending_balance",
          "credit_balance"
         ],
         "type": "scatterpolar"
        },
        {
         "fill": "toself",
         "name": "cluster121",
         "r": [
          0,
          0
         ],
         "theta": [
          "ending_balance",
          "credit_balance"
         ],
         "type": "scatterpolar"
        },
        {
         "fill": "toself",
         "name": "cluster122",
         "r": [
          1000,
          0
         ],
         "theta": [
          "ending_balance",
          "credit_balance"
         ],
         "type": "scatterpolar"
        },
        {
         "fill": "toself",
         "name": "cluster123",
         "r": [
          12.5,
          0
         ],
         "theta": [
          "ending_balance",
          "credit_balance"
         ],
         "type": "scatterpolar"
        },
        {
         "fill": "toself",
         "name": "cluster124",
         "r": [
          1000,
          0
         ],
         "theta": [
          "ending_balance",
          "credit_balance"
         ],
         "type": "scatterpolar"
        },
        {
         "fill": "toself",
         "name": "cluster125",
         "r": [
          1999.37,
          0
         ],
         "theta": [
          "ending_balance",
          "credit_balance"
         ],
         "type": "scatterpolar"
        },
        {
         "fill": "toself",
         "name": "cluster126",
         "r": [
          53.6,
          -693.1600000000001
         ],
         "theta": [
          "ending_balance",
          "credit_balance"
         ],
         "type": "scatterpolar"
        },
        {
         "fill": "toself",
         "name": "cluster127",
         "r": [
          306.84,
          -693.1600000000001
         ],
         "theta": [
          "ending_balance",
          "credit_balance"
         ],
         "type": "scatterpolar"
        },
        {
         "fill": "toself",
         "name": "cluster128",
         "r": [
          138.02,
          -693.1600000000001
         ],
         "theta": [
          "ending_balance",
          "credit_balance"
         ],
         "type": "scatterpolar"
        },
        {
         "fill": "toself",
         "name": "cluster129",
         "r": [
          839.81,
          0
         ],
         "theta": [
          "ending_balance",
          "credit_balance"
         ],
         "type": "scatterpolar"
        },
        {
         "fill": "toself",
         "name": "cluster130",
         "r": [
          1000,
          0
         ],
         "theta": [
          "ending_balance",
          "credit_balance"
         ],
         "type": "scatterpolar"
        },
        {
         "fill": "toself",
         "name": "cluster131",
         "r": [
          1000,
          0
         ],
         "theta": [
          "ending_balance",
          "credit_balance"
         ],
         "type": "scatterpolar"
        },
        {
         "fill": "toself",
         "name": "cluster132",
         "r": [
          1967.7,
          0
         ],
         "theta": [
          "ending_balance",
          "credit_balance"
         ],
         "type": "scatterpolar"
        },
        {
         "fill": "toself",
         "name": "cluster133",
         "r": [
          65.82,
          0
         ],
         "theta": [
          "ending_balance",
          "credit_balance"
         ],
         "type": "scatterpolar"
        },
        {
         "fill": "toself",
         "name": "cluster134",
         "r": [
          10,
          -5290
         ],
         "theta": [
          "ending_balance",
          "credit_balance"
         ],
         "type": "scatterpolar"
        },
        {
         "fill": "toself",
         "name": "cluster135",
         "r": [
          9341.84,
          -5290
         ],
         "theta": [
          "ending_balance",
          "credit_balance"
         ],
         "type": "scatterpolar"
        },
        {
         "fill": "toself",
         "name": "cluster136",
         "r": [
          23.16,
          -5290
         ],
         "theta": [
          "ending_balance",
          "credit_balance"
         ],
         "type": "scatterpolar"
        },
        {
         "fill": "toself",
         "name": "cluster137",
         "r": [
          743.04,
          -5535.389999999999
         ],
         "theta": [
          "ending_balance",
          "credit_balance"
         ],
         "type": "scatterpolar"
        },
        {
         "fill": "toself",
         "name": "cluster138",
         "r": [
          2897.68,
          -5535.389999999999
         ],
         "theta": [
          "ending_balance",
          "credit_balance"
         ],
         "type": "scatterpolar"
        },
        {
         "fill": "toself",
         "name": "cluster139",
         "r": [
          2264.61,
          -5535.389999999999
         ],
         "theta": [
          "ending_balance",
          "credit_balance"
         ],
         "type": "scatterpolar"
        },
        {
         "fill": "toself",
         "name": "cluster140",
         "r": [
          15.74,
          -2984.26
         ],
         "theta": [
          "ending_balance",
          "credit_balance"
         ],
         "type": "scatterpolar"
        },
        {
         "fill": "toself",
         "name": "cluster141",
         "r": [
          844.14,
          -2984.26
         ],
         "theta": [
          "ending_balance",
          "credit_balance"
         ],
         "type": "scatterpolar"
        },
        {
         "fill": "toself",
         "name": "cluster142",
         "r": [
          2562.66,
          -2984.26
         ],
         "theta": [
          "ending_balance",
          "credit_balance"
         ],
         "type": "scatterpolar"
        },
        {
         "fill": "toself",
         "name": "cluster143",
         "r": [
          306.26,
          0
         ],
         "theta": [
          "ending_balance",
          "credit_balance"
         ],
         "type": "scatterpolar"
        },
        {
         "fill": "toself",
         "name": "cluster144",
         "r": [
          1000,
          0
         ],
         "theta": [
          "ending_balance",
          "credit_balance"
         ],
         "type": "scatterpolar"
        },
        {
         "fill": "toself",
         "name": "cluster145",
         "r": [
          50.77,
          0
         ],
         "theta": [
          "ending_balance",
          "credit_balance"
         ],
         "type": "scatterpolar"
        },
        {
         "fill": "toself",
         "name": "cluster146",
         "r": [
          48.9,
          0
         ],
         "theta": [
          "ending_balance",
          "credit_balance"
         ],
         "type": "scatterpolar"
        },
        {
         "fill": "toself",
         "name": "cluster147",
         "r": [
          3000,
          0
         ],
         "theta": [
          "ending_balance",
          "credit_balance"
         ],
         "type": "scatterpolar"
        },
        {
         "fill": "toself",
         "name": "cluster148",
         "r": [
          1116.71,
          0
         ],
         "theta": [
          "ending_balance",
          "credit_balance"
         ],
         "type": "scatterpolar"
        },
        {
         "fill": "toself",
         "name": "cluster149",
         "r": [
          540.37,
          -2752.68
         ],
         "theta": [
          "ending_balance",
          "credit_balance"
         ],
         "type": "scatterpolar"
        },
        {
         "fill": "toself",
         "name": "cluster150",
         "r": [
          247.32,
          -2752.68
         ],
         "theta": [
          "ending_balance",
          "credit_balance"
         ],
         "type": "scatterpolar"
        },
        {
         "fill": "toself",
         "name": "cluster151",
         "r": [
          14.34,
          -2080
         ],
         "theta": [
          "ending_balance",
          "credit_balance"
         ],
         "type": "scatterpolar"
        },
        {
         "fill": "toself",
         "name": "cluster152",
         "r": [
          20,
          -2080
         ],
         "theta": [
          "ending_balance",
          "credit_balance"
         ],
         "type": "scatterpolar"
        },
        {
         "fill": "toself",
         "name": "cluster153",
         "r": [
          1116.1,
          -231
         ],
         "theta": [
          "ending_balance",
          "credit_balance"
         ],
         "type": "scatterpolar"
        },
        {
         "fill": "toself",
         "name": "cluster154",
         "r": [
          106.14,
          -231
         ],
         "theta": [
          "ending_balance",
          "credit_balance"
         ],
         "type": "scatterpolar"
        },
        {
         "fill": "toself",
         "name": "cluster155",
         "r": [
          6869,
          -231
         ],
         "theta": [
          "ending_balance",
          "credit_balance"
         ],
         "type": "scatterpolar"
        },
        {
         "fill": "toself",
         "name": "cluster156",
         "r": [
          844.28,
          -2225.7799999999997
         ],
         "theta": [
          "ending_balance",
          "credit_balance"
         ],
         "type": "scatterpolar"
        },
        {
         "fill": "toself",
         "name": "cluster157",
         "r": [
          307.97,
          -2225.7799999999997
         ],
         "theta": [
          "ending_balance",
          "credit_balance"
         ],
         "type": "scatterpolar"
        },
        {
         "fill": "toself",
         "name": "cluster158",
         "r": [
          774.22,
          -2225.7799999999997
         ],
         "theta": [
          "ending_balance",
          "credit_balance"
         ],
         "type": "scatterpolar"
        },
        {
         "fill": "toself",
         "name": "cluster159",
         "r": [
          10.42,
          -988.88
         ],
         "theta": [
          "ending_balance",
          "credit_balance"
         ],
         "type": "scatterpolar"
        },
        {
         "fill": "toself",
         "name": "cluster160",
         "r": [
          11.12,
          -988.88
         ],
         "theta": [
          "ending_balance",
          "credit_balance"
         ],
         "type": "scatterpolar"
        },
        {
         "fill": "toself",
         "name": "cluster161",
         "r": [
          2229.96,
          -2708.42
         ],
         "theta": [
          "ending_balance",
          "credit_balance"
         ],
         "type": "scatterpolar"
        },
        {
         "fill": "toself",
         "name": "cluster162",
         "r": [
          291.58,
          -2708.42
         ],
         "theta": [
          "ending_balance",
          "credit_balance"
         ],
         "type": "scatterpolar"
        },
        {
         "fill": "toself",
         "name": "cluster163",
         "r": [
          10.7,
          -2990
         ],
         "theta": [
          "ending_balance",
          "credit_balance"
         ],
         "type": "scatterpolar"
        },
        {
         "fill": "toself",
         "name": "cluster164",
         "r": [
          10,
          -2990
         ],
         "theta": [
          "ending_balance",
          "credit_balance"
         ],
         "type": "scatterpolar"
        },
        {
         "fill": "toself",
         "name": "cluster165",
         "r": [
          337.82,
          -2990
         ],
         "theta": [
          "ending_balance",
          "credit_balance"
         ],
         "type": "scatterpolar"
        },
        {
         "fill": "toself",
         "name": "cluster166",
         "r": [
          185.4,
          0
         ],
         "theta": [
          "ending_balance",
          "credit_balance"
         ],
         "type": "scatterpolar"
        },
        {
         "fill": "toself",
         "name": "cluster167",
         "r": [
          1600,
          0
         ],
         "theta": [
          "ending_balance",
          "credit_balance"
         ],
         "type": "scatterpolar"
        },
        {
         "fill": "toself",
         "name": "cluster168",
         "r": [
          1661.44,
          -3038.56
         ],
         "theta": [
          "ending_balance",
          "credit_balance"
         ],
         "type": "scatterpolar"
        },
        {
         "fill": "toself",
         "name": "cluster169",
         "r": [
          2735.3,
          -3038.56
         ],
         "theta": [
          "ending_balance",
          "credit_balance"
         ],
         "type": "scatterpolar"
        },
        {
         "fill": "toself",
         "name": "cluster170",
         "r": [
          626.79,
          -3038.56
         ],
         "theta": [
          "ending_balance",
          "credit_balance"
         ],
         "type": "scatterpolar"
        },
        {
         "fill": "toself",
         "name": "cluster171",
         "r": [
          4494.03,
          -892.6
         ],
         "theta": [
          "ending_balance",
          "credit_balance"
         ],
         "type": "scatterpolar"
        },
        {
         "fill": "toself",
         "name": "cluster172",
         "r": [
          107.4,
          -892.6
         ],
         "theta": [
          "ending_balance",
          "credit_balance"
         ],
         "type": "scatterpolar"
        },
        {
         "fill": "toself",
         "name": "cluster173",
         "r": [
          315.88,
          -892.6
         ],
         "theta": [
          "ending_balance",
          "credit_balance"
         ],
         "type": "scatterpolar"
        },
        {
         "fill": "toself",
         "name": "cluster174",
         "r": [
          851.45,
          -93.46000000000004
         ],
         "theta": [
          "ending_balance",
          "credit_balance"
         ],
         "type": "scatterpolar"
        },
        {
         "fill": "toself",
         "name": "cluster175",
         "r": [
          906.54,
          -93.46000000000004
         ],
         "theta": [
          "ending_balance",
          "credit_balance"
         ],
         "type": "scatterpolar"
        },
        {
         "fill": "toself",
         "name": "cluster176",
         "r": [
          2950.23,
          -93.46000000000004
         ],
         "theta": [
          "ending_balance",
          "credit_balance"
         ],
         "type": "scatterpolar"
        },
        {
         "fill": "toself",
         "name": "cluster177",
         "r": [
          455.67,
          -3517.85
         ],
         "theta": [
          "ending_balance",
          "credit_balance"
         ],
         "type": "scatterpolar"
        },
        {
         "fill": "toself",
         "name": "cluster178",
         "r": [
          82.15,
          -3517.85
         ],
         "theta": [
          "ending_balance",
          "credit_balance"
         ],
         "type": "scatterpolar"
        },
        {
         "fill": "toself",
         "name": "cluster179",
         "r": [
          44.79,
          0
         ],
         "theta": [
          "ending_balance",
          "credit_balance"
         ],
         "type": "scatterpolar"
        },
        {
         "fill": "toself",
         "name": "cluster180",
         "r": [
          72.09,
          0
         ],
         "theta": [
          "ending_balance",
          "credit_balance"
         ],
         "type": "scatterpolar"
        },
        {
         "fill": "toself",
         "name": "cluster181",
         "r": [
          1200,
          0
         ],
         "theta": [
          "ending_balance",
          "credit_balance"
         ],
         "type": "scatterpolar"
        },
        {
         "fill": "toself",
         "name": "cluster182",
         "r": [
          3157.9,
          -1242.1
         ],
         "theta": [
          "ending_balance",
          "credit_balance"
         ],
         "type": "scatterpolar"
        },
        {
         "fill": "toself",
         "name": "cluster183",
         "r": [
          763.8,
          -1242.1
         ],
         "theta": [
          "ending_balance",
          "credit_balance"
         ],
         "type": "scatterpolar"
        },
        {
         "fill": "toself",
         "name": "cluster184",
         "r": [
          494.84,
          -2440.43
         ],
         "theta": [
          "ending_balance",
          "credit_balance"
         ],
         "type": "scatterpolar"
        },
        {
         "fill": "toself",
         "name": "cluster185",
         "r": [
          1860.19,
          -2440.43
         ],
         "theta": [
          "ending_balance",
          "credit_balance"
         ],
         "type": "scatterpolar"
        },
        {
         "fill": "toself",
         "name": "cluster186",
         "r": [
          559.57,
          -2440.43
         ],
         "theta": [
          "ending_balance",
          "credit_balance"
         ],
         "type": "scatterpolar"
        },
        {
         "fill": "toself",
         "name": "cluster187",
         "r": [
          1295.93,
          -1119.54
         ],
         "theta": [
          "ending_balance",
          "credit_balance"
         ],
         "type": "scatterpolar"
        },
        {
         "fill": "toself",
         "name": "cluster188",
         "r": [
          1880.46,
          -1119.54
         ],
         "theta": [
          "ending_balance",
          "credit_balance"
         ],
         "type": "scatterpolar"
        },
        {
         "fill": "toself",
         "name": "cluster189",
         "r": [
          1194.36,
          -1119.54
         ],
         "theta": [
          "ending_balance",
          "credit_balance"
         ],
         "type": "scatterpolar"
        },
        {
         "fill": "toself",
         "name": "cluster190",
         "r": [
          180.08,
          0
         ],
         "theta": [
          "ending_balance",
          "credit_balance"
         ],
         "type": "scatterpolar"
        },
        {
         "fill": "toself",
         "name": "cluster191",
         "r": [
          1094.41,
          0
         ],
         "theta": [
          "ending_balance",
          "credit_balance"
         ],
         "type": "scatterpolar"
        },
        {
         "fill": "toself",
         "name": "cluster192",
         "r": [
          1800,
          0
         ],
         "theta": [
          "ending_balance",
          "credit_balance"
         ],
         "type": "scatterpolar"
        },
        {
         "fill": "toself",
         "name": "cluster193",
         "r": [
          947.81,
          -352.19000000000005
         ],
         "theta": [
          "ending_balance",
          "credit_balance"
         ],
         "type": "scatterpolar"
        },
        {
         "fill": "toself",
         "name": "cluster194",
         "r": [
          7144.39,
          -352.19000000000005
         ],
         "theta": [
          "ending_balance",
          "credit_balance"
         ],
         "type": "scatterpolar"
        },
        {
         "fill": "toself",
         "name": "cluster195",
         "r": [
          107.33,
          -352.19000000000005
         ],
         "theta": [
          "ending_balance",
          "credit_balance"
         ],
         "type": "scatterpolar"
        },
        {
         "fill": "toself",
         "name": "cluster196",
         "r": [
          1000,
          -4000
         ],
         "theta": [
          "ending_balance",
          "credit_balance"
         ],
         "type": "scatterpolar"
        },
        {
         "fill": "toself",
         "name": "cluster197",
         "r": [
          157.76,
          -4000
         ],
         "theta": [
          "ending_balance",
          "credit_balance"
         ],
         "type": "scatterpolar"
        },
        {
         "fill": "toself",
         "name": "cluster198",
         "r": [
          35.8,
          -2990
         ],
         "theta": [
          "ending_balance",
          "credit_balance"
         ],
         "type": "scatterpolar"
        },
        {
         "fill": "toself",
         "name": "cluster199",
         "r": [
          10,
          -2990
         ],
         "theta": [
          "ending_balance",
          "credit_balance"
         ],
         "type": "scatterpolar"
        },
        {
         "fill": "toself",
         "name": "cluster200",
         "r": [
          140.01,
          -4617.64
         ],
         "theta": [
          "ending_balance",
          "credit_balance"
         ],
         "type": "scatterpolar"
        },
        {
         "fill": "toself",
         "name": "cluster201",
         "r": [
          1982.36,
          -4617.64
         ],
         "theta": [
          "ending_balance",
          "credit_balance"
         ],
         "type": "scatterpolar"
        },
        {
         "fill": "toself",
         "name": "cluster202",
         "r": [
          1145.74,
          -4617.64
         ],
         "theta": [
          "ending_balance",
          "credit_balance"
         ],
         "type": "scatterpolar"
        },
        {
         "fill": "toself",
         "name": "cluster203",
         "r": [
          1.8,
          -3252.8
         ],
         "theta": [
          "ending_balance",
          "credit_balance"
         ],
         "type": "scatterpolar"
        },
        {
         "fill": "toself",
         "name": "cluster204",
         "r": [
          47.2,
          -3252.8
         ],
         "theta": [
          "ending_balance",
          "credit_balance"
         ],
         "type": "scatterpolar"
        },
        {
         "fill": "toself",
         "name": "cluster205",
         "r": [
          896.45,
          0
         ],
         "theta": [
          "ending_balance",
          "credit_balance"
         ],
         "type": "scatterpolar"
        },
        {
         "fill": "toself",
         "name": "cluster206",
         "r": [
          0,
          0
         ],
         "theta": [
          "ending_balance",
          "credit_balance"
         ],
         "type": "scatterpolar"
        },
        {
         "fill": "toself",
         "name": "cluster207",
         "r": [
          1000,
          0
         ],
         "theta": [
          "ending_balance",
          "credit_balance"
         ],
         "type": "scatterpolar"
        },
        {
         "fill": "toself",
         "name": "cluster208",
         "r": [
          516.78,
          -491.9000000000001
         ],
         "theta": [
          "ending_balance",
          "credit_balance"
         ],
         "type": "scatterpolar"
        },
        {
         "fill": "toself",
         "name": "cluster209",
         "r": [
          1208.1,
          -491.9000000000001
         ],
         "theta": [
          "ending_balance",
          "credit_balance"
         ],
         "type": "scatterpolar"
        },
        {
         "fill": "toself",
         "name": "cluster210",
         "r": [
          1735.39,
          -491.9000000000001
         ],
         "theta": [
          "ending_balance",
          "credit_balance"
         ],
         "type": "scatterpolar"
        },
        {
         "fill": "toself",
         "name": "cluster211",
         "r": [
          194.38,
          -518.03
         ],
         "theta": [
          "ending_balance",
          "credit_balance"
         ],
         "type": "scatterpolar"
        },
        {
         "fill": "toself",
         "name": "cluster212",
         "r": [
          481.97,
          -518.03
         ],
         "theta": [
          "ending_balance",
          "credit_balance"
         ],
         "type": "scatterpolar"
        },
        {
         "fill": "toself",
         "name": "cluster213",
         "r": [
          1111.42,
          -518.03
         ],
         "theta": [
          "ending_balance",
          "credit_balance"
         ],
         "type": "scatterpolar"
        },
        {
         "fill": "toself",
         "name": "cluster214",
         "r": [
          105.54,
          0
         ],
         "theta": [
          "ending_balance",
          "credit_balance"
         ],
         "type": "scatterpolar"
        },
        {
         "fill": "toself",
         "name": "cluster215",
         "r": [
          1015.46,
          0
         ],
         "theta": [
          "ending_balance",
          "credit_balance"
         ],
         "type": "scatterpolar"
        },
        {
         "fill": "toself",
         "name": "cluster216",
         "r": [
          1000,
          0
         ],
         "theta": [
          "ending_balance",
          "credit_balance"
         ],
         "type": "scatterpolar"
        },
        {
         "fill": "toself",
         "name": "cluster217",
         "r": [
          1000,
          0
         ],
         "theta": [
          "ending_balance",
          "credit_balance"
         ],
         "type": "scatterpolar"
        },
        {
         "fill": "toself",
         "name": "cluster218",
         "r": [
          17.68,
          0
         ],
         "theta": [
          "ending_balance",
          "credit_balance"
         ],
         "type": "scatterpolar"
        },
        {
         "fill": "toself",
         "name": "cluster219",
         "r": [
          1800,
          0
         ],
         "theta": [
          "ending_balance",
          "credit_balance"
         ],
         "type": "scatterpolar"
        },
        {
         "fill": "toself",
         "name": "cluster220",
         "r": [
          1649.8,
          -147.29999999999995
         ],
         "theta": [
          "ending_balance",
          "credit_balance"
         ],
         "type": "scatterpolar"
        },
        {
         "fill": "toself",
         "name": "cluster221",
         "r": [
          18.37,
          -147.29999999999995
         ],
         "theta": [
          "ending_balance",
          "credit_balance"
         ],
         "type": "scatterpolar"
        },
        {
         "fill": "toself",
         "name": "cluster222",
         "r": [
          1352.7,
          -147.29999999999995
         ],
         "theta": [
          "ending_balance",
          "credit_balance"
         ],
         "type": "scatterpolar"
        },
        {
         "fill": "toself",
         "name": "cluster223",
         "r": [
          1112.8,
          -787.2
         ],
         "theta": [
          "ending_balance",
          "credit_balance"
         ],
         "type": "scatterpolar"
        },
        {
         "fill": "toself",
         "name": "cluster224",
         "r": [
          297.36,
          -787.2
         ],
         "theta": [
          "ending_balance",
          "credit_balance"
         ],
         "type": "scatterpolar"
        },
        {
         "fill": "toself",
         "name": "cluster225",
         "r": [
          0,
          -787.2
         ],
         "theta": [
          "ending_balance",
          "credit_balance"
         ],
         "type": "scatterpolar"
        },
        {
         "fill": "toself",
         "name": "cluster226",
         "r": [
          1000,
          0
         ],
         "theta": [
          "ending_balance",
          "credit_balance"
         ],
         "type": "scatterpolar"
        },
        {
         "fill": "toself",
         "name": "cluster227",
         "r": [
          671.09,
          0
         ],
         "theta": [
          "ending_balance",
          "credit_balance"
         ],
         "type": "scatterpolar"
        },
        {
         "fill": "toself",
         "name": "cluster228",
         "r": [
          346.08,
          0
         ],
         "theta": [
          "ending_balance",
          "credit_balance"
         ],
         "type": "scatterpolar"
        },
        {
         "fill": "toself",
         "name": "cluster229",
         "r": [
          731.2,
          -2268.8
         ],
         "theta": [
          "ending_balance",
          "credit_balance"
         ],
         "type": "scatterpolar"
        },
        {
         "fill": "toself",
         "name": "cluster230",
         "r": [
          862.43,
          -2268.8
         ],
         "theta": [
          "ending_balance",
          "credit_balance"
         ],
         "type": "scatterpolar"
        },
        {
         "fill": "toself",
         "name": "cluster231",
         "r": [
          211.68,
          -2268.8
         ],
         "theta": [
          "ending_balance",
          "credit_balance"
         ],
         "type": "scatterpolar"
        },
        {
         "fill": "toself",
         "name": "cluster232",
         "r": [
          14.76,
          -700
         ],
         "theta": [
          "ending_balance",
          "credit_balance"
         ],
         "type": "scatterpolar"
        },
        {
         "fill": "toself",
         "name": "cluster233",
         "r": [
          300,
          -700
         ],
         "theta": [
          "ending_balance",
          "credit_balance"
         ],
         "type": "scatterpolar"
        },
        {
         "fill": "toself",
         "name": "cluster234",
         "r": [
          232.15,
          -700
         ],
         "theta": [
          "ending_balance",
          "credit_balance"
         ],
         "type": "scatterpolar"
        },
        {
         "fill": "toself",
         "name": "cluster235",
         "r": [
          1100,
          0
         ],
         "theta": [
          "ending_balance",
          "credit_balance"
         ],
         "type": "scatterpolar"
        },
        {
         "fill": "toself",
         "name": "cluster236",
         "r": [
          45.49,
          0
         ],
         "theta": [
          "ending_balance",
          "credit_balance"
         ],
         "type": "scatterpolar"
        },
        {
         "fill": "toself",
         "name": "cluster237",
         "r": [
          2300,
          0
         ],
         "theta": [
          "ending_balance",
          "credit_balance"
         ],
         "type": "scatterpolar"
        },
        {
         "fill": "toself",
         "name": "cluster238",
         "r": [
          335.7,
          0
         ],
         "theta": [
          "ending_balance",
          "credit_balance"
         ],
         "type": "scatterpolar"
        },
        {
         "fill": "toself",
         "name": "cluster239",
         "r": [
          22.94,
          0
         ],
         "theta": [
          "ending_balance",
          "credit_balance"
         ],
         "type": "scatterpolar"
        },
        {
         "fill": "toself",
         "name": "cluster240",
         "r": [
          201.9,
          -2320.31
         ],
         "theta": [
          "ending_balance",
          "credit_balance"
         ],
         "type": "scatterpolar"
        },
        {
         "fill": "toself",
         "name": "cluster241",
         "r": [
          461.88,
          -2320.31
         ],
         "theta": [
          "ending_balance",
          "credit_balance"
         ],
         "type": "scatterpolar"
        },
        {
         "fill": "toself",
         "name": "cluster242",
         "r": [
          679.69,
          -2320.31
         ],
         "theta": [
          "ending_balance",
          "credit_balance"
         ],
         "type": "scatterpolar"
        },
        {
         "fill": "toself",
         "name": "cluster243",
         "r": [
          289.72,
          -853.8900000000001
         ],
         "theta": [
          "ending_balance",
          "credit_balance"
         ],
         "type": "scatterpolar"
        },
        {
         "fill": "toself",
         "name": "cluster244",
         "r": [
          1046.11,
          -853.8900000000001
         ],
         "theta": [
          "ending_balance",
          "credit_balance"
         ],
         "type": "scatterpolar"
        },
        {
         "fill": "toself",
         "name": "cluster245",
         "r": [
          805.19,
          -1066.88
         ],
         "theta": [
          "ending_balance",
          "credit_balance"
         ],
         "type": "scatterpolar"
        },
        {
         "fill": "toself",
         "name": "cluster246",
         "r": [
          133.12,
          -1066.88
         ],
         "theta": [
          "ending_balance",
          "credit_balance"
         ],
         "type": "scatterpolar"
        },
        {
         "fill": "toself",
         "name": "cluster247",
         "r": [
          900.52,
          -1066.88
         ],
         "theta": [
          "ending_balance",
          "credit_balance"
         ],
         "type": "scatterpolar"
        },
        {
         "fill": "toself",
         "name": "cluster248",
         "r": [
          711.81,
          -2383.88
         ],
         "theta": [
          "ending_balance",
          "credit_balance"
         ],
         "type": "scatterpolar"
        },
        {
         "fill": "toself",
         "name": "cluster249",
         "r": [
          195.31,
          -2383.88
         ],
         "theta": [
          "ending_balance",
          "credit_balance"
         ],
         "type": "scatterpolar"
        },
        {
         "fill": "toself",
         "name": "cluster250",
         "r": [
          1016.12,
          -2383.88
         ],
         "theta": [
          "ending_balance",
          "credit_balance"
         ],
         "type": "scatterpolar"
        },
        {
         "fill": "toself",
         "name": "cluster251",
         "r": [
          609.04,
          0
         ],
         "theta": [
          "ending_balance",
          "credit_balance"
         ],
         "type": "scatterpolar"
        },
        {
         "fill": "toself",
         "name": "cluster252",
         "r": [
          1000,
          0
         ],
         "theta": [
          "ending_balance",
          "credit_balance"
         ],
         "type": "scatterpolar"
        },
        {
         "fill": "toself",
         "name": "cluster253",
         "r": [
          9500,
          0
         ],
         "theta": [
          "ending_balance",
          "credit_balance"
         ],
         "type": "scatterpolar"
        },
        {
         "fill": "toself",
         "name": "cluster254",
         "r": [
          3864.77,
          0
         ],
         "theta": [
          "ending_balance",
          "credit_balance"
         ],
         "type": "scatterpolar"
        },
        {
         "fill": "toself",
         "name": "cluster255",
         "r": [
          5521.65,
          0
         ],
         "theta": [
          "ending_balance",
          "credit_balance"
         ],
         "type": "scatterpolar"
        },
        {
         "fill": "toself",
         "name": "cluster256",
         "r": [
          2019.49,
          -968.96
         ],
         "theta": [
          "ending_balance",
          "credit_balance"
         ],
         "type": "scatterpolar"
        },
        {
         "fill": "toself",
         "name": "cluster257",
         "r": [
          737.37,
          -968.96
         ],
         "theta": [
          "ending_balance",
          "credit_balance"
         ],
         "type": "scatterpolar"
        },
        {
         "fill": "toself",
         "name": "cluster258",
         "r": [
          31.04,
          -968.96
         ],
         "theta": [
          "ending_balance",
          "credit_balance"
         ],
         "type": "scatterpolar"
        },
        {
         "fill": "toself",
         "name": "cluster259",
         "r": [
          168.63,
          -2310.04
         ],
         "theta": [
          "ending_balance",
          "credit_balance"
         ],
         "type": "scatterpolar"
        },
        {
         "fill": "toself",
         "name": "cluster260",
         "r": [
          689.96,
          -2310.04
         ],
         "theta": [
          "ending_balance",
          "credit_balance"
         ],
         "type": "scatterpolar"
        },
        {
         "fill": "toself",
         "name": "cluster261",
         "r": [
          181.99,
          0
         ],
         "theta": [
          "ending_balance",
          "credit_balance"
         ],
         "type": "scatterpolar"
        },
        {
         "fill": "toself",
         "name": "cluster262",
         "r": [
          32.18,
          0
         ],
         "theta": [
          "ending_balance",
          "credit_balance"
         ],
         "type": "scatterpolar"
        },
        {
         "fill": "toself",
         "name": "cluster263",
         "r": [
          1000,
          0
         ],
         "theta": [
          "ending_balance",
          "credit_balance"
         ],
         "type": "scatterpolar"
        },
        {
         "fill": "toself",
         "name": "cluster264",
         "r": [
          2014.49,
          -671.21
         ],
         "theta": [
          "ending_balance",
          "credit_balance"
         ],
         "type": "scatterpolar"
        },
        {
         "fill": "toself",
         "name": "cluster265",
         "r": [
          328.79,
          -671.21
         ],
         "theta": [
          "ending_balance",
          "credit_balance"
         ],
         "type": "scatterpolar"
        },
        {
         "fill": "toself",
         "name": "cluster266",
         "r": [
          2180.1,
          -671.21
         ],
         "theta": [
          "ending_balance",
          "credit_balance"
         ],
         "type": "scatterpolar"
        },
        {
         "fill": "toself",
         "name": "cluster267",
         "r": [
          492.11,
          -2842.58
         ],
         "theta": [
          "ending_balance",
          "credit_balance"
         ],
         "type": "scatterpolar"
        },
        {
         "fill": "toself",
         "name": "cluster268",
         "r": [
          874.16,
          -2842.58
         ],
         "theta": [
          "ending_balance",
          "credit_balance"
         ],
         "type": "scatterpolar"
        },
        {
         "fill": "toself",
         "name": "cluster269",
         "r": [
          157.42,
          -2842.58
         ],
         "theta": [
          "ending_balance",
          "credit_balance"
         ],
         "type": "scatterpolar"
        },
        {
         "fill": "toself",
         "name": "cluster270",
         "r": [
          3000,
          0
         ],
         "theta": [
          "ending_balance",
          "credit_balance"
         ],
         "type": "scatterpolar"
        },
        {
         "fill": "toself",
         "name": "cluster271",
         "r": [
          938.43,
          -61.57000000000005
         ],
         "theta": [
          "ending_balance",
          "credit_balance"
         ],
         "type": "scatterpolar"
        },
        {
         "fill": "toself",
         "name": "cluster272",
         "r": [
          1385.03,
          -61.57000000000005
         ],
         "theta": [
          "ending_balance",
          "credit_balance"
         ],
         "type": "scatterpolar"
        },
        {
         "fill": "toself",
         "name": "cluster273",
         "r": [
          196.62,
          -643
         ],
         "theta": [
          "ending_balance",
          "credit_balance"
         ],
         "type": "scatterpolar"
        },
        {
         "fill": "toself",
         "name": "cluster274",
         "r": [
          7.47,
          -643
         ],
         "theta": [
          "ending_balance",
          "credit_balance"
         ],
         "type": "scatterpolar"
        },
        {
         "fill": "toself",
         "name": "cluster275",
         "r": [
          357,
          -643
         ],
         "theta": [
          "ending_balance",
          "credit_balance"
         ],
         "type": "scatterpolar"
        },
        {
         "fill": "toself",
         "name": "cluster276",
         "r": [
          2.74,
          0
         ],
         "theta": [
          "ending_balance",
          "credit_balance"
         ],
         "type": "scatterpolar"
        },
        {
         "fill": "toself",
         "name": "cluster277",
         "r": [
          18.54,
          0
         ],
         "theta": [
          "ending_balance",
          "credit_balance"
         ],
         "type": "scatterpolar"
        },
        {
         "fill": "toself",
         "name": "cluster278",
         "r": [
          1100,
          0
         ],
         "theta": [
          "ending_balance",
          "credit_balance"
         ],
         "type": "scatterpolar"
        },
        {
         "fill": "toself",
         "name": "cluster279",
         "r": [
          13.54,
          -2480
         ],
         "theta": [
          "ending_balance",
          "credit_balance"
         ],
         "type": "scatterpolar"
        },
        {
         "fill": "toself",
         "name": "cluster280",
         "r": [
          20,
          -2480
         ],
         "theta": [
          "ending_balance",
          "credit_balance"
         ],
         "type": "scatterpolar"
        },
        {
         "fill": "toself",
         "name": "cluster281",
         "r": [
          459.03,
          0
         ],
         "theta": [
          "ending_balance",
          "credit_balance"
         ],
         "type": "scatterpolar"
        },
        {
         "fill": "toself",
         "name": "cluster282",
         "r": [
          1800,
          0
         ],
         "theta": [
          "ending_balance",
          "credit_balance"
         ],
         "type": "scatterpolar"
        },
        {
         "fill": "toself",
         "name": "cluster283",
         "r": [
          508.26,
          0
         ],
         "theta": [
          "ending_balance",
          "credit_balance"
         ],
         "type": "scatterpolar"
        },
        {
         "fill": "toself",
         "name": "cluster284",
         "r": [
          397.19,
          -2602.81
         ],
         "theta": [
          "ending_balance",
          "credit_balance"
         ],
         "type": "scatterpolar"
        },
        {
         "fill": "toself",
         "name": "cluster285",
         "r": [
          621.41,
          0
         ],
         "theta": [
          "ending_balance",
          "credit_balance"
         ],
         "type": "scatterpolar"
        },
        {
         "fill": "toself",
         "name": "cluster286",
         "r": [
          1000,
          0
         ],
         "theta": [
          "ending_balance",
          "credit_balance"
         ],
         "type": "scatterpolar"
        },
        {
         "fill": "toself",
         "name": "cluster287",
         "r": [
          119.39,
          0
         ],
         "theta": [
          "ending_balance",
          "credit_balance"
         ],
         "type": "scatterpolar"
        },
        {
         "fill": "toself",
         "name": "cluster288",
         "r": [
          1195.54,
          -2880
         ],
         "theta": [
          "ending_balance",
          "credit_balance"
         ],
         "type": "scatterpolar"
        },
        {
         "fill": "toself",
         "name": "cluster289",
         "r": [
          20,
          -2880
         ],
         "theta": [
          "ending_balance",
          "credit_balance"
         ],
         "type": "scatterpolar"
        },
        {
         "fill": "toself",
         "name": "cluster290",
         "r": [
          1554.71,
          -653.03
         ],
         "theta": [
          "ending_balance",
          "credit_balance"
         ],
         "type": "scatterpolar"
        },
        {
         "fill": "toself",
         "name": "cluster291",
         "r": [
          112.94,
          -653.03
         ],
         "theta": [
          "ending_balance",
          "credit_balance"
         ],
         "type": "scatterpolar"
        },
        {
         "fill": "toself",
         "name": "cluster292",
         "r": [
          346.97,
          -653.03
         ],
         "theta": [
          "ending_balance",
          "credit_balance"
         ],
         "type": "scatterpolar"
        },
        {
         "fill": "toself",
         "name": "cluster293",
         "r": [
          1741.09,
          -40.72000000000003
         ],
         "theta": [
          "ending_balance",
          "credit_balance"
         ],
         "type": "scatterpolar"
        },
        {
         "fill": "toself",
         "name": "cluster294",
         "r": [
          62.94,
          -40.72000000000003
         ],
         "theta": [
          "ending_balance",
          "credit_balance"
         ],
         "type": "scatterpolar"
        },
        {
         "fill": "toself",
         "name": "cluster295",
         "r": [
          959.28,
          -40.72000000000003
         ],
         "theta": [
          "ending_balance",
          "credit_balance"
         ],
         "type": "scatterpolar"
        },
        {
         "fill": "toself",
         "name": "cluster296",
         "r": [
          278.54,
          0
         ],
         "theta": [
          "ending_balance",
          "credit_balance"
         ],
         "type": "scatterpolar"
        },
        {
         "fill": "toself",
         "name": "cluster297",
         "r": [
          1000,
          0
         ],
         "theta": [
          "ending_balance",
          "credit_balance"
         ],
         "type": "scatterpolar"
        },
        {
         "fill": "toself",
         "name": "cluster298",
         "r": [
          245.66,
          -1371.28
         ],
         "theta": [
          "ending_balance",
          "credit_balance"
         ],
         "type": "scatterpolar"
        },
        {
         "fill": "toself",
         "name": "cluster299",
         "r": [
          897.68,
          -1371.28
         ],
         "theta": [
          "ending_balance",
          "credit_balance"
         ],
         "type": "scatterpolar"
        },
        {
         "fill": "toself",
         "name": "cluster300",
         "r": [
          1628.72,
          -1371.28
         ],
         "theta": [
          "ending_balance",
          "credit_balance"
         ],
         "type": "scatterpolar"
        },
        {
         "fill": "toself",
         "name": "cluster301",
         "r": [
          898.28,
          -2265.19
         ],
         "theta": [
          "ending_balance",
          "credit_balance"
         ],
         "type": "scatterpolar"
        },
        {
         "fill": "toself",
         "name": "cluster302",
         "r": [
          734.81,
          -2265.19
         ],
         "theta": [
          "ending_balance",
          "credit_balance"
         ],
         "type": "scatterpolar"
        },
        {
         "fill": "toself",
         "name": "cluster303",
         "r": [
          2570.3,
          -2265.19
         ],
         "theta": [
          "ending_balance",
          "credit_balance"
         ],
         "type": "scatterpolar"
        },
        {
         "fill": "toself",
         "name": "cluster304",
         "r": [
          110.53,
          -2055.84
         ],
         "theta": [
          "ending_balance",
          "credit_balance"
         ],
         "type": "scatterpolar"
        },
        {
         "fill": "toself",
         "name": "cluster305",
         "r": [
          944.16,
          -2055.84
         ],
         "theta": [
          "ending_balance",
          "credit_balance"
         ],
         "type": "scatterpolar"
        },
        {
         "fill": "toself",
         "name": "cluster306",
         "r": [
          278.86,
          -2896.31
         ],
         "theta": [
          "ending_balance",
          "credit_balance"
         ],
         "type": "scatterpolar"
        },
        {
         "fill": "toself",
         "name": "cluster307",
         "r": [
          2103.69,
          -2896.31
         ],
         "theta": [
          "ending_balance",
          "credit_balance"
         ],
         "type": "scatterpolar"
        },
        {
         "fill": "toself",
         "name": "cluster308",
         "r": [
          28.91,
          -2896.31
         ],
         "theta": [
          "ending_balance",
          "credit_balance"
         ],
         "type": "scatterpolar"
        },
        {
         "fill": "toself",
         "name": "cluster309",
         "r": [
          26.6,
          0
         ],
         "theta": [
          "ending_balance",
          "credit_balance"
         ],
         "type": "scatterpolar"
        },
        {
         "fill": "toself",
         "name": "cluster310",
         "r": [
          1100,
          0
         ],
         "theta": [
          "ending_balance",
          "credit_balance"
         ],
         "type": "scatterpolar"
        },
        {
         "fill": "toself",
         "name": "cluster311",
         "r": [
          10.28,
          0
         ],
         "theta": [
          "ending_balance",
          "credit_balance"
         ],
         "type": "scatterpolar"
        },
        {
         "fill": "toself",
         "name": "cluster312",
         "r": [
          1200,
          0
         ],
         "theta": [
          "ending_balance",
          "credit_balance"
         ],
         "type": "scatterpolar"
        },
        {
         "fill": "toself",
         "name": "cluster313",
         "r": [
          1868.87,
          -1431.13
         ],
         "theta": [
          "ending_balance",
          "credit_balance"
         ],
         "type": "scatterpolar"
        },
        {
         "fill": "toself",
         "name": "cluster314",
         "r": [
          29.46,
          -1431.13
         ],
         "theta": [
          "ending_balance",
          "credit_balance"
         ],
         "type": "scatterpolar"
        },
        {
         "fill": "toself",
         "name": "cluster315",
         "r": [
          629.45,
          -920
         ],
         "theta": [
          "ending_balance",
          "credit_balance"
         ],
         "type": "scatterpolar"
        },
        {
         "fill": "toself",
         "name": "cluster316",
         "r": [
          612.35,
          -920
         ],
         "theta": [
          "ending_balance",
          "credit_balance"
         ],
         "type": "scatterpolar"
        },
        {
         "fill": "toself",
         "name": "cluster317",
         "r": [
          80,
          -920
         ],
         "theta": [
          "ending_balance",
          "credit_balance"
         ],
         "type": "scatterpolar"
        },
        {
         "fill": "toself",
         "name": "cluster318",
         "r": [
          86.31,
          0
         ],
         "theta": [
          "ending_balance",
          "credit_balance"
         ],
         "type": "scatterpolar"
        },
        {
         "fill": "toself",
         "name": "cluster319",
         "r": [
          1079.16,
          0
         ],
         "theta": [
          "ending_balance",
          "credit_balance"
         ],
         "type": "scatterpolar"
        },
        {
         "fill": "toself",
         "name": "cluster320",
         "r": [
          1000,
          0
         ],
         "theta": [
          "ending_balance",
          "credit_balance"
         ],
         "type": "scatterpolar"
        },
        {
         "fill": "toself",
         "name": "cluster321",
         "r": [
          309.49,
          -390.26
         ],
         "theta": [
          "ending_balance",
          "credit_balance"
         ],
         "type": "scatterpolar"
        },
        {
         "fill": "toself",
         "name": "cluster322",
         "r": [
          609.74,
          -390.26
         ],
         "theta": [
          "ending_balance",
          "credit_balance"
         ],
         "type": "scatterpolar"
        },
        {
         "fill": "toself",
         "name": "cluster323",
         "r": [
          0,
          -559.74
         ],
         "theta": [
          "ending_balance",
          "credit_balance"
         ],
         "type": "scatterpolar"
        },
        {
         "fill": "toself",
         "name": "cluster324",
         "r": [
          440.26,
          -559.74
         ],
         "theta": [
          "ending_balance",
          "credit_balance"
         ],
         "type": "scatterpolar"
        },
        {
         "fill": "toself",
         "name": "cluster325",
         "r": [
          61.5,
          -559.74
         ],
         "theta": [
          "ending_balance",
          "credit_balance"
         ],
         "type": "scatterpolar"
        },
        {
         "fill": "toself",
         "name": "cluster326",
         "r": [
          1300,
          0
         ],
         "theta": [
          "ending_balance",
          "credit_balance"
         ],
         "type": "scatterpolar"
        },
        {
         "fill": "toself",
         "name": "cluster327",
         "r": [
          96.25,
          0
         ],
         "theta": [
          "ending_balance",
          "credit_balance"
         ],
         "type": "scatterpolar"
        },
        {
         "fill": "toself",
         "name": "cluster328",
         "r": [
          3.96,
          -3411.46
         ],
         "theta": [
          "ending_balance",
          "credit_balance"
         ],
         "type": "scatterpolar"
        },
        {
         "fill": "toself",
         "name": "cluster329",
         "r": [
          988.54,
          -3411.46
         ],
         "theta": [
          "ending_balance",
          "credit_balance"
         ],
         "type": "scatterpolar"
        },
        {
         "fill": "toself",
         "name": "cluster330",
         "r": [
          19.72,
          0
         ],
         "theta": [
          "ending_balance",
          "credit_balance"
         ],
         "type": "scatterpolar"
        },
        {
         "fill": "toself",
         "name": "cluster331",
         "r": [
          3000,
          0
         ],
         "theta": [
          "ending_balance",
          "credit_balance"
         ],
         "type": "scatterpolar"
        },
        {
         "fill": "toself",
         "name": "cluster332",
         "r": [
          48.22,
          0
         ],
         "theta": [
          "ending_balance",
          "credit_balance"
         ],
         "type": "scatterpolar"
        },
        {
         "fill": "toself",
         "name": "cluster333",
         "r": [
          1000,
          0
         ],
         "theta": [
          "ending_balance",
          "credit_balance"
         ],
         "type": "scatterpolar"
        },
        {
         "fill": "toself",
         "name": "cluster334",
         "r": [
          0,
          -2180
         ],
         "theta": [
          "ending_balance",
          "credit_balance"
         ],
         "type": "scatterpolar"
        },
        {
         "fill": "toself",
         "name": "cluster335",
         "r": [
          20,
          -2180
         ],
         "theta": [
          "ending_balance",
          "credit_balance"
         ],
         "type": "scatterpolar"
        },
        {
         "fill": "toself",
         "name": "cluster336",
         "r": [
          1654.74,
          -2180
         ],
         "theta": [
          "ending_balance",
          "credit_balance"
         ],
         "type": "scatterpolar"
        },
        {
         "fill": "toself",
         "name": "cluster337",
         "r": [
          1698.93,
          -2248.7200000000003
         ],
         "theta": [
          "ending_balance",
          "credit_balance"
         ],
         "type": "scatterpolar"
        },
        {
         "fill": "toself",
         "name": "cluster338",
         "r": [
          751.28,
          -2248.7200000000003
         ],
         "theta": [
          "ending_balance",
          "credit_balance"
         ],
         "type": "scatterpolar"
        },
        {
         "fill": "toself",
         "name": "cluster339",
         "r": [
          3420.03,
          -2716.38
         ],
         "theta": [
          "ending_balance",
          "credit_balance"
         ],
         "type": "scatterpolar"
        },
        {
         "fill": "toself",
         "name": "cluster340",
         "r": [
          32.8,
          -2716.38
         ],
         "theta": [
          "ending_balance",
          "credit_balance"
         ],
         "type": "scatterpolar"
        },
        {
         "fill": "toself",
         "name": "cluster341",
         "r": [
          3783.62,
          -2716.38
         ],
         "theta": [
          "ending_balance",
          "credit_balance"
         ],
         "type": "scatterpolar"
        },
        {
         "fill": "toself",
         "name": "cluster342",
         "r": [
          163.22,
          -2837.05
         ],
         "theta": [
          "ending_balance",
          "credit_balance"
         ],
         "type": "scatterpolar"
        },
        {
         "fill": "toself",
         "name": "cluster343",
         "r": [
          162.95,
          -2837.05
         ],
         "theta": [
          "ending_balance",
          "credit_balance"
         ],
         "type": "scatterpolar"
        },
        {
         "fill": "toself",
         "name": "cluster344",
         "r": [
          1545.22,
          -2837.05
         ],
         "theta": [
          "ending_balance",
          "credit_balance"
         ],
         "type": "scatterpolar"
        },
        {
         "fill": "toself",
         "name": "cluster345",
         "r": [
          1087.54,
          -2459.91
         ],
         "theta": [
          "ending_balance",
          "credit_balance"
         ],
         "type": "scatterpolar"
        },
        {
         "fill": "toself",
         "name": "cluster346",
         "r": [
          540.09,
          -2459.91
         ],
         "theta": [
          "ending_balance",
          "credit_balance"
         ],
         "type": "scatterpolar"
        },
        {
         "fill": "toself",
         "name": "cluster347",
         "r": [
          269.93,
          -2459.91
         ],
         "theta": [
          "ending_balance",
          "credit_balance"
         ],
         "type": "scatterpolar"
        },
        {
         "fill": "toself",
         "name": "cluster348",
         "r": [
          77.44,
          -1856.19
         ],
         "theta": [
          "ending_balance",
          "credit_balance"
         ],
         "type": "scatterpolar"
        },
        {
         "fill": "toself",
         "name": "cluster349",
         "r": [
          1343.81,
          -1856.19
         ],
         "theta": [
          "ending_balance",
          "credit_balance"
         ],
         "type": "scatterpolar"
        },
        {
         "fill": "toself",
         "name": "cluster350",
         "r": [
          369.81,
          -1856.19
         ],
         "theta": [
          "ending_balance",
          "credit_balance"
         ],
         "type": "scatterpolar"
        },
        {
         "fill": "toself",
         "name": "cluster351",
         "r": [
          1244.93,
          0
         ],
         "theta": [
          "ending_balance",
          "credit_balance"
         ],
         "type": "scatterpolar"
        },
        {
         "fill": "toself",
         "name": "cluster352",
         "r": [
          1800,
          0
         ],
         "theta": [
          "ending_balance",
          "credit_balance"
         ],
         "type": "scatterpolar"
        },
        {
         "fill": "toself",
         "name": "cluster353",
         "r": [
          1628.76,
          0
         ],
         "theta": [
          "ending_balance",
          "credit_balance"
         ],
         "type": "scatterpolar"
        },
        {
         "fill": "toself",
         "name": "cluster354",
         "r": [
          2.5,
          -503.37
         ],
         "theta": [
          "ending_balance",
          "credit_balance"
         ],
         "type": "scatterpolar"
        },
        {
         "fill": "toself",
         "name": "cluster355",
         "r": [
          596.63,
          -503.37
         ],
         "theta": [
          "ending_balance",
          "credit_balance"
         ],
         "type": "scatterpolar"
        },
        {
         "fill": "toself",
         "name": "cluster356",
         "r": [
          160.66,
          -503.37
         ],
         "theta": [
          "ending_balance",
          "credit_balance"
         ],
         "type": "scatterpolar"
        },
        {
         "fill": "toself",
         "name": "cluster357",
         "r": [
          244.85,
          -119.09999999999991
         ],
         "theta": [
          "ending_balance",
          "credit_balance"
         ],
         "type": "scatterpolar"
        },
        {
         "fill": "toself",
         "name": "cluster358",
         "r": [
          1393.38,
          -119.09999999999991
         ],
         "theta": [
          "ending_balance",
          "credit_balance"
         ],
         "type": "scatterpolar"
        },
        {
         "fill": "toself",
         "name": "cluster359",
         "r": [
          1980.9,
          -119.09999999999991
         ],
         "theta": [
          "ending_balance",
          "credit_balance"
         ],
         "type": "scatterpolar"
        },
        {
         "fill": "toself",
         "name": "cluster360",
         "r": [
          20.65,
          0
         ],
         "theta": [
          "ending_balance",
          "credit_balance"
         ],
         "type": "scatterpolar"
        },
        {
         "fill": "toself",
         "name": "cluster361",
         "r": [
          4200,
          0
         ],
         "theta": [
          "ending_balance",
          "credit_balance"
         ],
         "type": "scatterpolar"
        },
        {
         "fill": "toself",
         "name": "cluster362",
         "r": [
          1535.83,
          0
         ],
         "theta": [
          "ending_balance",
          "credit_balance"
         ],
         "type": "scatterpolar"
        },
        {
         "fill": "toself",
         "name": "cluster363",
         "r": [
          439.42,
          -2780
         ],
         "theta": [
          "ending_balance",
          "credit_balance"
         ],
         "type": "scatterpolar"
        },
        {
         "fill": "toself",
         "name": "cluster364",
         "r": [
          20,
          -2780
         ],
         "theta": [
          "ending_balance",
          "credit_balance"
         ],
         "type": "scatterpolar"
        },
        {
         "fill": "toself",
         "name": "cluster365",
         "r": [
          1080.81,
          -878.33
         ],
         "theta": [
          "ending_balance",
          "credit_balance"
         ],
         "type": "scatterpolar"
        },
        {
         "fill": "toself",
         "name": "cluster366",
         "r": [
          121.67,
          -878.33
         ],
         "theta": [
          "ending_balance",
          "credit_balance"
         ],
         "type": "scatterpolar"
        },
        {
         "fill": "toself",
         "name": "cluster367",
         "r": [
          1917.72,
          -878.33
         ],
         "theta": [
          "ending_balance",
          "credit_balance"
         ],
         "type": "scatterpolar"
        },
        {
         "fill": "toself",
         "name": "cluster368",
         "r": [
          3.98,
          -584.31
         ],
         "theta": [
          "ending_balance",
          "credit_balance"
         ],
         "type": "scatterpolar"
        },
        {
         "fill": "toself",
         "name": "cluster369",
         "r": [
          515.69,
          -584.31
         ],
         "theta": [
          "ending_balance",
          "credit_balance"
         ],
         "type": "scatterpolar"
        },
        {
         "fill": "toself",
         "name": "cluster370",
         "r": [
          1028.01,
          0
         ],
         "theta": [
          "ending_balance",
          "credit_balance"
         ],
         "type": "scatterpolar"
        },
        {
         "fill": "toself",
         "name": "cluster371",
         "r": [
          1400,
          0
         ],
         "theta": [
          "ending_balance",
          "credit_balance"
         ],
         "type": "scatterpolar"
        },
        {
         "fill": "toself",
         "name": "cluster372",
         "r": [
          449.66,
          0
         ],
         "theta": [
          "ending_balance",
          "credit_balance"
         ],
         "type": "scatterpolar"
        },
        {
         "fill": "toself",
         "name": "cluster373",
         "r": [
          1174.11,
          0
         ],
         "theta": [
          "ending_balance",
          "credit_balance"
         ],
         "type": "scatterpolar"
        },
        {
         "fill": "toself",
         "name": "cluster374",
         "r": [
          3000,
          0
         ],
         "theta": [
          "ending_balance",
          "credit_balance"
         ],
         "type": "scatterpolar"
        },
        {
         "fill": "toself",
         "name": "cluster375",
         "r": [
          65.64,
          -193.05999999999995
         ],
         "theta": [
          "ending_balance",
          "credit_balance"
         ],
         "type": "scatterpolar"
        },
        {
         "fill": "toself",
         "name": "cluster376",
         "r": [
          806.94,
          -193.05999999999995
         ],
         "theta": [
          "ending_balance",
          "credit_balance"
         ],
         "type": "scatterpolar"
        },
        {
         "fill": "toself",
         "name": "cluster377",
         "r": [
          0,
          -2918.32
         ],
         "theta": [
          "ending_balance",
          "credit_balance"
         ],
         "type": "scatterpolar"
        },
        {
         "fill": "toself",
         "name": "cluster378",
         "r": [
          81.68,
          -2918.32
         ],
         "theta": [
          "ending_balance",
          "credit_balance"
         ],
         "type": "scatterpolar"
        },
        {
         "fill": "toself",
         "name": "cluster379",
         "r": [
          2421.03,
          0
         ],
         "theta": [
          "ending_balance",
          "credit_balance"
         ],
         "type": "scatterpolar"
        },
        {
         "fill": "toself",
         "name": "cluster380",
         "r": [
          3000,
          0
         ],
         "theta": [
          "ending_balance",
          "credit_balance"
         ],
         "type": "scatterpolar"
        },
        {
         "fill": "toself",
         "name": "cluster381",
         "r": [
          2034.99,
          0
         ],
         "theta": [
          "ending_balance",
          "credit_balance"
         ],
         "type": "scatterpolar"
        },
        {
         "fill": "toself",
         "name": "cluster382",
         "r": [
          87.69,
          0
         ],
         "theta": [
          "ending_balance",
          "credit_balance"
         ],
         "type": "scatterpolar"
        },
        {
         "fill": "toself",
         "name": "cluster383",
         "r": [
          1000,
          0
         ],
         "theta": [
          "ending_balance",
          "credit_balance"
         ],
         "type": "scatterpolar"
        },
        {
         "fill": "toself",
         "name": "cluster384",
         "r": [
          241.59,
          0
         ],
         "theta": [
          "ending_balance",
          "credit_balance"
         ],
         "type": "scatterpolar"
        },
        {
         "fill": "toself",
         "name": "cluster385",
         "r": [
          312.13,
          0
         ],
         "theta": [
          "ending_balance",
          "credit_balance"
         ],
         "type": "scatterpolar"
        },
        {
         "fill": "toself",
         "name": "cluster386",
         "r": [
          1200,
          0
         ],
         "theta": [
          "ending_balance",
          "credit_balance"
         ],
         "type": "scatterpolar"
        },
        {
         "fill": "toself",
         "name": "cluster387",
         "r": [
          258.05,
          0
         ],
         "theta": [
          "ending_balance",
          "credit_balance"
         ],
         "type": "scatterpolar"
        },
        {
         "fill": "toself",
         "name": "cluster388",
         "r": [
          19.1,
          0
         ],
         "theta": [
          "ending_balance",
          "credit_balance"
         ],
         "type": "scatterpolar"
        },
        {
         "fill": "toself",
         "name": "cluster389",
         "r": [
          3000,
          0
         ],
         "theta": [
          "ending_balance",
          "credit_balance"
         ],
         "type": "scatterpolar"
        },
        {
         "fill": "toself",
         "name": "cluster390",
         "r": [
          138.38,
          0
         ],
         "theta": [
          "ending_balance",
          "credit_balance"
         ],
         "type": "scatterpolar"
        },
        {
         "fill": "toself",
         "name": "cluster391",
         "r": [
          1400,
          0
         ],
         "theta": [
          "ending_balance",
          "credit_balance"
         ],
         "type": "scatterpolar"
        },
        {
         "fill": "toself",
         "name": "cluster392",
         "r": [
          382.8,
          0
         ],
         "theta": [
          "ending_balance",
          "credit_balance"
         ],
         "type": "scatterpolar"
        },
        {
         "fill": "toself",
         "name": "cluster393",
         "r": [
          1248.05,
          -2872.91
         ],
         "theta": [
          "ending_balance",
          "credit_balance"
         ],
         "type": "scatterpolar"
        },
        {
         "fill": "toself",
         "name": "cluster394",
         "r": [
          127.09,
          -2872.91
         ],
         "theta": [
          "ending_balance",
          "credit_balance"
         ],
         "type": "scatterpolar"
        },
        {
         "fill": "toself",
         "name": "cluster395",
         "r": [
          251.39,
          -2872.91
         ],
         "theta": [
          "ending_balance",
          "credit_balance"
         ],
         "type": "scatterpolar"
        },
        {
         "fill": "toself",
         "name": "cluster396",
         "r": [
          333.11,
          -2880
         ],
         "theta": [
          "ending_balance",
          "credit_balance"
         ],
         "type": "scatterpolar"
        },
        {
         "fill": "toself",
         "name": "cluster397",
         "r": [
          20,
          -2880
         ],
         "theta": [
          "ending_balance",
          "credit_balance"
         ],
         "type": "scatterpolar"
        },
        {
         "fill": "toself",
         "name": "cluster398",
         "r": [
          4645.09,
          -6610.55
         ],
         "theta": [
          "ending_balance",
          "credit_balance"
         ],
         "type": "scatterpolar"
        },
        {
         "fill": "toself",
         "name": "cluster399",
         "r": [
          2089.45,
          -6610.55
         ],
         "theta": [
          "ending_balance",
          "credit_balance"
         ],
         "type": "scatterpolar"
        },
        {
         "fill": "toself",
         "name": "cluster400",
         "r": [
          2689.95,
          -6610.55
         ],
         "theta": [
          "ending_balance",
          "credit_balance"
         ],
         "type": "scatterpolar"
        },
        {
         "fill": "toself",
         "name": "cluster401",
         "r": [
          8.21,
          -1000
         ],
         "theta": [
          "ending_balance",
          "credit_balance"
         ],
         "type": "scatterpolar"
        },
        {
         "fill": "toself",
         "name": "cluster402",
         "r": [
          0,
          -1000
         ],
         "theta": [
          "ending_balance",
          "credit_balance"
         ],
         "type": "scatterpolar"
        },
        {
         "fill": "toself",
         "name": "cluster403",
         "r": [
          490.67,
          -1000
         ],
         "theta": [
          "ending_balance",
          "credit_balance"
         ],
         "type": "scatterpolar"
        },
        {
         "fill": "toself",
         "name": "cluster404",
         "r": [
          3.39,
          0
         ],
         "theta": [
          "ending_balance",
          "credit_balance"
         ],
         "type": "scatterpolar"
        },
        {
         "fill": "toself",
         "name": "cluster405",
         "r": [
          1000,
          0
         ],
         "theta": [
          "ending_balance",
          "credit_balance"
         ],
         "type": "scatterpolar"
        },
        {
         "fill": "toself",
         "name": "cluster406",
         "r": [
          1230.28,
          0
         ],
         "theta": [
          "ending_balance",
          "credit_balance"
         ],
         "type": "scatterpolar"
        },
        {
         "fill": "toself",
         "name": "cluster407",
         "r": [
          0,
          -1100
         ],
         "theta": [
          "ending_balance",
          "credit_balance"
         ],
         "type": "scatterpolar"
        },
        {
         "fill": "toself",
         "name": "cluster408",
         "r": [
          1790.37,
          0
         ],
         "theta": [
          "ending_balance",
          "credit_balance"
         ],
         "type": "scatterpolar"
        },
        {
         "fill": "toself",
         "name": "cluster409",
         "r": [
          5000,
          0
         ],
         "theta": [
          "ending_balance",
          "credit_balance"
         ],
         "type": "scatterpolar"
        },
        {
         "fill": "toself",
         "name": "cluster410",
         "r": [
          329.36,
          -95.90999999999997
         ],
         "theta": [
          "ending_balance",
          "credit_balance"
         ],
         "type": "scatterpolar"
        },
        {
         "fill": "toself",
         "name": "cluster411",
         "r": [
          904.09,
          -95.90999999999997
         ],
         "theta": [
          "ending_balance",
          "credit_balance"
         ],
         "type": "scatterpolar"
        },
        {
         "fill": "toself",
         "name": "cluster412",
         "r": [
          392.05,
          -4100
         ],
         "theta": [
          "ending_balance",
          "credit_balance"
         ],
         "type": "scatterpolar"
        },
        {
         "fill": "toself",
         "name": "cluster413",
         "r": [
          0,
          -4100
         ],
         "theta": [
          "ending_balance",
          "credit_balance"
         ],
         "type": "scatterpolar"
        },
        {
         "fill": "toself",
         "name": "cluster414",
         "r": [
          9132.52,
          -4100
         ],
         "theta": [
          "ending_balance",
          "credit_balance"
         ],
         "type": "scatterpolar"
        },
        {
         "fill": "toself",
         "name": "cluster415",
         "r": [
          95.32,
          -2630.2799999999997
         ],
         "theta": [
          "ending_balance",
          "credit_balance"
         ],
         "type": "scatterpolar"
        },
        {
         "fill": "toself",
         "name": "cluster416",
         "r": [
          369.72,
          -2630.2799999999997
         ],
         "theta": [
          "ending_balance",
          "credit_balance"
         ],
         "type": "scatterpolar"
        },
        {
         "fill": "toself",
         "name": "cluster417",
         "r": [
          2122.17,
          -2630.2799999999997
         ],
         "theta": [
          "ending_balance",
          "credit_balance"
         ],
         "type": "scatterpolar"
        },
        {
         "fill": "toself",
         "name": "cluster418",
         "r": [
          147.06,
          0
         ],
         "theta": [
          "ending_balance",
          "credit_balance"
         ],
         "type": "scatterpolar"
        },
        {
         "fill": "toself",
         "name": "cluster419",
         "r": [
          1000,
          0
         ],
         "theta": [
          "ending_balance",
          "credit_balance"
         ],
         "type": "scatterpolar"
        },
        {
         "fill": "toself",
         "name": "cluster420",
         "r": [
          68.86,
          0
         ],
         "theta": [
          "ending_balance",
          "credit_balance"
         ],
         "type": "scatterpolar"
        },
        {
         "fill": "toself",
         "name": "cluster421",
         "r": [
          991.56,
          -8.440000000000055
         ],
         "theta": [
          "ending_balance",
          "credit_balance"
         ],
         "type": "scatterpolar"
        },
        {
         "fill": "toself",
         "name": "cluster422",
         "r": [
          521.66,
          0
         ],
         "theta": [
          "ending_balance",
          "credit_balance"
         ],
         "type": "scatterpolar"
        },
        {
         "fill": "toself",
         "name": "cluster423",
         "r": [
          1800,
          0
         ],
         "theta": [
          "ending_balance",
          "credit_balance"
         ],
         "type": "scatterpolar"
        },
        {
         "fill": "toself",
         "name": "cluster424",
         "r": [
          629.25,
          -370.75
         ],
         "theta": [
          "ending_balance",
          "credit_balance"
         ],
         "type": "scatterpolar"
        },
        {
         "fill": "toself",
         "name": "cluster425",
         "r": [
          530.92,
          0
         ],
         "theta": [
          "ending_balance",
          "credit_balance"
         ],
         "type": "scatterpolar"
        },
        {
         "fill": "toself",
         "name": "cluster426",
         "r": [
          1100,
          0
         ],
         "theta": [
          "ending_balance",
          "credit_balance"
         ],
         "type": "scatterpolar"
        },
        {
         "fill": "toself",
         "name": "cluster427",
         "r": [
          545.76,
          0
         ],
         "theta": [
          "ending_balance",
          "credit_balance"
         ],
         "type": "scatterpolar"
        },
        {
         "fill": "toself",
         "name": "cluster428",
         "r": [
          75.11,
          -1927.83
         ],
         "theta": [
          "ending_balance",
          "credit_balance"
         ],
         "type": "scatterpolar"
        },
        {
         "fill": "toself",
         "name": "cluster429",
         "r": [
          1072.17,
          -1927.83
         ],
         "theta": [
          "ending_balance",
          "credit_balance"
         ],
         "type": "scatterpolar"
        },
        {
         "fill": "toself",
         "name": "cluster430",
         "r": [
          255.11,
          -1927.83
         ],
         "theta": [
          "ending_balance",
          "credit_balance"
         ],
         "type": "scatterpolar"
        },
        {
         "fill": "toself",
         "name": "cluster431",
         "r": [
          2683.65,
          -3547.62
         ],
         "theta": [
          "ending_balance",
          "credit_balance"
         ],
         "type": "scatterpolar"
        },
        {
         "fill": "toself",
         "name": "cluster432",
         "r": [
          1052.38,
          -3547.62
         ],
         "theta": [
          "ending_balance",
          "credit_balance"
         ],
         "type": "scatterpolar"
        },
        {
         "fill": "toself",
         "name": "cluster433",
         "r": [
          458.81,
          0
         ],
         "theta": [
          "ending_balance",
          "credit_balance"
         ],
         "type": "scatterpolar"
        },
        {
         "fill": "toself",
         "name": "cluster434",
         "r": [
          3000,
          0
         ],
         "theta": [
          "ending_balance",
          "credit_balance"
         ],
         "type": "scatterpolar"
        },
        {
         "fill": "toself",
         "name": "cluster435",
         "r": [
          339.33,
          0
         ],
         "theta": [
          "ending_balance",
          "credit_balance"
         ],
         "type": "scatterpolar"
        },
        {
         "fill": "toself",
         "name": "cluster436",
         "r": [
          4216.53,
          -7183.47
         ],
         "theta": [
          "ending_balance",
          "credit_balance"
         ],
         "type": "scatterpolar"
        },
        {
         "fill": "toself",
         "name": "cluster437",
         "r": [
          344.33,
          -2667.05
         ],
         "theta": [
          "ending_balance",
          "credit_balance"
         ],
         "type": "scatterpolar"
        },
        {
         "fill": "toself",
         "name": "cluster438",
         "r": [
          332.95,
          -2667.05
         ],
         "theta": [
          "ending_balance",
          "credit_balance"
         ],
         "type": "scatterpolar"
        },
        {
         "fill": "toself",
         "name": "cluster439",
         "r": [
          731.5,
          -2667.05
         ],
         "theta": [
          "ending_balance",
          "credit_balance"
         ],
         "type": "scatterpolar"
        },
        {
         "fill": "toself",
         "name": "cluster440",
         "r": [
          299.71,
          -1260.26
         ],
         "theta": [
          "ending_balance",
          "credit_balance"
         ],
         "type": "scatterpolar"
        },
        {
         "fill": "toself",
         "name": "cluster441",
         "r": [
          1739.74,
          -1260.26
         ],
         "theta": [
          "ending_balance",
          "credit_balance"
         ],
         "type": "scatterpolar"
        },
        {
         "fill": "toself",
         "name": "cluster442",
         "r": [
          171.9,
          -1260.26
         ],
         "theta": [
          "ending_balance",
          "credit_balance"
         ],
         "type": "scatterpolar"
        },
        {
         "fill": "toself",
         "name": "cluster443",
         "r": [
          88.34,
          -2664.58
         ],
         "theta": [
          "ending_balance",
          "credit_balance"
         ],
         "type": "scatterpolar"
        },
        {
         "fill": "toself",
         "name": "cluster444",
         "r": [
          335.42,
          -2664.58
         ],
         "theta": [
          "ending_balance",
          "credit_balance"
         ],
         "type": "scatterpolar"
        },
        {
         "fill": "toself",
         "name": "cluster445",
         "r": [
          31.19,
          0
         ],
         "theta": [
          "ending_balance",
          "credit_balance"
         ],
         "type": "scatterpolar"
        },
        {
         "fill": "toself",
         "name": "cluster446",
         "r": [
          3000,
          0
         ],
         "theta": [
          "ending_balance",
          "credit_balance"
         ],
         "type": "scatterpolar"
        },
        {
         "fill": "toself",
         "name": "cluster447",
         "r": [
          918.39,
          0
         ],
         "theta": [
          "ending_balance",
          "credit_balance"
         ],
         "type": "scatterpolar"
        },
        {
         "fill": "toself",
         "name": "cluster448",
         "r": [
          59.5,
          0
         ],
         "theta": [
          "ending_balance",
          "credit_balance"
         ],
         "type": "scatterpolar"
        },
        {
         "fill": "toself",
         "name": "cluster449",
         "r": [
          1700,
          0
         ],
         "theta": [
          "ending_balance",
          "credit_balance"
         ],
         "type": "scatterpolar"
        },
        {
         "fill": "toself",
         "name": "cluster450",
         "r": [
          12.7,
          0
         ],
         "theta": [
          "ending_balance",
          "credit_balance"
         ],
         "type": "scatterpolar"
        },
        {
         "fill": "toself",
         "name": "cluster451",
         "r": [
          1500,
          0
         ],
         "theta": [
          "ending_balance",
          "credit_balance"
         ],
         "type": "scatterpolar"
        },
        {
         "fill": "toself",
         "name": "cluster452",
         "r": [
          2438.22,
          -1097.87
         ],
         "theta": [
          "ending_balance",
          "credit_balance"
         ],
         "type": "scatterpolar"
        },
        {
         "fill": "toself",
         "name": "cluster453",
         "r": [
          202.13,
          -1097.87
         ],
         "theta": [
          "ending_balance",
          "credit_balance"
         ],
         "type": "scatterpolar"
        },
        {
         "fill": "toself",
         "name": "cluster454",
         "r": [
          1411.05,
          -1097.87
         ],
         "theta": [
          "ending_balance",
          "credit_balance"
         ],
         "type": "scatterpolar"
        },
        {
         "fill": "toself",
         "name": "cluster455",
         "r": [
          918.69,
          -2185.33
         ],
         "theta": [
          "ending_balance",
          "credit_balance"
         ],
         "type": "scatterpolar"
        },
        {
         "fill": "toself",
         "name": "cluster456",
         "r": [
          814.67,
          -2185.33
         ],
         "theta": [
          "ending_balance",
          "credit_balance"
         ],
         "type": "scatterpolar"
        },
        {
         "fill": "toself",
         "name": "cluster457",
         "r": [
          197.64,
          -2185.33
         ],
         "theta": [
          "ending_balance",
          "credit_balance"
         ],
         "type": "scatterpolar"
        },
        {
         "fill": "toself",
         "name": "cluster458",
         "r": [
          2053.9,
          -1500
         ],
         "theta": [
          "ending_balance",
          "credit_balance"
         ],
         "type": "scatterpolar"
        },
        {
         "fill": "toself",
         "name": "cluster459",
         "r": [
          0,
          -1500
         ],
         "theta": [
          "ending_balance",
          "credit_balance"
         ],
         "type": "scatterpolar"
        },
        {
         "fill": "toself",
         "name": "cluster460",
         "r": [
          553.61,
          -1500
         ],
         "theta": [
          "ending_balance",
          "credit_balance"
         ],
         "type": "scatterpolar"
        },
        {
         "fill": "toself",
         "name": "cluster461",
         "r": [
          233.06,
          -591.9200000000001
         ],
         "theta": [
          "ending_balance",
          "credit_balance"
         ],
         "type": "scatterpolar"
        },
        {
         "fill": "toself",
         "name": "cluster462",
         "r": [
          408.08,
          -591.9200000000001
         ],
         "theta": [
          "ending_balance",
          "credit_balance"
         ],
         "type": "scatterpolar"
        },
        {
         "fill": "toself",
         "name": "cluster463",
         "r": [
          1000,
          0
         ],
         "theta": [
          "ending_balance",
          "credit_balance"
         ],
         "type": "scatterpolar"
        },
        {
         "fill": "toself",
         "name": "cluster464",
         "r": [
          2270.28,
          0
         ],
         "theta": [
          "ending_balance",
          "credit_balance"
         ],
         "type": "scatterpolar"
        },
        {
         "fill": "toself",
         "name": "cluster465",
         "r": [
          1615.18,
          -4480
         ],
         "theta": [
          "ending_balance",
          "credit_balance"
         ],
         "type": "scatterpolar"
        },
        {
         "fill": "toself",
         "name": "cluster466",
         "r": [
          20,
          -4480
         ],
         "theta": [
          "ending_balance",
          "credit_balance"
         ],
         "type": "scatterpolar"
        },
        {
         "fill": "toself",
         "name": "cluster467",
         "r": [
          1387.58,
          -4480
         ],
         "theta": [
          "ending_balance",
          "credit_balance"
         ],
         "type": "scatterpolar"
        },
        {
         "fill": "toself",
         "name": "cluster468",
         "r": [
          4139.88,
          -7645.13
         ],
         "theta": [
          "ending_balance",
          "credit_balance"
         ],
         "type": "scatterpolar"
        },
        {
         "fill": "toself",
         "name": "cluster469",
         "r": [
          6454.87,
          -7645.13
         ],
         "theta": [
          "ending_balance",
          "credit_balance"
         ],
         "type": "scatterpolar"
        },
        {
         "fill": "toself",
         "name": "cluster470",
         "r": [
          3567.46,
          -982.72
         ],
         "theta": [
          "ending_balance",
          "credit_balance"
         ],
         "type": "scatterpolar"
        },
        {
         "fill": "toself",
         "name": "cluster471",
         "r": [
          917.28,
          -982.72
         ],
         "theta": [
          "ending_balance",
          "credit_balance"
         ],
         "type": "scatterpolar"
        },
        {
         "fill": "toself",
         "name": "cluster472",
         "r": [
          347.65,
          -2491.7799999999997
         ],
         "theta": [
          "ending_balance",
          "credit_balance"
         ],
         "type": "scatterpolar"
        },
        {
         "fill": "toself",
         "name": "cluster473",
         "r": [
          1808.22,
          -2491.7799999999997
         ],
         "theta": [
          "ending_balance",
          "credit_balance"
         ],
         "type": "scatterpolar"
        },
        {
         "fill": "toself",
         "name": "cluster474",
         "r": [
          1100,
          0
         ],
         "theta": [
          "ending_balance",
          "credit_balance"
         ],
         "type": "scatterpolar"
        },
        {
         "fill": "toself",
         "name": "cluster475",
         "r": [
          83.19,
          0
         ],
         "theta": [
          "ending_balance",
          "credit_balance"
         ],
         "type": "scatterpolar"
        },
        {
         "fill": "toself",
         "name": "cluster476",
         "r": [
          74.87,
          0
         ],
         "theta": [
          "ending_balance",
          "credit_balance"
         ],
         "type": "scatterpolar"
        },
        {
         "fill": "toself",
         "name": "cluster477",
         "r": [
          1000,
          0
         ],
         "theta": [
          "ending_balance",
          "credit_balance"
         ],
         "type": "scatterpolar"
        },
        {
         "fill": "toself",
         "name": "cluster478",
         "r": [
          423.81,
          -2015.41
         ],
         "theta": [
          "ending_balance",
          "credit_balance"
         ],
         "type": "scatterpolar"
        },
        {
         "fill": "toself",
         "name": "cluster479",
         "r": [
          84.59,
          -2015.41
         ],
         "theta": [
          "ending_balance",
          "credit_balance"
         ],
         "type": "scatterpolar"
        },
        {
         "fill": "toself",
         "name": "cluster480",
         "r": [
          765.22,
          -2015.41
         ],
         "theta": [
          "ending_balance",
          "credit_balance"
         ],
         "type": "scatterpolar"
        },
        {
         "fill": "toself",
         "name": "cluster481",
         "r": [
          4359.83,
          -5080
         ],
         "theta": [
          "ending_balance",
          "credit_balance"
         ],
         "type": "scatterpolar"
        },
        {
         "fill": "toself",
         "name": "cluster482",
         "r": [
          20,
          -5080
         ],
         "theta": [
          "ending_balance",
          "credit_balance"
         ],
         "type": "scatterpolar"
        },
        {
         "fill": "toself",
         "name": "cluster483",
         "r": [
          22432.78,
          -5080
         ],
         "theta": [
          "ending_balance",
          "credit_balance"
         ],
         "type": "scatterpolar"
        },
        {
         "fill": "toself",
         "name": "cluster484",
         "r": [
          3517.12,
          -6800
         ],
         "theta": [
          "ending_balance",
          "credit_balance"
         ],
         "type": "scatterpolar"
        },
        {
         "fill": "toself",
         "name": "cluster485",
         "r": [
          0,
          -6800
         ],
         "theta": [
          "ending_balance",
          "credit_balance"
         ],
         "type": "scatterpolar"
        },
        {
         "fill": "toself",
         "name": "cluster486",
         "r": [
          238.62,
          -6800
         ],
         "theta": [
          "ending_balance",
          "credit_balance"
         ],
         "type": "scatterpolar"
        },
        {
         "fill": "toself",
         "name": "cluster487",
         "r": [
          1023.15,
          -411.43000000000006
         ],
         "theta": [
          "ending_balance",
          "credit_balance"
         ],
         "type": "scatterpolar"
        },
        {
         "fill": "toself",
         "name": "cluster488",
         "r": [
          1188.57,
          -411.43000000000006
         ],
         "theta": [
          "ending_balance",
          "credit_balance"
         ],
         "type": "scatterpolar"
        },
        {
         "fill": "toself",
         "name": "cluster489",
         "r": [
          4023.58,
          -2500
         ],
         "theta": [
          "ending_balance",
          "credit_balance"
         ],
         "type": "scatterpolar"
        },
        {
         "fill": "toself",
         "name": "cluster490",
         "r": [
          0,
          -2500
         ],
         "theta": [
          "ending_balance",
          "credit_balance"
         ],
         "type": "scatterpolar"
        },
        {
         "fill": "toself",
         "name": "cluster491",
         "r": [
          2290.23,
          0
         ],
         "theta": [
          "ending_balance",
          "credit_balance"
         ],
         "type": "scatterpolar"
        },
        {
         "fill": "toself",
         "name": "cluster492",
         "r": [
          2200,
          0
         ],
         "theta": [
          "ending_balance",
          "credit_balance"
         ],
         "type": "scatterpolar"
        },
        {
         "fill": "toself",
         "name": "cluster493",
         "r": [
          47.34,
          -8360.369999999999
         ],
         "theta": [
          "ending_balance",
          "credit_balance"
         ],
         "type": "scatterpolar"
        },
        {
         "fill": "toself",
         "name": "cluster494",
         "r": [
          1939.63,
          -8360.369999999999
         ],
         "theta": [
          "ending_balance",
          "credit_balance"
         ],
         "type": "scatterpolar"
        },
        {
         "fill": "toself",
         "name": "cluster495",
         "r": [
          16095.5,
          -8360.369999999999
         ],
         "theta": [
          "ending_balance",
          "credit_balance"
         ],
         "type": "scatterpolar"
        },
        {
         "fill": "toself",
         "name": "cluster496",
         "r": [
          68.22,
          0
         ],
         "theta": [
          "ending_balance",
          "credit_balance"
         ],
         "type": "scatterpolar"
        },
        {
         "fill": "toself",
         "name": "cluster497",
         "r": [
          1000,
          0
         ],
         "theta": [
          "ending_balance",
          "credit_balance"
         ],
         "type": "scatterpolar"
        },
        {
         "fill": "toself",
         "name": "cluster498",
         "r": [
          876.19,
          -1820.05
         ],
         "theta": [
          "ending_balance",
          "credit_balance"
         ],
         "type": "scatterpolar"
        },
        {
         "fill": "toself",
         "name": "cluster499",
         "r": [
          1179.95,
          -1820.05
         ],
         "theta": [
          "ending_balance",
          "credit_balance"
         ],
         "type": "scatterpolar"
        },
        {
         "fill": "toself",
         "name": "cluster500",
         "r": [
          678.94,
          -1820.05
         ],
         "theta": [
          "ending_balance",
          "credit_balance"
         ],
         "type": "scatterpolar"
        },
        {
         "fill": "toself",
         "name": "cluster501",
         "r": [
          901.25,
          0
         ],
         "theta": [
          "ending_balance",
          "credit_balance"
         ],
         "type": "scatterpolar"
        },
        {
         "fill": "toself",
         "name": "cluster502",
         "r": [
          2100,
          0
         ],
         "theta": [
          "ending_balance",
          "credit_balance"
         ],
         "type": "scatterpolar"
        },
        {
         "fill": "toself",
         "name": "cluster503",
         "r": [
          2.72,
          -940
         ],
         "theta": [
          "ending_balance",
          "credit_balance"
         ],
         "type": "scatterpolar"
        },
        {
         "fill": "toself",
         "name": "cluster504",
         "r": [
          160,
          -940
         ],
         "theta": [
          "ending_balance",
          "credit_balance"
         ],
         "type": "scatterpolar"
        },
        {
         "fill": "toself",
         "name": "cluster505",
         "r": [
          50.67,
          -82.70000000000005
         ],
         "theta": [
          "ending_balance",
          "credit_balance"
         ],
         "type": "scatterpolar"
        },
        {
         "fill": "toself",
         "name": "cluster506",
         "r": [
          917.3,
          -82.70000000000005
         ],
         "theta": [
          "ending_balance",
          "credit_balance"
         ],
         "type": "scatterpolar"
        },
        {
         "fill": "toself",
         "name": "cluster507",
         "r": [
          1085.16,
          -1000
         ],
         "theta": [
          "ending_balance",
          "credit_balance"
         ],
         "type": "scatterpolar"
        },
        {
         "fill": "toself",
         "name": "cluster508",
         "r": [
          0,
          -1000
         ],
         "theta": [
          "ending_balance",
          "credit_balance"
         ],
         "type": "scatterpolar"
        },
        {
         "fill": "toself",
         "name": "cluster509",
         "r": [
          2541.96,
          0
         ],
         "theta": [
          "ending_balance",
          "credit_balance"
         ],
         "type": "scatterpolar"
        },
        {
         "fill": "toself",
         "name": "cluster510",
         "r": [
          2900,
          0
         ],
         "theta": [
          "ending_balance",
          "credit_balance"
         ],
         "type": "scatterpolar"
        },
        {
         "fill": "toself",
         "name": "cluster511",
         "r": [
          3138.91,
          0
         ],
         "theta": [
          "ending_balance",
          "credit_balance"
         ],
         "type": "scatterpolar"
        },
        {
         "fill": "toself",
         "name": "cluster512",
         "r": [
          1900,
          0
         ],
         "theta": [
          "ending_balance",
          "credit_balance"
         ],
         "type": "scatterpolar"
        },
        {
         "fill": "toself",
         "name": "cluster513",
         "r": [
          276.68,
          -990.49
         ],
         "theta": [
          "ending_balance",
          "credit_balance"
         ],
         "type": "scatterpolar"
        },
        {
         "fill": "toself",
         "name": "cluster514",
         "r": [
          9.51,
          -990.49
         ],
         "theta": [
          "ending_balance",
          "credit_balance"
         ],
         "type": "scatterpolar"
        },
        {
         "fill": "toself",
         "name": "cluster515",
         "r": [
          2060.9,
          -990.49
         ],
         "theta": [
          "ending_balance",
          "credit_balance"
         ],
         "type": "scatterpolar"
        },
        {
         "fill": "toself",
         "name": "cluster516",
         "r": [
          625.42,
          -1573.07
         ],
         "theta": [
          "ending_balance",
          "credit_balance"
         ],
         "type": "scatterpolar"
        },
        {
         "fill": "toself",
         "name": "cluster517",
         "r": [
          1426.93,
          -1573.07
         ],
         "theta": [
          "ending_balance",
          "credit_balance"
         ],
         "type": "scatterpolar"
        },
        {
         "fill": "toself",
         "name": "cluster518",
         "r": [
          1113.07,
          -1573.07
         ],
         "theta": [
          "ending_balance",
          "credit_balance"
         ],
         "type": "scatterpolar"
        },
        {
         "fill": "toself",
         "name": "cluster519",
         "r": [
          445.22,
          -554.78
         ],
         "theta": [
          "ending_balance",
          "credit_balance"
         ],
         "type": "scatterpolar"
        },
        {
         "fill": "toself",
         "name": "cluster520",
         "r": [
          367.8,
          -554.78
         ],
         "theta": [
          "ending_balance",
          "credit_balance"
         ],
         "type": "scatterpolar"
        },
        {
         "fill": "toself",
         "name": "cluster521",
         "r": [
          100,
          -900
         ],
         "theta": [
          "ending_balance",
          "credit_balance"
         ],
         "type": "scatterpolar"
        },
        {
         "fill": "toself",
         "name": "cluster522",
         "r": [
          1000,
          0
         ],
         "theta": [
          "ending_balance",
          "credit_balance"
         ],
         "type": "scatterpolar"
        },
        {
         "fill": "toself",
         "name": "cluster523",
         "r": [
          983.06,
          -16.940000000000055
         ],
         "theta": [
          "ending_balance",
          "credit_balance"
         ],
         "type": "scatterpolar"
        },
        {
         "fill": "toself",
         "name": "cluster524",
         "r": [
          149.74,
          -16.940000000000055
         ],
         "theta": [
          "ending_balance",
          "credit_balance"
         ],
         "type": "scatterpolar"
        },
        {
         "fill": "toself",
         "name": "cluster525",
         "r": [
          3.94,
          -9440.28
         ],
         "theta": [
          "ending_balance",
          "credit_balance"
         ],
         "type": "scatterpolar"
        },
        {
         "fill": "toself",
         "name": "cluster526",
         "r": [
          959.72,
          -9440.28
         ],
         "theta": [
          "ending_balance",
          "credit_balance"
         ],
         "type": "scatterpolar"
        },
        {
         "fill": "toself",
         "name": "cluster527",
         "r": [
          600.51,
          -522.31
         ],
         "theta": [
          "ending_balance",
          "credit_balance"
         ],
         "type": "scatterpolar"
        },
        {
         "fill": "toself",
         "name": "cluster528",
         "r": [
          677.69,
          -522.31
         ],
         "theta": [
          "ending_balance",
          "credit_balance"
         ],
         "type": "scatterpolar"
        },
        {
         "fill": "toself",
         "name": "cluster529",
         "r": [
          370.85,
          -207.05000000000018
         ],
         "theta": [
          "ending_balance",
          "credit_balance"
         ],
         "type": "scatterpolar"
        },
        {
         "fill": "toself",
         "name": "cluster530",
         "r": [
          2192.95,
          -207.05000000000018
         ],
         "theta": [
          "ending_balance",
          "credit_balance"
         ],
         "type": "scatterpolar"
        },
        {
         "fill": "toself",
         "name": "cluster531",
         "r": [
          1441.88,
          -207.05000000000018
         ],
         "theta": [
          "ending_balance",
          "credit_balance"
         ],
         "type": "scatterpolar"
        },
        {
         "fill": "toself",
         "name": "cluster532",
         "r": [
          553.09,
          -846.91
         ],
         "theta": [
          "ending_balance",
          "credit_balance"
         ],
         "type": "scatterpolar"
        },
        {
         "fill": "toself",
         "name": "cluster533",
         "r": [
          366.58,
          0
         ],
         "theta": [
          "ending_balance",
          "credit_balance"
         ],
         "type": "scatterpolar"
        },
        {
         "fill": "toself",
         "name": "cluster534",
         "r": [
          1900,
          0
         ],
         "theta": [
          "ending_balance",
          "credit_balance"
         ],
         "type": "scatterpolar"
        },
        {
         "fill": "toself",
         "name": "cluster535",
         "r": [
          1590.22,
          0
         ],
         "theta": [
          "ending_balance",
          "credit_balance"
         ],
         "type": "scatterpolar"
        },
        {
         "fill": "toself",
         "name": "cluster536",
         "r": [
          15.72,
          0
         ],
         "theta": [
          "ending_balance",
          "credit_balance"
         ],
         "type": "scatterpolar"
        },
        {
         "fill": "toself",
         "name": "cluster537",
         "r": [
          1000,
          0
         ],
         "theta": [
          "ending_balance",
          "credit_balance"
         ],
         "type": "scatterpolar"
        },
        {
         "fill": "toself",
         "name": "cluster538",
         "r": [
          369.44,
          0
         ],
         "theta": [
          "ending_balance",
          "credit_balance"
         ],
         "type": "scatterpolar"
        },
        {
         "fill": "toself",
         "name": "cluster539",
         "r": [
          81.14,
          -986.89
         ],
         "theta": [
          "ending_balance",
          "credit_balance"
         ],
         "type": "scatterpolar"
        },
        {
         "fill": "toself",
         "name": "cluster540",
         "r": [
          413.11,
          -986.89
         ],
         "theta": [
          "ending_balance",
          "credit_balance"
         ],
         "type": "scatterpolar"
        },
        {
         "fill": "toself",
         "name": "cluster541",
         "r": [
          1415.16,
          -986.89
         ],
         "theta": [
          "ending_balance",
          "credit_balance"
         ],
         "type": "scatterpolar"
        },
        {
         "fill": "toself",
         "name": "cluster542",
         "r": [
          160.42,
          -839.58
         ],
         "theta": [
          "ending_balance",
          "credit_balance"
         ],
         "type": "scatterpolar"
        },
        {
         "fill": "toself",
         "name": "cluster543",
         "r": [
          3.8,
          -403.89
         ],
         "theta": [
          "ending_balance",
          "credit_balance"
         ],
         "type": "scatterpolar"
        },
        {
         "fill": "toself",
         "name": "cluster544",
         "r": [
          596.11,
          -403.89
         ],
         "theta": [
          "ending_balance",
          "credit_balance"
         ],
         "type": "scatterpolar"
        },
        {
         "fill": "toself",
         "name": "cluster545",
         "r": [
          14.54,
          0
         ],
         "theta": [
          "ending_balance",
          "credit_balance"
         ],
         "type": "scatterpolar"
        },
        {
         "fill": "toself",
         "name": "cluster546",
         "r": [
          1000,
          0
         ],
         "theta": [
          "ending_balance",
          "credit_balance"
         ],
         "type": "scatterpolar"
        },
        {
         "fill": "toself",
         "name": "cluster547",
         "r": [
          696.74,
          0
         ],
         "theta": [
          "ending_balance",
          "credit_balance"
         ],
         "type": "scatterpolar"
        },
        {
         "fill": "toself",
         "name": "cluster548",
         "r": [
          2800,
          0
         ],
         "theta": [
          "ending_balance",
          "credit_balance"
         ],
         "type": "scatterpolar"
        },
        {
         "fill": "toself",
         "name": "cluster549",
         "r": [
          121.73,
          0
         ],
         "theta": [
          "ending_balance",
          "credit_balance"
         ],
         "type": "scatterpolar"
        },
        {
         "fill": "toself",
         "name": "cluster550",
         "r": [
          1000,
          0
         ],
         "theta": [
          "ending_balance",
          "credit_balance"
         ],
         "type": "scatterpolar"
        },
        {
         "fill": "toself",
         "name": "cluster551",
         "r": [
          1498.4,
          0
         ],
         "theta": [
          "ending_balance",
          "credit_balance"
         ],
         "type": "scatterpolar"
        },
        {
         "fill": "toself",
         "name": "cluster552",
         "r": [
          4048.98,
          -58
         ],
         "theta": [
          "ending_balance",
          "credit_balance"
         ],
         "type": "scatterpolar"
        },
        {
         "fill": "toself",
         "name": "cluster553",
         "r": [
          1442,
          -58
         ],
         "theta": [
          "ending_balance",
          "credit_balance"
         ],
         "type": "scatterpolar"
        },
        {
         "fill": "toself",
         "name": "cluster554",
         "r": [
          598.57,
          -58
         ],
         "theta": [
          "ending_balance",
          "credit_balance"
         ],
         "type": "scatterpolar"
        },
        {
         "fill": "toself",
         "name": "cluster555",
         "r": [
          278.98,
          -88.79999999999995
         ],
         "theta": [
          "ending_balance",
          "credit_balance"
         ],
         "type": "scatterpolar"
        },
        {
         "fill": "toself",
         "name": "cluster556",
         "r": [
          1011.2,
          -88.79999999999995
         ],
         "theta": [
          "ending_balance",
          "credit_balance"
         ],
         "type": "scatterpolar"
        },
        {
         "fill": "toself",
         "name": "cluster557",
         "r": [
          334.29,
          -665.71
         ],
         "theta": [
          "ending_balance",
          "credit_balance"
         ],
         "type": "scatterpolar"
        },
        {
         "fill": "toself",
         "name": "cluster558",
         "r": [
          68.84,
          -3000
         ],
         "theta": [
          "ending_balance",
          "credit_balance"
         ],
         "type": "scatterpolar"
        },
        {
         "fill": "toself",
         "name": "cluster559",
         "r": [
          0,
          -3000
         ],
         "theta": [
          "ending_balance",
          "credit_balance"
         ],
         "type": "scatterpolar"
        },
        {
         "fill": "toself",
         "name": "cluster560",
         "r": [
          240.75,
          -3000
         ],
         "theta": [
          "ending_balance",
          "credit_balance"
         ],
         "type": "scatterpolar"
        },
        {
         "fill": "toself",
         "name": "cluster561",
         "r": [
          20,
          -2880
         ],
         "theta": [
          "ending_balance",
          "credit_balance"
         ],
         "type": "scatterpolar"
        },
        {
         "fill": "toself",
         "name": "cluster562",
         "r": [
          959.6,
          0
         ],
         "theta": [
          "ending_balance",
          "credit_balance"
         ],
         "type": "scatterpolar"
        },
        {
         "fill": "toself",
         "name": "cluster563",
         "r": [
          1000,
          0
         ],
         "theta": [
          "ending_balance",
          "credit_balance"
         ],
         "type": "scatterpolar"
        },
        {
         "fill": "toself",
         "name": "cluster564",
         "r": [
          110.52,
          0
         ],
         "theta": [
          "ending_balance",
          "credit_balance"
         ],
         "type": "scatterpolar"
        },
        {
         "fill": "toself",
         "name": "cluster565",
         "r": [
          1223.77,
          -4976.23
         ],
         "theta": [
          "ending_balance",
          "credit_balance"
         ],
         "type": "scatterpolar"
        },
        {
         "fill": "toself",
         "name": "cluster566",
         "r": [
          54.09,
          -4845.91
         ],
         "theta": [
          "ending_balance",
          "credit_balance"
         ],
         "type": "scatterpolar"
        },
        {
         "fill": "toself",
         "name": "cluster567",
         "r": [
          1149.38,
          -4845.91
         ],
         "theta": [
          "ending_balance",
          "credit_balance"
         ],
         "type": "scatterpolar"
        },
        {
         "fill": "toself",
         "name": "cluster568",
         "r": [
          1000,
          0
         ],
         "theta": [
          "ending_balance",
          "credit_balance"
         ],
         "type": "scatterpolar"
        },
        {
         "fill": "toself",
         "name": "cluster569",
         "r": [
          769.47,
          -660.14
         ],
         "theta": [
          "ending_balance",
          "credit_balance"
         ],
         "type": "scatterpolar"
        },
        {
         "fill": "toself",
         "name": "cluster570",
         "r": [
          739.86,
          -660.14
         ],
         "theta": [
          "ending_balance",
          "credit_balance"
         ],
         "type": "scatterpolar"
        },
        {
         "fill": "toself",
         "name": "cluster571",
         "r": [
          1426.1,
          -660.14
         ],
         "theta": [
          "ending_balance",
          "credit_balance"
         ],
         "type": "scatterpolar"
        },
        {
         "fill": "toself",
         "name": "cluster572",
         "r": [
          416.76,
          -557.28
         ],
         "theta": [
          "ending_balance",
          "credit_balance"
         ],
         "type": "scatterpolar"
        },
        {
         "fill": "toself",
         "name": "cluster573",
         "r": [
          442.72,
          -557.28
         ],
         "theta": [
          "ending_balance",
          "credit_balance"
         ],
         "type": "scatterpolar"
        },
        {
         "fill": "toself",
         "name": "cluster574",
         "r": [
          15.38,
          0
         ],
         "theta": [
          "ending_balance",
          "credit_balance"
         ],
         "type": "scatterpolar"
        },
        {
         "fill": "toself",
         "name": "cluster575",
         "r": [
          3000,
          0
         ],
         "theta": [
          "ending_balance",
          "credit_balance"
         ],
         "type": "scatterpolar"
        },
        {
         "fill": "toself",
         "name": "cluster576",
         "r": [
          49.39,
          0
         ],
         "theta": [
          "ending_balance",
          "credit_balance"
         ],
         "type": "scatterpolar"
        },
        {
         "fill": "toself",
         "name": "cluster577",
         "r": [
          1297.06,
          -1000
         ],
         "theta": [
          "ending_balance",
          "credit_balance"
         ],
         "type": "scatterpolar"
        },
        {
         "fill": "toself",
         "name": "cluster578",
         "r": [
          0,
          -1000
         ],
         "theta": [
          "ending_balance",
          "credit_balance"
         ],
         "type": "scatterpolar"
        },
        {
         "fill": "toself",
         "name": "cluster579",
         "r": [
          739.98,
          -1000
         ],
         "theta": [
          "ending_balance",
          "credit_balance"
         ],
         "type": "scatterpolar"
        },
        {
         "fill": "toself",
         "name": "cluster580",
         "r": [
          12.89,
          0
         ],
         "theta": [
          "ending_balance",
          "credit_balance"
         ],
         "type": "scatterpolar"
        },
        {
         "fill": "toself",
         "name": "cluster581",
         "r": [
          1000,
          0
         ],
         "theta": [
          "ending_balance",
          "credit_balance"
         ],
         "type": "scatterpolar"
        },
        {
         "fill": "toself",
         "name": "cluster582",
         "r": [
          2946.92,
          0
         ],
         "theta": [
          "ending_balance",
          "credit_balance"
         ],
         "type": "scatterpolar"
        },
        {
         "fill": "toself",
         "name": "cluster583",
         "r": [
          46.48,
          0
         ],
         "theta": [
          "ending_balance",
          "credit_balance"
         ],
         "type": "scatterpolar"
        },
        {
         "fill": "toself",
         "name": "cluster584",
         "r": [
          9200,
          0
         ],
         "theta": [
          "ending_balance",
          "credit_balance"
         ],
         "type": "scatterpolar"
        },
        {
         "fill": "toself",
         "name": "cluster585",
         "r": [
          1840,
          -1160
         ],
         "theta": [
          "ending_balance",
          "credit_balance"
         ],
         "type": "scatterpolar"
        },
        {
         "fill": "toself",
         "name": "cluster586",
         "r": [
          360.28,
          -1160
         ],
         "theta": [
          "ending_balance",
          "credit_balance"
         ],
         "type": "scatterpolar"
        },
        {
         "fill": "toself",
         "name": "cluster587",
         "r": [
          29.87,
          -1686.94
         ],
         "theta": [
          "ending_balance",
          "credit_balance"
         ],
         "type": "scatterpolar"
        },
        {
         "fill": "toself",
         "name": "cluster588",
         "r": [
          513.06,
          -1686.94
         ],
         "theta": [
          "ending_balance",
          "credit_balance"
         ],
         "type": "scatterpolar"
        },
        {
         "fill": "toself",
         "name": "cluster589",
         "r": [
          1191.33,
          0
         ],
         "theta": [
          "ending_balance",
          "credit_balance"
         ],
         "type": "scatterpolar"
        },
        {
         "fill": "toself",
         "name": "cluster590",
         "r": [
          2000,
          0
         ],
         "theta": [
          "ending_balance",
          "credit_balance"
         ],
         "type": "scatterpolar"
        },
        {
         "fill": "toself",
         "name": "cluster591",
         "r": [
          1701.18,
          0
         ],
         "theta": [
          "ending_balance",
          "credit_balance"
         ],
         "type": "scatterpolar"
        },
        {
         "fill": "toself",
         "name": "cluster592",
         "r": [
          17.3,
          0
         ],
         "theta": [
          "ending_balance",
          "credit_balance"
         ],
         "type": "scatterpolar"
        },
        {
         "fill": "toself",
         "name": "cluster593",
         "r": [
          2000,
          0
         ],
         "theta": [
          "ending_balance",
          "credit_balance"
         ],
         "type": "scatterpolar"
        },
        {
         "fill": "toself",
         "name": "cluster594",
         "r": [
          900.52,
          0
         ],
         "theta": [
          "ending_balance",
          "credit_balance"
         ],
         "type": "scatterpolar"
        },
        {
         "fill": "toself",
         "name": "cluster595",
         "r": [
          2325.47,
          -130.05999999999995
         ],
         "theta": [
          "ending_balance",
          "credit_balance"
         ],
         "type": "scatterpolar"
        },
        {
         "fill": "toself",
         "name": "cluster596",
         "r": [
          969.94,
          -130.05999999999995
         ],
         "theta": [
          "ending_balance",
          "credit_balance"
         ],
         "type": "scatterpolar"
        },
        {
         "fill": "toself",
         "name": "cluster597",
         "r": [
          6325.98,
          -130.05999999999995
         ],
         "theta": [
          "ending_balance",
          "credit_balance"
         ],
         "type": "scatterpolar"
        },
        {
         "fill": "toself",
         "name": "cluster598",
         "r": [
          918.17,
          0
         ],
         "theta": [
          "ending_balance",
          "credit_balance"
         ],
         "type": "scatterpolar"
        },
        {
         "fill": "toself",
         "name": "cluster599",
         "r": [
          3000,
          0
         ],
         "theta": [
          "ending_balance",
          "credit_balance"
         ],
         "type": "scatterpolar"
        },
        {
         "fill": "toself",
         "name": "cluster600",
         "r": [
          136.05,
          0
         ],
         "theta": [
          "ending_balance",
          "credit_balance"
         ],
         "type": "scatterpolar"
        },
        {
         "fill": "toself",
         "name": "cluster601",
         "r": [
          269.76,
          -692.4
         ],
         "theta": [
          "ending_balance",
          "credit_balance"
         ],
         "type": "scatterpolar"
        },
        {
         "fill": "toself",
         "name": "cluster602",
         "r": [
          307.6,
          -692.4
         ],
         "theta": [
          "ending_balance",
          "credit_balance"
         ],
         "type": "scatterpolar"
        },
        {
         "fill": "toself",
         "name": "cluster603",
         "r": [
          186.53,
          -692.4
         ],
         "theta": [
          "ending_balance",
          "credit_balance"
         ],
         "type": "scatterpolar"
        },
        {
         "fill": "toself",
         "name": "cluster604",
         "r": [
          355.26,
          -2644.74
         ],
         "theta": [
          "ending_balance",
          "credit_balance"
         ],
         "type": "scatterpolar"
        },
        {
         "fill": "toself",
         "name": "cluster605",
         "r": [
          486.4,
          -2644.74
         ],
         "theta": [
          "ending_balance",
          "credit_balance"
         ],
         "type": "scatterpolar"
        },
        {
         "fill": "toself",
         "name": "cluster606",
         "r": [
          11.3,
          -8246.22
         ],
         "theta": [
          "ending_balance",
          "credit_balance"
         ],
         "type": "scatterpolar"
        },
        {
         "fill": "toself",
         "name": "cluster607",
         "r": [
          1953.78,
          -8246.22
         ],
         "theta": [
          "ending_balance",
          "credit_balance"
         ],
         "type": "scatterpolar"
        },
        {
         "fill": "toself",
         "name": "cluster608",
         "r": [
          404.63,
          -8246.22
         ],
         "theta": [
          "ending_balance",
          "credit_balance"
         ],
         "type": "scatterpolar"
        },
        {
         "fill": "toself",
         "name": "cluster609",
         "r": [
          1319.97,
          -4267.04
         ],
         "theta": [
          "ending_balance",
          "credit_balance"
         ],
         "type": "scatterpolar"
        },
        {
         "fill": "toself",
         "name": "cluster610",
         "r": [
          1232.96,
          -4267.04
         ],
         "theta": [
          "ending_balance",
          "credit_balance"
         ],
         "type": "scatterpolar"
        },
        {
         "fill": "toself",
         "name": "cluster611",
         "r": [
          30.85,
          0
         ],
         "theta": [
          "ending_balance",
          "credit_balance"
         ],
         "type": "scatterpolar"
        },
        {
         "fill": "toself",
         "name": "cluster612",
         "r": [
          1800,
          0
         ],
         "theta": [
          "ending_balance",
          "credit_balance"
         ],
         "type": "scatterpolar"
        },
        {
         "fill": "toself",
         "name": "cluster613",
         "r": [
          1056.1,
          0
         ],
         "theta": [
          "ending_balance",
          "credit_balance"
         ],
         "type": "scatterpolar"
        },
        {
         "fill": "toself",
         "name": "cluster614",
         "r": [
          1778.61,
          0
         ],
         "theta": [
          "ending_balance",
          "credit_balance"
         ],
         "type": "scatterpolar"
        },
        {
         "fill": "toself",
         "name": "cluster615",
         "r": [
          2300,
          0
         ],
         "theta": [
          "ending_balance",
          "credit_balance"
         ],
         "type": "scatterpolar"
        },
        {
         "fill": "toself",
         "name": "cluster616",
         "r": [
          9387.66,
          0
         ],
         "theta": [
          "ending_balance",
          "credit_balance"
         ],
         "type": "scatterpolar"
        },
        {
         "fill": "toself",
         "name": "cluster617",
         "r": [
          521.21,
          -185.85999999999967
         ],
         "theta": [
          "ending_balance",
          "credit_balance"
         ],
         "type": "scatterpolar"
        },
        {
         "fill": "toself",
         "name": "cluster618",
         "r": [
          5014.14,
          -185.85999999999967
         ],
         "theta": [
          "ending_balance",
          "credit_balance"
         ],
         "type": "scatterpolar"
        },
        {
         "fill": "toself",
         "name": "cluster619",
         "r": [
          653.58,
          -185.85999999999967
         ],
         "theta": [
          "ending_balance",
          "credit_balance"
         ],
         "type": "scatterpolar"
        },
        {
         "fill": "toself",
         "name": "cluster620",
         "r": [
          3422.66,
          -2860
         ],
         "theta": [
          "ending_balance",
          "credit_balance"
         ],
         "type": "scatterpolar"
        },
        {
         "fill": "toself",
         "name": "cluster621",
         "r": [
          140,
          -2860
         ],
         "theta": [
          "ending_balance",
          "credit_balance"
         ],
         "type": "scatterpolar"
        },
        {
         "fill": "toself",
         "name": "cluster622",
         "r": [
          2211.69,
          -2860
         ],
         "theta": [
          "ending_balance",
          "credit_balance"
         ],
         "type": "scatterpolar"
        },
        {
         "fill": "toself",
         "name": "cluster623",
         "r": [
          5100,
          0
         ],
         "theta": [
          "ending_balance",
          "credit_balance"
         ],
         "type": "scatterpolar"
        },
        {
         "fill": "toself",
         "name": "cluster624",
         "r": [
          753.69,
          0
         ],
         "theta": [
          "ending_balance",
          "credit_balance"
         ],
         "type": "scatterpolar"
        },
        {
         "fill": "toself",
         "name": "cluster625",
         "r": [
          2156.3,
          0
         ],
         "theta": [
          "ending_balance",
          "credit_balance"
         ],
         "type": "scatterpolar"
        },
        {
         "fill": "toself",
         "name": "cluster626",
         "r": [
          1000,
          0
         ],
         "theta": [
          "ending_balance",
          "credit_balance"
         ],
         "type": "scatterpolar"
        },
        {
         "fill": "toself",
         "name": "cluster627",
         "r": [
          523.43,
          0
         ],
         "theta": [
          "ending_balance",
          "credit_balance"
         ],
         "type": "scatterpolar"
        },
        {
         "fill": "toself",
         "name": "cluster628",
         "r": [
          1315,
          -9517.66
         ],
         "theta": [
          "ending_balance",
          "credit_balance"
         ],
         "type": "scatterpolar"
        },
        {
         "fill": "toself",
         "name": "cluster629",
         "r": [
          682.34,
          -9517.66
         ],
         "theta": [
          "ending_balance",
          "credit_balance"
         ],
         "type": "scatterpolar"
        },
        {
         "fill": "toself",
         "name": "cluster630",
         "r": [
          450.37,
          -9517.66
         ],
         "theta": [
          "ending_balance",
          "credit_balance"
         ],
         "type": "scatterpolar"
        },
        {
         "fill": "toself",
         "name": "cluster631",
         "r": [
          175.55,
          0
         ],
         "theta": [
          "ending_balance",
          "credit_balance"
         ],
         "type": "scatterpolar"
        },
        {
         "fill": "toself",
         "name": "cluster632",
         "r": [
          2500,
          0
         ],
         "theta": [
          "ending_balance",
          "credit_balance"
         ],
         "type": "scatterpolar"
        },
        {
         "fill": "toself",
         "name": "cluster633",
         "r": [
          3110.27,
          0
         ],
         "theta": [
          "ending_balance",
          "credit_balance"
         ],
         "type": "scatterpolar"
        },
        {
         "fill": "toself",
         "name": "cluster634",
         "r": [
          130.9,
          -2869.1
         ],
         "theta": [
          "ending_balance",
          "credit_balance"
         ],
         "type": "scatterpolar"
        },
        {
         "fill": "toself",
         "name": "cluster635",
         "r": [
          1196.95,
          -2869.1
         ],
         "theta": [
          "ending_balance",
          "credit_balance"
         ],
         "type": "scatterpolar"
        },
        {
         "fill": "toself",
         "name": "cluster636",
         "r": [
          1.55,
          -1998.33
         ],
         "theta": [
          "ending_balance",
          "credit_balance"
         ],
         "type": "scatterpolar"
        },
        {
         "fill": "toself",
         "name": "cluster637",
         "r": [
          1001.67,
          -1998.33
         ],
         "theta": [
          "ending_balance",
          "credit_balance"
         ],
         "type": "scatterpolar"
        },
        {
         "fill": "toself",
         "name": "cluster638",
         "r": [
          2505.34,
          -1998.33
         ],
         "theta": [
          "ending_balance",
          "credit_balance"
         ],
         "type": "scatterpolar"
        },
        {
         "fill": "toself",
         "name": "cluster639",
         "r": [
          1500,
          0
         ],
         "theta": [
          "ending_balance",
          "credit_balance"
         ],
         "type": "scatterpolar"
        },
        {
         "fill": "toself",
         "name": "cluster640",
         "r": [
          3704.8,
          0
         ],
         "theta": [
          "ending_balance",
          "credit_balance"
         ],
         "type": "scatterpolar"
        },
        {
         "fill": "toself",
         "name": "cluster641",
         "r": [
          659.45,
          0
         ],
         "theta": [
          "ending_balance",
          "credit_balance"
         ],
         "type": "scatterpolar"
        },
        {
         "fill": "toself",
         "name": "cluster642",
         "r": [
          1000,
          0
         ],
         "theta": [
          "ending_balance",
          "credit_balance"
         ],
         "type": "scatterpolar"
        },
        {
         "fill": "toself",
         "name": "cluster643",
         "r": [
          10.34,
          0
         ],
         "theta": [
          "ending_balance",
          "credit_balance"
         ],
         "type": "scatterpolar"
        },
        {
         "fill": "toself",
         "name": "cluster644",
         "r": [
          1824.79,
          -5213.280000000001
         ],
         "theta": [
          "ending_balance",
          "credit_balance"
         ],
         "type": "scatterpolar"
        },
        {
         "fill": "toself",
         "name": "cluster645",
         "r": [
          2186.72,
          -5213.280000000001
         ],
         "theta": [
          "ending_balance",
          "credit_balance"
         ],
         "type": "scatterpolar"
        },
        {
         "fill": "toself",
         "name": "cluster646",
         "r": [
          137.85,
          -5213.280000000001
         ],
         "theta": [
          "ending_balance",
          "credit_balance"
         ],
         "type": "scatterpolar"
        },
        {
         "fill": "toself",
         "name": "cluster647",
         "r": [
          282.92,
          -1274.5
         ],
         "theta": [
          "ending_balance",
          "credit_balance"
         ],
         "type": "scatterpolar"
        },
        {
         "fill": "toself",
         "name": "cluster648",
         "r": [
          525.5,
          -1274.5
         ],
         "theta": [
          "ending_balance",
          "credit_balance"
         ],
         "type": "scatterpolar"
        },
        {
         "fill": "toself",
         "name": "cluster649",
         "r": [
          182.95,
          0
         ],
         "theta": [
          "ending_balance",
          "credit_balance"
         ],
         "type": "scatterpolar"
        },
        {
         "fill": "toself",
         "name": "cluster650",
         "r": [
          1000,
          0
         ],
         "theta": [
          "ending_balance",
          "credit_balance"
         ],
         "type": "scatterpolar"
        },
        {
         "fill": "toself",
         "name": "cluster651",
         "r": [
          2054.92,
          0
         ],
         "theta": [
          "ending_balance",
          "credit_balance"
         ],
         "type": "scatterpolar"
        },
        {
         "fill": "toself",
         "name": "cluster652",
         "r": [
          701.33,
          0
         ],
         "theta": [
          "ending_balance",
          "credit_balance"
         ],
         "type": "scatterpolar"
        },
        {
         "fill": "toself",
         "name": "cluster653",
         "r": [
          1000,
          0
         ],
         "theta": [
          "ending_balance",
          "credit_balance"
         ],
         "type": "scatterpolar"
        },
        {
         "fill": "toself",
         "name": "cluster654",
         "r": [
          1379.43,
          0
         ],
         "theta": [
          "ending_balance",
          "credit_balance"
         ],
         "type": "scatterpolar"
        },
        {
         "fill": "toself",
         "name": "cluster655",
         "r": [
          382.47,
          -536.35
         ],
         "theta": [
          "ending_balance",
          "credit_balance"
         ],
         "type": "scatterpolar"
        },
        {
         "fill": "toself",
         "name": "cluster656",
         "r": [
          463.65,
          -536.35
         ],
         "theta": [
          "ending_balance",
          "credit_balance"
         ],
         "type": "scatterpolar"
        },
        {
         "fill": "toself",
         "name": "cluster657",
         "r": [
          132.42,
          -536.35
         ],
         "theta": [
          "ending_balance",
          "credit_balance"
         ],
         "type": "scatterpolar"
        },
        {
         "fill": "toself",
         "name": "cluster658",
         "r": [
          1574.39,
          -351.49
         ],
         "theta": [
          "ending_balance",
          "credit_balance"
         ],
         "type": "scatterpolar"
        },
        {
         "fill": "toself",
         "name": "cluster659",
         "r": [
          648.51,
          -351.49
         ],
         "theta": [
          "ending_balance",
          "credit_balance"
         ],
         "type": "scatterpolar"
        },
        {
         "fill": "toself",
         "name": "cluster660",
         "r": [
          883.63,
          -351.49
         ],
         "theta": [
          "ending_balance",
          "credit_balance"
         ],
         "type": "scatterpolar"
        },
        {
         "fill": "toself",
         "name": "cluster661",
         "r": [
          282.92,
          0
         ],
         "theta": [
          "ending_balance",
          "credit_balance"
         ],
         "type": "scatterpolar"
        },
        {
         "fill": "toself",
         "name": "cluster662",
         "r": [
          1200,
          0
         ],
         "theta": [
          "ending_balance",
          "credit_balance"
         ],
         "type": "scatterpolar"
        },
        {
         "fill": "toself",
         "name": "cluster663",
         "r": [
          111.34,
          0
         ],
         "theta": [
          "ending_balance",
          "credit_balance"
         ],
         "type": "scatterpolar"
        },
        {
         "fill": "toself",
         "name": "cluster664",
         "r": [
          3.76,
          -2400
         ],
         "theta": [
          "ending_balance",
          "credit_balance"
         ],
         "type": "scatterpolar"
        },
        {
         "fill": "toself",
         "name": "cluster665",
         "r": [
          0,
          -2400
         ],
         "theta": [
          "ending_balance",
          "credit_balance"
         ],
         "type": "scatterpolar"
        },
        {
         "fill": "toself",
         "name": "cluster666",
         "r": [
          609.33,
          -2400
         ],
         "theta": [
          "ending_balance",
          "credit_balance"
         ],
         "type": "scatterpolar"
        },
        {
         "fill": "toself",
         "name": "cluster667",
         "r": [
          1000,
          0
         ],
         "theta": [
          "ending_balance",
          "credit_balance"
         ],
         "type": "scatterpolar"
        },
        {
         "fill": "toself",
         "name": "cluster668",
         "r": [
          149.2,
          0
         ],
         "theta": [
          "ending_balance",
          "credit_balance"
         ],
         "type": "scatterpolar"
        },
        {
         "fill": "toself",
         "name": "cluster669",
         "r": [
          2054.32,
          -5845.68
         ],
         "theta": [
          "ending_balance",
          "credit_balance"
         ],
         "type": "scatterpolar"
        },
        {
         "fill": "toself",
         "name": "cluster670",
         "r": [
          6015.58,
          -5845.68
         ],
         "theta": [
          "ending_balance",
          "credit_balance"
         ],
         "type": "scatterpolar"
        },
        {
         "fill": "toself",
         "name": "cluster671",
         "r": [
          1252.71,
          -8373.119999999999
         ],
         "theta": [
          "ending_balance",
          "credit_balance"
         ],
         "type": "scatterpolar"
        },
        {
         "fill": "toself",
         "name": "cluster672",
         "r": [
          4626.88,
          -8373.119999999999
         ],
         "theta": [
          "ending_balance",
          "credit_balance"
         ],
         "type": "scatterpolar"
        },
        {
         "fill": "toself",
         "name": "cluster673",
         "r": [
          3028.72,
          -8373.119999999999
         ],
         "theta": [
          "ending_balance",
          "credit_balance"
         ],
         "type": "scatterpolar"
        },
        {
         "fill": "toself",
         "name": "cluster674",
         "r": [
          268.79,
          -941.3299999999999
         ],
         "theta": [
          "ending_balance",
          "credit_balance"
         ],
         "type": "scatterpolar"
        },
        {
         "fill": "toself",
         "name": "cluster675",
         "r": [
          458.67,
          -941.3299999999999
         ],
         "theta": [
          "ending_balance",
          "credit_balance"
         ],
         "type": "scatterpolar"
        },
        {
         "fill": "toself",
         "name": "cluster676",
         "r": [
          360.12,
          -941.3299999999999
         ],
         "theta": [
          "ending_balance",
          "credit_balance"
         ],
         "type": "scatterpolar"
        },
        {
         "fill": "toself",
         "name": "cluster677",
         "r": [
          38.1,
          -6380
         ],
         "theta": [
          "ending_balance",
          "credit_balance"
         ],
         "type": "scatterpolar"
        },
        {
         "fill": "toself",
         "name": "cluster678",
         "r": [
          20,
          -6380
         ],
         "theta": [
          "ending_balance",
          "credit_balance"
         ],
         "type": "scatterpolar"
        },
        {
         "fill": "toself",
         "name": "cluster679",
         "r": [
          1703.2,
          -6327.97
         ],
         "theta": [
          "ending_balance",
          "credit_balance"
         ],
         "type": "scatterpolar"
        },
        {
         "fill": "toself",
         "name": "cluster680",
         "r": [
          772.03,
          -6327.97
         ],
         "theta": [
          "ending_balance",
          "credit_balance"
         ],
         "type": "scatterpolar"
        },
        {
         "fill": "toself",
         "name": "cluster681",
         "r": [
          1173.89,
          -6327.97
         ],
         "theta": [
          "ending_balance",
          "credit_balance"
         ],
         "type": "scatterpolar"
        },
        {
         "fill": "toself",
         "name": "cluster682",
         "r": [
          702.56,
          -2421.2
         ],
         "theta": [
          "ending_balance",
          "credit_balance"
         ],
         "type": "scatterpolar"
        },
        {
         "fill": "toself",
         "name": "cluster683",
         "r": [
          78.8,
          -2421.2
         ],
         "theta": [
          "ending_balance",
          "credit_balance"
         ],
         "type": "scatterpolar"
        },
        {
         "fill": "toself",
         "name": "cluster684",
         "r": [
          1918.23,
          -2421.2
         ],
         "theta": [
          "ending_balance",
          "credit_balance"
         ],
         "type": "scatterpolar"
        },
        {
         "fill": "toself",
         "name": "cluster685",
         "r": [
          86.21,
          0
         ],
         "theta": [
          "ending_balance",
          "credit_balance"
         ],
         "type": "scatterpolar"
        },
        {
         "fill": "toself",
         "name": "cluster686",
         "r": [
          1600,
          0
         ],
         "theta": [
          "ending_balance",
          "credit_balance"
         ],
         "type": "scatterpolar"
        },
        {
         "fill": "toself",
         "name": "cluster687",
         "r": [
          1813.9,
          0
         ],
         "theta": [
          "ending_balance",
          "credit_balance"
         ],
         "type": "scatterpolar"
        },
        {
         "fill": "toself",
         "name": "cluster688",
         "r": [
          490.56,
          0
         ],
         "theta": [
          "ending_balance",
          "credit_balance"
         ],
         "type": "scatterpolar"
        },
        {
         "fill": "toself",
         "name": "cluster689",
         "r": [
          1000,
          0
         ],
         "theta": [
          "ending_balance",
          "credit_balance"
         ],
         "type": "scatterpolar"
        },
        {
         "fill": "toself",
         "name": "cluster690",
         "r": [
          253.21,
          -1000
         ],
         "theta": [
          "ending_balance",
          "credit_balance"
         ],
         "type": "scatterpolar"
        },
        {
         "fill": "toself",
         "name": "cluster691",
         "r": [
          0,
          -1000
         ],
         "theta": [
          "ending_balance",
          "credit_balance"
         ],
         "type": "scatterpolar"
        },
        {
         "fill": "toself",
         "name": "cluster692",
         "r": [
          756.72,
          -1000
         ],
         "theta": [
          "ending_balance",
          "credit_balance"
         ],
         "type": "scatterpolar"
        },
        {
         "fill": "toself",
         "name": "cluster693",
         "r": [
          84.65,
          0
         ],
         "theta": [
          "ending_balance",
          "credit_balance"
         ],
         "type": "scatterpolar"
        },
        {
         "fill": "toself",
         "name": "cluster694",
         "r": [
          3000,
          0
         ],
         "theta": [
          "ending_balance",
          "credit_balance"
         ],
         "type": "scatterpolar"
        },
        {
         "fill": "toself",
         "name": "cluster695",
         "r": [
          288.87,
          0
         ],
         "theta": [
          "ending_balance",
          "credit_balance"
         ],
         "type": "scatterpolar"
        },
        {
         "fill": "toself",
         "name": "cluster696",
         "r": [
          777.16,
          0
         ],
         "theta": [
          "ending_balance",
          "credit_balance"
         ],
         "type": "scatterpolar"
        },
        {
         "fill": "toself",
         "name": "cluster697",
         "r": [
          1000,
          0
         ],
         "theta": [
          "ending_balance",
          "credit_balance"
         ],
         "type": "scatterpolar"
        },
        {
         "fill": "toself",
         "name": "cluster698",
         "r": [
          74.54,
          0
         ],
         "theta": [
          "ending_balance",
          "credit_balance"
         ],
         "type": "scatterpolar"
        },
        {
         "fill": "toself",
         "name": "cluster699",
         "r": [
          95.53,
          -1948.99
         ],
         "theta": [
          "ending_balance",
          "credit_balance"
         ],
         "type": "scatterpolar"
        },
        {
         "fill": "toself",
         "name": "cluster700",
         "r": [
          1051.01,
          -1948.99
         ],
         "theta": [
          "ending_balance",
          "credit_balance"
         ],
         "type": "scatterpolar"
        },
        {
         "fill": "toself",
         "name": "cluster701",
         "r": [
          313.46,
          -1948.99
         ],
         "theta": [
          "ending_balance",
          "credit_balance"
         ],
         "type": "scatterpolar"
        },
        {
         "fill": "toself",
         "name": "cluster702",
         "r": [
          112.61,
          0
         ],
         "theta": [
          "ending_balance",
          "credit_balance"
         ],
         "type": "scatterpolar"
        },
        {
         "fill": "toself",
         "name": "cluster703",
         "r": [
          1000,
          0
         ],
         "theta": [
          "ending_balance",
          "credit_balance"
         ],
         "type": "scatterpolar"
        },
        {
         "fill": "toself",
         "name": "cluster704",
         "r": [
          91.21,
          0
         ],
         "theta": [
          "ending_balance",
          "credit_balance"
         ],
         "type": "scatterpolar"
        },
        {
         "fill": "toself",
         "name": "cluster705",
         "r": [
          136.95,
          -2972.8
         ],
         "theta": [
          "ending_balance",
          "credit_balance"
         ],
         "type": "scatterpolar"
        },
        {
         "fill": "toself",
         "name": "cluster706",
         "r": [
          727.2,
          -2972.8
         ],
         "theta": [
          "ending_balance",
          "credit_balance"
         ],
         "type": "scatterpolar"
        },
        {
         "fill": "toself",
         "name": "cluster707",
         "r": [
          946.08,
          -834.08
         ],
         "theta": [
          "ending_balance",
          "credit_balance"
         ],
         "type": "scatterpolar"
        },
        {
         "fill": "toself",
         "name": "cluster708",
         "r": [
          965.92,
          -834.08
         ],
         "theta": [
          "ending_balance",
          "credit_balance"
         ],
         "type": "scatterpolar"
        },
        {
         "fill": "toself",
         "name": "cluster709",
         "r": [
          860.93,
          -834.08
         ],
         "theta": [
          "ending_balance",
          "credit_balance"
         ],
         "type": "scatterpolar"
        },
        {
         "fill": "toself",
         "name": "cluster710",
         "r": [
          11.84,
          -2095.07
         ],
         "theta": [
          "ending_balance",
          "credit_balance"
         ],
         "type": "scatterpolar"
        },
        {
         "fill": "toself",
         "name": "cluster711",
         "r": [
          904.93,
          -2095.07
         ],
         "theta": [
          "ending_balance",
          "credit_balance"
         ],
         "type": "scatterpolar"
        },
        {
         "fill": "toself",
         "name": "cluster712",
         "r": [
          748.73,
          -2095.07
         ],
         "theta": [
          "ending_balance",
          "credit_balance"
         ],
         "type": "scatterpolar"
        },
        {
         "fill": "toself",
         "name": "cluster713",
         "r": [
          109.31,
          -755.53
         ],
         "theta": [
          "ending_balance",
          "credit_balance"
         ],
         "type": "scatterpolar"
        },
        {
         "fill": "toself",
         "name": "cluster714",
         "r": [
          244.47,
          -755.53
         ],
         "theta": [
          "ending_balance",
          "credit_balance"
         ],
         "type": "scatterpolar"
        },
        {
         "fill": "toself",
         "name": "cluster715",
         "r": [
          792.11,
          -755.53
         ],
         "theta": [
          "ending_balance",
          "credit_balance"
         ],
         "type": "scatterpolar"
        },
        {
         "fill": "toself",
         "name": "cluster716",
         "r": [
          0,
          -1000
         ],
         "theta": [
          "ending_balance",
          "credit_balance"
         ],
         "type": "scatterpolar"
        },
        {
         "fill": "toself",
         "name": "cluster717",
         "r": [
          1720.35,
          -1000
         ],
         "theta": [
          "ending_balance",
          "credit_balance"
         ],
         "type": "scatterpolar"
        },
        {
         "fill": "toself",
         "name": "cluster718",
         "r": [
          2345.06,
          0
         ],
         "theta": [
          "ending_balance",
          "credit_balance"
         ],
         "type": "scatterpolar"
        },
        {
         "fill": "toself",
         "name": "cluster719",
         "r": [
          2700,
          0
         ],
         "theta": [
          "ending_balance",
          "credit_balance"
         ],
         "type": "scatterpolar"
        },
        {
         "fill": "toself",
         "name": "cluster720",
         "r": [
          562.27,
          -1878.12
         ],
         "theta": [
          "ending_balance",
          "credit_balance"
         ],
         "type": "scatterpolar"
        },
        {
         "fill": "toself",
         "name": "cluster721",
         "r": [
          1121.88,
          -1878.12
         ],
         "theta": [
          "ending_balance",
          "credit_balance"
         ],
         "type": "scatterpolar"
        },
        {
         "fill": "toself",
         "name": "cluster722",
         "r": [
          119.87,
          -1878.12
         ],
         "theta": [
          "ending_balance",
          "credit_balance"
         ],
         "type": "scatterpolar"
        },
        {
         "fill": "toself",
         "name": "cluster723",
         "r": [
          195.13,
          0
         ],
         "theta": [
          "ending_balance",
          "credit_balance"
         ],
         "type": "scatterpolar"
        },
        {
         "fill": "toself",
         "name": "cluster724",
         "r": [
          6600,
          0
         ],
         "theta": [
          "ending_balance",
          "credit_balance"
         ],
         "type": "scatterpolar"
        },
        {
         "fill": "toself",
         "name": "cluster725",
         "r": [
          1736.57,
          0
         ],
         "theta": [
          "ending_balance",
          "credit_balance"
         ],
         "type": "scatterpolar"
        },
        {
         "fill": "toself",
         "name": "cluster726",
         "r": [
          3000,
          0
         ],
         "theta": [
          "ending_balance",
          "credit_balance"
         ],
         "type": "scatterpolar"
        },
        {
         "fill": "toself",
         "name": "cluster727",
         "r": [
          2885.15,
          0
         ],
         "theta": [
          "ending_balance",
          "credit_balance"
         ],
         "type": "scatterpolar"
        },
        {
         "fill": "toself",
         "name": "cluster728",
         "r": [
          3291.88,
          -1069.28
         ],
         "theta": [
          "ending_balance",
          "credit_balance"
         ],
         "type": "scatterpolar"
        },
        {
         "fill": "toself",
         "name": "cluster729",
         "r": [
          430.72,
          -1069.28
         ],
         "theta": [
          "ending_balance",
          "credit_balance"
         ],
         "type": "scatterpolar"
        },
        {
         "fill": "toself",
         "name": "cluster730",
         "r": [
          1155.25,
          -1000
         ],
         "theta": [
          "ending_balance",
          "credit_balance"
         ],
         "type": "scatterpolar"
        },
        {
         "fill": "toself",
         "name": "cluster731",
         "r": [
          0,
          -1000
         ],
         "theta": [
          "ending_balance",
          "credit_balance"
         ],
         "type": "scatterpolar"
        },
        {
         "fill": "toself",
         "name": "cluster732",
         "r": [
          1184.76,
          -3395.35
         ],
         "theta": [
          "ending_balance",
          "credit_balance"
         ],
         "type": "scatterpolar"
        },
        {
         "fill": "toself",
         "name": "cluster733",
         "r": [
          604.65,
          -3395.35
         ],
         "theta": [
          "ending_balance",
          "credit_balance"
         ],
         "type": "scatterpolar"
        },
        {
         "fill": "toself",
         "name": "cluster734",
         "r": [
          140,
          -3395.35
         ],
         "theta": [
          "ending_balance",
          "credit_balance"
         ],
         "type": "scatterpolar"
        },
        {
         "fill": "toself",
         "name": "cluster735",
         "r": [
          260.7,
          0
         ],
         "theta": [
          "ending_balance",
          "credit_balance"
         ],
         "type": "scatterpolar"
        },
        {
         "fill": "toself",
         "name": "cluster736",
         "r": [
          3700,
          0
         ],
         "theta": [
          "ending_balance",
          "credit_balance"
         ],
         "type": "scatterpolar"
        },
        {
         "fill": "toself",
         "name": "cluster737",
         "r": [
          816.6,
          0
         ],
         "theta": [
          "ending_balance",
          "credit_balance"
         ],
         "type": "scatterpolar"
        },
        {
         "fill": "toself",
         "name": "cluster738",
         "r": [
          1000,
          0
         ],
         "theta": [
          "ending_balance",
          "credit_balance"
         ],
         "type": "scatterpolar"
        },
        {
         "fill": "toself",
         "name": "cluster739",
         "r": [
          348.98,
          0
         ],
         "theta": [
          "ending_balance",
          "credit_balance"
         ],
         "type": "scatterpolar"
        },
        {
         "fill": "toself",
         "name": "cluster740",
         "r": [
          16.9,
          0
         ],
         "theta": [
          "ending_balance",
          "credit_balance"
         ],
         "type": "scatterpolar"
        },
        {
         "fill": "toself",
         "name": "cluster741",
         "r": [
          3000,
          0
         ],
         "theta": [
          "ending_balance",
          "credit_balance"
         ],
         "type": "scatterpolar"
        },
        {
         "fill": "toself",
         "name": "cluster742",
         "r": [
          219.6,
          0
         ],
         "theta": [
          "ending_balance",
          "credit_balance"
         ],
         "type": "scatterpolar"
        },
        {
         "fill": "toself",
         "name": "cluster743",
         "r": [
          1000,
          0
         ],
         "theta": [
          "ending_balance",
          "credit_balance"
         ],
         "type": "scatterpolar"
        },
        {
         "fill": "toself",
         "name": "cluster744",
         "r": [
          754.8,
          0
         ],
         "theta": [
          "ending_balance",
          "credit_balance"
         ],
         "type": "scatterpolar"
        },
        {
         "fill": "toself",
         "name": "cluster745",
         "r": [
          417.89,
          -2563.02
         ],
         "theta": [
          "ending_balance",
          "credit_balance"
         ],
         "type": "scatterpolar"
        },
        {
         "fill": "toself",
         "name": "cluster746",
         "r": [
          436.98,
          -2563.02
         ],
         "theta": [
          "ending_balance",
          "credit_balance"
         ],
         "type": "scatterpolar"
        },
        {
         "fill": "toself",
         "name": "cluster747",
         "r": [
          84.18,
          -1027.31
         ],
         "theta": [
          "ending_balance",
          "credit_balance"
         ],
         "type": "scatterpolar"
        },
        {
         "fill": "toself",
         "name": "cluster748",
         "r": [
          272.69,
          -1027.31
         ],
         "theta": [
          "ending_balance",
          "credit_balance"
         ],
         "type": "scatterpolar"
        },
        {
         "fill": "toself",
         "name": "cluster749",
         "r": [
          13.51,
          -3851.55
         ],
         "theta": [
          "ending_balance",
          "credit_balance"
         ],
         "type": "scatterpolar"
        },
        {
         "fill": "toself",
         "name": "cluster750",
         "r": [
          1148.45,
          -3851.55
         ],
         "theta": [
          "ending_balance",
          "credit_balance"
         ],
         "type": "scatterpolar"
        },
        {
         "fill": "toself",
         "name": "cluster751",
         "r": [
          221.3,
          -3000
         ],
         "theta": [
          "ending_balance",
          "credit_balance"
         ],
         "type": "scatterpolar"
        },
        {
         "fill": "toself",
         "name": "cluster752",
         "r": [
          0,
          -3000
         ],
         "theta": [
          "ending_balance",
          "credit_balance"
         ],
         "type": "scatterpolar"
        },
        {
         "fill": "toself",
         "name": "cluster753",
         "r": [
          386.2,
          -3000
         ],
         "theta": [
          "ending_balance",
          "credit_balance"
         ],
         "type": "scatterpolar"
        },
        {
         "fill": "toself",
         "name": "cluster754",
         "r": [
          222.05,
          -580
         ],
         "theta": [
          "ending_balance",
          "credit_balance"
         ],
         "type": "scatterpolar"
        },
        {
         "fill": "toself",
         "name": "cluster755",
         "r": [
          420,
          -580
         ],
         "theta": [
          "ending_balance",
          "credit_balance"
         ],
         "type": "scatterpolar"
        },
        {
         "fill": "toself",
         "name": "cluster756",
         "r": [
          201.95,
          -580
         ],
         "theta": [
          "ending_balance",
          "credit_balance"
         ],
         "type": "scatterpolar"
        },
        {
         "fill": "toself",
         "name": "cluster757",
         "r": [
          10.33,
          0
         ],
         "theta": [
          "ending_balance",
          "credit_balance"
         ],
         "type": "scatterpolar"
        },
        {
         "fill": "toself",
         "name": "cluster758",
         "r": [
          1000,
          0
         ],
         "theta": [
          "ending_balance",
          "credit_balance"
         ],
         "type": "scatterpolar"
        },
        {
         "fill": "toself",
         "name": "cluster759",
         "r": [
          148.06,
          0
         ],
         "theta": [
          "ending_balance",
          "credit_balance"
         ],
         "type": "scatterpolar"
        },
        {
         "fill": "toself",
         "name": "cluster760",
         "r": [
          84.83,
          -1707.37
         ],
         "theta": [
          "ending_balance",
          "credit_balance"
         ],
         "type": "scatterpolar"
        },
        {
         "fill": "toself",
         "name": "cluster761",
         "r": [
          1292.63,
          -1707.37
         ],
         "theta": [
          "ending_balance",
          "credit_balance"
         ],
         "type": "scatterpolar"
        },
        {
         "fill": "toself",
         "name": "cluster762",
         "r": [
          991.01,
          -1707.37
         ],
         "theta": [
          "ending_balance",
          "credit_balance"
         ],
         "type": "scatterpolar"
        },
        {
         "fill": "toself",
         "name": "cluster763",
         "r": [
          215.13,
          -100.91999999999996
         ],
         "theta": [
          "ending_balance",
          "credit_balance"
         ],
         "type": "scatterpolar"
        },
        {
         "fill": "toself",
         "name": "cluster764",
         "r": [
          899.08,
          -100.91999999999996
         ],
         "theta": [
          "ending_balance",
          "credit_balance"
         ],
         "type": "scatterpolar"
        },
        {
         "fill": "toself",
         "name": "cluster765",
         "r": [
          17.18,
          -100.91999999999996
         ],
         "theta": [
          "ending_balance",
          "credit_balance"
         ],
         "type": "scatterpolar"
        },
        {
         "fill": "toself",
         "name": "cluster766",
         "r": [
          1137.89,
          -3415.54
         ],
         "theta": [
          "ending_balance",
          "credit_balance"
         ],
         "type": "scatterpolar"
        },
        {
         "fill": "toself",
         "name": "cluster767",
         "r": [
          2684.46,
          -3415.54
         ],
         "theta": [
          "ending_balance",
          "credit_balance"
         ],
         "type": "scatterpolar"
        },
        {
         "fill": "toself",
         "name": "cluster768",
         "r": [
          13.96,
          -4495.86
         ],
         "theta": [
          "ending_balance",
          "credit_balance"
         ],
         "type": "scatterpolar"
        },
        {
         "fill": "toself",
         "name": "cluster769",
         "r": [
          1504.14,
          -4495.86
         ],
         "theta": [
          "ending_balance",
          "credit_balance"
         ],
         "type": "scatterpolar"
        },
        {
         "fill": "toself",
         "name": "cluster770",
         "r": [
          1663.95,
          -4495.86
         ],
         "theta": [
          "ending_balance",
          "credit_balance"
         ],
         "type": "scatterpolar"
        },
        {
         "fill": "toself",
         "name": "cluster771",
         "r": [
          696.51,
          -730.78
         ],
         "theta": [
          "ending_balance",
          "credit_balance"
         ],
         "type": "scatterpolar"
        },
        {
         "fill": "toself",
         "name": "cluster772",
         "r": [
          1469.22,
          -730.78
         ],
         "theta": [
          "ending_balance",
          "credit_balance"
         ],
         "type": "scatterpolar"
        },
        {
         "fill": "toself",
         "name": "cluster773",
         "r": [
          261.18,
          -730.78
         ],
         "theta": [
          "ending_balance",
          "credit_balance"
         ],
         "type": "scatterpolar"
        },
        {
         "fill": "toself",
         "name": "cluster774",
         "r": [
          413.73,
          0
         ],
         "theta": [
          "ending_balance",
          "credit_balance"
         ],
         "type": "scatterpolar"
        },
        {
         "fill": "toself",
         "name": "cluster775",
         "r": [
          1000,
          0
         ],
         "theta": [
          "ending_balance",
          "credit_balance"
         ],
         "type": "scatterpolar"
        },
        {
         "fill": "toself",
         "name": "cluster776",
         "r": [
          1839.28,
          -3113.71
         ],
         "theta": [
          "ending_balance",
          "credit_balance"
         ],
         "type": "scatterpolar"
        },
        {
         "fill": "toself",
         "name": "cluster777",
         "r": [
          586.29,
          -3113.71
         ],
         "theta": [
          "ending_balance",
          "credit_balance"
         ],
         "type": "scatterpolar"
        },
        {
         "fill": "toself",
         "name": "cluster778",
         "r": [
          2771.42,
          -3113.71
         ],
         "theta": [
          "ending_balance",
          "credit_balance"
         ],
         "type": "scatterpolar"
        },
        {
         "fill": "toself",
         "name": "cluster779",
         "r": [
          2009.72,
          -88.62
         ],
         "theta": [
          "ending_balance",
          "credit_balance"
         ],
         "type": "scatterpolar"
        },
        {
         "fill": "toself",
         "name": "cluster780",
         "r": [
          911.38,
          -88.62
         ],
         "theta": [
          "ending_balance",
          "credit_balance"
         ],
         "type": "scatterpolar"
        },
        {
         "fill": "toself",
         "name": "cluster781",
         "r": [
          274.78,
          -88.62
         ],
         "theta": [
          "ending_balance",
          "credit_balance"
         ],
         "type": "scatterpolar"
        },
        {
         "fill": "toself",
         "name": "cluster782",
         "r": [
          644.11,
          -494.57
         ],
         "theta": [
          "ending_balance",
          "credit_balance"
         ],
         "type": "scatterpolar"
        },
        {
         "fill": "toself",
         "name": "cluster783",
         "r": [
          505.43,
          -494.57
         ],
         "theta": [
          "ending_balance",
          "credit_balance"
         ],
         "type": "scatterpolar"
        },
        {
         "fill": "toself",
         "name": "cluster784",
         "r": [
          169.81,
          -494.57
         ],
         "theta": [
          "ending_balance",
          "credit_balance"
         ],
         "type": "scatterpolar"
        },
        {
         "fill": "toself",
         "name": "cluster785",
         "r": [
          1143.13,
          -1856.87
         ],
         "theta": [
          "ending_balance",
          "credit_balance"
         ],
         "type": "scatterpolar"
        },
        {
         "fill": "toself",
         "name": "cluster786",
         "r": [
          536.08,
          -1856.87
         ],
         "theta": [
          "ending_balance",
          "credit_balance"
         ],
         "type": "scatterpolar"
        },
        {
         "fill": "toself",
         "name": "cluster787",
         "r": [
          254.88,
          -2315.7
         ],
         "theta": [
          "ending_balance",
          "credit_balance"
         ],
         "type": "scatterpolar"
        },
        {
         "fill": "toself",
         "name": "cluster788",
         "r": [
          684.3,
          -2315.7
         ],
         "theta": [
          "ending_balance",
          "credit_balance"
         ],
         "type": "scatterpolar"
        },
        {
         "fill": "toself",
         "name": "cluster789",
         "r": [
          95.3,
          -2315.7
         ],
         "theta": [
          "ending_balance",
          "credit_balance"
         ],
         "type": "scatterpolar"
        },
        {
         "fill": "toself",
         "name": "cluster790",
         "r": [
          15.52,
          -85.91999999999996
         ],
         "theta": [
          "ending_balance",
          "credit_balance"
         ],
         "type": "scatterpolar"
        },
        {
         "fill": "toself",
         "name": "cluster791",
         "r": [
          914.08,
          -85.91999999999996
         ],
         "theta": [
          "ending_balance",
          "credit_balance"
         ],
         "type": "scatterpolar"
        },
        {
         "fill": "toself",
         "name": "cluster792",
         "r": [
          1293.45,
          -85.91999999999996
         ],
         "theta": [
          "ending_balance",
          "credit_balance"
         ],
         "type": "scatterpolar"
        },
        {
         "fill": "toself",
         "name": "cluster793",
         "r": [
          193.12,
          -709.46
         ],
         "theta": [
          "ending_balance",
          "credit_balance"
         ],
         "type": "scatterpolar"
        },
        {
         "fill": "toself",
         "name": "cluster794",
         "r": [
          290.54,
          -709.46
         ],
         "theta": [
          "ending_balance",
          "credit_balance"
         ],
         "type": "scatterpolar"
        },
        {
         "fill": "toself",
         "name": "cluster795",
         "r": [
          1098.48,
          -709.46
         ],
         "theta": [
          "ending_balance",
          "credit_balance"
         ],
         "type": "scatterpolar"
        },
        {
         "fill": "toself",
         "name": "cluster796",
         "r": [
          5192.98,
          -407.02000000000044
         ],
         "theta": [
          "ending_balance",
          "credit_balance"
         ],
         "type": "scatterpolar"
        },
        {
         "fill": "toself",
         "name": "cluster797",
         "r": [
          254.9,
          -407.02000000000044
         ],
         "theta": [
          "ending_balance",
          "credit_balance"
         ],
         "type": "scatterpolar"
        },
        {
         "fill": "toself",
         "name": "cluster798",
         "r": [
          49.08,
          0
         ],
         "theta": [
          "ending_balance",
          "credit_balance"
         ],
         "type": "scatterpolar"
        },
        {
         "fill": "toself",
         "name": "cluster799",
         "r": [
          8500,
          0
         ],
         "theta": [
          "ending_balance",
          "credit_balance"
         ],
         "type": "scatterpolar"
        },
        {
         "fill": "toself",
         "name": "cluster800",
         "r": [
          22.1,
          -4200
         ],
         "theta": [
          "ending_balance",
          "credit_balance"
         ],
         "type": "scatterpolar"
        },
        {
         "fill": "toself",
         "name": "cluster801",
         "r": [
          0,
          -4200
         ],
         "theta": [
          "ending_balance",
          "credit_balance"
         ],
         "type": "scatterpolar"
        },
        {
         "fill": "toself",
         "name": "cluster802",
         "r": [
          1900,
          0
         ],
         "theta": [
          "ending_balance",
          "credit_balance"
         ],
         "type": "scatterpolar"
        },
        {
         "fill": "toself",
         "name": "cluster803",
         "r": [
          37.27,
          0
         ],
         "theta": [
          "ending_balance",
          "credit_balance"
         ],
         "type": "scatterpolar"
        },
        {
         "fill": "toself",
         "name": "cluster804",
         "r": [
          158.09,
          -2354.91
         ],
         "theta": [
          "ending_balance",
          "credit_balance"
         ],
         "type": "scatterpolar"
        },
        {
         "fill": "toself",
         "name": "cluster805",
         "r": [
          645.09,
          -2354.91
         ],
         "theta": [
          "ending_balance",
          "credit_balance"
         ],
         "type": "scatterpolar"
        },
        {
         "fill": "toself",
         "name": "cluster806",
         "r": [
          347.2,
          -2354.91
         ],
         "theta": [
          "ending_balance",
          "credit_balance"
         ],
         "type": "scatterpolar"
        },
        {
         "fill": "toself",
         "name": "cluster807",
         "r": [
          5.87,
          0
         ],
         "theta": [
          "ending_balance",
          "credit_balance"
         ],
         "type": "scatterpolar"
        },
        {
         "fill": "toself",
         "name": "cluster808",
         "r": [
          1000,
          0
         ],
         "theta": [
          "ending_balance",
          "credit_balance"
         ],
         "type": "scatterpolar"
        },
        {
         "fill": "toself",
         "name": "cluster809",
         "r": [
          9.71,
          0
         ],
         "theta": [
          "ending_balance",
          "credit_balance"
         ],
         "type": "scatterpolar"
        },
        {
         "fill": "toself",
         "name": "cluster810",
         "r": [
          296.28,
          -1214.03
         ],
         "theta": [
          "ending_balance",
          "credit_balance"
         ],
         "type": "scatterpolar"
        },
        {
         "fill": "toself",
         "name": "cluster811",
         "r": [
          1785.97,
          -1214.03
         ],
         "theta": [
          "ending_balance",
          "credit_balance"
         ],
         "type": "scatterpolar"
        },
        {
         "fill": "toself",
         "name": "cluster812",
         "r": [
          0,
          -3000
         ],
         "theta": [
          "ending_balance",
          "credit_balance"
         ],
         "type": "scatterpolar"
        },
        {
         "fill": "toself",
         "name": "cluster813",
         "r": [
          0,
          -3000
         ],
         "theta": [
          "ending_balance",
          "credit_balance"
         ],
         "type": "scatterpolar"
        },
        {
         "fill": "toself",
         "name": "cluster814",
         "r": [
          153.82,
          -3000
         ],
         "theta": [
          "ending_balance",
          "credit_balance"
         ],
         "type": "scatterpolar"
        },
        {
         "fill": "toself",
         "name": "cluster815",
         "r": [
          839.43,
          -2060.57
         ],
         "theta": [
          "ending_balance",
          "credit_balance"
         ],
         "type": "scatterpolar"
        },
        {
         "fill": "toself",
         "name": "cluster816",
         "r": [
          1068.52,
          -3000
         ],
         "theta": [
          "ending_balance",
          "credit_balance"
         ],
         "type": "scatterpolar"
        },
        {
         "fill": "toself",
         "name": "cluster817",
         "r": [
          0,
          -3000
         ],
         "theta": [
          "ending_balance",
          "credit_balance"
         ],
         "type": "scatterpolar"
        },
        {
         "fill": "toself",
         "name": "cluster818",
         "r": [
          1082.35,
          -3000
         ],
         "theta": [
          "ending_balance",
          "credit_balance"
         ],
         "type": "scatterpolar"
        },
        {
         "fill": "toself",
         "name": "cluster819",
         "r": [
          0,
          -4625
         ],
         "theta": [
          "ending_balance",
          "credit_balance"
         ],
         "type": "scatterpolar"
        },
        {
         "fill": "toself",
         "name": "cluster820",
         "r": [
          575,
          -4625
         ],
         "theta": [
          "ending_balance",
          "credit_balance"
         ],
         "type": "scatterpolar"
        },
        {
         "fill": "toself",
         "name": "cluster821",
         "r": [
          533.3,
          -4625
         ],
         "theta": [
          "ending_balance",
          "credit_balance"
         ],
         "type": "scatterpolar"
        },
        {
         "fill": "toself",
         "name": "cluster822",
         "r": [
          955.03,
          -845.44
         ],
         "theta": [
          "ending_balance",
          "credit_balance"
         ],
         "type": "scatterpolar"
        },
        {
         "fill": "toself",
         "name": "cluster823",
         "r": [
          254.56,
          -845.44
         ],
         "theta": [
          "ending_balance",
          "credit_balance"
         ],
         "type": "scatterpolar"
        },
        {
         "fill": "toself",
         "name": "cluster824",
         "r": [
          1357.19,
          -845.44
         ],
         "theta": [
          "ending_balance",
          "credit_balance"
         ],
         "type": "scatterpolar"
        },
        {
         "fill": "toself",
         "name": "cluster825",
         "r": [
          1223.94,
          -1889.3
         ],
         "theta": [
          "ending_balance",
          "credit_balance"
         ],
         "type": "scatterpolar"
        },
        {
         "fill": "toself",
         "name": "cluster826",
         "r": [
          1610.7,
          -1889.3
         ],
         "theta": [
          "ending_balance",
          "credit_balance"
         ],
         "type": "scatterpolar"
        },
        {
         "fill": "toself",
         "name": "cluster827",
         "r": [
          130.75,
          -919.44
         ],
         "theta": [
          "ending_balance",
          "credit_balance"
         ],
         "type": "scatterpolar"
        },
        {
         "fill": "toself",
         "name": "cluster828",
         "r": [
          80.56,
          -919.44
         ],
         "theta": [
          "ending_balance",
          "credit_balance"
         ],
         "type": "scatterpolar"
        },
        {
         "fill": "toself",
         "name": "cluster829",
         "r": [
          68.7,
          -919.44
         ],
         "theta": [
          "ending_balance",
          "credit_balance"
         ],
         "type": "scatterpolar"
        },
        {
         "fill": "toself",
         "name": "cluster830",
         "r": [
          1.97,
          -630.03
         ],
         "theta": [
          "ending_balance",
          "credit_balance"
         ],
         "type": "scatterpolar"
        },
        {
         "fill": "toself",
         "name": "cluster831",
         "r": [
          369.97,
          -630.03
         ],
         "theta": [
          "ending_balance",
          "credit_balance"
         ],
         "type": "scatterpolar"
        },
        {
         "fill": "toself",
         "name": "cluster832",
         "r": [
          432.85,
          -630.03
         ],
         "theta": [
          "ending_balance",
          "credit_balance"
         ],
         "type": "scatterpolar"
        },
        {
         "fill": "toself",
         "name": "cluster833",
         "r": [
          809.67,
          -4180
         ],
         "theta": [
          "ending_balance",
          "credit_balance"
         ],
         "type": "scatterpolar"
        },
        {
         "fill": "toself",
         "name": "cluster834",
         "r": [
          20,
          -4180
         ],
         "theta": [
          "ending_balance",
          "credit_balance"
         ],
         "type": "scatterpolar"
        },
        {
         "fill": "toself",
         "name": "cluster835",
         "r": [
          7.42,
          -506.83
         ],
         "theta": [
          "ending_balance",
          "credit_balance"
         ],
         "type": "scatterpolar"
        },
        {
         "fill": "toself",
         "name": "cluster836",
         "r": [
          493.17,
          -506.83
         ],
         "theta": [
          "ending_balance",
          "credit_balance"
         ],
         "type": "scatterpolar"
        },
        {
         "fill": "toself",
         "name": "cluster837",
         "r": [
          2007.33,
          -2278.34
         ],
         "theta": [
          "ending_balance",
          "credit_balance"
         ],
         "type": "scatterpolar"
        },
        {
         "fill": "toself",
         "name": "cluster838",
         "r": [
          21.66,
          -2278.34
         ],
         "theta": [
          "ending_balance",
          "credit_balance"
         ],
         "type": "scatterpolar"
        },
        {
         "fill": "toself",
         "name": "cluster839",
         "r": [
          2978.58,
          -2278.34
         ],
         "theta": [
          "ending_balance",
          "credit_balance"
         ],
         "type": "scatterpolar"
        },
        {
         "fill": "toself",
         "name": "cluster840",
         "r": [
          147.15,
          0
         ],
         "theta": [
          "ending_balance",
          "credit_balance"
         ],
         "type": "scatterpolar"
        },
        {
         "fill": "toself",
         "name": "cluster841",
         "r": [
          1000,
          0
         ],
         "theta": [
          "ending_balance",
          "credit_balance"
         ],
         "type": "scatterpolar"
        },
        {
         "fill": "toself",
         "name": "cluster842",
         "r": [
          2901.35,
          0
         ],
         "theta": [
          "ending_balance",
          "credit_balance"
         ],
         "type": "scatterpolar"
        },
        {
         "fill": "toself",
         "name": "cluster843",
         "r": [
          19.2,
          0
         ],
         "theta": [
          "ending_balance",
          "credit_balance"
         ],
         "type": "scatterpolar"
        },
        {
         "fill": "toself",
         "name": "cluster844",
         "r": [
          1000,
          0
         ],
         "theta": [
          "ending_balance",
          "credit_balance"
         ],
         "type": "scatterpolar"
        },
        {
         "fill": "toself",
         "name": "cluster845",
         "r": [
          29.97,
          0
         ],
         "theta": [
          "ending_balance",
          "credit_balance"
         ],
         "type": "scatterpolar"
        },
        {
         "fill": "toself",
         "name": "cluster846",
         "r": [
          1500,
          0
         ],
         "theta": [
          "ending_balance",
          "credit_balance"
         ],
         "type": "scatterpolar"
        },
        {
         "fill": "toself",
         "name": "cluster847",
         "r": [
          163.39,
          0
         ],
         "theta": [
          "ending_balance",
          "credit_balance"
         ],
         "type": "scatterpolar"
        },
        {
         "fill": "toself",
         "name": "cluster848",
         "r": [
          63.32,
          -1413.73
         ],
         "theta": [
          "ending_balance",
          "credit_balance"
         ],
         "type": "scatterpolar"
        },
        {
         "fill": "toself",
         "name": "cluster849",
         "r": [
          1586.27,
          -1413.73
         ],
         "theta": [
          "ending_balance",
          "credit_balance"
         ],
         "type": "scatterpolar"
        },
        {
         "fill": "toself",
         "name": "cluster850",
         "r": [
          124.13,
          -1413.73
         ],
         "theta": [
          "ending_balance",
          "credit_balance"
         ],
         "type": "scatterpolar"
        },
        {
         "fill": "toself",
         "name": "cluster851",
         "r": [
          30.86,
          0
         ],
         "theta": [
          "ending_balance",
          "credit_balance"
         ],
         "type": "scatterpolar"
        },
        {
         "fill": "toself",
         "name": "cluster852",
         "r": [
          1000,
          0
         ],
         "theta": [
          "ending_balance",
          "credit_balance"
         ],
         "type": "scatterpolar"
        },
        {
         "fill": "toself",
         "name": "cluster853",
         "r": [
          5490.45,
          -809.5500000000002
         ],
         "theta": [
          "ending_balance",
          "credit_balance"
         ],
         "type": "scatterpolar"
        },
        {
         "fill": "toself",
         "name": "cluster854",
         "r": [
          234.2,
          0
         ],
         "theta": [
          "ending_balance",
          "credit_balance"
         ],
         "type": "scatterpolar"
        },
        {
         "fill": "toself",
         "name": "cluster855",
         "r": [
          1000,
          0
         ],
         "theta": [
          "ending_balance",
          "credit_balance"
         ],
         "type": "scatterpolar"
        },
        {
         "fill": "toself",
         "name": "cluster856",
         "r": [
          57.34,
          0
         ],
         "theta": [
          "ending_balance",
          "credit_balance"
         ],
         "type": "scatterpolar"
        },
        {
         "fill": "toself",
         "name": "cluster857",
         "r": [
          569.65,
          -6631.32
         ],
         "theta": [
          "ending_balance",
          "credit_balance"
         ],
         "type": "scatterpolar"
        },
        {
         "fill": "toself",
         "name": "cluster858",
         "r": [
          68.68,
          -6631.32
         ],
         "theta": [
          "ending_balance",
          "credit_balance"
         ],
         "type": "scatterpolar"
        },
        {
         "fill": "toself",
         "name": "cluster859",
         "r": [
          254.02,
          -6631.32
         ],
         "theta": [
          "ending_balance",
          "credit_balance"
         ],
         "type": "scatterpolar"
        },
        {
         "fill": "toself",
         "name": "cluster860",
         "r": [
          548.29,
          -1000
         ],
         "theta": [
          "ending_balance",
          "credit_balance"
         ],
         "type": "scatterpolar"
        },
        {
         "fill": "toself",
         "name": "cluster861",
         "r": [
          0,
          -1000
         ],
         "theta": [
          "ending_balance",
          "credit_balance"
         ],
         "type": "scatterpolar"
        },
        {
         "fill": "toself",
         "name": "cluster862",
         "r": [
          820.66,
          -0.82000000000005
         ],
         "theta": [
          "ending_balance",
          "credit_balance"
         ],
         "type": "scatterpolar"
        },
        {
         "fill": "toself",
         "name": "cluster863",
         "r": [
          999.18,
          -0.82000000000005
         ],
         "theta": [
          "ending_balance",
          "credit_balance"
         ],
         "type": "scatterpolar"
        },
        {
         "fill": "toself",
         "name": "cluster864",
         "r": [
          1363.11,
          -0.82000000000005
         ],
         "theta": [
          "ending_balance",
          "credit_balance"
         ],
         "type": "scatterpolar"
        },
        {
         "fill": "toself",
         "name": "cluster865",
         "r": [
          1300,
          0
         ],
         "theta": [
          "ending_balance",
          "credit_balance"
         ],
         "type": "scatterpolar"
        },
        {
         "fill": "toself",
         "name": "cluster866",
         "r": [
          43.24,
          -2132.39
         ],
         "theta": [
          "ending_balance",
          "credit_balance"
         ],
         "type": "scatterpolar"
        },
        {
         "fill": "toself",
         "name": "cluster867",
         "r": [
          67.61,
          -2132.39
         ],
         "theta": [
          "ending_balance",
          "credit_balance"
         ],
         "type": "scatterpolar"
        },
        {
         "fill": "toself",
         "name": "cluster868",
         "r": [
          46.55,
          -194.80999999999995
         ],
         "theta": [
          "ending_balance",
          "credit_balance"
         ],
         "type": "scatterpolar"
        },
        {
         "fill": "toself",
         "name": "cluster869",
         "r": [
          805.19,
          -194.80999999999995
         ],
         "theta": [
          "ending_balance",
          "credit_balance"
         ],
         "type": "scatterpolar"
        },
        {
         "fill": "toself",
         "name": "cluster870",
         "r": [
          1000,
          0
         ],
         "theta": [
          "ending_balance",
          "credit_balance"
         ],
         "type": "scatterpolar"
        },
        {
         "fill": "toself",
         "name": "cluster871",
         "r": [
          1039.96,
          0
         ],
         "theta": [
          "ending_balance",
          "credit_balance"
         ],
         "type": "scatterpolar"
        },
        {
         "fill": "toself",
         "name": "cluster872",
         "r": [
          4418.79,
          -17300
         ],
         "theta": [
          "ending_balance",
          "credit_balance"
         ],
         "type": "scatterpolar"
        },
        {
         "fill": "toself",
         "name": "cluster873",
         "r": [
          0,
          -17300
         ],
         "theta": [
          "ending_balance",
          "credit_balance"
         ],
         "type": "scatterpolar"
        },
        {
         "fill": "toself",
         "name": "cluster874",
         "r": [
          6619.84,
          -17300
         ],
         "theta": [
          "ending_balance",
          "credit_balance"
         ],
         "type": "scatterpolar"
        },
        {
         "fill": "toself",
         "name": "cluster875",
         "r": [
          579.16,
          0
         ],
         "theta": [
          "ending_balance",
          "credit_balance"
         ],
         "type": "scatterpolar"
        },
        {
         "fill": "toself",
         "name": "cluster876",
         "r": [
          1000,
          0
         ],
         "theta": [
          "ending_balance",
          "credit_balance"
         ],
         "type": "scatterpolar"
        },
        {
         "fill": "toself",
         "name": "cluster877",
         "r": [
          764.77,
          0
         ],
         "theta": [
          "ending_balance",
          "credit_balance"
         ],
         "type": "scatterpolar"
        },
        {
         "fill": "toself",
         "name": "cluster878",
         "r": [
          2093.96,
          -1306.04
         ],
         "theta": [
          "ending_balance",
          "credit_balance"
         ],
         "type": "scatterpolar"
        },
        {
         "fill": "toself",
         "name": "cluster879",
         "r": [
          3800,
          0
         ],
         "theta": [
          "ending_balance",
          "credit_balance"
         ],
         "type": "scatterpolar"
        },
        {
         "fill": "toself",
         "name": "cluster880",
         "r": [
          5792.74,
          0
         ],
         "theta": [
          "ending_balance",
          "credit_balance"
         ],
         "type": "scatterpolar"
        },
        {
         "fill": "toself",
         "name": "cluster881",
         "r": [
          28.8,
          -2910.85
         ],
         "theta": [
          "ending_balance",
          "credit_balance"
         ],
         "type": "scatterpolar"
        },
        {
         "fill": "toself",
         "name": "cluster882",
         "r": [
          89.15,
          -2910.85
         ],
         "theta": [
          "ending_balance",
          "credit_balance"
         ],
         "type": "scatterpolar"
        },
        {
         "fill": "toself",
         "name": "cluster883",
         "r": [
          266.68,
          -2633.69
         ],
         "theta": [
          "ending_balance",
          "credit_balance"
         ],
         "type": "scatterpolar"
        },
        {
         "fill": "toself",
         "name": "cluster884",
         "r": [
          366.31,
          -2633.69
         ],
         "theta": [
          "ending_balance",
          "credit_balance"
         ],
         "type": "scatterpolar"
        },
        {
         "fill": "toself",
         "name": "cluster885",
         "r": [
          2748.89,
          -3866.6099999999997
         ],
         "theta": [
          "ending_balance",
          "credit_balance"
         ],
         "type": "scatterpolar"
        },
        {
         "fill": "toself",
         "name": "cluster886",
         "r": [
          1133.39,
          -3866.6099999999997
         ],
         "theta": [
          "ending_balance",
          "credit_balance"
         ],
         "type": "scatterpolar"
        },
        {
         "fill": "toself",
         "name": "cluster887",
         "r": [
          1009.61,
          -3866.6099999999997
         ],
         "theta": [
          "ending_balance",
          "credit_balance"
         ],
         "type": "scatterpolar"
        },
        {
         "fill": "toself",
         "name": "cluster888",
         "r": [
          10.18,
          -84.25
         ],
         "theta": [
          "ending_balance",
          "credit_balance"
         ],
         "type": "scatterpolar"
        },
        {
         "fill": "toself",
         "name": "cluster889",
         "r": [
          915.75,
          -84.25
         ],
         "theta": [
          "ending_balance",
          "credit_balance"
         ],
         "type": "scatterpolar"
        },
        {
         "fill": "toself",
         "name": "cluster890",
         "r": [
          688.98,
          -84.25
         ],
         "theta": [
          "ending_balance",
          "credit_balance"
         ],
         "type": "scatterpolar"
        },
        {
         "fill": "toself",
         "name": "cluster891",
         "r": [
          248.16,
          0
         ],
         "theta": [
          "ending_balance",
          "credit_balance"
         ],
         "type": "scatterpolar"
        },
        {
         "fill": "toself",
         "name": "cluster892",
         "r": [
          1000,
          0
         ],
         "theta": [
          "ending_balance",
          "credit_balance"
         ],
         "type": "scatterpolar"
        },
        {
         "fill": "toself",
         "name": "cluster893",
         "r": [
          186.79,
          0
         ],
         "theta": [
          "ending_balance",
          "credit_balance"
         ],
         "type": "scatterpolar"
        },
        {
         "fill": "toself",
         "name": "cluster894",
         "r": [
          0,
          -1000
         ],
         "theta": [
          "ending_balance",
          "credit_balance"
         ],
         "type": "scatterpolar"
        },
        {
         "fill": "toself",
         "name": "cluster895",
         "r": [
          800.42,
          -1000
         ],
         "theta": [
          "ending_balance",
          "credit_balance"
         ],
         "type": "scatterpolar"
        },
        {
         "fill": "toself",
         "name": "cluster896",
         "r": [
          479.29,
          -1000
         ],
         "theta": [
          "ending_balance",
          "credit_balance"
         ],
         "type": "scatterpolar"
        },
        {
         "fill": "toself",
         "name": "cluster897",
         "r": [
          0,
          -1000
         ],
         "theta": [
          "ending_balance",
          "credit_balance"
         ],
         "type": "scatterpolar"
        },
        {
         "fill": "toself",
         "name": "cluster898",
         "r": [
          176.53,
          -1000
         ],
         "theta": [
          "ending_balance",
          "credit_balance"
         ],
         "type": "scatterpolar"
        },
        {
         "fill": "toself",
         "name": "cluster899",
         "r": [
          12.8,
          -5968.71
         ],
         "theta": [
          "ending_balance",
          "credit_balance"
         ],
         "type": "scatterpolar"
        },
        {
         "fill": "toself",
         "name": "cluster900",
         "r": [
          2231.29,
          -5968.71
         ],
         "theta": [
          "ending_balance",
          "credit_balance"
         ],
         "type": "scatterpolar"
        },
        {
         "fill": "toself",
         "name": "cluster901",
         "r": [
          3419.28,
          -5968.71
         ],
         "theta": [
          "ending_balance",
          "credit_balance"
         ],
         "type": "scatterpolar"
        },
        {
         "fill": "toself",
         "name": "cluster902",
         "r": [
          4690.94,
          -167.9000000000001
         ],
         "theta": [
          "ending_balance",
          "credit_balance"
         ],
         "type": "scatterpolar"
        },
        {
         "fill": "toself",
         "name": "cluster903",
         "r": [
          1932.1,
          -167.9000000000001
         ],
         "theta": [
          "ending_balance",
          "credit_balance"
         ],
         "type": "scatterpolar"
        },
        {
         "fill": "toself",
         "name": "cluster904",
         "r": [
          434.43,
          -167.9000000000001
         ],
         "theta": [
          "ending_balance",
          "credit_balance"
         ],
         "type": "scatterpolar"
        },
        {
         "fill": "toself",
         "name": "cluster905",
         "r": [
          20,
          -3680
         ],
         "theta": [
          "ending_balance",
          "credit_balance"
         ],
         "type": "scatterpolar"
        },
        {
         "fill": "toself",
         "name": "cluster906",
         "r": [
          1875.77,
          -226.04999999999995
         ],
         "theta": [
          "ending_balance",
          "credit_balance"
         ],
         "type": "scatterpolar"
        },
        {
         "fill": "toself",
         "name": "cluster907",
         "r": [
          1073.95,
          -226.04999999999995
         ],
         "theta": [
          "ending_balance",
          "credit_balance"
         ],
         "type": "scatterpolar"
        },
        {
         "fill": "toself",
         "name": "cluster908",
         "r": [
          1025.23,
          -226.04999999999995
         ],
         "theta": [
          "ending_balance",
          "credit_balance"
         ],
         "type": "scatterpolar"
        },
        {
         "fill": "toself",
         "name": "cluster909",
         "r": [
          953.53,
          -2728.13
         ],
         "theta": [
          "ending_balance",
          "credit_balance"
         ],
         "type": "scatterpolar"
        },
        {
         "fill": "toself",
         "name": "cluster910",
         "r": [
          271.87,
          -2728.13
         ],
         "theta": [
          "ending_balance",
          "credit_balance"
         ],
         "type": "scatterpolar"
        },
        {
         "fill": "toself",
         "name": "cluster911",
         "r": [
          30.89,
          -297.26
         ],
         "theta": [
          "ending_balance",
          "credit_balance"
         ],
         "type": "scatterpolar"
        },
        {
         "fill": "toself",
         "name": "cluster912",
         "r": [
          702.74,
          -297.26
         ],
         "theta": [
          "ending_balance",
          "credit_balance"
         ],
         "type": "scatterpolar"
        },
        {
         "fill": "toself",
         "name": "cluster913",
         "r": [
          4622.61,
          -297.26
         ],
         "theta": [
          "ending_balance",
          "credit_balance"
         ],
         "type": "scatterpolar"
        },
        {
         "fill": "toself",
         "name": "cluster914",
         "r": [
          174.05,
          0
         ],
         "theta": [
          "ending_balance",
          "credit_balance"
         ],
         "type": "scatterpolar"
        },
        {
         "fill": "toself",
         "name": "cluster915",
         "r": [
          1000,
          0
         ],
         "theta": [
          "ending_balance",
          "credit_balance"
         ],
         "type": "scatterpolar"
        },
        {
         "fill": "toself",
         "name": "cluster916",
         "r": [
          602.03,
          -397.97
         ],
         "theta": [
          "ending_balance",
          "credit_balance"
         ],
         "type": "scatterpolar"
        },
        {
         "fill": "toself",
         "name": "cluster917",
         "r": [
          1770.46,
          -397.97
         ],
         "theta": [
          "ending_balance",
          "credit_balance"
         ],
         "type": "scatterpolar"
        },
        {
         "fill": "toself",
         "name": "cluster918",
         "r": [
          2945.14,
          -3800
         ],
         "theta": [
          "ending_balance",
          "credit_balance"
         ],
         "type": "scatterpolar"
        },
        {
         "fill": "toself",
         "name": "cluster919",
         "r": [
          0,
          -3800
         ],
         "theta": [
          "ending_balance",
          "credit_balance"
         ],
         "type": "scatterpolar"
        },
        {
         "fill": "toself",
         "name": "cluster920",
         "r": [
          578.09,
          -3800
         ],
         "theta": [
          "ending_balance",
          "credit_balance"
         ],
         "type": "scatterpolar"
        },
        {
         "fill": "toself",
         "name": "cluster921",
         "r": [
          301.79,
          -5273.88
         ],
         "theta": [
          "ending_balance",
          "credit_balance"
         ],
         "type": "scatterpolar"
        },
        {
         "fill": "toself",
         "name": "cluster922",
         "r": [
          1226.12,
          -5273.88
         ],
         "theta": [
          "ending_balance",
          "credit_balance"
         ],
         "type": "scatterpolar"
        },
        {
         "fill": "toself",
         "name": "cluster923",
         "r": [
          1572.98,
          -863.47
         ],
         "theta": [
          "ending_balance",
          "credit_balance"
         ],
         "type": "scatterpolar"
        },
        {
         "fill": "toself",
         "name": "cluster924",
         "r": [
          636.53,
          -863.47
         ],
         "theta": [
          "ending_balance",
          "credit_balance"
         ],
         "type": "scatterpolar"
        },
        {
         "fill": "toself",
         "name": "cluster925",
         "r": [
          52.8,
          -4244.66
         ],
         "theta": [
          "ending_balance",
          "credit_balance"
         ],
         "type": "scatterpolar"
        },
        {
         "fill": "toself",
         "name": "cluster926",
         "r": [
          1555.34,
          -4244.66
         ],
         "theta": [
          "ending_balance",
          "credit_balance"
         ],
         "type": "scatterpolar"
        },
        {
         "fill": "toself",
         "name": "cluster927",
         "r": [
          1067.7,
          -4244.66
         ],
         "theta": [
          "ending_balance",
          "credit_balance"
         ],
         "type": "scatterpolar"
        },
        {
         "fill": "toself",
         "name": "cluster928",
         "r": [
          1544.52,
          0
         ],
         "theta": [
          "ending_balance",
          "credit_balance"
         ],
         "type": "scatterpolar"
        },
        {
         "fill": "toself",
         "name": "cluster929",
         "r": [
          1000,
          0
         ],
         "theta": [
          "ending_balance",
          "credit_balance"
         ],
         "type": "scatterpolar"
        },
        {
         "fill": "toself",
         "name": "cluster930",
         "r": [
          272.05,
          0
         ],
         "theta": [
          "ending_balance",
          "credit_balance"
         ],
         "type": "scatterpolar"
        },
        {
         "fill": "toself",
         "name": "cluster931",
         "r": [
          125.43,
          -2780
         ],
         "theta": [
          "ending_balance",
          "credit_balance"
         ],
         "type": "scatterpolar"
        },
        {
         "fill": "toself",
         "name": "cluster932",
         "r": [
          20,
          -2780
         ],
         "theta": [
          "ending_balance",
          "credit_balance"
         ],
         "type": "scatterpolar"
        },
        {
         "fill": "toself",
         "name": "cluster933",
         "r": [
          373.65,
          -2780
         ],
         "theta": [
          "ending_balance",
          "credit_balance"
         ],
         "type": "scatterpolar"
        },
        {
         "fill": "toself",
         "name": "cluster934",
         "r": [
          11.38,
          -3000
         ],
         "theta": [
          "ending_balance",
          "credit_balance"
         ],
         "type": "scatterpolar"
        },
        {
         "fill": "toself",
         "name": "cluster935",
         "r": [
          0,
          -3000
         ],
         "theta": [
          "ending_balance",
          "credit_balance"
         ],
         "type": "scatterpolar"
        },
        {
         "fill": "toself",
         "name": "cluster936",
         "r": [
          596.47,
          -3000
         ],
         "theta": [
          "ending_balance",
          "credit_balance"
         ],
         "type": "scatterpolar"
        },
        {
         "fill": "toself",
         "name": "cluster937",
         "r": [
          746.6,
          -253.39999999999998
         ],
         "theta": [
          "ending_balance",
          "credit_balance"
         ],
         "type": "scatterpolar"
        },
        {
         "fill": "toself",
         "name": "cluster938",
         "r": [
          149.17,
          -253.39999999999998
         ],
         "theta": [
          "ending_balance",
          "credit_balance"
         ],
         "type": "scatterpolar"
        },
        {
         "fill": "toself",
         "name": "cluster939",
         "r": [
          343.51,
          -2989.9
         ],
         "theta": [
          "ending_balance",
          "credit_balance"
         ],
         "type": "scatterpolar"
        },
        {
         "fill": "toself",
         "name": "cluster940",
         "r": [
          310.1,
          -2989.9
         ],
         "theta": [
          "ending_balance",
          "credit_balance"
         ],
         "type": "scatterpolar"
        },
        {
         "fill": "toself",
         "name": "cluster941",
         "r": [
          2275.24,
          -2524.76
         ],
         "theta": [
          "ending_balance",
          "credit_balance"
         ],
         "type": "scatterpolar"
        },
        {
         "fill": "toself",
         "name": "cluster942",
         "r": [
          1209.67,
          -2524.76
         ],
         "theta": [
          "ending_balance",
          "credit_balance"
         ],
         "type": "scatterpolar"
        },
        {
         "fill": "toself",
         "name": "cluster943",
         "r": [
          1083.14,
          -6746.73
         ],
         "theta": [
          "ending_balance",
          "credit_balance"
         ],
         "type": "scatterpolar"
        },
        {
         "fill": "toself",
         "name": "cluster944",
         "r": [
          1953.27,
          -6746.73
         ],
         "theta": [
          "ending_balance",
          "credit_balance"
         ],
         "type": "scatterpolar"
        },
        {
         "fill": "toself",
         "name": "cluster945",
         "r": [
          24.41,
          0
         ],
         "theta": [
          "ending_balance",
          "credit_balance"
         ],
         "type": "scatterpolar"
        },
        {
         "fill": "toself",
         "name": "cluster946",
         "r": [
          1200,
          0
         ],
         "theta": [
          "ending_balance",
          "credit_balance"
         ],
         "type": "scatterpolar"
        },
        {
         "fill": "toself",
         "name": "cluster947",
         "r": [
          127.75,
          -2037.38
         ],
         "theta": [
          "ending_balance",
          "credit_balance"
         ],
         "type": "scatterpolar"
        },
        {
         "fill": "toself",
         "name": "cluster948",
         "r": [
          962.62,
          -2037.38
         ],
         "theta": [
          "ending_balance",
          "credit_balance"
         ],
         "type": "scatterpolar"
        },
        {
         "fill": "toself",
         "name": "cluster949",
         "r": [
          14.7,
          0
         ],
         "theta": [
          "ending_balance",
          "credit_balance"
         ],
         "type": "scatterpolar"
        },
        {
         "fill": "toself",
         "name": "cluster950",
         "r": [
          3000,
          0
         ],
         "theta": [
          "ending_balance",
          "credit_balance"
         ],
         "type": "scatterpolar"
        },
        {
         "fill": "toself",
         "name": "cluster951",
         "r": [
          389.24,
          0
         ],
         "theta": [
          "ending_balance",
          "credit_balance"
         ],
         "type": "scatterpolar"
        },
        {
         "fill": "toself",
         "name": "cluster952",
         "r": [
          14.45,
          0
         ],
         "theta": [
          "ending_balance",
          "credit_balance"
         ],
         "type": "scatterpolar"
        },
        {
         "fill": "toself",
         "name": "cluster953",
         "r": [
          1600,
          0
         ],
         "theta": [
          "ending_balance",
          "credit_balance"
         ],
         "type": "scatterpolar"
        },
        {
         "fill": "toself",
         "name": "cluster954",
         "r": [
          57.96,
          0
         ],
         "theta": [
          "ending_balance",
          "credit_balance"
         ],
         "type": "scatterpolar"
        },
        {
         "fill": "toself",
         "name": "cluster955",
         "r": [
          68.95,
          0
         ],
         "theta": [
          "ending_balance",
          "credit_balance"
         ],
         "type": "scatterpolar"
        },
        {
         "fill": "toself",
         "name": "cluster956",
         "r": [
          1000,
          0
         ],
         "theta": [
          "ending_balance",
          "credit_balance"
         ],
         "type": "scatterpolar"
        },
        {
         "fill": "toself",
         "name": "cluster957",
         "r": [
          253.92,
          0
         ],
         "theta": [
          "ending_balance",
          "credit_balance"
         ],
         "type": "scatterpolar"
        },
        {
         "fill": "toself",
         "name": "cluster958",
         "r": [
          312.45,
          -1663.6
         ],
         "theta": [
          "ending_balance",
          "credit_balance"
         ],
         "type": "scatterpolar"
        },
        {
         "fill": "toself",
         "name": "cluster959",
         "r": [
          1336.4,
          -1663.6
         ],
         "theta": [
          "ending_balance",
          "credit_balance"
         ],
         "type": "scatterpolar"
        },
        {
         "fill": "toself",
         "name": "cluster960",
         "r": [
          782.26,
          -1663.6
         ],
         "theta": [
          "ending_balance",
          "credit_balance"
         ],
         "type": "scatterpolar"
        },
        {
         "fill": "toself",
         "name": "cluster961",
         "r": [
          403.75,
          0
         ],
         "theta": [
          "ending_balance",
          "credit_balance"
         ],
         "type": "scatterpolar"
        },
        {
         "fill": "toself",
         "name": "cluster962",
         "r": [
          1000,
          0
         ],
         "theta": [
          "ending_balance",
          "credit_balance"
         ],
         "type": "scatterpolar"
        },
        {
         "fill": "toself",
         "name": "cluster963",
         "r": [
          175.42,
          -701.5799999999999
         ],
         "theta": [
          "ending_balance",
          "credit_balance"
         ],
         "type": "scatterpolar"
        },
        {
         "fill": "toself",
         "name": "cluster964",
         "r": [
          298.42,
          -701.5799999999999
         ],
         "theta": [
          "ending_balance",
          "credit_balance"
         ],
         "type": "scatterpolar"
        },
        {
         "fill": "toself",
         "name": "cluster965",
         "r": [
          1083.77,
          -701.5799999999999
         ],
         "theta": [
          "ending_balance",
          "credit_balance"
         ],
         "type": "scatterpolar"
        },
        {
         "fill": "toself",
         "name": "cluster966",
         "r": [
          587.99,
          -8291.8
         ],
         "theta": [
          "ending_balance",
          "credit_balance"
         ],
         "type": "scatterpolar"
        },
        {
         "fill": "toself",
         "name": "cluster967",
         "r": [
          708.2,
          -8291.8
         ],
         "theta": [
          "ending_balance",
          "credit_balance"
         ],
         "type": "scatterpolar"
        },
        {
         "fill": "toself",
         "name": "cluster968",
         "r": [
          592.84,
          -8291.8
         ],
         "theta": [
          "ending_balance",
          "credit_balance"
         ],
         "type": "scatterpolar"
        },
        {
         "fill": "toself",
         "name": "cluster969",
         "r": [
          165.23,
          -2796.64
         ],
         "theta": [
          "ending_balance",
          "credit_balance"
         ],
         "type": "scatterpolar"
        },
        {
         "fill": "toself",
         "name": "cluster970",
         "r": [
          903.36,
          -2796.64
         ],
         "theta": [
          "ending_balance",
          "credit_balance"
         ],
         "type": "scatterpolar"
        },
        {
         "fill": "toself",
         "name": "cluster971",
         "r": [
          366.99,
          -2066.7799999999997
         ],
         "theta": [
          "ending_balance",
          "credit_balance"
         ],
         "type": "scatterpolar"
        },
        {
         "fill": "toself",
         "name": "cluster972",
         "r": [
          933.22,
          -2066.7799999999997
         ],
         "theta": [
          "ending_balance",
          "credit_balance"
         ],
         "type": "scatterpolar"
        },
        {
         "fill": "toself",
         "name": "cluster973",
         "r": [
          195.07,
          -2066.7799999999997
         ],
         "theta": [
          "ending_balance",
          "credit_balance"
         ],
         "type": "scatterpolar"
        },
        {
         "fill": "toself",
         "name": "cluster974",
         "r": [
          114.94,
          -862.6
         ],
         "theta": [
          "ending_balance",
          "credit_balance"
         ],
         "type": "scatterpolar"
        },
        {
         "fill": "toself",
         "name": "cluster975",
         "r": [
          137.4,
          -862.6
         ],
         "theta": [
          "ending_balance",
          "credit_balance"
         ],
         "type": "scatterpolar"
        },
        {
         "fill": "toself",
         "name": "cluster976",
         "r": [
          1193.26,
          -862.6
         ],
         "theta": [
          "ending_balance",
          "credit_balance"
         ],
         "type": "scatterpolar"
        },
        {
         "fill": "toself",
         "name": "cluster977",
         "r": [
          145.82,
          -967.67
         ],
         "theta": [
          "ending_balance",
          "credit_balance"
         ],
         "type": "scatterpolar"
        },
        {
         "fill": "toself",
         "name": "cluster978",
         "r": [
          32.33,
          -967.67
         ],
         "theta": [
          "ending_balance",
          "credit_balance"
         ],
         "type": "scatterpolar"
        },
        {
         "fill": "toself",
         "name": "cluster979",
         "r": [
          581.29,
          -967.67
         ],
         "theta": [
          "ending_balance",
          "credit_balance"
         ],
         "type": "scatterpolar"
        },
        {
         "fill": "toself",
         "name": "cluster980",
         "r": [
          305.79,
          -694.21
         ],
         "theta": [
          "ending_balance",
          "credit_balance"
         ],
         "type": "scatterpolar"
        },
        {
         "fill": "toself",
         "name": "cluster981",
         "r": [
          124.01,
          -694.21
         ],
         "theta": [
          "ending_balance",
          "credit_balance"
         ],
         "type": "scatterpolar"
        },
        {
         "fill": "toself",
         "name": "cluster982",
         "r": [
          67.3,
          -6329.4400000000005
         ],
         "theta": [
          "ending_balance",
          "credit_balance"
         ],
         "type": "scatterpolar"
        },
        {
         "fill": "toself",
         "name": "cluster983",
         "r": [
          770.56,
          -6329.4400000000005
         ],
         "theta": [
          "ending_balance",
          "credit_balance"
         ],
         "type": "scatterpolar"
        },
        {
         "fill": "toself",
         "name": "cluster984",
         "r": [
          86.13,
          0
         ],
         "theta": [
          "ending_balance",
          "credit_balance"
         ],
         "type": "scatterpolar"
        },
        {
         "fill": "toself",
         "name": "cluster985",
         "r": [
          1000,
          0
         ],
         "theta": [
          "ending_balance",
          "credit_balance"
         ],
         "type": "scatterpolar"
        },
        {
         "fill": "toself",
         "name": "cluster986",
         "r": [
          39.22,
          0
         ],
         "theta": [
          "ending_balance",
          "credit_balance"
         ],
         "type": "scatterpolar"
        },
        {
         "fill": "toself",
         "name": "cluster987",
         "r": [
          1000,
          0
         ],
         "theta": [
          "ending_balance",
          "credit_balance"
         ],
         "type": "scatterpolar"
        },
        {
         "fill": "toself",
         "name": "cluster988",
         "r": [
          0,
          -2000
         ],
         "theta": [
          "ending_balance",
          "credit_balance"
         ],
         "type": "scatterpolar"
        },
        {
         "fill": "toself",
         "name": "cluster989",
         "r": [
          533.18,
          -3764.71
         ],
         "theta": [
          "ending_balance",
          "credit_balance"
         ],
         "type": "scatterpolar"
        },
        {
         "fill": "toself",
         "name": "cluster990",
         "r": [
          735.29,
          -3764.71
         ],
         "theta": [
          "ending_balance",
          "credit_balance"
         ],
         "type": "scatterpolar"
        },
        {
         "fill": "toself",
         "name": "cluster991",
         "r": [
          1179.4,
          -962.12
         ],
         "theta": [
          "ending_balance",
          "credit_balance"
         ],
         "type": "scatterpolar"
        },
        {
         "fill": "toself",
         "name": "cluster992",
         "r": [
          37.88,
          -962.12
         ],
         "theta": [
          "ending_balance",
          "credit_balance"
         ],
         "type": "scatterpolar"
        },
        {
         "fill": "toself",
         "name": "cluster993",
         "r": [
          120.25,
          -962.12
         ],
         "theta": [
          "ending_balance",
          "credit_balance"
         ],
         "type": "scatterpolar"
        },
        {
         "fill": "toself",
         "name": "cluster994",
         "r": [
          759.22,
          -8000
         ],
         "theta": [
          "ending_balance",
          "credit_balance"
         ],
         "type": "scatterpolar"
        },
        {
         "fill": "toself",
         "name": "cluster995",
         "r": [
          0,
          -8000
         ],
         "theta": [
          "ending_balance",
          "credit_balance"
         ],
         "type": "scatterpolar"
        },
        {
         "fill": "toself",
         "name": "cluster996",
         "r": [
          1133.1,
          -8000
         ],
         "theta": [
          "ending_balance",
          "credit_balance"
         ],
         "type": "scatterpolar"
        },
        {
         "fill": "toself",
         "name": "cluster997",
         "r": [
          473.45,
          -2217.23
         ],
         "theta": [
          "ending_balance",
          "credit_balance"
         ],
         "type": "scatterpolar"
        },
        {
         "fill": "toself",
         "name": "cluster998",
         "r": [
          782.77,
          -2217.23
         ],
         "theta": [
          "ending_balance",
          "credit_balance"
         ],
         "type": "scatterpolar"
        },
        {
         "fill": "toself",
         "name": "cluster999",
         "r": [
          232.76,
          -2217.23
         ],
         "theta": [
          "ending_balance",
          "credit_balance"
         ],
         "type": "scatterpolar"
        },
        {
         "fill": "toself",
         "name": "cluster1000",
         "r": [
          8600,
          0
         ],
         "theta": [
          "ending_balance",
          "credit_balance"
         ],
         "type": "scatterpolar"
        },
        {
         "fill": "toself",
         "name": "cluster1001",
         "r": [
          6273.27,
          0
         ],
         "theta": [
          "ending_balance",
          "credit_balance"
         ],
         "type": "scatterpolar"
        },
        {
         "fill": "toself",
         "name": "cluster1002",
         "r": [
          1606.69,
          0
         ],
         "theta": [
          "ending_balance",
          "credit_balance"
         ],
         "type": "scatterpolar"
        },
        {
         "fill": "toself",
         "name": "cluster1003",
         "r": [
          1000,
          0
         ],
         "theta": [
          "ending_balance",
          "credit_balance"
         ],
         "type": "scatterpolar"
        },
        {
         "fill": "toself",
         "name": "cluster1004",
         "r": [
          289.89,
          0
         ],
         "theta": [
          "ending_balance",
          "credit_balance"
         ],
         "type": "scatterpolar"
        },
        {
         "fill": "toself",
         "name": "cluster1005",
         "r": [
          361.31,
          -3466.13
         ],
         "theta": [
          "ending_balance",
          "credit_balance"
         ],
         "type": "scatterpolar"
        },
        {
         "fill": "toself",
         "name": "cluster1006",
         "r": [
          133.87,
          -3466.13
         ],
         "theta": [
          "ending_balance",
          "credit_balance"
         ],
         "type": "scatterpolar"
        },
        {
         "fill": "toself",
         "name": "cluster1007",
         "r": [
          0,
          -1300
         ],
         "theta": [
          "ending_balance",
          "credit_balance"
         ],
         "type": "scatterpolar"
        },
        {
         "fill": "toself",
         "name": "cluster1008",
         "r": [
          4.62,
          -564.81
         ],
         "theta": [
          "ending_balance",
          "credit_balance"
         ],
         "type": "scatterpolar"
        },
        {
         "fill": "toself",
         "name": "cluster1009",
         "r": [
          835.19,
          -564.81
         ],
         "theta": [
          "ending_balance",
          "credit_balance"
         ],
         "type": "scatterpolar"
        },
        {
         "fill": "toself",
         "name": "cluster1010",
         "r": [
          79.52,
          -564.81
         ],
         "theta": [
          "ending_balance",
          "credit_balance"
         ],
         "type": "scatterpolar"
        },
        {
         "fill": "toself",
         "name": "cluster1011",
         "r": [
          669.27,
          -461.07000000000005
         ],
         "theta": [
          "ending_balance",
          "credit_balance"
         ],
         "type": "scatterpolar"
        },
        {
         "fill": "toself",
         "name": "cluster1012",
         "r": [
          538.93,
          -461.07000000000005
         ],
         "theta": [
          "ending_balance",
          "credit_balance"
         ],
         "type": "scatterpolar"
        },
        {
         "fill": "toself",
         "name": "cluster1013",
         "r": [
          1308.55,
          -461.07000000000005
         ],
         "theta": [
          "ending_balance",
          "credit_balance"
         ],
         "type": "scatterpolar"
        },
        {
         "fill": "toself",
         "name": "cluster1014",
         "r": [
          446.35,
          -1139.33
         ],
         "theta": [
          "ending_balance",
          "credit_balance"
         ],
         "type": "scatterpolar"
        },
        {
         "fill": "toself",
         "name": "cluster1015",
         "r": [
          1860.67,
          -1139.33
         ],
         "theta": [
          "ending_balance",
          "credit_balance"
         ],
         "type": "scatterpolar"
        },
        {
         "fill": "toself",
         "name": "cluster1016",
         "r": [
          740.57,
          -1139.33
         ],
         "theta": [
          "ending_balance",
          "credit_balance"
         ],
         "type": "scatterpolar"
        },
        {
         "fill": "toself",
         "name": "cluster1017",
         "r": [
          3342.38,
          -2411.85
         ],
         "theta": [
          "ending_balance",
          "credit_balance"
         ],
         "type": "scatterpolar"
        },
        {
         "fill": "toself",
         "name": "cluster1018",
         "r": [
          588.15,
          -2411.85
         ],
         "theta": [
          "ending_balance",
          "credit_balance"
         ],
         "type": "scatterpolar"
        },
        {
         "fill": "toself",
         "name": "cluster1019",
         "r": [
          118.27,
          -487.27
         ],
         "theta": [
          "ending_balance",
          "credit_balance"
         ],
         "type": "scatterpolar"
        },
        {
         "fill": "toself",
         "name": "cluster1020",
         "r": [
          512.73,
          -487.27
         ],
         "theta": [
          "ending_balance",
          "credit_balance"
         ],
         "type": "scatterpolar"
        },
        {
         "fill": "toself",
         "name": "cluster1021",
         "r": [
          310.32,
          -487.27
         ],
         "theta": [
          "ending_balance",
          "credit_balance"
         ],
         "type": "scatterpolar"
        },
        {
         "fill": "toself",
         "name": "cluster1022",
         "r": [
          1.98,
          -5.350000000000023
         ],
         "theta": [
          "ending_balance",
          "credit_balance"
         ],
         "type": "scatterpolar"
        },
        {
         "fill": "toself",
         "name": "cluster1023",
         "r": [
          994.65,
          -5.350000000000023
         ],
         "theta": [
          "ending_balance",
          "credit_balance"
         ],
         "type": "scatterpolar"
        },
        {
         "fill": "toself",
         "name": "cluster1024",
         "r": [
          142.87,
          0
         ],
         "theta": [
          "ending_balance",
          "credit_balance"
         ],
         "type": "scatterpolar"
        },
        {
         "fill": "toself",
         "name": "cluster1025",
         "r": [
          1000,
          0
         ],
         "theta": [
          "ending_balance",
          "credit_balance"
         ],
         "type": "scatterpolar"
        },
        {
         "fill": "toself",
         "name": "cluster1026",
         "r": [
          270.7,
          0
         ],
         "theta": [
          "ending_balance",
          "credit_balance"
         ],
         "type": "scatterpolar"
        },
        {
         "fill": "toself",
         "name": "cluster1027",
         "r": [
          2516.2,
          -466.5899999999999
         ],
         "theta": [
          "ending_balance",
          "credit_balance"
         ],
         "type": "scatterpolar"
        },
        {
         "fill": "toself",
         "name": "cluster1028",
         "r": [
          2033.41,
          -466.5899999999999
         ],
         "theta": [
          "ending_balance",
          "credit_balance"
         ],
         "type": "scatterpolar"
        },
        {
         "fill": "toself",
         "name": "cluster1029",
         "r": [
          2510.16,
          -466.5899999999999
         ],
         "theta": [
          "ending_balance",
          "credit_balance"
         ],
         "type": "scatterpolar"
        },
        {
         "fill": "toself",
         "name": "cluster1030",
         "r": [
          554.35,
          -586.49
         ],
         "theta": [
          "ending_balance",
          "credit_balance"
         ],
         "type": "scatterpolar"
        },
        {
         "fill": "toself",
         "name": "cluster1031",
         "r": [
          813.51,
          -586.49
         ],
         "theta": [
          "ending_balance",
          "credit_balance"
         ],
         "type": "scatterpolar"
        },
        {
         "fill": "toself",
         "name": "cluster1032",
         "r": [
          5500,
          0
         ],
         "theta": [
          "ending_balance",
          "credit_balance"
         ],
         "type": "scatterpolar"
        },
        {
         "fill": "toself",
         "name": "cluster1033",
         "r": [
          927.28,
          0
         ],
         "theta": [
          "ending_balance",
          "credit_balance"
         ],
         "type": "scatterpolar"
        },
        {
         "fill": "toself",
         "name": "cluster1034",
         "r": [
          86.86,
          -2480
         ],
         "theta": [
          "ending_balance",
          "credit_balance"
         ],
         "type": "scatterpolar"
        },
        {
         "fill": "toself",
         "name": "cluster1035",
         "r": [
          20,
          -2480
         ],
         "theta": [
          "ending_balance",
          "credit_balance"
         ],
         "type": "scatterpolar"
        },
        {
         "fill": "toself",
         "name": "cluster1036",
         "r": [
          1187.97,
          -2480
         ],
         "theta": [
          "ending_balance",
          "credit_balance"
         ],
         "type": "scatterpolar"
        },
        {
         "fill": "toself",
         "name": "cluster1037",
         "r": [
          39.24,
          -932.1800000000001
         ],
         "theta": [
          "ending_balance",
          "credit_balance"
         ],
         "type": "scatterpolar"
        },
        {
         "fill": "toself",
         "name": "cluster1038",
         "r": [
          67.82,
          -932.1800000000001
         ],
         "theta": [
          "ending_balance",
          "credit_balance"
         ],
         "type": "scatterpolar"
        },
        {
         "fill": "toself",
         "name": "cluster1039",
         "r": [
          4.69,
          -2166.48
         ],
         "theta": [
          "ending_balance",
          "credit_balance"
         ],
         "type": "scatterpolar"
        },
        {
         "fill": "toself",
         "name": "cluster1040",
         "r": [
          33.52,
          -2166.48
         ],
         "theta": [
          "ending_balance",
          "credit_balance"
         ],
         "type": "scatterpolar"
        },
        {
         "fill": "toself",
         "name": "cluster1041",
         "r": [
          656.39,
          0
         ],
         "theta": [
          "ending_balance",
          "credit_balance"
         ],
         "type": "scatterpolar"
        },
        {
         "fill": "toself",
         "name": "cluster1042",
         "r": [
          1000,
          0
         ],
         "theta": [
          "ending_balance",
          "credit_balance"
         ],
         "type": "scatterpolar"
        },
        {
         "fill": "toself",
         "name": "cluster1043",
         "r": [
          994.79,
          -1000
         ],
         "theta": [
          "ending_balance",
          "credit_balance"
         ],
         "type": "scatterpolar"
        },
        {
         "fill": "toself",
         "name": "cluster1044",
         "r": [
          0,
          -1000
         ],
         "theta": [
          "ending_balance",
          "credit_balance"
         ],
         "type": "scatterpolar"
        },
        {
         "fill": "toself",
         "name": "cluster1045",
         "r": [
          711.32,
          -2288.68
         ],
         "theta": [
          "ending_balance",
          "credit_balance"
         ],
         "type": "scatterpolar"
        },
        {
         "fill": "toself",
         "name": "cluster1046",
         "r": [
          680.94,
          -2288.68
         ],
         "theta": [
          "ending_balance",
          "credit_balance"
         ],
         "type": "scatterpolar"
        },
        {
         "fill": "toself",
         "name": "cluster1047",
         "r": [
          92.92,
          0
         ],
         "theta": [
          "ending_balance",
          "credit_balance"
         ],
         "type": "scatterpolar"
        },
        {
         "fill": "toself",
         "name": "cluster1048",
         "r": [
          4400,
          0
         ],
         "theta": [
          "ending_balance",
          "credit_balance"
         ],
         "type": "scatterpolar"
        },
        {
         "fill": "toself",
         "name": "cluster1049",
         "r": [
          7.84,
          0
         ],
         "theta": [
          "ending_balance",
          "credit_balance"
         ],
         "type": "scatterpolar"
        },
        {
         "fill": "toself",
         "name": "cluster1050",
         "r": [
          1000,
          0
         ],
         "theta": [
          "ending_balance",
          "credit_balance"
         ],
         "type": "scatterpolar"
        },
        {
         "fill": "toself",
         "name": "cluster1051",
         "r": [
          611.94,
          0
         ],
         "theta": [
          "ending_balance",
          "credit_balance"
         ],
         "type": "scatterpolar"
        },
        {
         "fill": "toself",
         "name": "cluster1052",
         "r": [
          4400,
          0
         ],
         "theta": [
          "ending_balance",
          "credit_balance"
         ],
         "type": "scatterpolar"
        },
        {
         "fill": "toself",
         "name": "cluster1053",
         "r": [
          377.3,
          -2300
         ],
         "theta": [
          "ending_balance",
          "credit_balance"
         ],
         "type": "scatterpolar"
        },
        {
         "fill": "toself",
         "name": "cluster1054",
         "r": [
          0,
          -2300
         ],
         "theta": [
          "ending_balance",
          "credit_balance"
         ],
         "type": "scatterpolar"
        },
        {
         "fill": "toself",
         "name": "cluster1055",
         "r": [
          286.69,
          -713.31
         ],
         "theta": [
          "ending_balance",
          "credit_balance"
         ],
         "type": "scatterpolar"
        },
        {
         "fill": "toself",
         "name": "cluster1056",
         "r": [
          122.54,
          -713.31
         ],
         "theta": [
          "ending_balance",
          "credit_balance"
         ],
         "type": "scatterpolar"
        },
        {
         "fill": "toself",
         "name": "cluster1057",
         "r": [
          271.08,
          -41.809999999999945
         ],
         "theta": [
          "ending_balance",
          "credit_balance"
         ],
         "type": "scatterpolar"
        },
        {
         "fill": "toself",
         "name": "cluster1058",
         "r": [
          1358.19,
          -41.809999999999945
         ],
         "theta": [
          "ending_balance",
          "credit_balance"
         ],
         "type": "scatterpolar"
        },
        {
         "fill": "toself",
         "name": "cluster1059",
         "r": [
          941.16,
          -41.809999999999945
         ],
         "theta": [
          "ending_balance",
          "credit_balance"
         ],
         "type": "scatterpolar"
        },
        {
         "fill": "toself",
         "name": "cluster1060",
         "r": [
          1000,
          0
         ],
         "theta": [
          "ending_balance",
          "credit_balance"
         ],
         "type": "scatterpolar"
        },
        {
         "fill": "toself",
         "name": "cluster1061",
         "r": [
          2226.62,
          0
         ],
         "theta": [
          "ending_balance",
          "credit_balance"
         ],
         "type": "scatterpolar"
        },
        {
         "fill": "toself",
         "name": "cluster1062",
         "r": [
          8.13,
          -1400
         ],
         "theta": [
          "ending_balance",
          "credit_balance"
         ],
         "type": "scatterpolar"
        },
        {
         "fill": "toself",
         "name": "cluster1063",
         "r": [
          0,
          -1400
         ],
         "theta": [
          "ending_balance",
          "credit_balance"
         ],
         "type": "scatterpolar"
        },
        {
         "fill": "toself",
         "name": "cluster1064",
         "r": [
          895.56,
          -1400
         ],
         "theta": [
          "ending_balance",
          "credit_balance"
         ],
         "type": "scatterpolar"
        },
        {
         "fill": "toself",
         "name": "cluster1065",
         "r": [
          5651.4,
          -3601.94
         ],
         "theta": [
          "ending_balance",
          "credit_balance"
         ],
         "type": "scatterpolar"
        },
        {
         "fill": "toself",
         "name": "cluster1066",
         "r": [
          498.06,
          -3601.94
         ],
         "theta": [
          "ending_balance",
          "credit_balance"
         ],
         "type": "scatterpolar"
        },
        {
         "fill": "toself",
         "name": "cluster1067",
         "r": [
          1585.57,
          -3601.94
         ],
         "theta": [
          "ending_balance",
          "credit_balance"
         ],
         "type": "scatterpolar"
        },
        {
         "fill": "toself",
         "name": "cluster1068",
         "r": [
          68.65,
          0
         ],
         "theta": [
          "ending_balance",
          "credit_balance"
         ],
         "type": "scatterpolar"
        },
        {
         "fill": "toself",
         "name": "cluster1069",
         "r": [
          1000,
          0
         ],
         "theta": [
          "ending_balance",
          "credit_balance"
         ],
         "type": "scatterpolar"
        },
        {
         "fill": "toself",
         "name": "cluster1070",
         "r": [
          222.18,
          0
         ],
         "theta": [
          "ending_balance",
          "credit_balance"
         ],
         "type": "scatterpolar"
        },
        {
         "fill": "toself",
         "name": "cluster1071",
         "r": [
          13.46,
          0
         ],
         "theta": [
          "ending_balance",
          "credit_balance"
         ],
         "type": "scatterpolar"
        },
        {
         "fill": "toself",
         "name": "cluster1072",
         "r": [
          1000,
          0
         ],
         "theta": [
          "ending_balance",
          "credit_balance"
         ],
         "type": "scatterpolar"
        },
        {
         "fill": "toself",
         "name": "cluster1073",
         "r": [
          141.86,
          0
         ],
         "theta": [
          "ending_balance",
          "credit_balance"
         ],
         "type": "scatterpolar"
        },
        {
         "fill": "toself",
         "name": "cluster1074",
         "r": [
          1200,
          0
         ],
         "theta": [
          "ending_balance",
          "credit_balance"
         ],
         "type": "scatterpolar"
        },
        {
         "fill": "toself",
         "name": "cluster1075",
         "r": [
          2361.62,
          0
         ],
         "theta": [
          "ending_balance",
          "credit_balance"
         ],
         "type": "scatterpolar"
        },
        {
         "fill": "toself",
         "name": "cluster1076",
         "r": [
          1160.14,
          -3800
         ],
         "theta": [
          "ending_balance",
          "credit_balance"
         ],
         "type": "scatterpolar"
        },
        {
         "fill": "toself",
         "name": "cluster1077",
         "r": [
          0,
          -3800
         ],
         "theta": [
          "ending_balance",
          "credit_balance"
         ],
         "type": "scatterpolar"
        },
        {
         "fill": "toself",
         "name": "cluster1078",
         "r": [
          274.83,
          -3800
         ],
         "theta": [
          "ending_balance",
          "credit_balance"
         ],
         "type": "scatterpolar"
        },
        {
         "fill": "toself",
         "name": "cluster1079",
         "r": [
          1961.87,
          0
         ],
         "theta": [
          "ending_balance",
          "credit_balance"
         ],
         "type": "scatterpolar"
        },
        {
         "fill": "toself",
         "name": "cluster1080",
         "r": [
          1400,
          0
         ],
         "theta": [
          "ending_balance",
          "credit_balance"
         ],
         "type": "scatterpolar"
        },
        {
         "fill": "toself",
         "name": "cluster1081",
         "r": [
          1763.31,
          0
         ],
         "theta": [
          "ending_balance",
          "credit_balance"
         ],
         "type": "scatterpolar"
        },
        {
         "fill": "toself",
         "name": "cluster1082",
         "r": [
          13.37,
          -2900.1
         ],
         "theta": [
          "ending_balance",
          "credit_balance"
         ],
         "type": "scatterpolar"
        },
        {
         "fill": "toself",
         "name": "cluster1083",
         "r": [
          99.9,
          -2900.1
         ],
         "theta": [
          "ending_balance",
          "credit_balance"
         ],
         "type": "scatterpolar"
        },
        {
         "fill": "toself",
         "name": "cluster1084",
         "r": [
          162.53,
          -2900.1
         ],
         "theta": [
          "ending_balance",
          "credit_balance"
         ],
         "type": "scatterpolar"
        },
        {
         "fill": "toself",
         "name": "cluster1085",
         "r": [
          0,
          -954.77
         ],
         "theta": [
          "ending_balance",
          "credit_balance"
         ],
         "type": "scatterpolar"
        },
        {
         "fill": "toself",
         "name": "cluster1086",
         "r": [
          45.23,
          -954.77
         ],
         "theta": [
          "ending_balance",
          "credit_balance"
         ],
         "type": "scatterpolar"
        },
        {
         "fill": "toself",
         "name": "cluster1087",
         "r": [
          162.1,
          -2415.87
         ],
         "theta": [
          "ending_balance",
          "credit_balance"
         ],
         "type": "scatterpolar"
        },
        {
         "fill": "toself",
         "name": "cluster1088",
         "r": [
          584.13,
          -2415.87
         ],
         "theta": [
          "ending_balance",
          "credit_balance"
         ],
         "type": "scatterpolar"
        },
        {
         "fill": "toself",
         "name": "cluster1089",
         "r": [
          1493.41,
          -2415.87
         ],
         "theta": [
          "ending_balance",
          "credit_balance"
         ],
         "type": "scatterpolar"
        },
        {
         "fill": "toself",
         "name": "cluster1090",
         "r": [
          329.74,
          -356.65999999999997
         ],
         "theta": [
          "ending_balance",
          "credit_balance"
         ],
         "type": "scatterpolar"
        },
        {
         "fill": "toself",
         "name": "cluster1091",
         "r": [
          643.34,
          -356.65999999999997
         ],
         "theta": [
          "ending_balance",
          "credit_balance"
         ],
         "type": "scatterpolar"
        },
        {
         "fill": "toself",
         "name": "cluster1092",
         "r": [
          13185.47,
          -2268.41
         ],
         "theta": [
          "ending_balance",
          "credit_balance"
         ],
         "type": "scatterpolar"
        },
        {
         "fill": "toself",
         "name": "cluster1093",
         "r": [
          4231.59,
          -2268.41
         ],
         "theta": [
          "ending_balance",
          "credit_balance"
         ],
         "type": "scatterpolar"
        },
        {
         "fill": "toself",
         "name": "cluster1094",
         "r": [
          30.47,
          0
         ],
         "theta": [
          "ending_balance",
          "credit_balance"
         ],
         "type": "scatterpolar"
        },
        {
         "fill": "toself",
         "name": "cluster1095",
         "r": [
          1000,
          0
         ],
         "theta": [
          "ending_balance",
          "credit_balance"
         ],
         "type": "scatterpolar"
        },
        {
         "fill": "toself",
         "name": "cluster1096",
         "r": [
          1724.92,
          0
         ],
         "theta": [
          "ending_balance",
          "credit_balance"
         ],
         "type": "scatterpolar"
        },
        {
         "fill": "toself",
         "name": "cluster1097",
         "r": [
          1600,
          0
         ],
         "theta": [
          "ending_balance",
          "credit_balance"
         ],
         "type": "scatterpolar"
        },
        {
         "fill": "toself",
         "name": "cluster1098",
         "r": [
          1909.09,
          0
         ],
         "theta": [
          "ending_balance",
          "credit_balance"
         ],
         "type": "scatterpolar"
        },
        {
         "fill": "toself",
         "name": "cluster1099",
         "r": [
          1700,
          0
         ],
         "theta": [
          "ending_balance",
          "credit_balance"
         ],
         "type": "scatterpolar"
        },
        {
         "fill": "toself",
         "name": "cluster1100",
         "r": [
          42.85,
          0
         ],
         "theta": [
          "ending_balance",
          "credit_balance"
         ],
         "type": "scatterpolar"
        },
        {
         "fill": "toself",
         "name": "cluster1101",
         "r": [
          1000,
          0
         ],
         "theta": [
          "ending_balance",
          "credit_balance"
         ],
         "type": "scatterpolar"
        },
        {
         "fill": "toself",
         "name": "cluster1102",
         "r": [
          821.42,
          -178.58000000000004
         ],
         "theta": [
          "ending_balance",
          "credit_balance"
         ],
         "type": "scatterpolar"
        },
        {
         "fill": "toself",
         "name": "cluster1103",
         "r": [
          848.22,
          0
         ],
         "theta": [
          "ending_balance",
          "credit_balance"
         ],
         "type": "scatterpolar"
        },
        {
         "fill": "toself",
         "name": "cluster1104",
         "r": [
          1000,
          0
         ],
         "theta": [
          "ending_balance",
          "credit_balance"
         ],
         "type": "scatterpolar"
        },
        {
         "fill": "toself",
         "name": "cluster1105",
         "r": [
          237.69,
          -3780
         ],
         "theta": [
          "ending_balance",
          "credit_balance"
         ],
         "type": "scatterpolar"
        },
        {
         "fill": "toself",
         "name": "cluster1106",
         "r": [
          20,
          -3780
         ],
         "theta": [
          "ending_balance",
          "credit_balance"
         ],
         "type": "scatterpolar"
        },
        {
         "fill": "toself",
         "name": "cluster1107",
         "r": [
          0,
          -3000
         ],
         "theta": [
          "ending_balance",
          "credit_balance"
         ],
         "type": "scatterpolar"
        },
        {
         "fill": "toself",
         "name": "cluster1108",
         "r": [
          669.16,
          -773.4300000000001
         ],
         "theta": [
          "ending_balance",
          "credit_balance"
         ],
         "type": "scatterpolar"
        },
        {
         "fill": "toself",
         "name": "cluster1109",
         "r": [
          226.57,
          -773.4300000000001
         ],
         "theta": [
          "ending_balance",
          "credit_balance"
         ],
         "type": "scatterpolar"
        },
        {
         "fill": "toself",
         "name": "cluster1110",
         "r": [
          9.62,
          0
         ],
         "theta": [
          "ending_balance",
          "credit_balance"
         ],
         "type": "scatterpolar"
        },
        {
         "fill": "toself",
         "name": "cluster1111",
         "r": [
          1200,
          0
         ],
         "theta": [
          "ending_balance",
          "credit_balance"
         ],
         "type": "scatterpolar"
        },
        {
         "fill": "toself",
         "name": "cluster1112",
         "r": [
          660.4,
          -3839.6
         ],
         "theta": [
          "ending_balance",
          "credit_balance"
         ],
         "type": "scatterpolar"
        },
        {
         "fill": "toself",
         "name": "cluster1113",
         "r": [
          1241.78,
          -3839.6
         ],
         "theta": [
          "ending_balance",
          "credit_balance"
         ],
         "type": "scatterpolar"
        },
        {
         "fill": "toself",
         "name": "cluster1114",
         "r": [
          1218.94,
          -1781.06
         ],
         "theta": [
          "ending_balance",
          "credit_balance"
         ],
         "type": "scatterpolar"
        },
        {
         "fill": "toself",
         "name": "cluster1115",
         "r": [
          79.24,
          0
         ],
         "theta": [
          "ending_balance",
          "credit_balance"
         ],
         "type": "scatterpolar"
        },
        {
         "fill": "toself",
         "name": "cluster1116",
         "r": [
          3000,
          0
         ],
         "theta": [
          "ending_balance",
          "credit_balance"
         ],
         "type": "scatterpolar"
        },
        {
         "fill": "toself",
         "name": "cluster1117",
         "r": [
          93.66,
          -139.70000000000005
         ],
         "theta": [
          "ending_balance",
          "credit_balance"
         ],
         "type": "scatterpolar"
        },
        {
         "fill": "toself",
         "name": "cluster1118",
         "r": [
          1360.3,
          -139.70000000000005
         ],
         "theta": [
          "ending_balance",
          "credit_balance"
         ],
         "type": "scatterpolar"
        },
        {
         "fill": "toself",
         "name": "cluster1119",
         "r": [
          582.82,
          0
         ],
         "theta": [
          "ending_balance",
          "credit_balance"
         ],
         "type": "scatterpolar"
        },
        {
         "fill": "toself",
         "name": "cluster1120",
         "r": [
          2000,
          0
         ],
         "theta": [
          "ending_balance",
          "credit_balance"
         ],
         "type": "scatterpolar"
        },
        {
         "fill": "toself",
         "name": "cluster1121",
         "r": [
          5359.08,
          -1240.92
         ],
         "theta": [
          "ending_balance",
          "credit_balance"
         ],
         "type": "scatterpolar"
        },
        {
         "fill": "toself",
         "name": "cluster1122",
         "r": [
          1095.71,
          -35.32999999999993
         ],
         "theta": [
          "ending_balance",
          "credit_balance"
         ],
         "type": "scatterpolar"
        },
        {
         "fill": "toself",
         "name": "cluster1123",
         "r": [
          2764.67,
          -35.32999999999993
         ],
         "theta": [
          "ending_balance",
          "credit_balance"
         ],
         "type": "scatterpolar"
        },
        {
         "fill": "toself",
         "name": "cluster1124",
         "r": [
          380.37,
          0
         ],
         "theta": [
          "ending_balance",
          "credit_balance"
         ],
         "type": "scatterpolar"
        },
        {
         "fill": "toself",
         "name": "cluster1125",
         "r": [
          1100,
          0
         ],
         "theta": [
          "ending_balance",
          "credit_balance"
         ],
         "type": "scatterpolar"
        },
        {
         "fill": "toself",
         "name": "cluster1126",
         "r": [
          2877.12,
          -17.949999999999818
         ],
         "theta": [
          "ending_balance",
          "credit_balance"
         ],
         "type": "scatterpolar"
        },
        {
         "fill": "toself",
         "name": "cluster1127",
         "r": [
          3082.05,
          -17.949999999999818
         ],
         "theta": [
          "ending_balance",
          "credit_balance"
         ],
         "type": "scatterpolar"
        },
        {
         "fill": "toself",
         "name": "cluster1128",
         "r": [
          918.09,
          -1881.9099999999999
         ],
         "theta": [
          "ending_balance",
          "credit_balance"
         ],
         "type": "scatterpolar"
        },
        {
         "fill": "toself",
         "name": "cluster1129",
         "r": [
          13.37,
          -2081.34
         ],
         "theta": [
          "ending_balance",
          "credit_balance"
         ],
         "type": "scatterpolar"
        },
        {
         "fill": "toself",
         "name": "cluster1130",
         "r": [
          918.66,
          -2081.34
         ],
         "theta": [
          "ending_balance",
          "credit_balance"
         ],
         "type": "scatterpolar"
        },
        {
         "fill": "toself",
         "name": "cluster1131",
         "r": [
          58.47,
          0
         ],
         "theta": [
          "ending_balance",
          "credit_balance"
         ],
         "type": "scatterpolar"
        },
        {
         "fill": "toself",
         "name": "cluster1132",
         "r": [
          1500,
          0
         ],
         "theta": [
          "ending_balance",
          "credit_balance"
         ],
         "type": "scatterpolar"
        },
        {
         "fill": "toself",
         "name": "cluster1133",
         "r": [
          2744.43,
          0
         ],
         "theta": [
          "ending_balance",
          "credit_balance"
         ],
         "type": "scatterpolar"
        },
        {
         "fill": "toself",
         "name": "cluster1134",
         "r": [
          2500,
          0
         ],
         "theta": [
          "ending_balance",
          "credit_balance"
         ],
         "type": "scatterpolar"
        },
        {
         "fill": "toself",
         "name": "cluster1135",
         "r": [
          123.78,
          0
         ],
         "theta": [
          "ending_balance",
          "credit_balance"
         ],
         "type": "scatterpolar"
        },
        {
         "fill": "toself",
         "name": "cluster1136",
         "r": [
          5600,
          0
         ],
         "theta": [
          "ending_balance",
          "credit_balance"
         ],
         "type": "scatterpolar"
        },
        {
         "fill": "toself",
         "name": "cluster1137",
         "r": [
          777,
          -223
         ],
         "theta": [
          "ending_balance",
          "credit_balance"
         ],
         "type": "scatterpolar"
        },
        {
         "fill": "toself",
         "name": "cluster1138",
         "r": [
          431.33,
          -1950
         ],
         "theta": [
          "ending_balance",
          "credit_balance"
         ],
         "type": "scatterpolar"
        },
        {
         "fill": "toself",
         "name": "cluster1139",
         "r": [
          1050,
          -1950
         ],
         "theta": [
          "ending_balance",
          "credit_balance"
         ],
         "type": "scatterpolar"
        },
        {
         "fill": "toself",
         "name": "cluster1140",
         "r": [
          1000,
          0
         ],
         "theta": [
          "ending_balance",
          "credit_balance"
         ],
         "type": "scatterpolar"
        },
        {
         "fill": "toself",
         "name": "cluster1141",
         "r": [
          314.35,
          -892.18
         ],
         "theta": [
          "ending_balance",
          "credit_balance"
         ],
         "type": "scatterpolar"
        },
        {
         "fill": "toself",
         "name": "cluster1142",
         "r": [
          907.82,
          -892.18
         ],
         "theta": [
          "ending_balance",
          "credit_balance"
         ],
         "type": "scatterpolar"
        },
        {
         "fill": "toself",
         "name": "cluster1143",
         "r": [
          112.99,
          -2087.01
         ],
         "theta": [
          "ending_balance",
          "credit_balance"
         ],
         "type": "scatterpolar"
        },
        {
         "fill": "toself",
         "name": "cluster1144",
         "r": [
          0,
          -1000
         ],
         "theta": [
          "ending_balance",
          "credit_balance"
         ],
         "type": "scatterpolar"
        },
        {
         "fill": "toself",
         "name": "cluster1145",
         "r": [
          952.52,
          -3647.48
         ],
         "theta": [
          "ending_balance",
          "credit_balance"
         ],
         "type": "scatterpolar"
        },
        {
         "fill": "toself",
         "name": "cluster1146",
         "r": [
          545.57,
          -454.42999999999995
         ],
         "theta": [
          "ending_balance",
          "credit_balance"
         ],
         "type": "scatterpolar"
        },
        {
         "fill": "toself",
         "name": "cluster1147",
         "r": [
          523.08,
          -476.91999999999996
         ],
         "theta": [
          "ending_balance",
          "credit_balance"
         ],
         "type": "scatterpolar"
        },
        {
         "fill": "toself",
         "name": "cluster1148",
         "r": [
          457.29,
          -542.71
         ],
         "theta": [
          "ending_balance",
          "credit_balance"
         ],
         "type": "scatterpolar"
        }
       ],
       "layout": {
        "polar": {
         "radialaxis": {
          "visible": true
         }
        },
        "showlegend": true,
        "template": {
         "data": {
          "bar": [
           {
            "error_x": {
             "color": "#2a3f5f"
            },
            "error_y": {
             "color": "#2a3f5f"
            },
            "marker": {
             "line": {
              "color": "#E5ECF6",
              "width": 0.5
             },
             "pattern": {
              "fillmode": "overlay",
              "size": 10,
              "solidity": 0.2
             }
            },
            "type": "bar"
           }
          ],
          "barpolar": [
           {
            "marker": {
             "line": {
              "color": "#E5ECF6",
              "width": 0.5
             },
             "pattern": {
              "fillmode": "overlay",
              "size": 10,
              "solidity": 0.2
             }
            },
            "type": "barpolar"
           }
          ],
          "carpet": [
           {
            "aaxis": {
             "endlinecolor": "#2a3f5f",
             "gridcolor": "white",
             "linecolor": "white",
             "minorgridcolor": "white",
             "startlinecolor": "#2a3f5f"
            },
            "baxis": {
             "endlinecolor": "#2a3f5f",
             "gridcolor": "white",
             "linecolor": "white",
             "minorgridcolor": "white",
             "startlinecolor": "#2a3f5f"
            },
            "type": "carpet"
           }
          ],
          "choropleth": [
           {
            "colorbar": {
             "outlinewidth": 0,
             "ticks": ""
            },
            "type": "choropleth"
           }
          ],
          "contour": [
           {
            "colorbar": {
             "outlinewidth": 0,
             "ticks": ""
            },
            "colorscale": [
             [
              0,
              "#0d0887"
             ],
             [
              0.1111111111111111,
              "#46039f"
             ],
             [
              0.2222222222222222,
              "#7201a8"
             ],
             [
              0.3333333333333333,
              "#9c179e"
             ],
             [
              0.4444444444444444,
              "#bd3786"
             ],
             [
              0.5555555555555556,
              "#d8576b"
             ],
             [
              0.6666666666666666,
              "#ed7953"
             ],
             [
              0.7777777777777778,
              "#fb9f3a"
             ],
             [
              0.8888888888888888,
              "#fdca26"
             ],
             [
              1,
              "#f0f921"
             ]
            ],
            "type": "contour"
           }
          ],
          "contourcarpet": [
           {
            "colorbar": {
             "outlinewidth": 0,
             "ticks": ""
            },
            "type": "contourcarpet"
           }
          ],
          "heatmap": [
           {
            "colorbar": {
             "outlinewidth": 0,
             "ticks": ""
            },
            "colorscale": [
             [
              0,
              "#0d0887"
             ],
             [
              0.1111111111111111,
              "#46039f"
             ],
             [
              0.2222222222222222,
              "#7201a8"
             ],
             [
              0.3333333333333333,
              "#9c179e"
             ],
             [
              0.4444444444444444,
              "#bd3786"
             ],
             [
              0.5555555555555556,
              "#d8576b"
             ],
             [
              0.6666666666666666,
              "#ed7953"
             ],
             [
              0.7777777777777778,
              "#fb9f3a"
             ],
             [
              0.8888888888888888,
              "#fdca26"
             ],
             [
              1,
              "#f0f921"
             ]
            ],
            "type": "heatmap"
           }
          ],
          "heatmapgl": [
           {
            "colorbar": {
             "outlinewidth": 0,
             "ticks": ""
            },
            "colorscale": [
             [
              0,
              "#0d0887"
             ],
             [
              0.1111111111111111,
              "#46039f"
             ],
             [
              0.2222222222222222,
              "#7201a8"
             ],
             [
              0.3333333333333333,
              "#9c179e"
             ],
             [
              0.4444444444444444,
              "#bd3786"
             ],
             [
              0.5555555555555556,
              "#d8576b"
             ],
             [
              0.6666666666666666,
              "#ed7953"
             ],
             [
              0.7777777777777778,
              "#fb9f3a"
             ],
             [
              0.8888888888888888,
              "#fdca26"
             ],
             [
              1,
              "#f0f921"
             ]
            ],
            "type": "heatmapgl"
           }
          ],
          "histogram": [
           {
            "marker": {
             "pattern": {
              "fillmode": "overlay",
              "size": 10,
              "solidity": 0.2
             }
            },
            "type": "histogram"
           }
          ],
          "histogram2d": [
           {
            "colorbar": {
             "outlinewidth": 0,
             "ticks": ""
            },
            "colorscale": [
             [
              0,
              "#0d0887"
             ],
             [
              0.1111111111111111,
              "#46039f"
             ],
             [
              0.2222222222222222,
              "#7201a8"
             ],
             [
              0.3333333333333333,
              "#9c179e"
             ],
             [
              0.4444444444444444,
              "#bd3786"
             ],
             [
              0.5555555555555556,
              "#d8576b"
             ],
             [
              0.6666666666666666,
              "#ed7953"
             ],
             [
              0.7777777777777778,
              "#fb9f3a"
             ],
             [
              0.8888888888888888,
              "#fdca26"
             ],
             [
              1,
              "#f0f921"
             ]
            ],
            "type": "histogram2d"
           }
          ],
          "histogram2dcontour": [
           {
            "colorbar": {
             "outlinewidth": 0,
             "ticks": ""
            },
            "colorscale": [
             [
              0,
              "#0d0887"
             ],
             [
              0.1111111111111111,
              "#46039f"
             ],
             [
              0.2222222222222222,
              "#7201a8"
             ],
             [
              0.3333333333333333,
              "#9c179e"
             ],
             [
              0.4444444444444444,
              "#bd3786"
             ],
             [
              0.5555555555555556,
              "#d8576b"
             ],
             [
              0.6666666666666666,
              "#ed7953"
             ],
             [
              0.7777777777777778,
              "#fb9f3a"
             ],
             [
              0.8888888888888888,
              "#fdca26"
             ],
             [
              1,
              "#f0f921"
             ]
            ],
            "type": "histogram2dcontour"
           }
          ],
          "mesh3d": [
           {
            "colorbar": {
             "outlinewidth": 0,
             "ticks": ""
            },
            "type": "mesh3d"
           }
          ],
          "parcoords": [
           {
            "line": {
             "colorbar": {
              "outlinewidth": 0,
              "ticks": ""
             }
            },
            "type": "parcoords"
           }
          ],
          "pie": [
           {
            "automargin": true,
            "type": "pie"
           }
          ],
          "scatter": [
           {
            "fillpattern": {
             "fillmode": "overlay",
             "size": 10,
             "solidity": 0.2
            },
            "type": "scatter"
           }
          ],
          "scatter3d": [
           {
            "line": {
             "colorbar": {
              "outlinewidth": 0,
              "ticks": ""
             }
            },
            "marker": {
             "colorbar": {
              "outlinewidth": 0,
              "ticks": ""
             }
            },
            "type": "scatter3d"
           }
          ],
          "scattercarpet": [
           {
            "marker": {
             "colorbar": {
              "outlinewidth": 0,
              "ticks": ""
             }
            },
            "type": "scattercarpet"
           }
          ],
          "scattergeo": [
           {
            "marker": {
             "colorbar": {
              "outlinewidth": 0,
              "ticks": ""
             }
            },
            "type": "scattergeo"
           }
          ],
          "scattergl": [
           {
            "marker": {
             "colorbar": {
              "outlinewidth": 0,
              "ticks": ""
             }
            },
            "type": "scattergl"
           }
          ],
          "scattermapbox": [
           {
            "marker": {
             "colorbar": {
              "outlinewidth": 0,
              "ticks": ""
             }
            },
            "type": "scattermapbox"
           }
          ],
          "scatterpolar": [
           {
            "marker": {
             "colorbar": {
              "outlinewidth": 0,
              "ticks": ""
             }
            },
            "type": "scatterpolar"
           }
          ],
          "scatterpolargl": [
           {
            "marker": {
             "colorbar": {
              "outlinewidth": 0,
              "ticks": ""
             }
            },
            "type": "scatterpolargl"
           }
          ],
          "scatterternary": [
           {
            "marker": {
             "colorbar": {
              "outlinewidth": 0,
              "ticks": ""
             }
            },
            "type": "scatterternary"
           }
          ],
          "surface": [
           {
            "colorbar": {
             "outlinewidth": 0,
             "ticks": ""
            },
            "colorscale": [
             [
              0,
              "#0d0887"
             ],
             [
              0.1111111111111111,
              "#46039f"
             ],
             [
              0.2222222222222222,
              "#7201a8"
             ],
             [
              0.3333333333333333,
              "#9c179e"
             ],
             [
              0.4444444444444444,
              "#bd3786"
             ],
             [
              0.5555555555555556,
              "#d8576b"
             ],
             [
              0.6666666666666666,
              "#ed7953"
             ],
             [
              0.7777777777777778,
              "#fb9f3a"
             ],
             [
              0.8888888888888888,
              "#fdca26"
             ],
             [
              1,
              "#f0f921"
             ]
            ],
            "type": "surface"
           }
          ],
          "table": [
           {
            "cells": {
             "fill": {
              "color": "#EBF0F8"
             },
             "line": {
              "color": "white"
             }
            },
            "header": {
             "fill": {
              "color": "#C8D4E3"
             },
             "line": {
              "color": "white"
             }
            },
            "type": "table"
           }
          ]
         },
         "layout": {
          "annotationdefaults": {
           "arrowcolor": "#2a3f5f",
           "arrowhead": 0,
           "arrowwidth": 1
          },
          "autotypenumbers": "strict",
          "coloraxis": {
           "colorbar": {
            "outlinewidth": 0,
            "ticks": ""
           }
          },
          "colorscale": {
           "diverging": [
            [
             0,
             "#8e0152"
            ],
            [
             0.1,
             "#c51b7d"
            ],
            [
             0.2,
             "#de77ae"
            ],
            [
             0.3,
             "#f1b6da"
            ],
            [
             0.4,
             "#fde0ef"
            ],
            [
             0.5,
             "#f7f7f7"
            ],
            [
             0.6,
             "#e6f5d0"
            ],
            [
             0.7,
             "#b8e186"
            ],
            [
             0.8,
             "#7fbc41"
            ],
            [
             0.9,
             "#4d9221"
            ],
            [
             1,
             "#276419"
            ]
           ],
           "sequential": [
            [
             0,
             "#0d0887"
            ],
            [
             0.1111111111111111,
             "#46039f"
            ],
            [
             0.2222222222222222,
             "#7201a8"
            ],
            [
             0.3333333333333333,
             "#9c179e"
            ],
            [
             0.4444444444444444,
             "#bd3786"
            ],
            [
             0.5555555555555556,
             "#d8576b"
            ],
            [
             0.6666666666666666,
             "#ed7953"
            ],
            [
             0.7777777777777778,
             "#fb9f3a"
            ],
            [
             0.8888888888888888,
             "#fdca26"
            ],
            [
             1,
             "#f0f921"
            ]
           ],
           "sequentialminus": [
            [
             0,
             "#0d0887"
            ],
            [
             0.1111111111111111,
             "#46039f"
            ],
            [
             0.2222222222222222,
             "#7201a8"
            ],
            [
             0.3333333333333333,
             "#9c179e"
            ],
            [
             0.4444444444444444,
             "#bd3786"
            ],
            [
             0.5555555555555556,
             "#d8576b"
            ],
            [
             0.6666666666666666,
             "#ed7953"
            ],
            [
             0.7777777777777778,
             "#fb9f3a"
            ],
            [
             0.8888888888888888,
             "#fdca26"
            ],
            [
             1,
             "#f0f921"
            ]
           ]
          },
          "colorway": [
           "#636efa",
           "#EF553B",
           "#00cc96",
           "#ab63fa",
           "#FFA15A",
           "#19d3f3",
           "#FF6692",
           "#B6E880",
           "#FF97FF",
           "#FECB52"
          ],
          "font": {
           "color": "#2a3f5f"
          },
          "geo": {
           "bgcolor": "white",
           "lakecolor": "white",
           "landcolor": "#E5ECF6",
           "showlakes": true,
           "showland": true,
           "subunitcolor": "white"
          },
          "hoverlabel": {
           "align": "left"
          },
          "hovermode": "closest",
          "mapbox": {
           "style": "light"
          },
          "paper_bgcolor": "white",
          "plot_bgcolor": "#E5ECF6",
          "polar": {
           "angularaxis": {
            "gridcolor": "white",
            "linecolor": "white",
            "ticks": ""
           },
           "bgcolor": "#E5ECF6",
           "radialaxis": {
            "gridcolor": "white",
            "linecolor": "white",
            "ticks": ""
           }
          },
          "scene": {
           "xaxis": {
            "backgroundcolor": "#E5ECF6",
            "gridcolor": "white",
            "gridwidth": 2,
            "linecolor": "white",
            "showbackground": true,
            "ticks": "",
            "zerolinecolor": "white"
           },
           "yaxis": {
            "backgroundcolor": "#E5ECF6",
            "gridcolor": "white",
            "gridwidth": 2,
            "linecolor": "white",
            "showbackground": true,
            "ticks": "",
            "zerolinecolor": "white"
           },
           "zaxis": {
            "backgroundcolor": "#E5ECF6",
            "gridcolor": "white",
            "gridwidth": 2,
            "linecolor": "white",
            "showbackground": true,
            "ticks": "",
            "zerolinecolor": "white"
           }
          },
          "shapedefaults": {
           "line": {
            "color": "#2a3f5f"
           }
          },
          "ternary": {
           "aaxis": {
            "gridcolor": "white",
            "linecolor": "white",
            "ticks": ""
           },
           "baxis": {
            "gridcolor": "white",
            "linecolor": "white",
            "ticks": ""
           },
           "bgcolor": "#E5ECF6",
           "caxis": {
            "gridcolor": "white",
            "linecolor": "white",
            "ticks": ""
           }
          },
          "title": {
           "x": 0.05
          },
          "xaxis": {
           "automargin": true,
           "gridcolor": "white",
           "linecolor": "white",
           "ticks": "",
           "title": {
            "standoff": 15
           },
           "zerolinecolor": "white",
           "zerolinewidth": 2
          },
          "yaxis": {
           "automargin": true,
           "gridcolor": "white",
           "linecolor": "white",
           "ticks": "",
           "title": {
            "standoff": 15
           },
           "zerolinecolor": "white",
           "zerolinewidth": 2
          }
         }
        }
       }
      },
      "text/html": [
       "<div>                            <div id=\"c60739d6-7b9a-4232-a3f3-a77b34edeab6\" class=\"plotly-graph-div\" style=\"height:525px; width:100%;\"></div>            <script type=\"text/javascript\">                require([\"plotly\"], function(Plotly) {                    window.PLOTLYENV=window.PLOTLYENV || {};                                    if (document.getElementById(\"c60739d6-7b9a-4232-a3f3-a77b34edeab6\")) {                    Plotly.newPlot(                        \"c60739d6-7b9a-4232-a3f3-a77b34edeab6\",                        [{\"fill\":\"toself\",\"name\":\"cluster0\",\"r\":[284.58,-4358.36],\"theta\":[\"ending_balance\",\"credit_balance\"],\"type\":\"scatterpolar\"},{\"fill\":\"toself\",\"name\":\"cluster1\",\"r\":[2561.24,-4358.36],\"theta\":[\"ending_balance\",\"credit_balance\"],\"type\":\"scatterpolar\"},{\"fill\":\"toself\",\"name\":\"cluster2\",\"r\":[1541.64,-4358.36],\"theta\":[\"ending_balance\",\"credit_balance\"],\"type\":\"scatterpolar\"},{\"fill\":\"toself\",\"name\":\"cluster3\",\"r\":[496.15,-503.85],\"theta\":[\"ending_balance\",\"credit_balance\"],\"type\":\"scatterpolar\"},{\"fill\":\"toself\",\"name\":\"cluster4\",\"r\":[917.33,-503.85],\"theta\":[\"ending_balance\",\"credit_balance\"],\"type\":\"scatterpolar\"},{\"fill\":\"toself\",\"name\":\"cluster5\",\"r\":[185.9,-503.85],\"theta\":[\"ending_balance\",\"credit_balance\"],\"type\":\"scatterpolar\"},{\"fill\":\"toself\",\"name\":\"cluster6\",\"r\":[1000.0,0.0],\"theta\":[\"ending_balance\",\"credit_balance\"],\"type\":\"scatterpolar\"},{\"fill\":\"toself\",\"name\":\"cluster7\",\"r\":[1009.19,0.0],\"theta\":[\"ending_balance\",\"credit_balance\"],\"type\":\"scatterpolar\"},{\"fill\":\"toself\",\"name\":\"cluster8\",\"r\":[7.72,0.0],\"theta\":[\"ending_balance\",\"credit_balance\"],\"type\":\"scatterpolar\"},{\"fill\":\"toself\",\"name\":\"cluster9\",\"r\":[968.46,0.0],\"theta\":[\"ending_balance\",\"credit_balance\"],\"type\":\"scatterpolar\"},{\"fill\":\"toself\",\"name\":\"cluster10\",\"r\":[2700.0,0.0],\"theta\":[\"ending_balance\",\"credit_balance\"],\"type\":\"scatterpolar\"},{\"fill\":\"toself\",\"name\":\"cluster11\",\"r\":[299.67,0.0],\"theta\":[\"ending_balance\",\"credit_balance\"],\"type\":\"scatterpolar\"},{\"fill\":\"toself\",\"name\":\"cluster12\",\"r\":[462.28,-837.72],\"theta\":[\"ending_balance\",\"credit_balance\"],\"type\":\"scatterpolar\"},{\"fill\":\"toself\",\"name\":\"cluster13\",\"r\":[172.8,-837.72],\"theta\":[\"ending_balance\",\"credit_balance\"],\"type\":\"scatterpolar\"},{\"fill\":\"toself\",\"name\":\"cluster14\",\"r\":[21.54,-837.72],\"theta\":[\"ending_balance\",\"credit_balance\"],\"type\":\"scatterpolar\"},{\"fill\":\"toself\",\"name\":\"cluster15\",\"r\":[1000.0,0.0],\"theta\":[\"ending_balance\",\"credit_balance\"],\"type\":\"scatterpolar\"},{\"fill\":\"toself\",\"name\":\"cluster16\",\"r\":[3000.0,0.0],\"theta\":[\"ending_balance\",\"credit_balance\"],\"type\":\"scatterpolar\"},{\"fill\":\"toself\",\"name\":\"cluster17\",\"r\":[401.43,0.0],\"theta\":[\"ending_balance\",\"credit_balance\"],\"type\":\"scatterpolar\"},{\"fill\":\"toself\",\"name\":\"cluster18\",\"r\":[235.65,0.0],\"theta\":[\"ending_balance\",\"credit_balance\"],\"type\":\"scatterpolar\"},{\"fill\":\"toself\",\"name\":\"cluster19\",\"r\":[0.0,-14300.0],\"theta\":[\"ending_balance\",\"credit_balance\"],\"type\":\"scatterpolar\"},{\"fill\":\"toself\",\"name\":\"cluster20\",\"r\":[756.74,-14300.0],\"theta\":[\"ending_balance\",\"credit_balance\"],\"type\":\"scatterpolar\"},{\"fill\":\"toself\",\"name\":\"cluster21\",\"r\":[135.39,-14300.0],\"theta\":[\"ending_balance\",\"credit_balance\"],\"type\":\"scatterpolar\"},{\"fill\":\"toself\",\"name\":\"cluster22\",\"r\":[216.74,0.0],\"theta\":[\"ending_balance\",\"credit_balance\"],\"type\":\"scatterpolar\"},{\"fill\":\"toself\",\"name\":\"cluster23\",\"r\":[1000.0,0.0],\"theta\":[\"ending_balance\",\"credit_balance\"],\"type\":\"scatterpolar\"},{\"fill\":\"toself\",\"name\":\"cluster24\",\"r\":[1497.85,0.0],\"theta\":[\"ending_balance\",\"credit_balance\"],\"type\":\"scatterpolar\"},{\"fill\":\"toself\",\"name\":\"cluster25\",\"r\":[110.03,-889.97],\"theta\":[\"ending_balance\",\"credit_balance\"],\"type\":\"scatterpolar\"},{\"fill\":\"toself\",\"name\":\"cluster26\",\"r\":[760.1,-889.97],\"theta\":[\"ending_balance\",\"credit_balance\"],\"type\":\"scatterpolar\"},{\"fill\":\"toself\",\"name\":\"cluster27\",\"r\":[852.22,-889.97],\"theta\":[\"ending_balance\",\"credit_balance\"],\"type\":\"scatterpolar\"},{\"fill\":\"toself\",\"name\":\"cluster28\",\"r\":[375.14,-2494.44],\"theta\":[\"ending_balance\",\"credit_balance\"],\"type\":\"scatterpolar\"},{\"fill\":\"toself\",\"name\":\"cluster29\",\"r\":[505.56,-2494.44],\"theta\":[\"ending_balance\",\"credit_balance\"],\"type\":\"scatterpolar\"},{\"fill\":\"toself\",\"name\":\"cluster30\",\"r\":[1804.89,-2494.44],\"theta\":[\"ending_balance\",\"credit_balance\"],\"type\":\"scatterpolar\"},{\"fill\":\"toself\",\"name\":\"cluster31\",\"r\":[141.92,-2827.01],\"theta\":[\"ending_balance\",\"credit_balance\"],\"type\":\"scatterpolar\"},{\"fill\":\"toself\",\"name\":\"cluster32\",\"r\":[1566.97,-2827.01],\"theta\":[\"ending_balance\",\"credit_balance\"],\"type\":\"scatterpolar\"},{\"fill\":\"toself\",\"name\":\"cluster33\",\"r\":[172.99,-2827.01],\"theta\":[\"ending_balance\",\"credit_balance\"],\"type\":\"scatterpolar\"},{\"fill\":\"toself\",\"name\":\"cluster34\",\"r\":[1782.06,-2155.92],\"theta\":[\"ending_balance\",\"credit_balance\"],\"type\":\"scatterpolar\"},{\"fill\":\"toself\",\"name\":\"cluster35\",\"r\":[146.5,-2155.92],\"theta\":[\"ending_balance\",\"credit_balance\"],\"type\":\"scatterpolar\"},{\"fill\":\"toself\",\"name\":\"cluster36\",\"r\":[844.08,-2155.92],\"theta\":[\"ending_balance\",\"credit_balance\"],\"type\":\"scatterpolar\"},{\"fill\":\"toself\",\"name\":\"cluster37\",\"r\":[407.08,-1092.92],\"theta\":[\"ending_balance\",\"credit_balance\"],\"type\":\"scatterpolar\"},{\"fill\":\"toself\",\"name\":\"cluster38\",\"r\":[404.56,-1092.92],\"theta\":[\"ending_balance\",\"credit_balance\"],\"type\":\"scatterpolar\"},{\"fill\":\"toself\",\"name\":\"cluster39\",\"r\":[291.67,-1092.92],\"theta\":[\"ending_balance\",\"credit_balance\"],\"type\":\"scatterpolar\"},{\"fill\":\"toself\",\"name\":\"cluster40\",\"r\":[778.84,-958.78],\"theta\":[\"ending_balance\",\"credit_balance\"],\"type\":\"scatterpolar\"},{\"fill\":\"toself\",\"name\":\"cluster41\",\"r\":[41.22,-958.78],\"theta\":[\"ending_balance\",\"credit_balance\"],\"type\":\"scatterpolar\"},{\"fill\":\"toself\",\"name\":\"cluster42\",\"r\":[1136.06,-363.94000000000005],\"theta\":[\"ending_balance\",\"credit_balance\"],\"type\":\"scatterpolar\"},{\"fill\":\"toself\",\"name\":\"cluster43\",\"r\":[268.13,-363.94000000000005],\"theta\":[\"ending_balance\",\"credit_balance\"],\"type\":\"scatterpolar\"},{\"fill\":\"toself\",\"name\":\"cluster44\",\"r\":[41.6,-363.94000000000005],\"theta\":[\"ending_balance\",\"credit_balance\"],\"type\":\"scatterpolar\"},{\"fill\":\"toself\",\"name\":\"cluster45\",\"r\":[429.34,-570.6600000000001],\"theta\":[\"ending_balance\",\"credit_balance\"],\"type\":\"scatterpolar\"},{\"fill\":\"toself\",\"name\":\"cluster46\",\"r\":[57.08,-570.6600000000001],\"theta\":[\"ending_balance\",\"credit_balance\"],\"type\":\"scatterpolar\"},{\"fill\":\"toself\",\"name\":\"cluster47\",\"r\":[95.8,-570.6600000000001],\"theta\":[\"ending_balance\",\"credit_balance\"],\"type\":\"scatterpolar\"},{\"fill\":\"toself\",\"name\":\"cluster48\",\"r\":[920.44,-2451.4300000000003],\"theta\":[\"ending_balance\",\"credit_balance\"],\"type\":\"scatterpolar\"},{\"fill\":\"toself\",\"name\":\"cluster49\",\"r\":[1548.57,-2451.4300000000003],\"theta\":[\"ending_balance\",\"credit_balance\"],\"type\":\"scatterpolar\"},{\"fill\":\"toself\",\"name\":\"cluster50\",\"r\":[889.68,-110.32000000000005],\"theta\":[\"ending_balance\",\"credit_balance\"],\"type\":\"scatterpolar\"},{\"fill\":\"toself\",\"name\":\"cluster51\",\"r\":[52.26,-110.32000000000005],\"theta\":[\"ending_balance\",\"credit_balance\"],\"type\":\"scatterpolar\"},{\"fill\":\"toself\",\"name\":\"cluster52\",\"r\":[121.53,-110.32000000000005],\"theta\":[\"ending_balance\",\"credit_balance\"],\"type\":\"scatterpolar\"},{\"fill\":\"toself\",\"name\":\"cluster53\",\"r\":[491.88,-2101.96],\"theta\":[\"ending_balance\",\"credit_balance\"],\"type\":\"scatterpolar\"},{\"fill\":\"toself\",\"name\":\"cluster54\",\"r\":[7.35,-2101.96],\"theta\":[\"ending_balance\",\"credit_balance\"],\"type\":\"scatterpolar\"},{\"fill\":\"toself\",\"name\":\"cluster55\",\"r\":[98.04,-2101.96],\"theta\":[\"ending_balance\",\"credit_balance\"],\"type\":\"scatterpolar\"},{\"fill\":\"toself\",\"name\":\"cluster56\",\"r\":[730.0,-2270.0],\"theta\":[\"ending_balance\",\"credit_balance\"],\"type\":\"scatterpolar\"},{\"fill\":\"toself\",\"name\":\"cluster57\",\"r\":[136.18,-2270.0],\"theta\":[\"ending_balance\",\"credit_balance\"],\"type\":\"scatterpolar\"},{\"fill\":\"toself\",\"name\":\"cluster58\",\"r\":[1520.9,-2270.0],\"theta\":[\"ending_balance\",\"credit_balance\"],\"type\":\"scatterpolar\"},{\"fill\":\"toself\",\"name\":\"cluster59\",\"r\":[331.93,-797.01],\"theta\":[\"ending_balance\",\"credit_balance\"],\"type\":\"scatterpolar\"},{\"fill\":\"toself\",\"name\":\"cluster60\",\"r\":[202.99,-797.01],\"theta\":[\"ending_balance\",\"credit_balance\"],\"type\":\"scatterpolar\"},{\"fill\":\"toself\",\"name\":\"cluster61\",\"r\":[1152.38,-797.01],\"theta\":[\"ending_balance\",\"credit_balance\"],\"type\":\"scatterpolar\"},{\"fill\":\"toself\",\"name\":\"cluster62\",\"r\":[6800.0,0.0],\"theta\":[\"ending_balance\",\"credit_balance\"],\"type\":\"scatterpolar\"},{\"fill\":\"toself\",\"name\":\"cluster63\",\"r\":[45.45,0.0],\"theta\":[\"ending_balance\",\"credit_balance\"],\"type\":\"scatterpolar\"},{\"fill\":\"toself\",\"name\":\"cluster64\",\"r\":[1007.92,-1766.57],\"theta\":[\"ending_balance\",\"credit_balance\"],\"type\":\"scatterpolar\"},{\"fill\":\"toself\",\"name\":\"cluster65\",\"r\":[433.43,-1766.57],\"theta\":[\"ending_balance\",\"credit_balance\"],\"type\":\"scatterpolar\"},{\"fill\":\"toself\",\"name\":\"cluster66\",\"r\":[873.14,-1766.57],\"theta\":[\"ending_balance\",\"credit_balance\"],\"type\":\"scatterpolar\"},{\"fill\":\"toself\",\"name\":\"cluster67\",\"r\":[0.0,-5800.0],\"theta\":[\"ending_balance\",\"credit_balance\"],\"type\":\"scatterpolar\"},{\"fill\":\"toself\",\"name\":\"cluster68\",\"r\":[1805.16,-5800.0],\"theta\":[\"ending_balance\",\"credit_balance\"],\"type\":\"scatterpolar\"},{\"fill\":\"toself\",\"name\":\"cluster69\",\"r\":[223.09,-5800.0],\"theta\":[\"ending_balance\",\"credit_balance\"],\"type\":\"scatterpolar\"},{\"fill\":\"toself\",\"name\":\"cluster70\",\"r\":[406.96,-4793.04],\"theta\":[\"ending_balance\",\"credit_balance\"],\"type\":\"scatterpolar\"},{\"fill\":\"toself\",\"name\":\"cluster71\",\"r\":[13404.16,-4793.04],\"theta\":[\"ending_balance\",\"credit_balance\"],\"type\":\"scatterpolar\"},{\"fill\":\"toself\",\"name\":\"cluster72\",\"r\":[890.53,-4793.04],\"theta\":[\"ending_balance\",\"credit_balance\"],\"type\":\"scatterpolar\"},{\"fill\":\"toself\",\"name\":\"cluster73\",\"r\":[596.38,-1852.93],\"theta\":[\"ending_balance\",\"credit_balance\"],\"type\":\"scatterpolar\"},{\"fill\":\"toself\",\"name\":\"cluster74\",\"r\":[167.83,-1852.93],\"theta\":[\"ending_balance\",\"credit_balance\"],\"type\":\"scatterpolar\"},{\"fill\":\"toself\",\"name\":\"cluster75\",\"r\":[1147.07,-1852.93],\"theta\":[\"ending_balance\",\"credit_balance\"],\"type\":\"scatterpolar\"},{\"fill\":\"toself\",\"name\":\"cluster76\",\"r\":[338.98,0.0],\"theta\":[\"ending_balance\",\"credit_balance\"],\"type\":\"scatterpolar\"},{\"fill\":\"toself\",\"name\":\"cluster77\",\"r\":[1000.0,0.0],\"theta\":[\"ending_balance\",\"credit_balance\"],\"type\":\"scatterpolar\"},{\"fill\":\"toself\",\"name\":\"cluster78\",\"r\":[947.22,0.0],\"theta\":[\"ending_balance\",\"credit_balance\"],\"type\":\"scatterpolar\"},{\"fill\":\"toself\",\"name\":\"cluster79\",\"r\":[1000.0,0.0],\"theta\":[\"ending_balance\",\"credit_balance\"],\"type\":\"scatterpolar\"},{\"fill\":\"toself\",\"name\":\"cluster80\",\"r\":[629.06,0.0],\"theta\":[\"ending_balance\",\"credit_balance\"],\"type\":\"scatterpolar\"},{\"fill\":\"toself\",\"name\":\"cluster81\",\"r\":[0.0,-1000.0],\"theta\":[\"ending_balance\",\"credit_balance\"],\"type\":\"scatterpolar\"},{\"fill\":\"toself\",\"name\":\"cluster82\",\"r\":[0.0,-1000.0],\"theta\":[\"ending_balance\",\"credit_balance\"],\"type\":\"scatterpolar\"},{\"fill\":\"toself\",\"name\":\"cluster83\",\"r\":[601.14,-1000.0],\"theta\":[\"ending_balance\",\"credit_balance\"],\"type\":\"scatterpolar\"},{\"fill\":\"toself\",\"name\":\"cluster84\",\"r\":[682.28,-317.72],\"theta\":[\"ending_balance\",\"credit_balance\"],\"type\":\"scatterpolar\"},{\"fill\":\"toself\",\"name\":\"cluster85\",\"r\":[1797.22,-317.72],\"theta\":[\"ending_balance\",\"credit_balance\"],\"type\":\"scatterpolar\"},{\"fill\":\"toself\",\"name\":\"cluster86\",\"r\":[205.93,-317.72],\"theta\":[\"ending_balance\",\"credit_balance\"],\"type\":\"scatterpolar\"},{\"fill\":\"toself\",\"name\":\"cluster87\",\"r\":[867.84,0.0],\"theta\":[\"ending_balance\",\"credit_balance\"],\"type\":\"scatterpolar\"},{\"fill\":\"toself\",\"name\":\"cluster88\",\"r\":[1000.0,0.0],\"theta\":[\"ending_balance\",\"credit_balance\"],\"type\":\"scatterpolar\"},{\"fill\":\"toself\",\"name\":\"cluster89\",\"r\":[4601.37,-3880.0],\"theta\":[\"ending_balance\",\"credit_balance\"],\"type\":\"scatterpolar\"},{\"fill\":\"toself\",\"name\":\"cluster90\",\"r\":[20.0,-3880.0],\"theta\":[\"ending_balance\",\"credit_balance\"],\"type\":\"scatterpolar\"},{\"fill\":\"toself\",\"name\":\"cluster91\",\"r\":[1000.0,0.0],\"theta\":[\"ending_balance\",\"credit_balance\"],\"type\":\"scatterpolar\"},{\"fill\":\"toself\",\"name\":\"cluster92\",\"r\":[1706.87,0.0],\"theta\":[\"ending_balance\",\"credit_balance\"],\"type\":\"scatterpolar\"},{\"fill\":\"toself\",\"name\":\"cluster93\",\"r\":[269.95,0.0],\"theta\":[\"ending_balance\",\"credit_balance\"],\"type\":\"scatterpolar\"},{\"fill\":\"toself\",\"name\":\"cluster94\",\"r\":[1548.23,-1451.77],\"theta\":[\"ending_balance\",\"credit_balance\"],\"type\":\"scatterpolar\"},{\"fill\":\"toself\",\"name\":\"cluster95\",\"r\":[12.89,-1451.77],\"theta\":[\"ending_balance\",\"credit_balance\"],\"type\":\"scatterpolar\"},{\"fill\":\"toself\",\"name\":\"cluster96\",\"r\":[1401.21,-1451.77],\"theta\":[\"ending_balance\",\"credit_balance\"],\"type\":\"scatterpolar\"},{\"fill\":\"toself\",\"name\":\"cluster97\",\"r\":[325.81,0.0],\"theta\":[\"ending_balance\",\"credit_balance\"],\"type\":\"scatterpolar\"},{\"fill\":\"toself\",\"name\":\"cluster98\",\"r\":[1000.0,0.0],\"theta\":[\"ending_balance\",\"credit_balance\"],\"type\":\"scatterpolar\"},{\"fill\":\"toself\",\"name\":\"cluster99\",\"r\":[3821.12,0.0],\"theta\":[\"ending_balance\",\"credit_balance\"],\"type\":\"scatterpolar\"},{\"fill\":\"toself\",\"name\":\"cluster100\",\"r\":[1240.58,-2315.88],\"theta\":[\"ending_balance\",\"credit_balance\"],\"type\":\"scatterpolar\"},{\"fill\":\"toself\",\"name\":\"cluster101\",\"r\":[1395.69,-2315.88],\"theta\":[\"ending_balance\",\"credit_balance\"],\"type\":\"scatterpolar\"},{\"fill\":\"toself\",\"name\":\"cluster102\",\"r\":[684.12,-2315.88],\"theta\":[\"ending_balance\",\"credit_balance\"],\"type\":\"scatterpolar\"},{\"fill\":\"toself\",\"name\":\"cluster103\",\"r\":[153.91,-1270.3400000000001],\"theta\":[\"ending_balance\",\"credit_balance\"],\"type\":\"scatterpolar\"},{\"fill\":\"toself\",\"name\":\"cluster104\",\"r\":[3229.66,-1270.3400000000001],\"theta\":[\"ending_balance\",\"credit_balance\"],\"type\":\"scatterpolar\"},{\"fill\":\"toself\",\"name\":\"cluster105\",\"r\":[1777.03,-1270.3400000000001],\"theta\":[\"ending_balance\",\"credit_balance\"],\"type\":\"scatterpolar\"},{\"fill\":\"toself\",\"name\":\"cluster106\",\"r\":[528.25,-911.79],\"theta\":[\"ending_balance\",\"credit_balance\"],\"type\":\"scatterpolar\"},{\"fill\":\"toself\",\"name\":\"cluster107\",\"r\":[88.21,-911.79],\"theta\":[\"ending_balance\",\"credit_balance\"],\"type\":\"scatterpolar\"},{\"fill\":\"toself\",\"name\":\"cluster108\",\"r\":[35.68,-911.79],\"theta\":[\"ending_balance\",\"credit_balance\"],\"type\":\"scatterpolar\"},{\"fill\":\"toself\",\"name\":\"cluster109\",\"r\":[41.36,0.0],\"theta\":[\"ending_balance\",\"credit_balance\"],\"type\":\"scatterpolar\"},{\"fill\":\"toself\",\"name\":\"cluster110\",\"r\":[1200.0,0.0],\"theta\":[\"ending_balance\",\"credit_balance\"],\"type\":\"scatterpolar\"},{\"fill\":\"toself\",\"name\":\"cluster111\",\"r\":[1596.17,-140.55999999999995],\"theta\":[\"ending_balance\",\"credit_balance\"],\"type\":\"scatterpolar\"},{\"fill\":\"toself\",\"name\":\"cluster112\",\"r\":[292.0,-140.55999999999995],\"theta\":[\"ending_balance\",\"credit_balance\"],\"type\":\"scatterpolar\"},{\"fill\":\"toself\",\"name\":\"cluster113\",\"r\":[859.44,-140.55999999999995],\"theta\":[\"ending_balance\",\"credit_balance\"],\"type\":\"scatterpolar\"},{\"fill\":\"toself\",\"name\":\"cluster114\",\"r\":[612.74,-11328.61],\"theta\":[\"ending_balance\",\"credit_balance\"],\"type\":\"scatterpolar\"},{\"fill\":\"toself\",\"name\":\"cluster115\",\"r\":[1271.39,-11328.61],\"theta\":[\"ending_balance\",\"credit_balance\"],\"type\":\"scatterpolar\"},{\"fill\":\"toself\",\"name\":\"cluster116\",\"r\":[1699.39,-11328.61],\"theta\":[\"ending_balance\",\"credit_balance\"],\"type\":\"scatterpolar\"},{\"fill\":\"toself\",\"name\":\"cluster117\",\"r\":[1199.3,-1800.7],\"theta\":[\"ending_balance\",\"credit_balance\"],\"type\":\"scatterpolar\"},{\"fill\":\"toself\",\"name\":\"cluster118\",\"r\":[265.35,-1800.7],\"theta\":[\"ending_balance\",\"credit_balance\"],\"type\":\"scatterpolar\"},{\"fill\":\"toself\",\"name\":\"cluster119\",\"r\":[314.27,-1800.7],\"theta\":[\"ending_balance\",\"credit_balance\"],\"type\":\"scatterpolar\"},{\"fill\":\"toself\",\"name\":\"cluster120\",\"r\":[5287.76,0.0],\"theta\":[\"ending_balance\",\"credit_balance\"],\"type\":\"scatterpolar\"},{\"fill\":\"toself\",\"name\":\"cluster121\",\"r\":[0.0,0.0],\"theta\":[\"ending_balance\",\"credit_balance\"],\"type\":\"scatterpolar\"},{\"fill\":\"toself\",\"name\":\"cluster122\",\"r\":[1000.0,0.0],\"theta\":[\"ending_balance\",\"credit_balance\"],\"type\":\"scatterpolar\"},{\"fill\":\"toself\",\"name\":\"cluster123\",\"r\":[12.5,0.0],\"theta\":[\"ending_balance\",\"credit_balance\"],\"type\":\"scatterpolar\"},{\"fill\":\"toself\",\"name\":\"cluster124\",\"r\":[1000.0,0.0],\"theta\":[\"ending_balance\",\"credit_balance\"],\"type\":\"scatterpolar\"},{\"fill\":\"toself\",\"name\":\"cluster125\",\"r\":[1999.37,0.0],\"theta\":[\"ending_balance\",\"credit_balance\"],\"type\":\"scatterpolar\"},{\"fill\":\"toself\",\"name\":\"cluster126\",\"r\":[53.6,-693.1600000000001],\"theta\":[\"ending_balance\",\"credit_balance\"],\"type\":\"scatterpolar\"},{\"fill\":\"toself\",\"name\":\"cluster127\",\"r\":[306.84,-693.1600000000001],\"theta\":[\"ending_balance\",\"credit_balance\"],\"type\":\"scatterpolar\"},{\"fill\":\"toself\",\"name\":\"cluster128\",\"r\":[138.02,-693.1600000000001],\"theta\":[\"ending_balance\",\"credit_balance\"],\"type\":\"scatterpolar\"},{\"fill\":\"toself\",\"name\":\"cluster129\",\"r\":[839.81,0.0],\"theta\":[\"ending_balance\",\"credit_balance\"],\"type\":\"scatterpolar\"},{\"fill\":\"toself\",\"name\":\"cluster130\",\"r\":[1000.0,0.0],\"theta\":[\"ending_balance\",\"credit_balance\"],\"type\":\"scatterpolar\"},{\"fill\":\"toself\",\"name\":\"cluster131\",\"r\":[1000.0,0.0],\"theta\":[\"ending_balance\",\"credit_balance\"],\"type\":\"scatterpolar\"},{\"fill\":\"toself\",\"name\":\"cluster132\",\"r\":[1967.7,0.0],\"theta\":[\"ending_balance\",\"credit_balance\"],\"type\":\"scatterpolar\"},{\"fill\":\"toself\",\"name\":\"cluster133\",\"r\":[65.82,0.0],\"theta\":[\"ending_balance\",\"credit_balance\"],\"type\":\"scatterpolar\"},{\"fill\":\"toself\",\"name\":\"cluster134\",\"r\":[10.0,-5290.0],\"theta\":[\"ending_balance\",\"credit_balance\"],\"type\":\"scatterpolar\"},{\"fill\":\"toself\",\"name\":\"cluster135\",\"r\":[9341.84,-5290.0],\"theta\":[\"ending_balance\",\"credit_balance\"],\"type\":\"scatterpolar\"},{\"fill\":\"toself\",\"name\":\"cluster136\",\"r\":[23.16,-5290.0],\"theta\":[\"ending_balance\",\"credit_balance\"],\"type\":\"scatterpolar\"},{\"fill\":\"toself\",\"name\":\"cluster137\",\"r\":[743.04,-5535.389999999999],\"theta\":[\"ending_balance\",\"credit_balance\"],\"type\":\"scatterpolar\"},{\"fill\":\"toself\",\"name\":\"cluster138\",\"r\":[2897.68,-5535.389999999999],\"theta\":[\"ending_balance\",\"credit_balance\"],\"type\":\"scatterpolar\"},{\"fill\":\"toself\",\"name\":\"cluster139\",\"r\":[2264.61,-5535.389999999999],\"theta\":[\"ending_balance\",\"credit_balance\"],\"type\":\"scatterpolar\"},{\"fill\":\"toself\",\"name\":\"cluster140\",\"r\":[15.74,-2984.26],\"theta\":[\"ending_balance\",\"credit_balance\"],\"type\":\"scatterpolar\"},{\"fill\":\"toself\",\"name\":\"cluster141\",\"r\":[844.14,-2984.26],\"theta\":[\"ending_balance\",\"credit_balance\"],\"type\":\"scatterpolar\"},{\"fill\":\"toself\",\"name\":\"cluster142\",\"r\":[2562.66,-2984.26],\"theta\":[\"ending_balance\",\"credit_balance\"],\"type\":\"scatterpolar\"},{\"fill\":\"toself\",\"name\":\"cluster143\",\"r\":[306.26,0.0],\"theta\":[\"ending_balance\",\"credit_balance\"],\"type\":\"scatterpolar\"},{\"fill\":\"toself\",\"name\":\"cluster144\",\"r\":[1000.0,0.0],\"theta\":[\"ending_balance\",\"credit_balance\"],\"type\":\"scatterpolar\"},{\"fill\":\"toself\",\"name\":\"cluster145\",\"r\":[50.77,0.0],\"theta\":[\"ending_balance\",\"credit_balance\"],\"type\":\"scatterpolar\"},{\"fill\":\"toself\",\"name\":\"cluster146\",\"r\":[48.9,0.0],\"theta\":[\"ending_balance\",\"credit_balance\"],\"type\":\"scatterpolar\"},{\"fill\":\"toself\",\"name\":\"cluster147\",\"r\":[3000.0,0.0],\"theta\":[\"ending_balance\",\"credit_balance\"],\"type\":\"scatterpolar\"},{\"fill\":\"toself\",\"name\":\"cluster148\",\"r\":[1116.71,0.0],\"theta\":[\"ending_balance\",\"credit_balance\"],\"type\":\"scatterpolar\"},{\"fill\":\"toself\",\"name\":\"cluster149\",\"r\":[540.37,-2752.68],\"theta\":[\"ending_balance\",\"credit_balance\"],\"type\":\"scatterpolar\"},{\"fill\":\"toself\",\"name\":\"cluster150\",\"r\":[247.32,-2752.68],\"theta\":[\"ending_balance\",\"credit_balance\"],\"type\":\"scatterpolar\"},{\"fill\":\"toself\",\"name\":\"cluster151\",\"r\":[14.34,-2080.0],\"theta\":[\"ending_balance\",\"credit_balance\"],\"type\":\"scatterpolar\"},{\"fill\":\"toself\",\"name\":\"cluster152\",\"r\":[20.0,-2080.0],\"theta\":[\"ending_balance\",\"credit_balance\"],\"type\":\"scatterpolar\"},{\"fill\":\"toself\",\"name\":\"cluster153\",\"r\":[1116.1,-231.0],\"theta\":[\"ending_balance\",\"credit_balance\"],\"type\":\"scatterpolar\"},{\"fill\":\"toself\",\"name\":\"cluster154\",\"r\":[106.14,-231.0],\"theta\":[\"ending_balance\",\"credit_balance\"],\"type\":\"scatterpolar\"},{\"fill\":\"toself\",\"name\":\"cluster155\",\"r\":[6869.0,-231.0],\"theta\":[\"ending_balance\",\"credit_balance\"],\"type\":\"scatterpolar\"},{\"fill\":\"toself\",\"name\":\"cluster156\",\"r\":[844.28,-2225.7799999999997],\"theta\":[\"ending_balance\",\"credit_balance\"],\"type\":\"scatterpolar\"},{\"fill\":\"toself\",\"name\":\"cluster157\",\"r\":[307.97,-2225.7799999999997],\"theta\":[\"ending_balance\",\"credit_balance\"],\"type\":\"scatterpolar\"},{\"fill\":\"toself\",\"name\":\"cluster158\",\"r\":[774.22,-2225.7799999999997],\"theta\":[\"ending_balance\",\"credit_balance\"],\"type\":\"scatterpolar\"},{\"fill\":\"toself\",\"name\":\"cluster159\",\"r\":[10.42,-988.88],\"theta\":[\"ending_balance\",\"credit_balance\"],\"type\":\"scatterpolar\"},{\"fill\":\"toself\",\"name\":\"cluster160\",\"r\":[11.12,-988.88],\"theta\":[\"ending_balance\",\"credit_balance\"],\"type\":\"scatterpolar\"},{\"fill\":\"toself\",\"name\":\"cluster161\",\"r\":[2229.96,-2708.42],\"theta\":[\"ending_balance\",\"credit_balance\"],\"type\":\"scatterpolar\"},{\"fill\":\"toself\",\"name\":\"cluster162\",\"r\":[291.58,-2708.42],\"theta\":[\"ending_balance\",\"credit_balance\"],\"type\":\"scatterpolar\"},{\"fill\":\"toself\",\"name\":\"cluster163\",\"r\":[10.7,-2990.0],\"theta\":[\"ending_balance\",\"credit_balance\"],\"type\":\"scatterpolar\"},{\"fill\":\"toself\",\"name\":\"cluster164\",\"r\":[10.0,-2990.0],\"theta\":[\"ending_balance\",\"credit_balance\"],\"type\":\"scatterpolar\"},{\"fill\":\"toself\",\"name\":\"cluster165\",\"r\":[337.82,-2990.0],\"theta\":[\"ending_balance\",\"credit_balance\"],\"type\":\"scatterpolar\"},{\"fill\":\"toself\",\"name\":\"cluster166\",\"r\":[185.4,0.0],\"theta\":[\"ending_balance\",\"credit_balance\"],\"type\":\"scatterpolar\"},{\"fill\":\"toself\",\"name\":\"cluster167\",\"r\":[1600.0,0.0],\"theta\":[\"ending_balance\",\"credit_balance\"],\"type\":\"scatterpolar\"},{\"fill\":\"toself\",\"name\":\"cluster168\",\"r\":[1661.44,-3038.56],\"theta\":[\"ending_balance\",\"credit_balance\"],\"type\":\"scatterpolar\"},{\"fill\":\"toself\",\"name\":\"cluster169\",\"r\":[2735.3,-3038.56],\"theta\":[\"ending_balance\",\"credit_balance\"],\"type\":\"scatterpolar\"},{\"fill\":\"toself\",\"name\":\"cluster170\",\"r\":[626.79,-3038.56],\"theta\":[\"ending_balance\",\"credit_balance\"],\"type\":\"scatterpolar\"},{\"fill\":\"toself\",\"name\":\"cluster171\",\"r\":[4494.03,-892.6],\"theta\":[\"ending_balance\",\"credit_balance\"],\"type\":\"scatterpolar\"},{\"fill\":\"toself\",\"name\":\"cluster172\",\"r\":[107.4,-892.6],\"theta\":[\"ending_balance\",\"credit_balance\"],\"type\":\"scatterpolar\"},{\"fill\":\"toself\",\"name\":\"cluster173\",\"r\":[315.88,-892.6],\"theta\":[\"ending_balance\",\"credit_balance\"],\"type\":\"scatterpolar\"},{\"fill\":\"toself\",\"name\":\"cluster174\",\"r\":[851.45,-93.46000000000004],\"theta\":[\"ending_balance\",\"credit_balance\"],\"type\":\"scatterpolar\"},{\"fill\":\"toself\",\"name\":\"cluster175\",\"r\":[906.54,-93.46000000000004],\"theta\":[\"ending_balance\",\"credit_balance\"],\"type\":\"scatterpolar\"},{\"fill\":\"toself\",\"name\":\"cluster176\",\"r\":[2950.23,-93.46000000000004],\"theta\":[\"ending_balance\",\"credit_balance\"],\"type\":\"scatterpolar\"},{\"fill\":\"toself\",\"name\":\"cluster177\",\"r\":[455.67,-3517.85],\"theta\":[\"ending_balance\",\"credit_balance\"],\"type\":\"scatterpolar\"},{\"fill\":\"toself\",\"name\":\"cluster178\",\"r\":[82.15,-3517.85],\"theta\":[\"ending_balance\",\"credit_balance\"],\"type\":\"scatterpolar\"},{\"fill\":\"toself\",\"name\":\"cluster179\",\"r\":[44.79,0.0],\"theta\":[\"ending_balance\",\"credit_balance\"],\"type\":\"scatterpolar\"},{\"fill\":\"toself\",\"name\":\"cluster180\",\"r\":[72.09,0.0],\"theta\":[\"ending_balance\",\"credit_balance\"],\"type\":\"scatterpolar\"},{\"fill\":\"toself\",\"name\":\"cluster181\",\"r\":[1200.0,0.0],\"theta\":[\"ending_balance\",\"credit_balance\"],\"type\":\"scatterpolar\"},{\"fill\":\"toself\",\"name\":\"cluster182\",\"r\":[3157.9,-1242.1],\"theta\":[\"ending_balance\",\"credit_balance\"],\"type\":\"scatterpolar\"},{\"fill\":\"toself\",\"name\":\"cluster183\",\"r\":[763.8,-1242.1],\"theta\":[\"ending_balance\",\"credit_balance\"],\"type\":\"scatterpolar\"},{\"fill\":\"toself\",\"name\":\"cluster184\",\"r\":[494.84,-2440.43],\"theta\":[\"ending_balance\",\"credit_balance\"],\"type\":\"scatterpolar\"},{\"fill\":\"toself\",\"name\":\"cluster185\",\"r\":[1860.19,-2440.43],\"theta\":[\"ending_balance\",\"credit_balance\"],\"type\":\"scatterpolar\"},{\"fill\":\"toself\",\"name\":\"cluster186\",\"r\":[559.57,-2440.43],\"theta\":[\"ending_balance\",\"credit_balance\"],\"type\":\"scatterpolar\"},{\"fill\":\"toself\",\"name\":\"cluster187\",\"r\":[1295.93,-1119.54],\"theta\":[\"ending_balance\",\"credit_balance\"],\"type\":\"scatterpolar\"},{\"fill\":\"toself\",\"name\":\"cluster188\",\"r\":[1880.46,-1119.54],\"theta\":[\"ending_balance\",\"credit_balance\"],\"type\":\"scatterpolar\"},{\"fill\":\"toself\",\"name\":\"cluster189\",\"r\":[1194.36,-1119.54],\"theta\":[\"ending_balance\",\"credit_balance\"],\"type\":\"scatterpolar\"},{\"fill\":\"toself\",\"name\":\"cluster190\",\"r\":[180.08,0.0],\"theta\":[\"ending_balance\",\"credit_balance\"],\"type\":\"scatterpolar\"},{\"fill\":\"toself\",\"name\":\"cluster191\",\"r\":[1094.41,0.0],\"theta\":[\"ending_balance\",\"credit_balance\"],\"type\":\"scatterpolar\"},{\"fill\":\"toself\",\"name\":\"cluster192\",\"r\":[1800.0,0.0],\"theta\":[\"ending_balance\",\"credit_balance\"],\"type\":\"scatterpolar\"},{\"fill\":\"toself\",\"name\":\"cluster193\",\"r\":[947.81,-352.19000000000005],\"theta\":[\"ending_balance\",\"credit_balance\"],\"type\":\"scatterpolar\"},{\"fill\":\"toself\",\"name\":\"cluster194\",\"r\":[7144.39,-352.19000000000005],\"theta\":[\"ending_balance\",\"credit_balance\"],\"type\":\"scatterpolar\"},{\"fill\":\"toself\",\"name\":\"cluster195\",\"r\":[107.33,-352.19000000000005],\"theta\":[\"ending_balance\",\"credit_balance\"],\"type\":\"scatterpolar\"},{\"fill\":\"toself\",\"name\":\"cluster196\",\"r\":[1000.0,-4000.0],\"theta\":[\"ending_balance\",\"credit_balance\"],\"type\":\"scatterpolar\"},{\"fill\":\"toself\",\"name\":\"cluster197\",\"r\":[157.76,-4000.0],\"theta\":[\"ending_balance\",\"credit_balance\"],\"type\":\"scatterpolar\"},{\"fill\":\"toself\",\"name\":\"cluster198\",\"r\":[35.8,-2990.0],\"theta\":[\"ending_balance\",\"credit_balance\"],\"type\":\"scatterpolar\"},{\"fill\":\"toself\",\"name\":\"cluster199\",\"r\":[10.0,-2990.0],\"theta\":[\"ending_balance\",\"credit_balance\"],\"type\":\"scatterpolar\"},{\"fill\":\"toself\",\"name\":\"cluster200\",\"r\":[140.01,-4617.64],\"theta\":[\"ending_balance\",\"credit_balance\"],\"type\":\"scatterpolar\"},{\"fill\":\"toself\",\"name\":\"cluster201\",\"r\":[1982.36,-4617.64],\"theta\":[\"ending_balance\",\"credit_balance\"],\"type\":\"scatterpolar\"},{\"fill\":\"toself\",\"name\":\"cluster202\",\"r\":[1145.74,-4617.64],\"theta\":[\"ending_balance\",\"credit_balance\"],\"type\":\"scatterpolar\"},{\"fill\":\"toself\",\"name\":\"cluster203\",\"r\":[1.8,-3252.8],\"theta\":[\"ending_balance\",\"credit_balance\"],\"type\":\"scatterpolar\"},{\"fill\":\"toself\",\"name\":\"cluster204\",\"r\":[47.2,-3252.8],\"theta\":[\"ending_balance\",\"credit_balance\"],\"type\":\"scatterpolar\"},{\"fill\":\"toself\",\"name\":\"cluster205\",\"r\":[896.45,0.0],\"theta\":[\"ending_balance\",\"credit_balance\"],\"type\":\"scatterpolar\"},{\"fill\":\"toself\",\"name\":\"cluster206\",\"r\":[0.0,0.0],\"theta\":[\"ending_balance\",\"credit_balance\"],\"type\":\"scatterpolar\"},{\"fill\":\"toself\",\"name\":\"cluster207\",\"r\":[1000.0,0.0],\"theta\":[\"ending_balance\",\"credit_balance\"],\"type\":\"scatterpolar\"},{\"fill\":\"toself\",\"name\":\"cluster208\",\"r\":[516.78,-491.9000000000001],\"theta\":[\"ending_balance\",\"credit_balance\"],\"type\":\"scatterpolar\"},{\"fill\":\"toself\",\"name\":\"cluster209\",\"r\":[1208.1,-491.9000000000001],\"theta\":[\"ending_balance\",\"credit_balance\"],\"type\":\"scatterpolar\"},{\"fill\":\"toself\",\"name\":\"cluster210\",\"r\":[1735.39,-491.9000000000001],\"theta\":[\"ending_balance\",\"credit_balance\"],\"type\":\"scatterpolar\"},{\"fill\":\"toself\",\"name\":\"cluster211\",\"r\":[194.38,-518.03],\"theta\":[\"ending_balance\",\"credit_balance\"],\"type\":\"scatterpolar\"},{\"fill\":\"toself\",\"name\":\"cluster212\",\"r\":[481.97,-518.03],\"theta\":[\"ending_balance\",\"credit_balance\"],\"type\":\"scatterpolar\"},{\"fill\":\"toself\",\"name\":\"cluster213\",\"r\":[1111.42,-518.03],\"theta\":[\"ending_balance\",\"credit_balance\"],\"type\":\"scatterpolar\"},{\"fill\":\"toself\",\"name\":\"cluster214\",\"r\":[105.54,0.0],\"theta\":[\"ending_balance\",\"credit_balance\"],\"type\":\"scatterpolar\"},{\"fill\":\"toself\",\"name\":\"cluster215\",\"r\":[1015.46,0.0],\"theta\":[\"ending_balance\",\"credit_balance\"],\"type\":\"scatterpolar\"},{\"fill\":\"toself\",\"name\":\"cluster216\",\"r\":[1000.0,0.0],\"theta\":[\"ending_balance\",\"credit_balance\"],\"type\":\"scatterpolar\"},{\"fill\":\"toself\",\"name\":\"cluster217\",\"r\":[1000.0,0.0],\"theta\":[\"ending_balance\",\"credit_balance\"],\"type\":\"scatterpolar\"},{\"fill\":\"toself\",\"name\":\"cluster218\",\"r\":[17.68,0.0],\"theta\":[\"ending_balance\",\"credit_balance\"],\"type\":\"scatterpolar\"},{\"fill\":\"toself\",\"name\":\"cluster219\",\"r\":[1800.0,0.0],\"theta\":[\"ending_balance\",\"credit_balance\"],\"type\":\"scatterpolar\"},{\"fill\":\"toself\",\"name\":\"cluster220\",\"r\":[1649.8,-147.29999999999995],\"theta\":[\"ending_balance\",\"credit_balance\"],\"type\":\"scatterpolar\"},{\"fill\":\"toself\",\"name\":\"cluster221\",\"r\":[18.37,-147.29999999999995],\"theta\":[\"ending_balance\",\"credit_balance\"],\"type\":\"scatterpolar\"},{\"fill\":\"toself\",\"name\":\"cluster222\",\"r\":[1352.7,-147.29999999999995],\"theta\":[\"ending_balance\",\"credit_balance\"],\"type\":\"scatterpolar\"},{\"fill\":\"toself\",\"name\":\"cluster223\",\"r\":[1112.8,-787.2],\"theta\":[\"ending_balance\",\"credit_balance\"],\"type\":\"scatterpolar\"},{\"fill\":\"toself\",\"name\":\"cluster224\",\"r\":[297.36,-787.2],\"theta\":[\"ending_balance\",\"credit_balance\"],\"type\":\"scatterpolar\"},{\"fill\":\"toself\",\"name\":\"cluster225\",\"r\":[0.0,-787.2],\"theta\":[\"ending_balance\",\"credit_balance\"],\"type\":\"scatterpolar\"},{\"fill\":\"toself\",\"name\":\"cluster226\",\"r\":[1000.0,0.0],\"theta\":[\"ending_balance\",\"credit_balance\"],\"type\":\"scatterpolar\"},{\"fill\":\"toself\",\"name\":\"cluster227\",\"r\":[671.09,0.0],\"theta\":[\"ending_balance\",\"credit_balance\"],\"type\":\"scatterpolar\"},{\"fill\":\"toself\",\"name\":\"cluster228\",\"r\":[346.08,0.0],\"theta\":[\"ending_balance\",\"credit_balance\"],\"type\":\"scatterpolar\"},{\"fill\":\"toself\",\"name\":\"cluster229\",\"r\":[731.2,-2268.8],\"theta\":[\"ending_balance\",\"credit_balance\"],\"type\":\"scatterpolar\"},{\"fill\":\"toself\",\"name\":\"cluster230\",\"r\":[862.43,-2268.8],\"theta\":[\"ending_balance\",\"credit_balance\"],\"type\":\"scatterpolar\"},{\"fill\":\"toself\",\"name\":\"cluster231\",\"r\":[211.68,-2268.8],\"theta\":[\"ending_balance\",\"credit_balance\"],\"type\":\"scatterpolar\"},{\"fill\":\"toself\",\"name\":\"cluster232\",\"r\":[14.76,-700.0],\"theta\":[\"ending_balance\",\"credit_balance\"],\"type\":\"scatterpolar\"},{\"fill\":\"toself\",\"name\":\"cluster233\",\"r\":[300.0,-700.0],\"theta\":[\"ending_balance\",\"credit_balance\"],\"type\":\"scatterpolar\"},{\"fill\":\"toself\",\"name\":\"cluster234\",\"r\":[232.15,-700.0],\"theta\":[\"ending_balance\",\"credit_balance\"],\"type\":\"scatterpolar\"},{\"fill\":\"toself\",\"name\":\"cluster235\",\"r\":[1100.0,0.0],\"theta\":[\"ending_balance\",\"credit_balance\"],\"type\":\"scatterpolar\"},{\"fill\":\"toself\",\"name\":\"cluster236\",\"r\":[45.49,0.0],\"theta\":[\"ending_balance\",\"credit_balance\"],\"type\":\"scatterpolar\"},{\"fill\":\"toself\",\"name\":\"cluster237\",\"r\":[2300.0,0.0],\"theta\":[\"ending_balance\",\"credit_balance\"],\"type\":\"scatterpolar\"},{\"fill\":\"toself\",\"name\":\"cluster238\",\"r\":[335.7,0.0],\"theta\":[\"ending_balance\",\"credit_balance\"],\"type\":\"scatterpolar\"},{\"fill\":\"toself\",\"name\":\"cluster239\",\"r\":[22.94,0.0],\"theta\":[\"ending_balance\",\"credit_balance\"],\"type\":\"scatterpolar\"},{\"fill\":\"toself\",\"name\":\"cluster240\",\"r\":[201.9,-2320.31],\"theta\":[\"ending_balance\",\"credit_balance\"],\"type\":\"scatterpolar\"},{\"fill\":\"toself\",\"name\":\"cluster241\",\"r\":[461.88,-2320.31],\"theta\":[\"ending_balance\",\"credit_balance\"],\"type\":\"scatterpolar\"},{\"fill\":\"toself\",\"name\":\"cluster242\",\"r\":[679.69,-2320.31],\"theta\":[\"ending_balance\",\"credit_balance\"],\"type\":\"scatterpolar\"},{\"fill\":\"toself\",\"name\":\"cluster243\",\"r\":[289.72,-853.8900000000001],\"theta\":[\"ending_balance\",\"credit_balance\"],\"type\":\"scatterpolar\"},{\"fill\":\"toself\",\"name\":\"cluster244\",\"r\":[1046.11,-853.8900000000001],\"theta\":[\"ending_balance\",\"credit_balance\"],\"type\":\"scatterpolar\"},{\"fill\":\"toself\",\"name\":\"cluster245\",\"r\":[805.19,-1066.88],\"theta\":[\"ending_balance\",\"credit_balance\"],\"type\":\"scatterpolar\"},{\"fill\":\"toself\",\"name\":\"cluster246\",\"r\":[133.12,-1066.88],\"theta\":[\"ending_balance\",\"credit_balance\"],\"type\":\"scatterpolar\"},{\"fill\":\"toself\",\"name\":\"cluster247\",\"r\":[900.52,-1066.88],\"theta\":[\"ending_balance\",\"credit_balance\"],\"type\":\"scatterpolar\"},{\"fill\":\"toself\",\"name\":\"cluster248\",\"r\":[711.81,-2383.88],\"theta\":[\"ending_balance\",\"credit_balance\"],\"type\":\"scatterpolar\"},{\"fill\":\"toself\",\"name\":\"cluster249\",\"r\":[195.31,-2383.88],\"theta\":[\"ending_balance\",\"credit_balance\"],\"type\":\"scatterpolar\"},{\"fill\":\"toself\",\"name\":\"cluster250\",\"r\":[1016.12,-2383.88],\"theta\":[\"ending_balance\",\"credit_balance\"],\"type\":\"scatterpolar\"},{\"fill\":\"toself\",\"name\":\"cluster251\",\"r\":[609.04,0.0],\"theta\":[\"ending_balance\",\"credit_balance\"],\"type\":\"scatterpolar\"},{\"fill\":\"toself\",\"name\":\"cluster252\",\"r\":[1000.0,0.0],\"theta\":[\"ending_balance\",\"credit_balance\"],\"type\":\"scatterpolar\"},{\"fill\":\"toself\",\"name\":\"cluster253\",\"r\":[9500.0,0.0],\"theta\":[\"ending_balance\",\"credit_balance\"],\"type\":\"scatterpolar\"},{\"fill\":\"toself\",\"name\":\"cluster254\",\"r\":[3864.77,0.0],\"theta\":[\"ending_balance\",\"credit_balance\"],\"type\":\"scatterpolar\"},{\"fill\":\"toself\",\"name\":\"cluster255\",\"r\":[5521.65,0.0],\"theta\":[\"ending_balance\",\"credit_balance\"],\"type\":\"scatterpolar\"},{\"fill\":\"toself\",\"name\":\"cluster256\",\"r\":[2019.49,-968.96],\"theta\":[\"ending_balance\",\"credit_balance\"],\"type\":\"scatterpolar\"},{\"fill\":\"toself\",\"name\":\"cluster257\",\"r\":[737.37,-968.96],\"theta\":[\"ending_balance\",\"credit_balance\"],\"type\":\"scatterpolar\"},{\"fill\":\"toself\",\"name\":\"cluster258\",\"r\":[31.04,-968.96],\"theta\":[\"ending_balance\",\"credit_balance\"],\"type\":\"scatterpolar\"},{\"fill\":\"toself\",\"name\":\"cluster259\",\"r\":[168.63,-2310.04],\"theta\":[\"ending_balance\",\"credit_balance\"],\"type\":\"scatterpolar\"},{\"fill\":\"toself\",\"name\":\"cluster260\",\"r\":[689.96,-2310.04],\"theta\":[\"ending_balance\",\"credit_balance\"],\"type\":\"scatterpolar\"},{\"fill\":\"toself\",\"name\":\"cluster261\",\"r\":[181.99,0.0],\"theta\":[\"ending_balance\",\"credit_balance\"],\"type\":\"scatterpolar\"},{\"fill\":\"toself\",\"name\":\"cluster262\",\"r\":[32.18,0.0],\"theta\":[\"ending_balance\",\"credit_balance\"],\"type\":\"scatterpolar\"},{\"fill\":\"toself\",\"name\":\"cluster263\",\"r\":[1000.0,0.0],\"theta\":[\"ending_balance\",\"credit_balance\"],\"type\":\"scatterpolar\"},{\"fill\":\"toself\",\"name\":\"cluster264\",\"r\":[2014.49,-671.21],\"theta\":[\"ending_balance\",\"credit_balance\"],\"type\":\"scatterpolar\"},{\"fill\":\"toself\",\"name\":\"cluster265\",\"r\":[328.79,-671.21],\"theta\":[\"ending_balance\",\"credit_balance\"],\"type\":\"scatterpolar\"},{\"fill\":\"toself\",\"name\":\"cluster266\",\"r\":[2180.1,-671.21],\"theta\":[\"ending_balance\",\"credit_balance\"],\"type\":\"scatterpolar\"},{\"fill\":\"toself\",\"name\":\"cluster267\",\"r\":[492.11,-2842.58],\"theta\":[\"ending_balance\",\"credit_balance\"],\"type\":\"scatterpolar\"},{\"fill\":\"toself\",\"name\":\"cluster268\",\"r\":[874.16,-2842.58],\"theta\":[\"ending_balance\",\"credit_balance\"],\"type\":\"scatterpolar\"},{\"fill\":\"toself\",\"name\":\"cluster269\",\"r\":[157.42,-2842.58],\"theta\":[\"ending_balance\",\"credit_balance\"],\"type\":\"scatterpolar\"},{\"fill\":\"toself\",\"name\":\"cluster270\",\"r\":[3000.0,0.0],\"theta\":[\"ending_balance\",\"credit_balance\"],\"type\":\"scatterpolar\"},{\"fill\":\"toself\",\"name\":\"cluster271\",\"r\":[938.43,-61.57000000000005],\"theta\":[\"ending_balance\",\"credit_balance\"],\"type\":\"scatterpolar\"},{\"fill\":\"toself\",\"name\":\"cluster272\",\"r\":[1385.03,-61.57000000000005],\"theta\":[\"ending_balance\",\"credit_balance\"],\"type\":\"scatterpolar\"},{\"fill\":\"toself\",\"name\":\"cluster273\",\"r\":[196.62,-643.0],\"theta\":[\"ending_balance\",\"credit_balance\"],\"type\":\"scatterpolar\"},{\"fill\":\"toself\",\"name\":\"cluster274\",\"r\":[7.47,-643.0],\"theta\":[\"ending_balance\",\"credit_balance\"],\"type\":\"scatterpolar\"},{\"fill\":\"toself\",\"name\":\"cluster275\",\"r\":[357.0,-643.0],\"theta\":[\"ending_balance\",\"credit_balance\"],\"type\":\"scatterpolar\"},{\"fill\":\"toself\",\"name\":\"cluster276\",\"r\":[2.74,0.0],\"theta\":[\"ending_balance\",\"credit_balance\"],\"type\":\"scatterpolar\"},{\"fill\":\"toself\",\"name\":\"cluster277\",\"r\":[18.54,0.0],\"theta\":[\"ending_balance\",\"credit_balance\"],\"type\":\"scatterpolar\"},{\"fill\":\"toself\",\"name\":\"cluster278\",\"r\":[1100.0,0.0],\"theta\":[\"ending_balance\",\"credit_balance\"],\"type\":\"scatterpolar\"},{\"fill\":\"toself\",\"name\":\"cluster279\",\"r\":[13.54,-2480.0],\"theta\":[\"ending_balance\",\"credit_balance\"],\"type\":\"scatterpolar\"},{\"fill\":\"toself\",\"name\":\"cluster280\",\"r\":[20.0,-2480.0],\"theta\":[\"ending_balance\",\"credit_balance\"],\"type\":\"scatterpolar\"},{\"fill\":\"toself\",\"name\":\"cluster281\",\"r\":[459.03,0.0],\"theta\":[\"ending_balance\",\"credit_balance\"],\"type\":\"scatterpolar\"},{\"fill\":\"toself\",\"name\":\"cluster282\",\"r\":[1800.0,0.0],\"theta\":[\"ending_balance\",\"credit_balance\"],\"type\":\"scatterpolar\"},{\"fill\":\"toself\",\"name\":\"cluster283\",\"r\":[508.26,0.0],\"theta\":[\"ending_balance\",\"credit_balance\"],\"type\":\"scatterpolar\"},{\"fill\":\"toself\",\"name\":\"cluster284\",\"r\":[397.19,-2602.81],\"theta\":[\"ending_balance\",\"credit_balance\"],\"type\":\"scatterpolar\"},{\"fill\":\"toself\",\"name\":\"cluster285\",\"r\":[621.41,0.0],\"theta\":[\"ending_balance\",\"credit_balance\"],\"type\":\"scatterpolar\"},{\"fill\":\"toself\",\"name\":\"cluster286\",\"r\":[1000.0,0.0],\"theta\":[\"ending_balance\",\"credit_balance\"],\"type\":\"scatterpolar\"},{\"fill\":\"toself\",\"name\":\"cluster287\",\"r\":[119.39,0.0],\"theta\":[\"ending_balance\",\"credit_balance\"],\"type\":\"scatterpolar\"},{\"fill\":\"toself\",\"name\":\"cluster288\",\"r\":[1195.54,-2880.0],\"theta\":[\"ending_balance\",\"credit_balance\"],\"type\":\"scatterpolar\"},{\"fill\":\"toself\",\"name\":\"cluster289\",\"r\":[20.0,-2880.0],\"theta\":[\"ending_balance\",\"credit_balance\"],\"type\":\"scatterpolar\"},{\"fill\":\"toself\",\"name\":\"cluster290\",\"r\":[1554.71,-653.03],\"theta\":[\"ending_balance\",\"credit_balance\"],\"type\":\"scatterpolar\"},{\"fill\":\"toself\",\"name\":\"cluster291\",\"r\":[112.94,-653.03],\"theta\":[\"ending_balance\",\"credit_balance\"],\"type\":\"scatterpolar\"},{\"fill\":\"toself\",\"name\":\"cluster292\",\"r\":[346.97,-653.03],\"theta\":[\"ending_balance\",\"credit_balance\"],\"type\":\"scatterpolar\"},{\"fill\":\"toself\",\"name\":\"cluster293\",\"r\":[1741.09,-40.72000000000003],\"theta\":[\"ending_balance\",\"credit_balance\"],\"type\":\"scatterpolar\"},{\"fill\":\"toself\",\"name\":\"cluster294\",\"r\":[62.94,-40.72000000000003],\"theta\":[\"ending_balance\",\"credit_balance\"],\"type\":\"scatterpolar\"},{\"fill\":\"toself\",\"name\":\"cluster295\",\"r\":[959.28,-40.72000000000003],\"theta\":[\"ending_balance\",\"credit_balance\"],\"type\":\"scatterpolar\"},{\"fill\":\"toself\",\"name\":\"cluster296\",\"r\":[278.54,0.0],\"theta\":[\"ending_balance\",\"credit_balance\"],\"type\":\"scatterpolar\"},{\"fill\":\"toself\",\"name\":\"cluster297\",\"r\":[1000.0,0.0],\"theta\":[\"ending_balance\",\"credit_balance\"],\"type\":\"scatterpolar\"},{\"fill\":\"toself\",\"name\":\"cluster298\",\"r\":[245.66,-1371.28],\"theta\":[\"ending_balance\",\"credit_balance\"],\"type\":\"scatterpolar\"},{\"fill\":\"toself\",\"name\":\"cluster299\",\"r\":[897.68,-1371.28],\"theta\":[\"ending_balance\",\"credit_balance\"],\"type\":\"scatterpolar\"},{\"fill\":\"toself\",\"name\":\"cluster300\",\"r\":[1628.72,-1371.28],\"theta\":[\"ending_balance\",\"credit_balance\"],\"type\":\"scatterpolar\"},{\"fill\":\"toself\",\"name\":\"cluster301\",\"r\":[898.28,-2265.19],\"theta\":[\"ending_balance\",\"credit_balance\"],\"type\":\"scatterpolar\"},{\"fill\":\"toself\",\"name\":\"cluster302\",\"r\":[734.81,-2265.19],\"theta\":[\"ending_balance\",\"credit_balance\"],\"type\":\"scatterpolar\"},{\"fill\":\"toself\",\"name\":\"cluster303\",\"r\":[2570.3,-2265.19],\"theta\":[\"ending_balance\",\"credit_balance\"],\"type\":\"scatterpolar\"},{\"fill\":\"toself\",\"name\":\"cluster304\",\"r\":[110.53,-2055.84],\"theta\":[\"ending_balance\",\"credit_balance\"],\"type\":\"scatterpolar\"},{\"fill\":\"toself\",\"name\":\"cluster305\",\"r\":[944.16,-2055.84],\"theta\":[\"ending_balance\",\"credit_balance\"],\"type\":\"scatterpolar\"},{\"fill\":\"toself\",\"name\":\"cluster306\",\"r\":[278.86,-2896.31],\"theta\":[\"ending_balance\",\"credit_balance\"],\"type\":\"scatterpolar\"},{\"fill\":\"toself\",\"name\":\"cluster307\",\"r\":[2103.69,-2896.31],\"theta\":[\"ending_balance\",\"credit_balance\"],\"type\":\"scatterpolar\"},{\"fill\":\"toself\",\"name\":\"cluster308\",\"r\":[28.91,-2896.31],\"theta\":[\"ending_balance\",\"credit_balance\"],\"type\":\"scatterpolar\"},{\"fill\":\"toself\",\"name\":\"cluster309\",\"r\":[26.6,0.0],\"theta\":[\"ending_balance\",\"credit_balance\"],\"type\":\"scatterpolar\"},{\"fill\":\"toself\",\"name\":\"cluster310\",\"r\":[1100.0,0.0],\"theta\":[\"ending_balance\",\"credit_balance\"],\"type\":\"scatterpolar\"},{\"fill\":\"toself\",\"name\":\"cluster311\",\"r\":[10.28,0.0],\"theta\":[\"ending_balance\",\"credit_balance\"],\"type\":\"scatterpolar\"},{\"fill\":\"toself\",\"name\":\"cluster312\",\"r\":[1200.0,0.0],\"theta\":[\"ending_balance\",\"credit_balance\"],\"type\":\"scatterpolar\"},{\"fill\":\"toself\",\"name\":\"cluster313\",\"r\":[1868.87,-1431.13],\"theta\":[\"ending_balance\",\"credit_balance\"],\"type\":\"scatterpolar\"},{\"fill\":\"toself\",\"name\":\"cluster314\",\"r\":[29.46,-1431.13],\"theta\":[\"ending_balance\",\"credit_balance\"],\"type\":\"scatterpolar\"},{\"fill\":\"toself\",\"name\":\"cluster315\",\"r\":[629.45,-920.0],\"theta\":[\"ending_balance\",\"credit_balance\"],\"type\":\"scatterpolar\"},{\"fill\":\"toself\",\"name\":\"cluster316\",\"r\":[612.35,-920.0],\"theta\":[\"ending_balance\",\"credit_balance\"],\"type\":\"scatterpolar\"},{\"fill\":\"toself\",\"name\":\"cluster317\",\"r\":[80.0,-920.0],\"theta\":[\"ending_balance\",\"credit_balance\"],\"type\":\"scatterpolar\"},{\"fill\":\"toself\",\"name\":\"cluster318\",\"r\":[86.31,0.0],\"theta\":[\"ending_balance\",\"credit_balance\"],\"type\":\"scatterpolar\"},{\"fill\":\"toself\",\"name\":\"cluster319\",\"r\":[1079.16,0.0],\"theta\":[\"ending_balance\",\"credit_balance\"],\"type\":\"scatterpolar\"},{\"fill\":\"toself\",\"name\":\"cluster320\",\"r\":[1000.0,0.0],\"theta\":[\"ending_balance\",\"credit_balance\"],\"type\":\"scatterpolar\"},{\"fill\":\"toself\",\"name\":\"cluster321\",\"r\":[309.49,-390.26],\"theta\":[\"ending_balance\",\"credit_balance\"],\"type\":\"scatterpolar\"},{\"fill\":\"toself\",\"name\":\"cluster322\",\"r\":[609.74,-390.26],\"theta\":[\"ending_balance\",\"credit_balance\"],\"type\":\"scatterpolar\"},{\"fill\":\"toself\",\"name\":\"cluster323\",\"r\":[0.0,-559.74],\"theta\":[\"ending_balance\",\"credit_balance\"],\"type\":\"scatterpolar\"},{\"fill\":\"toself\",\"name\":\"cluster324\",\"r\":[440.26,-559.74],\"theta\":[\"ending_balance\",\"credit_balance\"],\"type\":\"scatterpolar\"},{\"fill\":\"toself\",\"name\":\"cluster325\",\"r\":[61.5,-559.74],\"theta\":[\"ending_balance\",\"credit_balance\"],\"type\":\"scatterpolar\"},{\"fill\":\"toself\",\"name\":\"cluster326\",\"r\":[1300.0,0.0],\"theta\":[\"ending_balance\",\"credit_balance\"],\"type\":\"scatterpolar\"},{\"fill\":\"toself\",\"name\":\"cluster327\",\"r\":[96.25,0.0],\"theta\":[\"ending_balance\",\"credit_balance\"],\"type\":\"scatterpolar\"},{\"fill\":\"toself\",\"name\":\"cluster328\",\"r\":[3.96,-3411.46],\"theta\":[\"ending_balance\",\"credit_balance\"],\"type\":\"scatterpolar\"},{\"fill\":\"toself\",\"name\":\"cluster329\",\"r\":[988.54,-3411.46],\"theta\":[\"ending_balance\",\"credit_balance\"],\"type\":\"scatterpolar\"},{\"fill\":\"toself\",\"name\":\"cluster330\",\"r\":[19.72,0.0],\"theta\":[\"ending_balance\",\"credit_balance\"],\"type\":\"scatterpolar\"},{\"fill\":\"toself\",\"name\":\"cluster331\",\"r\":[3000.0,0.0],\"theta\":[\"ending_balance\",\"credit_balance\"],\"type\":\"scatterpolar\"},{\"fill\":\"toself\",\"name\":\"cluster332\",\"r\":[48.22,0.0],\"theta\":[\"ending_balance\",\"credit_balance\"],\"type\":\"scatterpolar\"},{\"fill\":\"toself\",\"name\":\"cluster333\",\"r\":[1000.0,0.0],\"theta\":[\"ending_balance\",\"credit_balance\"],\"type\":\"scatterpolar\"},{\"fill\":\"toself\",\"name\":\"cluster334\",\"r\":[0.0,-2180.0],\"theta\":[\"ending_balance\",\"credit_balance\"],\"type\":\"scatterpolar\"},{\"fill\":\"toself\",\"name\":\"cluster335\",\"r\":[20.0,-2180.0],\"theta\":[\"ending_balance\",\"credit_balance\"],\"type\":\"scatterpolar\"},{\"fill\":\"toself\",\"name\":\"cluster336\",\"r\":[1654.74,-2180.0],\"theta\":[\"ending_balance\",\"credit_balance\"],\"type\":\"scatterpolar\"},{\"fill\":\"toself\",\"name\":\"cluster337\",\"r\":[1698.93,-2248.7200000000003],\"theta\":[\"ending_balance\",\"credit_balance\"],\"type\":\"scatterpolar\"},{\"fill\":\"toself\",\"name\":\"cluster338\",\"r\":[751.28,-2248.7200000000003],\"theta\":[\"ending_balance\",\"credit_balance\"],\"type\":\"scatterpolar\"},{\"fill\":\"toself\",\"name\":\"cluster339\",\"r\":[3420.03,-2716.38],\"theta\":[\"ending_balance\",\"credit_balance\"],\"type\":\"scatterpolar\"},{\"fill\":\"toself\",\"name\":\"cluster340\",\"r\":[32.8,-2716.38],\"theta\":[\"ending_balance\",\"credit_balance\"],\"type\":\"scatterpolar\"},{\"fill\":\"toself\",\"name\":\"cluster341\",\"r\":[3783.62,-2716.38],\"theta\":[\"ending_balance\",\"credit_balance\"],\"type\":\"scatterpolar\"},{\"fill\":\"toself\",\"name\":\"cluster342\",\"r\":[163.22,-2837.05],\"theta\":[\"ending_balance\",\"credit_balance\"],\"type\":\"scatterpolar\"},{\"fill\":\"toself\",\"name\":\"cluster343\",\"r\":[162.95,-2837.05],\"theta\":[\"ending_balance\",\"credit_balance\"],\"type\":\"scatterpolar\"},{\"fill\":\"toself\",\"name\":\"cluster344\",\"r\":[1545.22,-2837.05],\"theta\":[\"ending_balance\",\"credit_balance\"],\"type\":\"scatterpolar\"},{\"fill\":\"toself\",\"name\":\"cluster345\",\"r\":[1087.54,-2459.91],\"theta\":[\"ending_balance\",\"credit_balance\"],\"type\":\"scatterpolar\"},{\"fill\":\"toself\",\"name\":\"cluster346\",\"r\":[540.09,-2459.91],\"theta\":[\"ending_balance\",\"credit_balance\"],\"type\":\"scatterpolar\"},{\"fill\":\"toself\",\"name\":\"cluster347\",\"r\":[269.93,-2459.91],\"theta\":[\"ending_balance\",\"credit_balance\"],\"type\":\"scatterpolar\"},{\"fill\":\"toself\",\"name\":\"cluster348\",\"r\":[77.44,-1856.19],\"theta\":[\"ending_balance\",\"credit_balance\"],\"type\":\"scatterpolar\"},{\"fill\":\"toself\",\"name\":\"cluster349\",\"r\":[1343.81,-1856.19],\"theta\":[\"ending_balance\",\"credit_balance\"],\"type\":\"scatterpolar\"},{\"fill\":\"toself\",\"name\":\"cluster350\",\"r\":[369.81,-1856.19],\"theta\":[\"ending_balance\",\"credit_balance\"],\"type\":\"scatterpolar\"},{\"fill\":\"toself\",\"name\":\"cluster351\",\"r\":[1244.93,0.0],\"theta\":[\"ending_balance\",\"credit_balance\"],\"type\":\"scatterpolar\"},{\"fill\":\"toself\",\"name\":\"cluster352\",\"r\":[1800.0,0.0],\"theta\":[\"ending_balance\",\"credit_balance\"],\"type\":\"scatterpolar\"},{\"fill\":\"toself\",\"name\":\"cluster353\",\"r\":[1628.76,0.0],\"theta\":[\"ending_balance\",\"credit_balance\"],\"type\":\"scatterpolar\"},{\"fill\":\"toself\",\"name\":\"cluster354\",\"r\":[2.5,-503.37],\"theta\":[\"ending_balance\",\"credit_balance\"],\"type\":\"scatterpolar\"},{\"fill\":\"toself\",\"name\":\"cluster355\",\"r\":[596.63,-503.37],\"theta\":[\"ending_balance\",\"credit_balance\"],\"type\":\"scatterpolar\"},{\"fill\":\"toself\",\"name\":\"cluster356\",\"r\":[160.66,-503.37],\"theta\":[\"ending_balance\",\"credit_balance\"],\"type\":\"scatterpolar\"},{\"fill\":\"toself\",\"name\":\"cluster357\",\"r\":[244.85,-119.09999999999991],\"theta\":[\"ending_balance\",\"credit_balance\"],\"type\":\"scatterpolar\"},{\"fill\":\"toself\",\"name\":\"cluster358\",\"r\":[1393.38,-119.09999999999991],\"theta\":[\"ending_balance\",\"credit_balance\"],\"type\":\"scatterpolar\"},{\"fill\":\"toself\",\"name\":\"cluster359\",\"r\":[1980.9,-119.09999999999991],\"theta\":[\"ending_balance\",\"credit_balance\"],\"type\":\"scatterpolar\"},{\"fill\":\"toself\",\"name\":\"cluster360\",\"r\":[20.65,0.0],\"theta\":[\"ending_balance\",\"credit_balance\"],\"type\":\"scatterpolar\"},{\"fill\":\"toself\",\"name\":\"cluster361\",\"r\":[4200.0,0.0],\"theta\":[\"ending_balance\",\"credit_balance\"],\"type\":\"scatterpolar\"},{\"fill\":\"toself\",\"name\":\"cluster362\",\"r\":[1535.83,0.0],\"theta\":[\"ending_balance\",\"credit_balance\"],\"type\":\"scatterpolar\"},{\"fill\":\"toself\",\"name\":\"cluster363\",\"r\":[439.42,-2780.0],\"theta\":[\"ending_balance\",\"credit_balance\"],\"type\":\"scatterpolar\"},{\"fill\":\"toself\",\"name\":\"cluster364\",\"r\":[20.0,-2780.0],\"theta\":[\"ending_balance\",\"credit_balance\"],\"type\":\"scatterpolar\"},{\"fill\":\"toself\",\"name\":\"cluster365\",\"r\":[1080.81,-878.33],\"theta\":[\"ending_balance\",\"credit_balance\"],\"type\":\"scatterpolar\"},{\"fill\":\"toself\",\"name\":\"cluster366\",\"r\":[121.67,-878.33],\"theta\":[\"ending_balance\",\"credit_balance\"],\"type\":\"scatterpolar\"},{\"fill\":\"toself\",\"name\":\"cluster367\",\"r\":[1917.72,-878.33],\"theta\":[\"ending_balance\",\"credit_balance\"],\"type\":\"scatterpolar\"},{\"fill\":\"toself\",\"name\":\"cluster368\",\"r\":[3.98,-584.31],\"theta\":[\"ending_balance\",\"credit_balance\"],\"type\":\"scatterpolar\"},{\"fill\":\"toself\",\"name\":\"cluster369\",\"r\":[515.69,-584.31],\"theta\":[\"ending_balance\",\"credit_balance\"],\"type\":\"scatterpolar\"},{\"fill\":\"toself\",\"name\":\"cluster370\",\"r\":[1028.01,0.0],\"theta\":[\"ending_balance\",\"credit_balance\"],\"type\":\"scatterpolar\"},{\"fill\":\"toself\",\"name\":\"cluster371\",\"r\":[1400.0,0.0],\"theta\":[\"ending_balance\",\"credit_balance\"],\"type\":\"scatterpolar\"},{\"fill\":\"toself\",\"name\":\"cluster372\",\"r\":[449.66,0.0],\"theta\":[\"ending_balance\",\"credit_balance\"],\"type\":\"scatterpolar\"},{\"fill\":\"toself\",\"name\":\"cluster373\",\"r\":[1174.11,0.0],\"theta\":[\"ending_balance\",\"credit_balance\"],\"type\":\"scatterpolar\"},{\"fill\":\"toself\",\"name\":\"cluster374\",\"r\":[3000.0,0.0],\"theta\":[\"ending_balance\",\"credit_balance\"],\"type\":\"scatterpolar\"},{\"fill\":\"toself\",\"name\":\"cluster375\",\"r\":[65.64,-193.05999999999995],\"theta\":[\"ending_balance\",\"credit_balance\"],\"type\":\"scatterpolar\"},{\"fill\":\"toself\",\"name\":\"cluster376\",\"r\":[806.94,-193.05999999999995],\"theta\":[\"ending_balance\",\"credit_balance\"],\"type\":\"scatterpolar\"},{\"fill\":\"toself\",\"name\":\"cluster377\",\"r\":[0.0,-2918.32],\"theta\":[\"ending_balance\",\"credit_balance\"],\"type\":\"scatterpolar\"},{\"fill\":\"toself\",\"name\":\"cluster378\",\"r\":[81.68,-2918.32],\"theta\":[\"ending_balance\",\"credit_balance\"],\"type\":\"scatterpolar\"},{\"fill\":\"toself\",\"name\":\"cluster379\",\"r\":[2421.03,0.0],\"theta\":[\"ending_balance\",\"credit_balance\"],\"type\":\"scatterpolar\"},{\"fill\":\"toself\",\"name\":\"cluster380\",\"r\":[3000.0,0.0],\"theta\":[\"ending_balance\",\"credit_balance\"],\"type\":\"scatterpolar\"},{\"fill\":\"toself\",\"name\":\"cluster381\",\"r\":[2034.99,0.0],\"theta\":[\"ending_balance\",\"credit_balance\"],\"type\":\"scatterpolar\"},{\"fill\":\"toself\",\"name\":\"cluster382\",\"r\":[87.69,0.0],\"theta\":[\"ending_balance\",\"credit_balance\"],\"type\":\"scatterpolar\"},{\"fill\":\"toself\",\"name\":\"cluster383\",\"r\":[1000.0,0.0],\"theta\":[\"ending_balance\",\"credit_balance\"],\"type\":\"scatterpolar\"},{\"fill\":\"toself\",\"name\":\"cluster384\",\"r\":[241.59,0.0],\"theta\":[\"ending_balance\",\"credit_balance\"],\"type\":\"scatterpolar\"},{\"fill\":\"toself\",\"name\":\"cluster385\",\"r\":[312.13,0.0],\"theta\":[\"ending_balance\",\"credit_balance\"],\"type\":\"scatterpolar\"},{\"fill\":\"toself\",\"name\":\"cluster386\",\"r\":[1200.0,0.0],\"theta\":[\"ending_balance\",\"credit_balance\"],\"type\":\"scatterpolar\"},{\"fill\":\"toself\",\"name\":\"cluster387\",\"r\":[258.05,0.0],\"theta\":[\"ending_balance\",\"credit_balance\"],\"type\":\"scatterpolar\"},{\"fill\":\"toself\",\"name\":\"cluster388\",\"r\":[19.1,0.0],\"theta\":[\"ending_balance\",\"credit_balance\"],\"type\":\"scatterpolar\"},{\"fill\":\"toself\",\"name\":\"cluster389\",\"r\":[3000.0,0.0],\"theta\":[\"ending_balance\",\"credit_balance\"],\"type\":\"scatterpolar\"},{\"fill\":\"toself\",\"name\":\"cluster390\",\"r\":[138.38,0.0],\"theta\":[\"ending_balance\",\"credit_balance\"],\"type\":\"scatterpolar\"},{\"fill\":\"toself\",\"name\":\"cluster391\",\"r\":[1400.0,0.0],\"theta\":[\"ending_balance\",\"credit_balance\"],\"type\":\"scatterpolar\"},{\"fill\":\"toself\",\"name\":\"cluster392\",\"r\":[382.8,0.0],\"theta\":[\"ending_balance\",\"credit_balance\"],\"type\":\"scatterpolar\"},{\"fill\":\"toself\",\"name\":\"cluster393\",\"r\":[1248.05,-2872.91],\"theta\":[\"ending_balance\",\"credit_balance\"],\"type\":\"scatterpolar\"},{\"fill\":\"toself\",\"name\":\"cluster394\",\"r\":[127.09,-2872.91],\"theta\":[\"ending_balance\",\"credit_balance\"],\"type\":\"scatterpolar\"},{\"fill\":\"toself\",\"name\":\"cluster395\",\"r\":[251.39,-2872.91],\"theta\":[\"ending_balance\",\"credit_balance\"],\"type\":\"scatterpolar\"},{\"fill\":\"toself\",\"name\":\"cluster396\",\"r\":[333.11,-2880.0],\"theta\":[\"ending_balance\",\"credit_balance\"],\"type\":\"scatterpolar\"},{\"fill\":\"toself\",\"name\":\"cluster397\",\"r\":[20.0,-2880.0],\"theta\":[\"ending_balance\",\"credit_balance\"],\"type\":\"scatterpolar\"},{\"fill\":\"toself\",\"name\":\"cluster398\",\"r\":[4645.09,-6610.55],\"theta\":[\"ending_balance\",\"credit_balance\"],\"type\":\"scatterpolar\"},{\"fill\":\"toself\",\"name\":\"cluster399\",\"r\":[2089.45,-6610.55],\"theta\":[\"ending_balance\",\"credit_balance\"],\"type\":\"scatterpolar\"},{\"fill\":\"toself\",\"name\":\"cluster400\",\"r\":[2689.95,-6610.55],\"theta\":[\"ending_balance\",\"credit_balance\"],\"type\":\"scatterpolar\"},{\"fill\":\"toself\",\"name\":\"cluster401\",\"r\":[8.21,-1000.0],\"theta\":[\"ending_balance\",\"credit_balance\"],\"type\":\"scatterpolar\"},{\"fill\":\"toself\",\"name\":\"cluster402\",\"r\":[0.0,-1000.0],\"theta\":[\"ending_balance\",\"credit_balance\"],\"type\":\"scatterpolar\"},{\"fill\":\"toself\",\"name\":\"cluster403\",\"r\":[490.67,-1000.0],\"theta\":[\"ending_balance\",\"credit_balance\"],\"type\":\"scatterpolar\"},{\"fill\":\"toself\",\"name\":\"cluster404\",\"r\":[3.39,0.0],\"theta\":[\"ending_balance\",\"credit_balance\"],\"type\":\"scatterpolar\"},{\"fill\":\"toself\",\"name\":\"cluster405\",\"r\":[1000.0,0.0],\"theta\":[\"ending_balance\",\"credit_balance\"],\"type\":\"scatterpolar\"},{\"fill\":\"toself\",\"name\":\"cluster406\",\"r\":[1230.28,0.0],\"theta\":[\"ending_balance\",\"credit_balance\"],\"type\":\"scatterpolar\"},{\"fill\":\"toself\",\"name\":\"cluster407\",\"r\":[0.0,-1100.0],\"theta\":[\"ending_balance\",\"credit_balance\"],\"type\":\"scatterpolar\"},{\"fill\":\"toself\",\"name\":\"cluster408\",\"r\":[1790.37,0.0],\"theta\":[\"ending_balance\",\"credit_balance\"],\"type\":\"scatterpolar\"},{\"fill\":\"toself\",\"name\":\"cluster409\",\"r\":[5000.0,0.0],\"theta\":[\"ending_balance\",\"credit_balance\"],\"type\":\"scatterpolar\"},{\"fill\":\"toself\",\"name\":\"cluster410\",\"r\":[329.36,-95.90999999999997],\"theta\":[\"ending_balance\",\"credit_balance\"],\"type\":\"scatterpolar\"},{\"fill\":\"toself\",\"name\":\"cluster411\",\"r\":[904.09,-95.90999999999997],\"theta\":[\"ending_balance\",\"credit_balance\"],\"type\":\"scatterpolar\"},{\"fill\":\"toself\",\"name\":\"cluster412\",\"r\":[392.05,-4100.0],\"theta\":[\"ending_balance\",\"credit_balance\"],\"type\":\"scatterpolar\"},{\"fill\":\"toself\",\"name\":\"cluster413\",\"r\":[0.0,-4100.0],\"theta\":[\"ending_balance\",\"credit_balance\"],\"type\":\"scatterpolar\"},{\"fill\":\"toself\",\"name\":\"cluster414\",\"r\":[9132.52,-4100.0],\"theta\":[\"ending_balance\",\"credit_balance\"],\"type\":\"scatterpolar\"},{\"fill\":\"toself\",\"name\":\"cluster415\",\"r\":[95.32,-2630.2799999999997],\"theta\":[\"ending_balance\",\"credit_balance\"],\"type\":\"scatterpolar\"},{\"fill\":\"toself\",\"name\":\"cluster416\",\"r\":[369.72,-2630.2799999999997],\"theta\":[\"ending_balance\",\"credit_balance\"],\"type\":\"scatterpolar\"},{\"fill\":\"toself\",\"name\":\"cluster417\",\"r\":[2122.17,-2630.2799999999997],\"theta\":[\"ending_balance\",\"credit_balance\"],\"type\":\"scatterpolar\"},{\"fill\":\"toself\",\"name\":\"cluster418\",\"r\":[147.06,0.0],\"theta\":[\"ending_balance\",\"credit_balance\"],\"type\":\"scatterpolar\"},{\"fill\":\"toself\",\"name\":\"cluster419\",\"r\":[1000.0,0.0],\"theta\":[\"ending_balance\",\"credit_balance\"],\"type\":\"scatterpolar\"},{\"fill\":\"toself\",\"name\":\"cluster420\",\"r\":[68.86,0.0],\"theta\":[\"ending_balance\",\"credit_balance\"],\"type\":\"scatterpolar\"},{\"fill\":\"toself\",\"name\":\"cluster421\",\"r\":[991.56,-8.440000000000055],\"theta\":[\"ending_balance\",\"credit_balance\"],\"type\":\"scatterpolar\"},{\"fill\":\"toself\",\"name\":\"cluster422\",\"r\":[521.66,0.0],\"theta\":[\"ending_balance\",\"credit_balance\"],\"type\":\"scatterpolar\"},{\"fill\":\"toself\",\"name\":\"cluster423\",\"r\":[1800.0,0.0],\"theta\":[\"ending_balance\",\"credit_balance\"],\"type\":\"scatterpolar\"},{\"fill\":\"toself\",\"name\":\"cluster424\",\"r\":[629.25,-370.75],\"theta\":[\"ending_balance\",\"credit_balance\"],\"type\":\"scatterpolar\"},{\"fill\":\"toself\",\"name\":\"cluster425\",\"r\":[530.92,0.0],\"theta\":[\"ending_balance\",\"credit_balance\"],\"type\":\"scatterpolar\"},{\"fill\":\"toself\",\"name\":\"cluster426\",\"r\":[1100.0,0.0],\"theta\":[\"ending_balance\",\"credit_balance\"],\"type\":\"scatterpolar\"},{\"fill\":\"toself\",\"name\":\"cluster427\",\"r\":[545.76,0.0],\"theta\":[\"ending_balance\",\"credit_balance\"],\"type\":\"scatterpolar\"},{\"fill\":\"toself\",\"name\":\"cluster428\",\"r\":[75.11,-1927.83],\"theta\":[\"ending_balance\",\"credit_balance\"],\"type\":\"scatterpolar\"},{\"fill\":\"toself\",\"name\":\"cluster429\",\"r\":[1072.17,-1927.83],\"theta\":[\"ending_balance\",\"credit_balance\"],\"type\":\"scatterpolar\"},{\"fill\":\"toself\",\"name\":\"cluster430\",\"r\":[255.11,-1927.83],\"theta\":[\"ending_balance\",\"credit_balance\"],\"type\":\"scatterpolar\"},{\"fill\":\"toself\",\"name\":\"cluster431\",\"r\":[2683.65,-3547.62],\"theta\":[\"ending_balance\",\"credit_balance\"],\"type\":\"scatterpolar\"},{\"fill\":\"toself\",\"name\":\"cluster432\",\"r\":[1052.38,-3547.62],\"theta\":[\"ending_balance\",\"credit_balance\"],\"type\":\"scatterpolar\"},{\"fill\":\"toself\",\"name\":\"cluster433\",\"r\":[458.81,0.0],\"theta\":[\"ending_balance\",\"credit_balance\"],\"type\":\"scatterpolar\"},{\"fill\":\"toself\",\"name\":\"cluster434\",\"r\":[3000.0,0.0],\"theta\":[\"ending_balance\",\"credit_balance\"],\"type\":\"scatterpolar\"},{\"fill\":\"toself\",\"name\":\"cluster435\",\"r\":[339.33,0.0],\"theta\":[\"ending_balance\",\"credit_balance\"],\"type\":\"scatterpolar\"},{\"fill\":\"toself\",\"name\":\"cluster436\",\"r\":[4216.53,-7183.47],\"theta\":[\"ending_balance\",\"credit_balance\"],\"type\":\"scatterpolar\"},{\"fill\":\"toself\",\"name\":\"cluster437\",\"r\":[344.33,-2667.05],\"theta\":[\"ending_balance\",\"credit_balance\"],\"type\":\"scatterpolar\"},{\"fill\":\"toself\",\"name\":\"cluster438\",\"r\":[332.95,-2667.05],\"theta\":[\"ending_balance\",\"credit_balance\"],\"type\":\"scatterpolar\"},{\"fill\":\"toself\",\"name\":\"cluster439\",\"r\":[731.5,-2667.05],\"theta\":[\"ending_balance\",\"credit_balance\"],\"type\":\"scatterpolar\"},{\"fill\":\"toself\",\"name\":\"cluster440\",\"r\":[299.71,-1260.26],\"theta\":[\"ending_balance\",\"credit_balance\"],\"type\":\"scatterpolar\"},{\"fill\":\"toself\",\"name\":\"cluster441\",\"r\":[1739.74,-1260.26],\"theta\":[\"ending_balance\",\"credit_balance\"],\"type\":\"scatterpolar\"},{\"fill\":\"toself\",\"name\":\"cluster442\",\"r\":[171.9,-1260.26],\"theta\":[\"ending_balance\",\"credit_balance\"],\"type\":\"scatterpolar\"},{\"fill\":\"toself\",\"name\":\"cluster443\",\"r\":[88.34,-2664.58],\"theta\":[\"ending_balance\",\"credit_balance\"],\"type\":\"scatterpolar\"},{\"fill\":\"toself\",\"name\":\"cluster444\",\"r\":[335.42,-2664.58],\"theta\":[\"ending_balance\",\"credit_balance\"],\"type\":\"scatterpolar\"},{\"fill\":\"toself\",\"name\":\"cluster445\",\"r\":[31.19,0.0],\"theta\":[\"ending_balance\",\"credit_balance\"],\"type\":\"scatterpolar\"},{\"fill\":\"toself\",\"name\":\"cluster446\",\"r\":[3000.0,0.0],\"theta\":[\"ending_balance\",\"credit_balance\"],\"type\":\"scatterpolar\"},{\"fill\":\"toself\",\"name\":\"cluster447\",\"r\":[918.39,0.0],\"theta\":[\"ending_balance\",\"credit_balance\"],\"type\":\"scatterpolar\"},{\"fill\":\"toself\",\"name\":\"cluster448\",\"r\":[59.5,0.0],\"theta\":[\"ending_balance\",\"credit_balance\"],\"type\":\"scatterpolar\"},{\"fill\":\"toself\",\"name\":\"cluster449\",\"r\":[1700.0,0.0],\"theta\":[\"ending_balance\",\"credit_balance\"],\"type\":\"scatterpolar\"},{\"fill\":\"toself\",\"name\":\"cluster450\",\"r\":[12.7,0.0],\"theta\":[\"ending_balance\",\"credit_balance\"],\"type\":\"scatterpolar\"},{\"fill\":\"toself\",\"name\":\"cluster451\",\"r\":[1500.0,0.0],\"theta\":[\"ending_balance\",\"credit_balance\"],\"type\":\"scatterpolar\"},{\"fill\":\"toself\",\"name\":\"cluster452\",\"r\":[2438.22,-1097.87],\"theta\":[\"ending_balance\",\"credit_balance\"],\"type\":\"scatterpolar\"},{\"fill\":\"toself\",\"name\":\"cluster453\",\"r\":[202.13,-1097.87],\"theta\":[\"ending_balance\",\"credit_balance\"],\"type\":\"scatterpolar\"},{\"fill\":\"toself\",\"name\":\"cluster454\",\"r\":[1411.05,-1097.87],\"theta\":[\"ending_balance\",\"credit_balance\"],\"type\":\"scatterpolar\"},{\"fill\":\"toself\",\"name\":\"cluster455\",\"r\":[918.69,-2185.33],\"theta\":[\"ending_balance\",\"credit_balance\"],\"type\":\"scatterpolar\"},{\"fill\":\"toself\",\"name\":\"cluster456\",\"r\":[814.67,-2185.33],\"theta\":[\"ending_balance\",\"credit_balance\"],\"type\":\"scatterpolar\"},{\"fill\":\"toself\",\"name\":\"cluster457\",\"r\":[197.64,-2185.33],\"theta\":[\"ending_balance\",\"credit_balance\"],\"type\":\"scatterpolar\"},{\"fill\":\"toself\",\"name\":\"cluster458\",\"r\":[2053.9,-1500.0],\"theta\":[\"ending_balance\",\"credit_balance\"],\"type\":\"scatterpolar\"},{\"fill\":\"toself\",\"name\":\"cluster459\",\"r\":[0.0,-1500.0],\"theta\":[\"ending_balance\",\"credit_balance\"],\"type\":\"scatterpolar\"},{\"fill\":\"toself\",\"name\":\"cluster460\",\"r\":[553.61,-1500.0],\"theta\":[\"ending_balance\",\"credit_balance\"],\"type\":\"scatterpolar\"},{\"fill\":\"toself\",\"name\":\"cluster461\",\"r\":[233.06,-591.9200000000001],\"theta\":[\"ending_balance\",\"credit_balance\"],\"type\":\"scatterpolar\"},{\"fill\":\"toself\",\"name\":\"cluster462\",\"r\":[408.08,-591.9200000000001],\"theta\":[\"ending_balance\",\"credit_balance\"],\"type\":\"scatterpolar\"},{\"fill\":\"toself\",\"name\":\"cluster463\",\"r\":[1000.0,0.0],\"theta\":[\"ending_balance\",\"credit_balance\"],\"type\":\"scatterpolar\"},{\"fill\":\"toself\",\"name\":\"cluster464\",\"r\":[2270.28,0.0],\"theta\":[\"ending_balance\",\"credit_balance\"],\"type\":\"scatterpolar\"},{\"fill\":\"toself\",\"name\":\"cluster465\",\"r\":[1615.18,-4480.0],\"theta\":[\"ending_balance\",\"credit_balance\"],\"type\":\"scatterpolar\"},{\"fill\":\"toself\",\"name\":\"cluster466\",\"r\":[20.0,-4480.0],\"theta\":[\"ending_balance\",\"credit_balance\"],\"type\":\"scatterpolar\"},{\"fill\":\"toself\",\"name\":\"cluster467\",\"r\":[1387.58,-4480.0],\"theta\":[\"ending_balance\",\"credit_balance\"],\"type\":\"scatterpolar\"},{\"fill\":\"toself\",\"name\":\"cluster468\",\"r\":[4139.88,-7645.13],\"theta\":[\"ending_balance\",\"credit_balance\"],\"type\":\"scatterpolar\"},{\"fill\":\"toself\",\"name\":\"cluster469\",\"r\":[6454.87,-7645.13],\"theta\":[\"ending_balance\",\"credit_balance\"],\"type\":\"scatterpolar\"},{\"fill\":\"toself\",\"name\":\"cluster470\",\"r\":[3567.46,-982.72],\"theta\":[\"ending_balance\",\"credit_balance\"],\"type\":\"scatterpolar\"},{\"fill\":\"toself\",\"name\":\"cluster471\",\"r\":[917.28,-982.72],\"theta\":[\"ending_balance\",\"credit_balance\"],\"type\":\"scatterpolar\"},{\"fill\":\"toself\",\"name\":\"cluster472\",\"r\":[347.65,-2491.7799999999997],\"theta\":[\"ending_balance\",\"credit_balance\"],\"type\":\"scatterpolar\"},{\"fill\":\"toself\",\"name\":\"cluster473\",\"r\":[1808.22,-2491.7799999999997],\"theta\":[\"ending_balance\",\"credit_balance\"],\"type\":\"scatterpolar\"},{\"fill\":\"toself\",\"name\":\"cluster474\",\"r\":[1100.0,0.0],\"theta\":[\"ending_balance\",\"credit_balance\"],\"type\":\"scatterpolar\"},{\"fill\":\"toself\",\"name\":\"cluster475\",\"r\":[83.19,0.0],\"theta\":[\"ending_balance\",\"credit_balance\"],\"type\":\"scatterpolar\"},{\"fill\":\"toself\",\"name\":\"cluster476\",\"r\":[74.87,0.0],\"theta\":[\"ending_balance\",\"credit_balance\"],\"type\":\"scatterpolar\"},{\"fill\":\"toself\",\"name\":\"cluster477\",\"r\":[1000.0,0.0],\"theta\":[\"ending_balance\",\"credit_balance\"],\"type\":\"scatterpolar\"},{\"fill\":\"toself\",\"name\":\"cluster478\",\"r\":[423.81,-2015.41],\"theta\":[\"ending_balance\",\"credit_balance\"],\"type\":\"scatterpolar\"},{\"fill\":\"toself\",\"name\":\"cluster479\",\"r\":[84.59,-2015.41],\"theta\":[\"ending_balance\",\"credit_balance\"],\"type\":\"scatterpolar\"},{\"fill\":\"toself\",\"name\":\"cluster480\",\"r\":[765.22,-2015.41],\"theta\":[\"ending_balance\",\"credit_balance\"],\"type\":\"scatterpolar\"},{\"fill\":\"toself\",\"name\":\"cluster481\",\"r\":[4359.83,-5080.0],\"theta\":[\"ending_balance\",\"credit_balance\"],\"type\":\"scatterpolar\"},{\"fill\":\"toself\",\"name\":\"cluster482\",\"r\":[20.0,-5080.0],\"theta\":[\"ending_balance\",\"credit_balance\"],\"type\":\"scatterpolar\"},{\"fill\":\"toself\",\"name\":\"cluster483\",\"r\":[22432.78,-5080.0],\"theta\":[\"ending_balance\",\"credit_balance\"],\"type\":\"scatterpolar\"},{\"fill\":\"toself\",\"name\":\"cluster484\",\"r\":[3517.12,-6800.0],\"theta\":[\"ending_balance\",\"credit_balance\"],\"type\":\"scatterpolar\"},{\"fill\":\"toself\",\"name\":\"cluster485\",\"r\":[0.0,-6800.0],\"theta\":[\"ending_balance\",\"credit_balance\"],\"type\":\"scatterpolar\"},{\"fill\":\"toself\",\"name\":\"cluster486\",\"r\":[238.62,-6800.0],\"theta\":[\"ending_balance\",\"credit_balance\"],\"type\":\"scatterpolar\"},{\"fill\":\"toself\",\"name\":\"cluster487\",\"r\":[1023.15,-411.43000000000006],\"theta\":[\"ending_balance\",\"credit_balance\"],\"type\":\"scatterpolar\"},{\"fill\":\"toself\",\"name\":\"cluster488\",\"r\":[1188.57,-411.43000000000006],\"theta\":[\"ending_balance\",\"credit_balance\"],\"type\":\"scatterpolar\"},{\"fill\":\"toself\",\"name\":\"cluster489\",\"r\":[4023.58,-2500.0],\"theta\":[\"ending_balance\",\"credit_balance\"],\"type\":\"scatterpolar\"},{\"fill\":\"toself\",\"name\":\"cluster490\",\"r\":[0.0,-2500.0],\"theta\":[\"ending_balance\",\"credit_balance\"],\"type\":\"scatterpolar\"},{\"fill\":\"toself\",\"name\":\"cluster491\",\"r\":[2290.23,0.0],\"theta\":[\"ending_balance\",\"credit_balance\"],\"type\":\"scatterpolar\"},{\"fill\":\"toself\",\"name\":\"cluster492\",\"r\":[2200.0,0.0],\"theta\":[\"ending_balance\",\"credit_balance\"],\"type\":\"scatterpolar\"},{\"fill\":\"toself\",\"name\":\"cluster493\",\"r\":[47.34,-8360.369999999999],\"theta\":[\"ending_balance\",\"credit_balance\"],\"type\":\"scatterpolar\"},{\"fill\":\"toself\",\"name\":\"cluster494\",\"r\":[1939.63,-8360.369999999999],\"theta\":[\"ending_balance\",\"credit_balance\"],\"type\":\"scatterpolar\"},{\"fill\":\"toself\",\"name\":\"cluster495\",\"r\":[16095.5,-8360.369999999999],\"theta\":[\"ending_balance\",\"credit_balance\"],\"type\":\"scatterpolar\"},{\"fill\":\"toself\",\"name\":\"cluster496\",\"r\":[68.22,0.0],\"theta\":[\"ending_balance\",\"credit_balance\"],\"type\":\"scatterpolar\"},{\"fill\":\"toself\",\"name\":\"cluster497\",\"r\":[1000.0,0.0],\"theta\":[\"ending_balance\",\"credit_balance\"],\"type\":\"scatterpolar\"},{\"fill\":\"toself\",\"name\":\"cluster498\",\"r\":[876.19,-1820.05],\"theta\":[\"ending_balance\",\"credit_balance\"],\"type\":\"scatterpolar\"},{\"fill\":\"toself\",\"name\":\"cluster499\",\"r\":[1179.95,-1820.05],\"theta\":[\"ending_balance\",\"credit_balance\"],\"type\":\"scatterpolar\"},{\"fill\":\"toself\",\"name\":\"cluster500\",\"r\":[678.94,-1820.05],\"theta\":[\"ending_balance\",\"credit_balance\"],\"type\":\"scatterpolar\"},{\"fill\":\"toself\",\"name\":\"cluster501\",\"r\":[901.25,0.0],\"theta\":[\"ending_balance\",\"credit_balance\"],\"type\":\"scatterpolar\"},{\"fill\":\"toself\",\"name\":\"cluster502\",\"r\":[2100.0,0.0],\"theta\":[\"ending_balance\",\"credit_balance\"],\"type\":\"scatterpolar\"},{\"fill\":\"toself\",\"name\":\"cluster503\",\"r\":[2.72,-940.0],\"theta\":[\"ending_balance\",\"credit_balance\"],\"type\":\"scatterpolar\"},{\"fill\":\"toself\",\"name\":\"cluster504\",\"r\":[160.0,-940.0],\"theta\":[\"ending_balance\",\"credit_balance\"],\"type\":\"scatterpolar\"},{\"fill\":\"toself\",\"name\":\"cluster505\",\"r\":[50.67,-82.70000000000005],\"theta\":[\"ending_balance\",\"credit_balance\"],\"type\":\"scatterpolar\"},{\"fill\":\"toself\",\"name\":\"cluster506\",\"r\":[917.3,-82.70000000000005],\"theta\":[\"ending_balance\",\"credit_balance\"],\"type\":\"scatterpolar\"},{\"fill\":\"toself\",\"name\":\"cluster507\",\"r\":[1085.16,-1000.0],\"theta\":[\"ending_balance\",\"credit_balance\"],\"type\":\"scatterpolar\"},{\"fill\":\"toself\",\"name\":\"cluster508\",\"r\":[0.0,-1000.0],\"theta\":[\"ending_balance\",\"credit_balance\"],\"type\":\"scatterpolar\"},{\"fill\":\"toself\",\"name\":\"cluster509\",\"r\":[2541.96,0.0],\"theta\":[\"ending_balance\",\"credit_balance\"],\"type\":\"scatterpolar\"},{\"fill\":\"toself\",\"name\":\"cluster510\",\"r\":[2900.0,0.0],\"theta\":[\"ending_balance\",\"credit_balance\"],\"type\":\"scatterpolar\"},{\"fill\":\"toself\",\"name\":\"cluster511\",\"r\":[3138.91,0.0],\"theta\":[\"ending_balance\",\"credit_balance\"],\"type\":\"scatterpolar\"},{\"fill\":\"toself\",\"name\":\"cluster512\",\"r\":[1900.0,0.0],\"theta\":[\"ending_balance\",\"credit_balance\"],\"type\":\"scatterpolar\"},{\"fill\":\"toself\",\"name\":\"cluster513\",\"r\":[276.68,-990.49],\"theta\":[\"ending_balance\",\"credit_balance\"],\"type\":\"scatterpolar\"},{\"fill\":\"toself\",\"name\":\"cluster514\",\"r\":[9.51,-990.49],\"theta\":[\"ending_balance\",\"credit_balance\"],\"type\":\"scatterpolar\"},{\"fill\":\"toself\",\"name\":\"cluster515\",\"r\":[2060.9,-990.49],\"theta\":[\"ending_balance\",\"credit_balance\"],\"type\":\"scatterpolar\"},{\"fill\":\"toself\",\"name\":\"cluster516\",\"r\":[625.42,-1573.07],\"theta\":[\"ending_balance\",\"credit_balance\"],\"type\":\"scatterpolar\"},{\"fill\":\"toself\",\"name\":\"cluster517\",\"r\":[1426.93,-1573.07],\"theta\":[\"ending_balance\",\"credit_balance\"],\"type\":\"scatterpolar\"},{\"fill\":\"toself\",\"name\":\"cluster518\",\"r\":[1113.07,-1573.07],\"theta\":[\"ending_balance\",\"credit_balance\"],\"type\":\"scatterpolar\"},{\"fill\":\"toself\",\"name\":\"cluster519\",\"r\":[445.22,-554.78],\"theta\":[\"ending_balance\",\"credit_balance\"],\"type\":\"scatterpolar\"},{\"fill\":\"toself\",\"name\":\"cluster520\",\"r\":[367.8,-554.78],\"theta\":[\"ending_balance\",\"credit_balance\"],\"type\":\"scatterpolar\"},{\"fill\":\"toself\",\"name\":\"cluster521\",\"r\":[100.0,-900.0],\"theta\":[\"ending_balance\",\"credit_balance\"],\"type\":\"scatterpolar\"},{\"fill\":\"toself\",\"name\":\"cluster522\",\"r\":[1000.0,0.0],\"theta\":[\"ending_balance\",\"credit_balance\"],\"type\":\"scatterpolar\"},{\"fill\":\"toself\",\"name\":\"cluster523\",\"r\":[983.06,-16.940000000000055],\"theta\":[\"ending_balance\",\"credit_balance\"],\"type\":\"scatterpolar\"},{\"fill\":\"toself\",\"name\":\"cluster524\",\"r\":[149.74,-16.940000000000055],\"theta\":[\"ending_balance\",\"credit_balance\"],\"type\":\"scatterpolar\"},{\"fill\":\"toself\",\"name\":\"cluster525\",\"r\":[3.94,-9440.28],\"theta\":[\"ending_balance\",\"credit_balance\"],\"type\":\"scatterpolar\"},{\"fill\":\"toself\",\"name\":\"cluster526\",\"r\":[959.72,-9440.28],\"theta\":[\"ending_balance\",\"credit_balance\"],\"type\":\"scatterpolar\"},{\"fill\":\"toself\",\"name\":\"cluster527\",\"r\":[600.51,-522.31],\"theta\":[\"ending_balance\",\"credit_balance\"],\"type\":\"scatterpolar\"},{\"fill\":\"toself\",\"name\":\"cluster528\",\"r\":[677.69,-522.31],\"theta\":[\"ending_balance\",\"credit_balance\"],\"type\":\"scatterpolar\"},{\"fill\":\"toself\",\"name\":\"cluster529\",\"r\":[370.85,-207.05000000000018],\"theta\":[\"ending_balance\",\"credit_balance\"],\"type\":\"scatterpolar\"},{\"fill\":\"toself\",\"name\":\"cluster530\",\"r\":[2192.95,-207.05000000000018],\"theta\":[\"ending_balance\",\"credit_balance\"],\"type\":\"scatterpolar\"},{\"fill\":\"toself\",\"name\":\"cluster531\",\"r\":[1441.88,-207.05000000000018],\"theta\":[\"ending_balance\",\"credit_balance\"],\"type\":\"scatterpolar\"},{\"fill\":\"toself\",\"name\":\"cluster532\",\"r\":[553.09,-846.91],\"theta\":[\"ending_balance\",\"credit_balance\"],\"type\":\"scatterpolar\"},{\"fill\":\"toself\",\"name\":\"cluster533\",\"r\":[366.58,0.0],\"theta\":[\"ending_balance\",\"credit_balance\"],\"type\":\"scatterpolar\"},{\"fill\":\"toself\",\"name\":\"cluster534\",\"r\":[1900.0,0.0],\"theta\":[\"ending_balance\",\"credit_balance\"],\"type\":\"scatterpolar\"},{\"fill\":\"toself\",\"name\":\"cluster535\",\"r\":[1590.22,0.0],\"theta\":[\"ending_balance\",\"credit_balance\"],\"type\":\"scatterpolar\"},{\"fill\":\"toself\",\"name\":\"cluster536\",\"r\":[15.72,0.0],\"theta\":[\"ending_balance\",\"credit_balance\"],\"type\":\"scatterpolar\"},{\"fill\":\"toself\",\"name\":\"cluster537\",\"r\":[1000.0,0.0],\"theta\":[\"ending_balance\",\"credit_balance\"],\"type\":\"scatterpolar\"},{\"fill\":\"toself\",\"name\":\"cluster538\",\"r\":[369.44,0.0],\"theta\":[\"ending_balance\",\"credit_balance\"],\"type\":\"scatterpolar\"},{\"fill\":\"toself\",\"name\":\"cluster539\",\"r\":[81.14,-986.89],\"theta\":[\"ending_balance\",\"credit_balance\"],\"type\":\"scatterpolar\"},{\"fill\":\"toself\",\"name\":\"cluster540\",\"r\":[413.11,-986.89],\"theta\":[\"ending_balance\",\"credit_balance\"],\"type\":\"scatterpolar\"},{\"fill\":\"toself\",\"name\":\"cluster541\",\"r\":[1415.16,-986.89],\"theta\":[\"ending_balance\",\"credit_balance\"],\"type\":\"scatterpolar\"},{\"fill\":\"toself\",\"name\":\"cluster542\",\"r\":[160.42,-839.58],\"theta\":[\"ending_balance\",\"credit_balance\"],\"type\":\"scatterpolar\"},{\"fill\":\"toself\",\"name\":\"cluster543\",\"r\":[3.8,-403.89],\"theta\":[\"ending_balance\",\"credit_balance\"],\"type\":\"scatterpolar\"},{\"fill\":\"toself\",\"name\":\"cluster544\",\"r\":[596.11,-403.89],\"theta\":[\"ending_balance\",\"credit_balance\"],\"type\":\"scatterpolar\"},{\"fill\":\"toself\",\"name\":\"cluster545\",\"r\":[14.54,0.0],\"theta\":[\"ending_balance\",\"credit_balance\"],\"type\":\"scatterpolar\"},{\"fill\":\"toself\",\"name\":\"cluster546\",\"r\":[1000.0,0.0],\"theta\":[\"ending_balance\",\"credit_balance\"],\"type\":\"scatterpolar\"},{\"fill\":\"toself\",\"name\":\"cluster547\",\"r\":[696.74,0.0],\"theta\":[\"ending_balance\",\"credit_balance\"],\"type\":\"scatterpolar\"},{\"fill\":\"toself\",\"name\":\"cluster548\",\"r\":[2800.0,0.0],\"theta\":[\"ending_balance\",\"credit_balance\"],\"type\":\"scatterpolar\"},{\"fill\":\"toself\",\"name\":\"cluster549\",\"r\":[121.73,0.0],\"theta\":[\"ending_balance\",\"credit_balance\"],\"type\":\"scatterpolar\"},{\"fill\":\"toself\",\"name\":\"cluster550\",\"r\":[1000.0,0.0],\"theta\":[\"ending_balance\",\"credit_balance\"],\"type\":\"scatterpolar\"},{\"fill\":\"toself\",\"name\":\"cluster551\",\"r\":[1498.4,0.0],\"theta\":[\"ending_balance\",\"credit_balance\"],\"type\":\"scatterpolar\"},{\"fill\":\"toself\",\"name\":\"cluster552\",\"r\":[4048.98,-58.0],\"theta\":[\"ending_balance\",\"credit_balance\"],\"type\":\"scatterpolar\"},{\"fill\":\"toself\",\"name\":\"cluster553\",\"r\":[1442.0,-58.0],\"theta\":[\"ending_balance\",\"credit_balance\"],\"type\":\"scatterpolar\"},{\"fill\":\"toself\",\"name\":\"cluster554\",\"r\":[598.57,-58.0],\"theta\":[\"ending_balance\",\"credit_balance\"],\"type\":\"scatterpolar\"},{\"fill\":\"toself\",\"name\":\"cluster555\",\"r\":[278.98,-88.79999999999995],\"theta\":[\"ending_balance\",\"credit_balance\"],\"type\":\"scatterpolar\"},{\"fill\":\"toself\",\"name\":\"cluster556\",\"r\":[1011.2,-88.79999999999995],\"theta\":[\"ending_balance\",\"credit_balance\"],\"type\":\"scatterpolar\"},{\"fill\":\"toself\",\"name\":\"cluster557\",\"r\":[334.29,-665.71],\"theta\":[\"ending_balance\",\"credit_balance\"],\"type\":\"scatterpolar\"},{\"fill\":\"toself\",\"name\":\"cluster558\",\"r\":[68.84,-3000.0],\"theta\":[\"ending_balance\",\"credit_balance\"],\"type\":\"scatterpolar\"},{\"fill\":\"toself\",\"name\":\"cluster559\",\"r\":[0.0,-3000.0],\"theta\":[\"ending_balance\",\"credit_balance\"],\"type\":\"scatterpolar\"},{\"fill\":\"toself\",\"name\":\"cluster560\",\"r\":[240.75,-3000.0],\"theta\":[\"ending_balance\",\"credit_balance\"],\"type\":\"scatterpolar\"},{\"fill\":\"toself\",\"name\":\"cluster561\",\"r\":[20.0,-2880.0],\"theta\":[\"ending_balance\",\"credit_balance\"],\"type\":\"scatterpolar\"},{\"fill\":\"toself\",\"name\":\"cluster562\",\"r\":[959.6,0.0],\"theta\":[\"ending_balance\",\"credit_balance\"],\"type\":\"scatterpolar\"},{\"fill\":\"toself\",\"name\":\"cluster563\",\"r\":[1000.0,0.0],\"theta\":[\"ending_balance\",\"credit_balance\"],\"type\":\"scatterpolar\"},{\"fill\":\"toself\",\"name\":\"cluster564\",\"r\":[110.52,0.0],\"theta\":[\"ending_balance\",\"credit_balance\"],\"type\":\"scatterpolar\"},{\"fill\":\"toself\",\"name\":\"cluster565\",\"r\":[1223.77,-4976.23],\"theta\":[\"ending_balance\",\"credit_balance\"],\"type\":\"scatterpolar\"},{\"fill\":\"toself\",\"name\":\"cluster566\",\"r\":[54.09,-4845.91],\"theta\":[\"ending_balance\",\"credit_balance\"],\"type\":\"scatterpolar\"},{\"fill\":\"toself\",\"name\":\"cluster567\",\"r\":[1149.38,-4845.91],\"theta\":[\"ending_balance\",\"credit_balance\"],\"type\":\"scatterpolar\"},{\"fill\":\"toself\",\"name\":\"cluster568\",\"r\":[1000.0,0.0],\"theta\":[\"ending_balance\",\"credit_balance\"],\"type\":\"scatterpolar\"},{\"fill\":\"toself\",\"name\":\"cluster569\",\"r\":[769.47,-660.14],\"theta\":[\"ending_balance\",\"credit_balance\"],\"type\":\"scatterpolar\"},{\"fill\":\"toself\",\"name\":\"cluster570\",\"r\":[739.86,-660.14],\"theta\":[\"ending_balance\",\"credit_balance\"],\"type\":\"scatterpolar\"},{\"fill\":\"toself\",\"name\":\"cluster571\",\"r\":[1426.1,-660.14],\"theta\":[\"ending_balance\",\"credit_balance\"],\"type\":\"scatterpolar\"},{\"fill\":\"toself\",\"name\":\"cluster572\",\"r\":[416.76,-557.28],\"theta\":[\"ending_balance\",\"credit_balance\"],\"type\":\"scatterpolar\"},{\"fill\":\"toself\",\"name\":\"cluster573\",\"r\":[442.72,-557.28],\"theta\":[\"ending_balance\",\"credit_balance\"],\"type\":\"scatterpolar\"},{\"fill\":\"toself\",\"name\":\"cluster574\",\"r\":[15.38,0.0],\"theta\":[\"ending_balance\",\"credit_balance\"],\"type\":\"scatterpolar\"},{\"fill\":\"toself\",\"name\":\"cluster575\",\"r\":[3000.0,0.0],\"theta\":[\"ending_balance\",\"credit_balance\"],\"type\":\"scatterpolar\"},{\"fill\":\"toself\",\"name\":\"cluster576\",\"r\":[49.39,0.0],\"theta\":[\"ending_balance\",\"credit_balance\"],\"type\":\"scatterpolar\"},{\"fill\":\"toself\",\"name\":\"cluster577\",\"r\":[1297.06,-1000.0],\"theta\":[\"ending_balance\",\"credit_balance\"],\"type\":\"scatterpolar\"},{\"fill\":\"toself\",\"name\":\"cluster578\",\"r\":[0.0,-1000.0],\"theta\":[\"ending_balance\",\"credit_balance\"],\"type\":\"scatterpolar\"},{\"fill\":\"toself\",\"name\":\"cluster579\",\"r\":[739.98,-1000.0],\"theta\":[\"ending_balance\",\"credit_balance\"],\"type\":\"scatterpolar\"},{\"fill\":\"toself\",\"name\":\"cluster580\",\"r\":[12.89,0.0],\"theta\":[\"ending_balance\",\"credit_balance\"],\"type\":\"scatterpolar\"},{\"fill\":\"toself\",\"name\":\"cluster581\",\"r\":[1000.0,0.0],\"theta\":[\"ending_balance\",\"credit_balance\"],\"type\":\"scatterpolar\"},{\"fill\":\"toself\",\"name\":\"cluster582\",\"r\":[2946.92,0.0],\"theta\":[\"ending_balance\",\"credit_balance\"],\"type\":\"scatterpolar\"},{\"fill\":\"toself\",\"name\":\"cluster583\",\"r\":[46.48,0.0],\"theta\":[\"ending_balance\",\"credit_balance\"],\"type\":\"scatterpolar\"},{\"fill\":\"toself\",\"name\":\"cluster584\",\"r\":[9200.0,0.0],\"theta\":[\"ending_balance\",\"credit_balance\"],\"type\":\"scatterpolar\"},{\"fill\":\"toself\",\"name\":\"cluster585\",\"r\":[1840.0,-1160.0],\"theta\":[\"ending_balance\",\"credit_balance\"],\"type\":\"scatterpolar\"},{\"fill\":\"toself\",\"name\":\"cluster586\",\"r\":[360.28,-1160.0],\"theta\":[\"ending_balance\",\"credit_balance\"],\"type\":\"scatterpolar\"},{\"fill\":\"toself\",\"name\":\"cluster587\",\"r\":[29.87,-1686.94],\"theta\":[\"ending_balance\",\"credit_balance\"],\"type\":\"scatterpolar\"},{\"fill\":\"toself\",\"name\":\"cluster588\",\"r\":[513.06,-1686.94],\"theta\":[\"ending_balance\",\"credit_balance\"],\"type\":\"scatterpolar\"},{\"fill\":\"toself\",\"name\":\"cluster589\",\"r\":[1191.33,0.0],\"theta\":[\"ending_balance\",\"credit_balance\"],\"type\":\"scatterpolar\"},{\"fill\":\"toself\",\"name\":\"cluster590\",\"r\":[2000.0,0.0],\"theta\":[\"ending_balance\",\"credit_balance\"],\"type\":\"scatterpolar\"},{\"fill\":\"toself\",\"name\":\"cluster591\",\"r\":[1701.18,0.0],\"theta\":[\"ending_balance\",\"credit_balance\"],\"type\":\"scatterpolar\"},{\"fill\":\"toself\",\"name\":\"cluster592\",\"r\":[17.3,0.0],\"theta\":[\"ending_balance\",\"credit_balance\"],\"type\":\"scatterpolar\"},{\"fill\":\"toself\",\"name\":\"cluster593\",\"r\":[2000.0,0.0],\"theta\":[\"ending_balance\",\"credit_balance\"],\"type\":\"scatterpolar\"},{\"fill\":\"toself\",\"name\":\"cluster594\",\"r\":[900.52,0.0],\"theta\":[\"ending_balance\",\"credit_balance\"],\"type\":\"scatterpolar\"},{\"fill\":\"toself\",\"name\":\"cluster595\",\"r\":[2325.47,-130.05999999999995],\"theta\":[\"ending_balance\",\"credit_balance\"],\"type\":\"scatterpolar\"},{\"fill\":\"toself\",\"name\":\"cluster596\",\"r\":[969.94,-130.05999999999995],\"theta\":[\"ending_balance\",\"credit_balance\"],\"type\":\"scatterpolar\"},{\"fill\":\"toself\",\"name\":\"cluster597\",\"r\":[6325.98,-130.05999999999995],\"theta\":[\"ending_balance\",\"credit_balance\"],\"type\":\"scatterpolar\"},{\"fill\":\"toself\",\"name\":\"cluster598\",\"r\":[918.17,0.0],\"theta\":[\"ending_balance\",\"credit_balance\"],\"type\":\"scatterpolar\"},{\"fill\":\"toself\",\"name\":\"cluster599\",\"r\":[3000.0,0.0],\"theta\":[\"ending_balance\",\"credit_balance\"],\"type\":\"scatterpolar\"},{\"fill\":\"toself\",\"name\":\"cluster600\",\"r\":[136.05,0.0],\"theta\":[\"ending_balance\",\"credit_balance\"],\"type\":\"scatterpolar\"},{\"fill\":\"toself\",\"name\":\"cluster601\",\"r\":[269.76,-692.4],\"theta\":[\"ending_balance\",\"credit_balance\"],\"type\":\"scatterpolar\"},{\"fill\":\"toself\",\"name\":\"cluster602\",\"r\":[307.6,-692.4],\"theta\":[\"ending_balance\",\"credit_balance\"],\"type\":\"scatterpolar\"},{\"fill\":\"toself\",\"name\":\"cluster603\",\"r\":[186.53,-692.4],\"theta\":[\"ending_balance\",\"credit_balance\"],\"type\":\"scatterpolar\"},{\"fill\":\"toself\",\"name\":\"cluster604\",\"r\":[355.26,-2644.74],\"theta\":[\"ending_balance\",\"credit_balance\"],\"type\":\"scatterpolar\"},{\"fill\":\"toself\",\"name\":\"cluster605\",\"r\":[486.4,-2644.74],\"theta\":[\"ending_balance\",\"credit_balance\"],\"type\":\"scatterpolar\"},{\"fill\":\"toself\",\"name\":\"cluster606\",\"r\":[11.3,-8246.22],\"theta\":[\"ending_balance\",\"credit_balance\"],\"type\":\"scatterpolar\"},{\"fill\":\"toself\",\"name\":\"cluster607\",\"r\":[1953.78,-8246.22],\"theta\":[\"ending_balance\",\"credit_balance\"],\"type\":\"scatterpolar\"},{\"fill\":\"toself\",\"name\":\"cluster608\",\"r\":[404.63,-8246.22],\"theta\":[\"ending_balance\",\"credit_balance\"],\"type\":\"scatterpolar\"},{\"fill\":\"toself\",\"name\":\"cluster609\",\"r\":[1319.97,-4267.04],\"theta\":[\"ending_balance\",\"credit_balance\"],\"type\":\"scatterpolar\"},{\"fill\":\"toself\",\"name\":\"cluster610\",\"r\":[1232.96,-4267.04],\"theta\":[\"ending_balance\",\"credit_balance\"],\"type\":\"scatterpolar\"},{\"fill\":\"toself\",\"name\":\"cluster611\",\"r\":[30.85,0.0],\"theta\":[\"ending_balance\",\"credit_balance\"],\"type\":\"scatterpolar\"},{\"fill\":\"toself\",\"name\":\"cluster612\",\"r\":[1800.0,0.0],\"theta\":[\"ending_balance\",\"credit_balance\"],\"type\":\"scatterpolar\"},{\"fill\":\"toself\",\"name\":\"cluster613\",\"r\":[1056.1,0.0],\"theta\":[\"ending_balance\",\"credit_balance\"],\"type\":\"scatterpolar\"},{\"fill\":\"toself\",\"name\":\"cluster614\",\"r\":[1778.61,0.0],\"theta\":[\"ending_balance\",\"credit_balance\"],\"type\":\"scatterpolar\"},{\"fill\":\"toself\",\"name\":\"cluster615\",\"r\":[2300.0,0.0],\"theta\":[\"ending_balance\",\"credit_balance\"],\"type\":\"scatterpolar\"},{\"fill\":\"toself\",\"name\":\"cluster616\",\"r\":[9387.66,0.0],\"theta\":[\"ending_balance\",\"credit_balance\"],\"type\":\"scatterpolar\"},{\"fill\":\"toself\",\"name\":\"cluster617\",\"r\":[521.21,-185.85999999999967],\"theta\":[\"ending_balance\",\"credit_balance\"],\"type\":\"scatterpolar\"},{\"fill\":\"toself\",\"name\":\"cluster618\",\"r\":[5014.14,-185.85999999999967],\"theta\":[\"ending_balance\",\"credit_balance\"],\"type\":\"scatterpolar\"},{\"fill\":\"toself\",\"name\":\"cluster619\",\"r\":[653.58,-185.85999999999967],\"theta\":[\"ending_balance\",\"credit_balance\"],\"type\":\"scatterpolar\"},{\"fill\":\"toself\",\"name\":\"cluster620\",\"r\":[3422.66,-2860.0],\"theta\":[\"ending_balance\",\"credit_balance\"],\"type\":\"scatterpolar\"},{\"fill\":\"toself\",\"name\":\"cluster621\",\"r\":[140.0,-2860.0],\"theta\":[\"ending_balance\",\"credit_balance\"],\"type\":\"scatterpolar\"},{\"fill\":\"toself\",\"name\":\"cluster622\",\"r\":[2211.69,-2860.0],\"theta\":[\"ending_balance\",\"credit_balance\"],\"type\":\"scatterpolar\"},{\"fill\":\"toself\",\"name\":\"cluster623\",\"r\":[5100.0,0.0],\"theta\":[\"ending_balance\",\"credit_balance\"],\"type\":\"scatterpolar\"},{\"fill\":\"toself\",\"name\":\"cluster624\",\"r\":[753.69,0.0],\"theta\":[\"ending_balance\",\"credit_balance\"],\"type\":\"scatterpolar\"},{\"fill\":\"toself\",\"name\":\"cluster625\",\"r\":[2156.3,0.0],\"theta\":[\"ending_balance\",\"credit_balance\"],\"type\":\"scatterpolar\"},{\"fill\":\"toself\",\"name\":\"cluster626\",\"r\":[1000.0,0.0],\"theta\":[\"ending_balance\",\"credit_balance\"],\"type\":\"scatterpolar\"},{\"fill\":\"toself\",\"name\":\"cluster627\",\"r\":[523.43,0.0],\"theta\":[\"ending_balance\",\"credit_balance\"],\"type\":\"scatterpolar\"},{\"fill\":\"toself\",\"name\":\"cluster628\",\"r\":[1315.0,-9517.66],\"theta\":[\"ending_balance\",\"credit_balance\"],\"type\":\"scatterpolar\"},{\"fill\":\"toself\",\"name\":\"cluster629\",\"r\":[682.34,-9517.66],\"theta\":[\"ending_balance\",\"credit_balance\"],\"type\":\"scatterpolar\"},{\"fill\":\"toself\",\"name\":\"cluster630\",\"r\":[450.37,-9517.66],\"theta\":[\"ending_balance\",\"credit_balance\"],\"type\":\"scatterpolar\"},{\"fill\":\"toself\",\"name\":\"cluster631\",\"r\":[175.55,0.0],\"theta\":[\"ending_balance\",\"credit_balance\"],\"type\":\"scatterpolar\"},{\"fill\":\"toself\",\"name\":\"cluster632\",\"r\":[2500.0,0.0],\"theta\":[\"ending_balance\",\"credit_balance\"],\"type\":\"scatterpolar\"},{\"fill\":\"toself\",\"name\":\"cluster633\",\"r\":[3110.27,0.0],\"theta\":[\"ending_balance\",\"credit_balance\"],\"type\":\"scatterpolar\"},{\"fill\":\"toself\",\"name\":\"cluster634\",\"r\":[130.9,-2869.1],\"theta\":[\"ending_balance\",\"credit_balance\"],\"type\":\"scatterpolar\"},{\"fill\":\"toself\",\"name\":\"cluster635\",\"r\":[1196.95,-2869.1],\"theta\":[\"ending_balance\",\"credit_balance\"],\"type\":\"scatterpolar\"},{\"fill\":\"toself\",\"name\":\"cluster636\",\"r\":[1.55,-1998.33],\"theta\":[\"ending_balance\",\"credit_balance\"],\"type\":\"scatterpolar\"},{\"fill\":\"toself\",\"name\":\"cluster637\",\"r\":[1001.67,-1998.33],\"theta\":[\"ending_balance\",\"credit_balance\"],\"type\":\"scatterpolar\"},{\"fill\":\"toself\",\"name\":\"cluster638\",\"r\":[2505.34,-1998.33],\"theta\":[\"ending_balance\",\"credit_balance\"],\"type\":\"scatterpolar\"},{\"fill\":\"toself\",\"name\":\"cluster639\",\"r\":[1500.0,0.0],\"theta\":[\"ending_balance\",\"credit_balance\"],\"type\":\"scatterpolar\"},{\"fill\":\"toself\",\"name\":\"cluster640\",\"r\":[3704.8,0.0],\"theta\":[\"ending_balance\",\"credit_balance\"],\"type\":\"scatterpolar\"},{\"fill\":\"toself\",\"name\":\"cluster641\",\"r\":[659.45,0.0],\"theta\":[\"ending_balance\",\"credit_balance\"],\"type\":\"scatterpolar\"},{\"fill\":\"toself\",\"name\":\"cluster642\",\"r\":[1000.0,0.0],\"theta\":[\"ending_balance\",\"credit_balance\"],\"type\":\"scatterpolar\"},{\"fill\":\"toself\",\"name\":\"cluster643\",\"r\":[10.34,0.0],\"theta\":[\"ending_balance\",\"credit_balance\"],\"type\":\"scatterpolar\"},{\"fill\":\"toself\",\"name\":\"cluster644\",\"r\":[1824.79,-5213.280000000001],\"theta\":[\"ending_balance\",\"credit_balance\"],\"type\":\"scatterpolar\"},{\"fill\":\"toself\",\"name\":\"cluster645\",\"r\":[2186.72,-5213.280000000001],\"theta\":[\"ending_balance\",\"credit_balance\"],\"type\":\"scatterpolar\"},{\"fill\":\"toself\",\"name\":\"cluster646\",\"r\":[137.85,-5213.280000000001],\"theta\":[\"ending_balance\",\"credit_balance\"],\"type\":\"scatterpolar\"},{\"fill\":\"toself\",\"name\":\"cluster647\",\"r\":[282.92,-1274.5],\"theta\":[\"ending_balance\",\"credit_balance\"],\"type\":\"scatterpolar\"},{\"fill\":\"toself\",\"name\":\"cluster648\",\"r\":[525.5,-1274.5],\"theta\":[\"ending_balance\",\"credit_balance\"],\"type\":\"scatterpolar\"},{\"fill\":\"toself\",\"name\":\"cluster649\",\"r\":[182.95,0.0],\"theta\":[\"ending_balance\",\"credit_balance\"],\"type\":\"scatterpolar\"},{\"fill\":\"toself\",\"name\":\"cluster650\",\"r\":[1000.0,0.0],\"theta\":[\"ending_balance\",\"credit_balance\"],\"type\":\"scatterpolar\"},{\"fill\":\"toself\",\"name\":\"cluster651\",\"r\":[2054.92,0.0],\"theta\":[\"ending_balance\",\"credit_balance\"],\"type\":\"scatterpolar\"},{\"fill\":\"toself\",\"name\":\"cluster652\",\"r\":[701.33,0.0],\"theta\":[\"ending_balance\",\"credit_balance\"],\"type\":\"scatterpolar\"},{\"fill\":\"toself\",\"name\":\"cluster653\",\"r\":[1000.0,0.0],\"theta\":[\"ending_balance\",\"credit_balance\"],\"type\":\"scatterpolar\"},{\"fill\":\"toself\",\"name\":\"cluster654\",\"r\":[1379.43,0.0],\"theta\":[\"ending_balance\",\"credit_balance\"],\"type\":\"scatterpolar\"},{\"fill\":\"toself\",\"name\":\"cluster655\",\"r\":[382.47,-536.35],\"theta\":[\"ending_balance\",\"credit_balance\"],\"type\":\"scatterpolar\"},{\"fill\":\"toself\",\"name\":\"cluster656\",\"r\":[463.65,-536.35],\"theta\":[\"ending_balance\",\"credit_balance\"],\"type\":\"scatterpolar\"},{\"fill\":\"toself\",\"name\":\"cluster657\",\"r\":[132.42,-536.35],\"theta\":[\"ending_balance\",\"credit_balance\"],\"type\":\"scatterpolar\"},{\"fill\":\"toself\",\"name\":\"cluster658\",\"r\":[1574.39,-351.49],\"theta\":[\"ending_balance\",\"credit_balance\"],\"type\":\"scatterpolar\"},{\"fill\":\"toself\",\"name\":\"cluster659\",\"r\":[648.51,-351.49],\"theta\":[\"ending_balance\",\"credit_balance\"],\"type\":\"scatterpolar\"},{\"fill\":\"toself\",\"name\":\"cluster660\",\"r\":[883.63,-351.49],\"theta\":[\"ending_balance\",\"credit_balance\"],\"type\":\"scatterpolar\"},{\"fill\":\"toself\",\"name\":\"cluster661\",\"r\":[282.92,0.0],\"theta\":[\"ending_balance\",\"credit_balance\"],\"type\":\"scatterpolar\"},{\"fill\":\"toself\",\"name\":\"cluster662\",\"r\":[1200.0,0.0],\"theta\":[\"ending_balance\",\"credit_balance\"],\"type\":\"scatterpolar\"},{\"fill\":\"toself\",\"name\":\"cluster663\",\"r\":[111.34,0.0],\"theta\":[\"ending_balance\",\"credit_balance\"],\"type\":\"scatterpolar\"},{\"fill\":\"toself\",\"name\":\"cluster664\",\"r\":[3.76,-2400.0],\"theta\":[\"ending_balance\",\"credit_balance\"],\"type\":\"scatterpolar\"},{\"fill\":\"toself\",\"name\":\"cluster665\",\"r\":[0.0,-2400.0],\"theta\":[\"ending_balance\",\"credit_balance\"],\"type\":\"scatterpolar\"},{\"fill\":\"toself\",\"name\":\"cluster666\",\"r\":[609.33,-2400.0],\"theta\":[\"ending_balance\",\"credit_balance\"],\"type\":\"scatterpolar\"},{\"fill\":\"toself\",\"name\":\"cluster667\",\"r\":[1000.0,0.0],\"theta\":[\"ending_balance\",\"credit_balance\"],\"type\":\"scatterpolar\"},{\"fill\":\"toself\",\"name\":\"cluster668\",\"r\":[149.2,0.0],\"theta\":[\"ending_balance\",\"credit_balance\"],\"type\":\"scatterpolar\"},{\"fill\":\"toself\",\"name\":\"cluster669\",\"r\":[2054.32,-5845.68],\"theta\":[\"ending_balance\",\"credit_balance\"],\"type\":\"scatterpolar\"},{\"fill\":\"toself\",\"name\":\"cluster670\",\"r\":[6015.58,-5845.68],\"theta\":[\"ending_balance\",\"credit_balance\"],\"type\":\"scatterpolar\"},{\"fill\":\"toself\",\"name\":\"cluster671\",\"r\":[1252.71,-8373.119999999999],\"theta\":[\"ending_balance\",\"credit_balance\"],\"type\":\"scatterpolar\"},{\"fill\":\"toself\",\"name\":\"cluster672\",\"r\":[4626.88,-8373.119999999999],\"theta\":[\"ending_balance\",\"credit_balance\"],\"type\":\"scatterpolar\"},{\"fill\":\"toself\",\"name\":\"cluster673\",\"r\":[3028.72,-8373.119999999999],\"theta\":[\"ending_balance\",\"credit_balance\"],\"type\":\"scatterpolar\"},{\"fill\":\"toself\",\"name\":\"cluster674\",\"r\":[268.79,-941.3299999999999],\"theta\":[\"ending_balance\",\"credit_balance\"],\"type\":\"scatterpolar\"},{\"fill\":\"toself\",\"name\":\"cluster675\",\"r\":[458.67,-941.3299999999999],\"theta\":[\"ending_balance\",\"credit_balance\"],\"type\":\"scatterpolar\"},{\"fill\":\"toself\",\"name\":\"cluster676\",\"r\":[360.12,-941.3299999999999],\"theta\":[\"ending_balance\",\"credit_balance\"],\"type\":\"scatterpolar\"},{\"fill\":\"toself\",\"name\":\"cluster677\",\"r\":[38.1,-6380.0],\"theta\":[\"ending_balance\",\"credit_balance\"],\"type\":\"scatterpolar\"},{\"fill\":\"toself\",\"name\":\"cluster678\",\"r\":[20.0,-6380.0],\"theta\":[\"ending_balance\",\"credit_balance\"],\"type\":\"scatterpolar\"},{\"fill\":\"toself\",\"name\":\"cluster679\",\"r\":[1703.2,-6327.97],\"theta\":[\"ending_balance\",\"credit_balance\"],\"type\":\"scatterpolar\"},{\"fill\":\"toself\",\"name\":\"cluster680\",\"r\":[772.03,-6327.97],\"theta\":[\"ending_balance\",\"credit_balance\"],\"type\":\"scatterpolar\"},{\"fill\":\"toself\",\"name\":\"cluster681\",\"r\":[1173.89,-6327.97],\"theta\":[\"ending_balance\",\"credit_balance\"],\"type\":\"scatterpolar\"},{\"fill\":\"toself\",\"name\":\"cluster682\",\"r\":[702.56,-2421.2],\"theta\":[\"ending_balance\",\"credit_balance\"],\"type\":\"scatterpolar\"},{\"fill\":\"toself\",\"name\":\"cluster683\",\"r\":[78.8,-2421.2],\"theta\":[\"ending_balance\",\"credit_balance\"],\"type\":\"scatterpolar\"},{\"fill\":\"toself\",\"name\":\"cluster684\",\"r\":[1918.23,-2421.2],\"theta\":[\"ending_balance\",\"credit_balance\"],\"type\":\"scatterpolar\"},{\"fill\":\"toself\",\"name\":\"cluster685\",\"r\":[86.21,0.0],\"theta\":[\"ending_balance\",\"credit_balance\"],\"type\":\"scatterpolar\"},{\"fill\":\"toself\",\"name\":\"cluster686\",\"r\":[1600.0,0.0],\"theta\":[\"ending_balance\",\"credit_balance\"],\"type\":\"scatterpolar\"},{\"fill\":\"toself\",\"name\":\"cluster687\",\"r\":[1813.9,0.0],\"theta\":[\"ending_balance\",\"credit_balance\"],\"type\":\"scatterpolar\"},{\"fill\":\"toself\",\"name\":\"cluster688\",\"r\":[490.56,0.0],\"theta\":[\"ending_balance\",\"credit_balance\"],\"type\":\"scatterpolar\"},{\"fill\":\"toself\",\"name\":\"cluster689\",\"r\":[1000.0,0.0],\"theta\":[\"ending_balance\",\"credit_balance\"],\"type\":\"scatterpolar\"},{\"fill\":\"toself\",\"name\":\"cluster690\",\"r\":[253.21,-1000.0],\"theta\":[\"ending_balance\",\"credit_balance\"],\"type\":\"scatterpolar\"},{\"fill\":\"toself\",\"name\":\"cluster691\",\"r\":[0.0,-1000.0],\"theta\":[\"ending_balance\",\"credit_balance\"],\"type\":\"scatterpolar\"},{\"fill\":\"toself\",\"name\":\"cluster692\",\"r\":[756.72,-1000.0],\"theta\":[\"ending_balance\",\"credit_balance\"],\"type\":\"scatterpolar\"},{\"fill\":\"toself\",\"name\":\"cluster693\",\"r\":[84.65,0.0],\"theta\":[\"ending_balance\",\"credit_balance\"],\"type\":\"scatterpolar\"},{\"fill\":\"toself\",\"name\":\"cluster694\",\"r\":[3000.0,0.0],\"theta\":[\"ending_balance\",\"credit_balance\"],\"type\":\"scatterpolar\"},{\"fill\":\"toself\",\"name\":\"cluster695\",\"r\":[288.87,0.0],\"theta\":[\"ending_balance\",\"credit_balance\"],\"type\":\"scatterpolar\"},{\"fill\":\"toself\",\"name\":\"cluster696\",\"r\":[777.16,0.0],\"theta\":[\"ending_balance\",\"credit_balance\"],\"type\":\"scatterpolar\"},{\"fill\":\"toself\",\"name\":\"cluster697\",\"r\":[1000.0,0.0],\"theta\":[\"ending_balance\",\"credit_balance\"],\"type\":\"scatterpolar\"},{\"fill\":\"toself\",\"name\":\"cluster698\",\"r\":[74.54,0.0],\"theta\":[\"ending_balance\",\"credit_balance\"],\"type\":\"scatterpolar\"},{\"fill\":\"toself\",\"name\":\"cluster699\",\"r\":[95.53,-1948.99],\"theta\":[\"ending_balance\",\"credit_balance\"],\"type\":\"scatterpolar\"},{\"fill\":\"toself\",\"name\":\"cluster700\",\"r\":[1051.01,-1948.99],\"theta\":[\"ending_balance\",\"credit_balance\"],\"type\":\"scatterpolar\"},{\"fill\":\"toself\",\"name\":\"cluster701\",\"r\":[313.46,-1948.99],\"theta\":[\"ending_balance\",\"credit_balance\"],\"type\":\"scatterpolar\"},{\"fill\":\"toself\",\"name\":\"cluster702\",\"r\":[112.61,0.0],\"theta\":[\"ending_balance\",\"credit_balance\"],\"type\":\"scatterpolar\"},{\"fill\":\"toself\",\"name\":\"cluster703\",\"r\":[1000.0,0.0],\"theta\":[\"ending_balance\",\"credit_balance\"],\"type\":\"scatterpolar\"},{\"fill\":\"toself\",\"name\":\"cluster704\",\"r\":[91.21,0.0],\"theta\":[\"ending_balance\",\"credit_balance\"],\"type\":\"scatterpolar\"},{\"fill\":\"toself\",\"name\":\"cluster705\",\"r\":[136.95,-2972.8],\"theta\":[\"ending_balance\",\"credit_balance\"],\"type\":\"scatterpolar\"},{\"fill\":\"toself\",\"name\":\"cluster706\",\"r\":[727.2,-2972.8],\"theta\":[\"ending_balance\",\"credit_balance\"],\"type\":\"scatterpolar\"},{\"fill\":\"toself\",\"name\":\"cluster707\",\"r\":[946.08,-834.08],\"theta\":[\"ending_balance\",\"credit_balance\"],\"type\":\"scatterpolar\"},{\"fill\":\"toself\",\"name\":\"cluster708\",\"r\":[965.92,-834.08],\"theta\":[\"ending_balance\",\"credit_balance\"],\"type\":\"scatterpolar\"},{\"fill\":\"toself\",\"name\":\"cluster709\",\"r\":[860.93,-834.08],\"theta\":[\"ending_balance\",\"credit_balance\"],\"type\":\"scatterpolar\"},{\"fill\":\"toself\",\"name\":\"cluster710\",\"r\":[11.84,-2095.07],\"theta\":[\"ending_balance\",\"credit_balance\"],\"type\":\"scatterpolar\"},{\"fill\":\"toself\",\"name\":\"cluster711\",\"r\":[904.93,-2095.07],\"theta\":[\"ending_balance\",\"credit_balance\"],\"type\":\"scatterpolar\"},{\"fill\":\"toself\",\"name\":\"cluster712\",\"r\":[748.73,-2095.07],\"theta\":[\"ending_balance\",\"credit_balance\"],\"type\":\"scatterpolar\"},{\"fill\":\"toself\",\"name\":\"cluster713\",\"r\":[109.31,-755.53],\"theta\":[\"ending_balance\",\"credit_balance\"],\"type\":\"scatterpolar\"},{\"fill\":\"toself\",\"name\":\"cluster714\",\"r\":[244.47,-755.53],\"theta\":[\"ending_balance\",\"credit_balance\"],\"type\":\"scatterpolar\"},{\"fill\":\"toself\",\"name\":\"cluster715\",\"r\":[792.11,-755.53],\"theta\":[\"ending_balance\",\"credit_balance\"],\"type\":\"scatterpolar\"},{\"fill\":\"toself\",\"name\":\"cluster716\",\"r\":[0.0,-1000.0],\"theta\":[\"ending_balance\",\"credit_balance\"],\"type\":\"scatterpolar\"},{\"fill\":\"toself\",\"name\":\"cluster717\",\"r\":[1720.35,-1000.0],\"theta\":[\"ending_balance\",\"credit_balance\"],\"type\":\"scatterpolar\"},{\"fill\":\"toself\",\"name\":\"cluster718\",\"r\":[2345.06,0.0],\"theta\":[\"ending_balance\",\"credit_balance\"],\"type\":\"scatterpolar\"},{\"fill\":\"toself\",\"name\":\"cluster719\",\"r\":[2700.0,0.0],\"theta\":[\"ending_balance\",\"credit_balance\"],\"type\":\"scatterpolar\"},{\"fill\":\"toself\",\"name\":\"cluster720\",\"r\":[562.27,-1878.12],\"theta\":[\"ending_balance\",\"credit_balance\"],\"type\":\"scatterpolar\"},{\"fill\":\"toself\",\"name\":\"cluster721\",\"r\":[1121.88,-1878.12],\"theta\":[\"ending_balance\",\"credit_balance\"],\"type\":\"scatterpolar\"},{\"fill\":\"toself\",\"name\":\"cluster722\",\"r\":[119.87,-1878.12],\"theta\":[\"ending_balance\",\"credit_balance\"],\"type\":\"scatterpolar\"},{\"fill\":\"toself\",\"name\":\"cluster723\",\"r\":[195.13,0.0],\"theta\":[\"ending_balance\",\"credit_balance\"],\"type\":\"scatterpolar\"},{\"fill\":\"toself\",\"name\":\"cluster724\",\"r\":[6600.0,0.0],\"theta\":[\"ending_balance\",\"credit_balance\"],\"type\":\"scatterpolar\"},{\"fill\":\"toself\",\"name\":\"cluster725\",\"r\":[1736.57,0.0],\"theta\":[\"ending_balance\",\"credit_balance\"],\"type\":\"scatterpolar\"},{\"fill\":\"toself\",\"name\":\"cluster726\",\"r\":[3000.0,0.0],\"theta\":[\"ending_balance\",\"credit_balance\"],\"type\":\"scatterpolar\"},{\"fill\":\"toself\",\"name\":\"cluster727\",\"r\":[2885.15,0.0],\"theta\":[\"ending_balance\",\"credit_balance\"],\"type\":\"scatterpolar\"},{\"fill\":\"toself\",\"name\":\"cluster728\",\"r\":[3291.88,-1069.28],\"theta\":[\"ending_balance\",\"credit_balance\"],\"type\":\"scatterpolar\"},{\"fill\":\"toself\",\"name\":\"cluster729\",\"r\":[430.72,-1069.28],\"theta\":[\"ending_balance\",\"credit_balance\"],\"type\":\"scatterpolar\"},{\"fill\":\"toself\",\"name\":\"cluster730\",\"r\":[1155.25,-1000.0],\"theta\":[\"ending_balance\",\"credit_balance\"],\"type\":\"scatterpolar\"},{\"fill\":\"toself\",\"name\":\"cluster731\",\"r\":[0.0,-1000.0],\"theta\":[\"ending_balance\",\"credit_balance\"],\"type\":\"scatterpolar\"},{\"fill\":\"toself\",\"name\":\"cluster732\",\"r\":[1184.76,-3395.35],\"theta\":[\"ending_balance\",\"credit_balance\"],\"type\":\"scatterpolar\"},{\"fill\":\"toself\",\"name\":\"cluster733\",\"r\":[604.65,-3395.35],\"theta\":[\"ending_balance\",\"credit_balance\"],\"type\":\"scatterpolar\"},{\"fill\":\"toself\",\"name\":\"cluster734\",\"r\":[140.0,-3395.35],\"theta\":[\"ending_balance\",\"credit_balance\"],\"type\":\"scatterpolar\"},{\"fill\":\"toself\",\"name\":\"cluster735\",\"r\":[260.7,0.0],\"theta\":[\"ending_balance\",\"credit_balance\"],\"type\":\"scatterpolar\"},{\"fill\":\"toself\",\"name\":\"cluster736\",\"r\":[3700.0,0.0],\"theta\":[\"ending_balance\",\"credit_balance\"],\"type\":\"scatterpolar\"},{\"fill\":\"toself\",\"name\":\"cluster737\",\"r\":[816.6,0.0],\"theta\":[\"ending_balance\",\"credit_balance\"],\"type\":\"scatterpolar\"},{\"fill\":\"toself\",\"name\":\"cluster738\",\"r\":[1000.0,0.0],\"theta\":[\"ending_balance\",\"credit_balance\"],\"type\":\"scatterpolar\"},{\"fill\":\"toself\",\"name\":\"cluster739\",\"r\":[348.98,0.0],\"theta\":[\"ending_balance\",\"credit_balance\"],\"type\":\"scatterpolar\"},{\"fill\":\"toself\",\"name\":\"cluster740\",\"r\":[16.9,0.0],\"theta\":[\"ending_balance\",\"credit_balance\"],\"type\":\"scatterpolar\"},{\"fill\":\"toself\",\"name\":\"cluster741\",\"r\":[3000.0,0.0],\"theta\":[\"ending_balance\",\"credit_balance\"],\"type\":\"scatterpolar\"},{\"fill\":\"toself\",\"name\":\"cluster742\",\"r\":[219.6,0.0],\"theta\":[\"ending_balance\",\"credit_balance\"],\"type\":\"scatterpolar\"},{\"fill\":\"toself\",\"name\":\"cluster743\",\"r\":[1000.0,0.0],\"theta\":[\"ending_balance\",\"credit_balance\"],\"type\":\"scatterpolar\"},{\"fill\":\"toself\",\"name\":\"cluster744\",\"r\":[754.8,0.0],\"theta\":[\"ending_balance\",\"credit_balance\"],\"type\":\"scatterpolar\"},{\"fill\":\"toself\",\"name\":\"cluster745\",\"r\":[417.89,-2563.02],\"theta\":[\"ending_balance\",\"credit_balance\"],\"type\":\"scatterpolar\"},{\"fill\":\"toself\",\"name\":\"cluster746\",\"r\":[436.98,-2563.02],\"theta\":[\"ending_balance\",\"credit_balance\"],\"type\":\"scatterpolar\"},{\"fill\":\"toself\",\"name\":\"cluster747\",\"r\":[84.18,-1027.31],\"theta\":[\"ending_balance\",\"credit_balance\"],\"type\":\"scatterpolar\"},{\"fill\":\"toself\",\"name\":\"cluster748\",\"r\":[272.69,-1027.31],\"theta\":[\"ending_balance\",\"credit_balance\"],\"type\":\"scatterpolar\"},{\"fill\":\"toself\",\"name\":\"cluster749\",\"r\":[13.51,-3851.55],\"theta\":[\"ending_balance\",\"credit_balance\"],\"type\":\"scatterpolar\"},{\"fill\":\"toself\",\"name\":\"cluster750\",\"r\":[1148.45,-3851.55],\"theta\":[\"ending_balance\",\"credit_balance\"],\"type\":\"scatterpolar\"},{\"fill\":\"toself\",\"name\":\"cluster751\",\"r\":[221.3,-3000.0],\"theta\":[\"ending_balance\",\"credit_balance\"],\"type\":\"scatterpolar\"},{\"fill\":\"toself\",\"name\":\"cluster752\",\"r\":[0.0,-3000.0],\"theta\":[\"ending_balance\",\"credit_balance\"],\"type\":\"scatterpolar\"},{\"fill\":\"toself\",\"name\":\"cluster753\",\"r\":[386.2,-3000.0],\"theta\":[\"ending_balance\",\"credit_balance\"],\"type\":\"scatterpolar\"},{\"fill\":\"toself\",\"name\":\"cluster754\",\"r\":[222.05,-580.0],\"theta\":[\"ending_balance\",\"credit_balance\"],\"type\":\"scatterpolar\"},{\"fill\":\"toself\",\"name\":\"cluster755\",\"r\":[420.0,-580.0],\"theta\":[\"ending_balance\",\"credit_balance\"],\"type\":\"scatterpolar\"},{\"fill\":\"toself\",\"name\":\"cluster756\",\"r\":[201.95,-580.0],\"theta\":[\"ending_balance\",\"credit_balance\"],\"type\":\"scatterpolar\"},{\"fill\":\"toself\",\"name\":\"cluster757\",\"r\":[10.33,0.0],\"theta\":[\"ending_balance\",\"credit_balance\"],\"type\":\"scatterpolar\"},{\"fill\":\"toself\",\"name\":\"cluster758\",\"r\":[1000.0,0.0],\"theta\":[\"ending_balance\",\"credit_balance\"],\"type\":\"scatterpolar\"},{\"fill\":\"toself\",\"name\":\"cluster759\",\"r\":[148.06,0.0],\"theta\":[\"ending_balance\",\"credit_balance\"],\"type\":\"scatterpolar\"},{\"fill\":\"toself\",\"name\":\"cluster760\",\"r\":[84.83,-1707.37],\"theta\":[\"ending_balance\",\"credit_balance\"],\"type\":\"scatterpolar\"},{\"fill\":\"toself\",\"name\":\"cluster761\",\"r\":[1292.63,-1707.37],\"theta\":[\"ending_balance\",\"credit_balance\"],\"type\":\"scatterpolar\"},{\"fill\":\"toself\",\"name\":\"cluster762\",\"r\":[991.01,-1707.37],\"theta\":[\"ending_balance\",\"credit_balance\"],\"type\":\"scatterpolar\"},{\"fill\":\"toself\",\"name\":\"cluster763\",\"r\":[215.13,-100.91999999999996],\"theta\":[\"ending_balance\",\"credit_balance\"],\"type\":\"scatterpolar\"},{\"fill\":\"toself\",\"name\":\"cluster764\",\"r\":[899.08,-100.91999999999996],\"theta\":[\"ending_balance\",\"credit_balance\"],\"type\":\"scatterpolar\"},{\"fill\":\"toself\",\"name\":\"cluster765\",\"r\":[17.18,-100.91999999999996],\"theta\":[\"ending_balance\",\"credit_balance\"],\"type\":\"scatterpolar\"},{\"fill\":\"toself\",\"name\":\"cluster766\",\"r\":[1137.89,-3415.54],\"theta\":[\"ending_balance\",\"credit_balance\"],\"type\":\"scatterpolar\"},{\"fill\":\"toself\",\"name\":\"cluster767\",\"r\":[2684.46,-3415.54],\"theta\":[\"ending_balance\",\"credit_balance\"],\"type\":\"scatterpolar\"},{\"fill\":\"toself\",\"name\":\"cluster768\",\"r\":[13.96,-4495.86],\"theta\":[\"ending_balance\",\"credit_balance\"],\"type\":\"scatterpolar\"},{\"fill\":\"toself\",\"name\":\"cluster769\",\"r\":[1504.14,-4495.86],\"theta\":[\"ending_balance\",\"credit_balance\"],\"type\":\"scatterpolar\"},{\"fill\":\"toself\",\"name\":\"cluster770\",\"r\":[1663.95,-4495.86],\"theta\":[\"ending_balance\",\"credit_balance\"],\"type\":\"scatterpolar\"},{\"fill\":\"toself\",\"name\":\"cluster771\",\"r\":[696.51,-730.78],\"theta\":[\"ending_balance\",\"credit_balance\"],\"type\":\"scatterpolar\"},{\"fill\":\"toself\",\"name\":\"cluster772\",\"r\":[1469.22,-730.78],\"theta\":[\"ending_balance\",\"credit_balance\"],\"type\":\"scatterpolar\"},{\"fill\":\"toself\",\"name\":\"cluster773\",\"r\":[261.18,-730.78],\"theta\":[\"ending_balance\",\"credit_balance\"],\"type\":\"scatterpolar\"},{\"fill\":\"toself\",\"name\":\"cluster774\",\"r\":[413.73,0.0],\"theta\":[\"ending_balance\",\"credit_balance\"],\"type\":\"scatterpolar\"},{\"fill\":\"toself\",\"name\":\"cluster775\",\"r\":[1000.0,0.0],\"theta\":[\"ending_balance\",\"credit_balance\"],\"type\":\"scatterpolar\"},{\"fill\":\"toself\",\"name\":\"cluster776\",\"r\":[1839.28,-3113.71],\"theta\":[\"ending_balance\",\"credit_balance\"],\"type\":\"scatterpolar\"},{\"fill\":\"toself\",\"name\":\"cluster777\",\"r\":[586.29,-3113.71],\"theta\":[\"ending_balance\",\"credit_balance\"],\"type\":\"scatterpolar\"},{\"fill\":\"toself\",\"name\":\"cluster778\",\"r\":[2771.42,-3113.71],\"theta\":[\"ending_balance\",\"credit_balance\"],\"type\":\"scatterpolar\"},{\"fill\":\"toself\",\"name\":\"cluster779\",\"r\":[2009.72,-88.62],\"theta\":[\"ending_balance\",\"credit_balance\"],\"type\":\"scatterpolar\"},{\"fill\":\"toself\",\"name\":\"cluster780\",\"r\":[911.38,-88.62],\"theta\":[\"ending_balance\",\"credit_balance\"],\"type\":\"scatterpolar\"},{\"fill\":\"toself\",\"name\":\"cluster781\",\"r\":[274.78,-88.62],\"theta\":[\"ending_balance\",\"credit_balance\"],\"type\":\"scatterpolar\"},{\"fill\":\"toself\",\"name\":\"cluster782\",\"r\":[644.11,-494.57],\"theta\":[\"ending_balance\",\"credit_balance\"],\"type\":\"scatterpolar\"},{\"fill\":\"toself\",\"name\":\"cluster783\",\"r\":[505.43,-494.57],\"theta\":[\"ending_balance\",\"credit_balance\"],\"type\":\"scatterpolar\"},{\"fill\":\"toself\",\"name\":\"cluster784\",\"r\":[169.81,-494.57],\"theta\":[\"ending_balance\",\"credit_balance\"],\"type\":\"scatterpolar\"},{\"fill\":\"toself\",\"name\":\"cluster785\",\"r\":[1143.13,-1856.87],\"theta\":[\"ending_balance\",\"credit_balance\"],\"type\":\"scatterpolar\"},{\"fill\":\"toself\",\"name\":\"cluster786\",\"r\":[536.08,-1856.87],\"theta\":[\"ending_balance\",\"credit_balance\"],\"type\":\"scatterpolar\"},{\"fill\":\"toself\",\"name\":\"cluster787\",\"r\":[254.88,-2315.7],\"theta\":[\"ending_balance\",\"credit_balance\"],\"type\":\"scatterpolar\"},{\"fill\":\"toself\",\"name\":\"cluster788\",\"r\":[684.3,-2315.7],\"theta\":[\"ending_balance\",\"credit_balance\"],\"type\":\"scatterpolar\"},{\"fill\":\"toself\",\"name\":\"cluster789\",\"r\":[95.3,-2315.7],\"theta\":[\"ending_balance\",\"credit_balance\"],\"type\":\"scatterpolar\"},{\"fill\":\"toself\",\"name\":\"cluster790\",\"r\":[15.52,-85.91999999999996],\"theta\":[\"ending_balance\",\"credit_balance\"],\"type\":\"scatterpolar\"},{\"fill\":\"toself\",\"name\":\"cluster791\",\"r\":[914.08,-85.91999999999996],\"theta\":[\"ending_balance\",\"credit_balance\"],\"type\":\"scatterpolar\"},{\"fill\":\"toself\",\"name\":\"cluster792\",\"r\":[1293.45,-85.91999999999996],\"theta\":[\"ending_balance\",\"credit_balance\"],\"type\":\"scatterpolar\"},{\"fill\":\"toself\",\"name\":\"cluster793\",\"r\":[193.12,-709.46],\"theta\":[\"ending_balance\",\"credit_balance\"],\"type\":\"scatterpolar\"},{\"fill\":\"toself\",\"name\":\"cluster794\",\"r\":[290.54,-709.46],\"theta\":[\"ending_balance\",\"credit_balance\"],\"type\":\"scatterpolar\"},{\"fill\":\"toself\",\"name\":\"cluster795\",\"r\":[1098.48,-709.46],\"theta\":[\"ending_balance\",\"credit_balance\"],\"type\":\"scatterpolar\"},{\"fill\":\"toself\",\"name\":\"cluster796\",\"r\":[5192.98,-407.02000000000044],\"theta\":[\"ending_balance\",\"credit_balance\"],\"type\":\"scatterpolar\"},{\"fill\":\"toself\",\"name\":\"cluster797\",\"r\":[254.9,-407.02000000000044],\"theta\":[\"ending_balance\",\"credit_balance\"],\"type\":\"scatterpolar\"},{\"fill\":\"toself\",\"name\":\"cluster798\",\"r\":[49.08,0.0],\"theta\":[\"ending_balance\",\"credit_balance\"],\"type\":\"scatterpolar\"},{\"fill\":\"toself\",\"name\":\"cluster799\",\"r\":[8500.0,0.0],\"theta\":[\"ending_balance\",\"credit_balance\"],\"type\":\"scatterpolar\"},{\"fill\":\"toself\",\"name\":\"cluster800\",\"r\":[22.1,-4200.0],\"theta\":[\"ending_balance\",\"credit_balance\"],\"type\":\"scatterpolar\"},{\"fill\":\"toself\",\"name\":\"cluster801\",\"r\":[0.0,-4200.0],\"theta\":[\"ending_balance\",\"credit_balance\"],\"type\":\"scatterpolar\"},{\"fill\":\"toself\",\"name\":\"cluster802\",\"r\":[1900.0,0.0],\"theta\":[\"ending_balance\",\"credit_balance\"],\"type\":\"scatterpolar\"},{\"fill\":\"toself\",\"name\":\"cluster803\",\"r\":[37.27,0.0],\"theta\":[\"ending_balance\",\"credit_balance\"],\"type\":\"scatterpolar\"},{\"fill\":\"toself\",\"name\":\"cluster804\",\"r\":[158.09,-2354.91],\"theta\":[\"ending_balance\",\"credit_balance\"],\"type\":\"scatterpolar\"},{\"fill\":\"toself\",\"name\":\"cluster805\",\"r\":[645.09,-2354.91],\"theta\":[\"ending_balance\",\"credit_balance\"],\"type\":\"scatterpolar\"},{\"fill\":\"toself\",\"name\":\"cluster806\",\"r\":[347.2,-2354.91],\"theta\":[\"ending_balance\",\"credit_balance\"],\"type\":\"scatterpolar\"},{\"fill\":\"toself\",\"name\":\"cluster807\",\"r\":[5.87,0.0],\"theta\":[\"ending_balance\",\"credit_balance\"],\"type\":\"scatterpolar\"},{\"fill\":\"toself\",\"name\":\"cluster808\",\"r\":[1000.0,0.0],\"theta\":[\"ending_balance\",\"credit_balance\"],\"type\":\"scatterpolar\"},{\"fill\":\"toself\",\"name\":\"cluster809\",\"r\":[9.71,0.0],\"theta\":[\"ending_balance\",\"credit_balance\"],\"type\":\"scatterpolar\"},{\"fill\":\"toself\",\"name\":\"cluster810\",\"r\":[296.28,-1214.03],\"theta\":[\"ending_balance\",\"credit_balance\"],\"type\":\"scatterpolar\"},{\"fill\":\"toself\",\"name\":\"cluster811\",\"r\":[1785.97,-1214.03],\"theta\":[\"ending_balance\",\"credit_balance\"],\"type\":\"scatterpolar\"},{\"fill\":\"toself\",\"name\":\"cluster812\",\"r\":[0.0,-3000.0],\"theta\":[\"ending_balance\",\"credit_balance\"],\"type\":\"scatterpolar\"},{\"fill\":\"toself\",\"name\":\"cluster813\",\"r\":[0.0,-3000.0],\"theta\":[\"ending_balance\",\"credit_balance\"],\"type\":\"scatterpolar\"},{\"fill\":\"toself\",\"name\":\"cluster814\",\"r\":[153.82,-3000.0],\"theta\":[\"ending_balance\",\"credit_balance\"],\"type\":\"scatterpolar\"},{\"fill\":\"toself\",\"name\":\"cluster815\",\"r\":[839.43,-2060.57],\"theta\":[\"ending_balance\",\"credit_balance\"],\"type\":\"scatterpolar\"},{\"fill\":\"toself\",\"name\":\"cluster816\",\"r\":[1068.52,-3000.0],\"theta\":[\"ending_balance\",\"credit_balance\"],\"type\":\"scatterpolar\"},{\"fill\":\"toself\",\"name\":\"cluster817\",\"r\":[0.0,-3000.0],\"theta\":[\"ending_balance\",\"credit_balance\"],\"type\":\"scatterpolar\"},{\"fill\":\"toself\",\"name\":\"cluster818\",\"r\":[1082.35,-3000.0],\"theta\":[\"ending_balance\",\"credit_balance\"],\"type\":\"scatterpolar\"},{\"fill\":\"toself\",\"name\":\"cluster819\",\"r\":[0.0,-4625.0],\"theta\":[\"ending_balance\",\"credit_balance\"],\"type\":\"scatterpolar\"},{\"fill\":\"toself\",\"name\":\"cluster820\",\"r\":[575.0,-4625.0],\"theta\":[\"ending_balance\",\"credit_balance\"],\"type\":\"scatterpolar\"},{\"fill\":\"toself\",\"name\":\"cluster821\",\"r\":[533.3,-4625.0],\"theta\":[\"ending_balance\",\"credit_balance\"],\"type\":\"scatterpolar\"},{\"fill\":\"toself\",\"name\":\"cluster822\",\"r\":[955.03,-845.44],\"theta\":[\"ending_balance\",\"credit_balance\"],\"type\":\"scatterpolar\"},{\"fill\":\"toself\",\"name\":\"cluster823\",\"r\":[254.56,-845.44],\"theta\":[\"ending_balance\",\"credit_balance\"],\"type\":\"scatterpolar\"},{\"fill\":\"toself\",\"name\":\"cluster824\",\"r\":[1357.19,-845.44],\"theta\":[\"ending_balance\",\"credit_balance\"],\"type\":\"scatterpolar\"},{\"fill\":\"toself\",\"name\":\"cluster825\",\"r\":[1223.94,-1889.3],\"theta\":[\"ending_balance\",\"credit_balance\"],\"type\":\"scatterpolar\"},{\"fill\":\"toself\",\"name\":\"cluster826\",\"r\":[1610.7,-1889.3],\"theta\":[\"ending_balance\",\"credit_balance\"],\"type\":\"scatterpolar\"},{\"fill\":\"toself\",\"name\":\"cluster827\",\"r\":[130.75,-919.44],\"theta\":[\"ending_balance\",\"credit_balance\"],\"type\":\"scatterpolar\"},{\"fill\":\"toself\",\"name\":\"cluster828\",\"r\":[80.56,-919.44],\"theta\":[\"ending_balance\",\"credit_balance\"],\"type\":\"scatterpolar\"},{\"fill\":\"toself\",\"name\":\"cluster829\",\"r\":[68.7,-919.44],\"theta\":[\"ending_balance\",\"credit_balance\"],\"type\":\"scatterpolar\"},{\"fill\":\"toself\",\"name\":\"cluster830\",\"r\":[1.97,-630.03],\"theta\":[\"ending_balance\",\"credit_balance\"],\"type\":\"scatterpolar\"},{\"fill\":\"toself\",\"name\":\"cluster831\",\"r\":[369.97,-630.03],\"theta\":[\"ending_balance\",\"credit_balance\"],\"type\":\"scatterpolar\"},{\"fill\":\"toself\",\"name\":\"cluster832\",\"r\":[432.85,-630.03],\"theta\":[\"ending_balance\",\"credit_balance\"],\"type\":\"scatterpolar\"},{\"fill\":\"toself\",\"name\":\"cluster833\",\"r\":[809.67,-4180.0],\"theta\":[\"ending_balance\",\"credit_balance\"],\"type\":\"scatterpolar\"},{\"fill\":\"toself\",\"name\":\"cluster834\",\"r\":[20.0,-4180.0],\"theta\":[\"ending_balance\",\"credit_balance\"],\"type\":\"scatterpolar\"},{\"fill\":\"toself\",\"name\":\"cluster835\",\"r\":[7.42,-506.83],\"theta\":[\"ending_balance\",\"credit_balance\"],\"type\":\"scatterpolar\"},{\"fill\":\"toself\",\"name\":\"cluster836\",\"r\":[493.17,-506.83],\"theta\":[\"ending_balance\",\"credit_balance\"],\"type\":\"scatterpolar\"},{\"fill\":\"toself\",\"name\":\"cluster837\",\"r\":[2007.33,-2278.34],\"theta\":[\"ending_balance\",\"credit_balance\"],\"type\":\"scatterpolar\"},{\"fill\":\"toself\",\"name\":\"cluster838\",\"r\":[21.66,-2278.34],\"theta\":[\"ending_balance\",\"credit_balance\"],\"type\":\"scatterpolar\"},{\"fill\":\"toself\",\"name\":\"cluster839\",\"r\":[2978.58,-2278.34],\"theta\":[\"ending_balance\",\"credit_balance\"],\"type\":\"scatterpolar\"},{\"fill\":\"toself\",\"name\":\"cluster840\",\"r\":[147.15,0.0],\"theta\":[\"ending_balance\",\"credit_balance\"],\"type\":\"scatterpolar\"},{\"fill\":\"toself\",\"name\":\"cluster841\",\"r\":[1000.0,0.0],\"theta\":[\"ending_balance\",\"credit_balance\"],\"type\":\"scatterpolar\"},{\"fill\":\"toself\",\"name\":\"cluster842\",\"r\":[2901.35,0.0],\"theta\":[\"ending_balance\",\"credit_balance\"],\"type\":\"scatterpolar\"},{\"fill\":\"toself\",\"name\":\"cluster843\",\"r\":[19.2,0.0],\"theta\":[\"ending_balance\",\"credit_balance\"],\"type\":\"scatterpolar\"},{\"fill\":\"toself\",\"name\":\"cluster844\",\"r\":[1000.0,0.0],\"theta\":[\"ending_balance\",\"credit_balance\"],\"type\":\"scatterpolar\"},{\"fill\":\"toself\",\"name\":\"cluster845\",\"r\":[29.97,0.0],\"theta\":[\"ending_balance\",\"credit_balance\"],\"type\":\"scatterpolar\"},{\"fill\":\"toself\",\"name\":\"cluster846\",\"r\":[1500.0,0.0],\"theta\":[\"ending_balance\",\"credit_balance\"],\"type\":\"scatterpolar\"},{\"fill\":\"toself\",\"name\":\"cluster847\",\"r\":[163.39,0.0],\"theta\":[\"ending_balance\",\"credit_balance\"],\"type\":\"scatterpolar\"},{\"fill\":\"toself\",\"name\":\"cluster848\",\"r\":[63.32,-1413.73],\"theta\":[\"ending_balance\",\"credit_balance\"],\"type\":\"scatterpolar\"},{\"fill\":\"toself\",\"name\":\"cluster849\",\"r\":[1586.27,-1413.73],\"theta\":[\"ending_balance\",\"credit_balance\"],\"type\":\"scatterpolar\"},{\"fill\":\"toself\",\"name\":\"cluster850\",\"r\":[124.13,-1413.73],\"theta\":[\"ending_balance\",\"credit_balance\"],\"type\":\"scatterpolar\"},{\"fill\":\"toself\",\"name\":\"cluster851\",\"r\":[30.86,0.0],\"theta\":[\"ending_balance\",\"credit_balance\"],\"type\":\"scatterpolar\"},{\"fill\":\"toself\",\"name\":\"cluster852\",\"r\":[1000.0,0.0],\"theta\":[\"ending_balance\",\"credit_balance\"],\"type\":\"scatterpolar\"},{\"fill\":\"toself\",\"name\":\"cluster853\",\"r\":[5490.45,-809.5500000000002],\"theta\":[\"ending_balance\",\"credit_balance\"],\"type\":\"scatterpolar\"},{\"fill\":\"toself\",\"name\":\"cluster854\",\"r\":[234.2,0.0],\"theta\":[\"ending_balance\",\"credit_balance\"],\"type\":\"scatterpolar\"},{\"fill\":\"toself\",\"name\":\"cluster855\",\"r\":[1000.0,0.0],\"theta\":[\"ending_balance\",\"credit_balance\"],\"type\":\"scatterpolar\"},{\"fill\":\"toself\",\"name\":\"cluster856\",\"r\":[57.34,0.0],\"theta\":[\"ending_balance\",\"credit_balance\"],\"type\":\"scatterpolar\"},{\"fill\":\"toself\",\"name\":\"cluster857\",\"r\":[569.65,-6631.32],\"theta\":[\"ending_balance\",\"credit_balance\"],\"type\":\"scatterpolar\"},{\"fill\":\"toself\",\"name\":\"cluster858\",\"r\":[68.68,-6631.32],\"theta\":[\"ending_balance\",\"credit_balance\"],\"type\":\"scatterpolar\"},{\"fill\":\"toself\",\"name\":\"cluster859\",\"r\":[254.02,-6631.32],\"theta\":[\"ending_balance\",\"credit_balance\"],\"type\":\"scatterpolar\"},{\"fill\":\"toself\",\"name\":\"cluster860\",\"r\":[548.29,-1000.0],\"theta\":[\"ending_balance\",\"credit_balance\"],\"type\":\"scatterpolar\"},{\"fill\":\"toself\",\"name\":\"cluster861\",\"r\":[0.0,-1000.0],\"theta\":[\"ending_balance\",\"credit_balance\"],\"type\":\"scatterpolar\"},{\"fill\":\"toself\",\"name\":\"cluster862\",\"r\":[820.66,-0.82000000000005],\"theta\":[\"ending_balance\",\"credit_balance\"],\"type\":\"scatterpolar\"},{\"fill\":\"toself\",\"name\":\"cluster863\",\"r\":[999.18,-0.82000000000005],\"theta\":[\"ending_balance\",\"credit_balance\"],\"type\":\"scatterpolar\"},{\"fill\":\"toself\",\"name\":\"cluster864\",\"r\":[1363.11,-0.82000000000005],\"theta\":[\"ending_balance\",\"credit_balance\"],\"type\":\"scatterpolar\"},{\"fill\":\"toself\",\"name\":\"cluster865\",\"r\":[1300.0,0.0],\"theta\":[\"ending_balance\",\"credit_balance\"],\"type\":\"scatterpolar\"},{\"fill\":\"toself\",\"name\":\"cluster866\",\"r\":[43.24,-2132.39],\"theta\":[\"ending_balance\",\"credit_balance\"],\"type\":\"scatterpolar\"},{\"fill\":\"toself\",\"name\":\"cluster867\",\"r\":[67.61,-2132.39],\"theta\":[\"ending_balance\",\"credit_balance\"],\"type\":\"scatterpolar\"},{\"fill\":\"toself\",\"name\":\"cluster868\",\"r\":[46.55,-194.80999999999995],\"theta\":[\"ending_balance\",\"credit_balance\"],\"type\":\"scatterpolar\"},{\"fill\":\"toself\",\"name\":\"cluster869\",\"r\":[805.19,-194.80999999999995],\"theta\":[\"ending_balance\",\"credit_balance\"],\"type\":\"scatterpolar\"},{\"fill\":\"toself\",\"name\":\"cluster870\",\"r\":[1000.0,0.0],\"theta\":[\"ending_balance\",\"credit_balance\"],\"type\":\"scatterpolar\"},{\"fill\":\"toself\",\"name\":\"cluster871\",\"r\":[1039.96,0.0],\"theta\":[\"ending_balance\",\"credit_balance\"],\"type\":\"scatterpolar\"},{\"fill\":\"toself\",\"name\":\"cluster872\",\"r\":[4418.79,-17300.0],\"theta\":[\"ending_balance\",\"credit_balance\"],\"type\":\"scatterpolar\"},{\"fill\":\"toself\",\"name\":\"cluster873\",\"r\":[0.0,-17300.0],\"theta\":[\"ending_balance\",\"credit_balance\"],\"type\":\"scatterpolar\"},{\"fill\":\"toself\",\"name\":\"cluster874\",\"r\":[6619.84,-17300.0],\"theta\":[\"ending_balance\",\"credit_balance\"],\"type\":\"scatterpolar\"},{\"fill\":\"toself\",\"name\":\"cluster875\",\"r\":[579.16,0.0],\"theta\":[\"ending_balance\",\"credit_balance\"],\"type\":\"scatterpolar\"},{\"fill\":\"toself\",\"name\":\"cluster876\",\"r\":[1000.0,0.0],\"theta\":[\"ending_balance\",\"credit_balance\"],\"type\":\"scatterpolar\"},{\"fill\":\"toself\",\"name\":\"cluster877\",\"r\":[764.77,0.0],\"theta\":[\"ending_balance\",\"credit_balance\"],\"type\":\"scatterpolar\"},{\"fill\":\"toself\",\"name\":\"cluster878\",\"r\":[2093.96,-1306.04],\"theta\":[\"ending_balance\",\"credit_balance\"],\"type\":\"scatterpolar\"},{\"fill\":\"toself\",\"name\":\"cluster879\",\"r\":[3800.0,0.0],\"theta\":[\"ending_balance\",\"credit_balance\"],\"type\":\"scatterpolar\"},{\"fill\":\"toself\",\"name\":\"cluster880\",\"r\":[5792.74,0.0],\"theta\":[\"ending_balance\",\"credit_balance\"],\"type\":\"scatterpolar\"},{\"fill\":\"toself\",\"name\":\"cluster881\",\"r\":[28.8,-2910.85],\"theta\":[\"ending_balance\",\"credit_balance\"],\"type\":\"scatterpolar\"},{\"fill\":\"toself\",\"name\":\"cluster882\",\"r\":[89.15,-2910.85],\"theta\":[\"ending_balance\",\"credit_balance\"],\"type\":\"scatterpolar\"},{\"fill\":\"toself\",\"name\":\"cluster883\",\"r\":[266.68,-2633.69],\"theta\":[\"ending_balance\",\"credit_balance\"],\"type\":\"scatterpolar\"},{\"fill\":\"toself\",\"name\":\"cluster884\",\"r\":[366.31,-2633.69],\"theta\":[\"ending_balance\",\"credit_balance\"],\"type\":\"scatterpolar\"},{\"fill\":\"toself\",\"name\":\"cluster885\",\"r\":[2748.89,-3866.6099999999997],\"theta\":[\"ending_balance\",\"credit_balance\"],\"type\":\"scatterpolar\"},{\"fill\":\"toself\",\"name\":\"cluster886\",\"r\":[1133.39,-3866.6099999999997],\"theta\":[\"ending_balance\",\"credit_balance\"],\"type\":\"scatterpolar\"},{\"fill\":\"toself\",\"name\":\"cluster887\",\"r\":[1009.61,-3866.6099999999997],\"theta\":[\"ending_balance\",\"credit_balance\"],\"type\":\"scatterpolar\"},{\"fill\":\"toself\",\"name\":\"cluster888\",\"r\":[10.18,-84.25],\"theta\":[\"ending_balance\",\"credit_balance\"],\"type\":\"scatterpolar\"},{\"fill\":\"toself\",\"name\":\"cluster889\",\"r\":[915.75,-84.25],\"theta\":[\"ending_balance\",\"credit_balance\"],\"type\":\"scatterpolar\"},{\"fill\":\"toself\",\"name\":\"cluster890\",\"r\":[688.98,-84.25],\"theta\":[\"ending_balance\",\"credit_balance\"],\"type\":\"scatterpolar\"},{\"fill\":\"toself\",\"name\":\"cluster891\",\"r\":[248.16,0.0],\"theta\":[\"ending_balance\",\"credit_balance\"],\"type\":\"scatterpolar\"},{\"fill\":\"toself\",\"name\":\"cluster892\",\"r\":[1000.0,0.0],\"theta\":[\"ending_balance\",\"credit_balance\"],\"type\":\"scatterpolar\"},{\"fill\":\"toself\",\"name\":\"cluster893\",\"r\":[186.79,0.0],\"theta\":[\"ending_balance\",\"credit_balance\"],\"type\":\"scatterpolar\"},{\"fill\":\"toself\",\"name\":\"cluster894\",\"r\":[0.0,-1000.0],\"theta\":[\"ending_balance\",\"credit_balance\"],\"type\":\"scatterpolar\"},{\"fill\":\"toself\",\"name\":\"cluster895\",\"r\":[800.42,-1000.0],\"theta\":[\"ending_balance\",\"credit_balance\"],\"type\":\"scatterpolar\"},{\"fill\":\"toself\",\"name\":\"cluster896\",\"r\":[479.29,-1000.0],\"theta\":[\"ending_balance\",\"credit_balance\"],\"type\":\"scatterpolar\"},{\"fill\":\"toself\",\"name\":\"cluster897\",\"r\":[0.0,-1000.0],\"theta\":[\"ending_balance\",\"credit_balance\"],\"type\":\"scatterpolar\"},{\"fill\":\"toself\",\"name\":\"cluster898\",\"r\":[176.53,-1000.0],\"theta\":[\"ending_balance\",\"credit_balance\"],\"type\":\"scatterpolar\"},{\"fill\":\"toself\",\"name\":\"cluster899\",\"r\":[12.8,-5968.71],\"theta\":[\"ending_balance\",\"credit_balance\"],\"type\":\"scatterpolar\"},{\"fill\":\"toself\",\"name\":\"cluster900\",\"r\":[2231.29,-5968.71],\"theta\":[\"ending_balance\",\"credit_balance\"],\"type\":\"scatterpolar\"},{\"fill\":\"toself\",\"name\":\"cluster901\",\"r\":[3419.28,-5968.71],\"theta\":[\"ending_balance\",\"credit_balance\"],\"type\":\"scatterpolar\"},{\"fill\":\"toself\",\"name\":\"cluster902\",\"r\":[4690.94,-167.9000000000001],\"theta\":[\"ending_balance\",\"credit_balance\"],\"type\":\"scatterpolar\"},{\"fill\":\"toself\",\"name\":\"cluster903\",\"r\":[1932.1,-167.9000000000001],\"theta\":[\"ending_balance\",\"credit_balance\"],\"type\":\"scatterpolar\"},{\"fill\":\"toself\",\"name\":\"cluster904\",\"r\":[434.43,-167.9000000000001],\"theta\":[\"ending_balance\",\"credit_balance\"],\"type\":\"scatterpolar\"},{\"fill\":\"toself\",\"name\":\"cluster905\",\"r\":[20.0,-3680.0],\"theta\":[\"ending_balance\",\"credit_balance\"],\"type\":\"scatterpolar\"},{\"fill\":\"toself\",\"name\":\"cluster906\",\"r\":[1875.77,-226.04999999999995],\"theta\":[\"ending_balance\",\"credit_balance\"],\"type\":\"scatterpolar\"},{\"fill\":\"toself\",\"name\":\"cluster907\",\"r\":[1073.95,-226.04999999999995],\"theta\":[\"ending_balance\",\"credit_balance\"],\"type\":\"scatterpolar\"},{\"fill\":\"toself\",\"name\":\"cluster908\",\"r\":[1025.23,-226.04999999999995],\"theta\":[\"ending_balance\",\"credit_balance\"],\"type\":\"scatterpolar\"},{\"fill\":\"toself\",\"name\":\"cluster909\",\"r\":[953.53,-2728.13],\"theta\":[\"ending_balance\",\"credit_balance\"],\"type\":\"scatterpolar\"},{\"fill\":\"toself\",\"name\":\"cluster910\",\"r\":[271.87,-2728.13],\"theta\":[\"ending_balance\",\"credit_balance\"],\"type\":\"scatterpolar\"},{\"fill\":\"toself\",\"name\":\"cluster911\",\"r\":[30.89,-297.26],\"theta\":[\"ending_balance\",\"credit_balance\"],\"type\":\"scatterpolar\"},{\"fill\":\"toself\",\"name\":\"cluster912\",\"r\":[702.74,-297.26],\"theta\":[\"ending_balance\",\"credit_balance\"],\"type\":\"scatterpolar\"},{\"fill\":\"toself\",\"name\":\"cluster913\",\"r\":[4622.61,-297.26],\"theta\":[\"ending_balance\",\"credit_balance\"],\"type\":\"scatterpolar\"},{\"fill\":\"toself\",\"name\":\"cluster914\",\"r\":[174.05,0.0],\"theta\":[\"ending_balance\",\"credit_balance\"],\"type\":\"scatterpolar\"},{\"fill\":\"toself\",\"name\":\"cluster915\",\"r\":[1000.0,0.0],\"theta\":[\"ending_balance\",\"credit_balance\"],\"type\":\"scatterpolar\"},{\"fill\":\"toself\",\"name\":\"cluster916\",\"r\":[602.03,-397.97],\"theta\":[\"ending_balance\",\"credit_balance\"],\"type\":\"scatterpolar\"},{\"fill\":\"toself\",\"name\":\"cluster917\",\"r\":[1770.46,-397.97],\"theta\":[\"ending_balance\",\"credit_balance\"],\"type\":\"scatterpolar\"},{\"fill\":\"toself\",\"name\":\"cluster918\",\"r\":[2945.14,-3800.0],\"theta\":[\"ending_balance\",\"credit_balance\"],\"type\":\"scatterpolar\"},{\"fill\":\"toself\",\"name\":\"cluster919\",\"r\":[0.0,-3800.0],\"theta\":[\"ending_balance\",\"credit_balance\"],\"type\":\"scatterpolar\"},{\"fill\":\"toself\",\"name\":\"cluster920\",\"r\":[578.09,-3800.0],\"theta\":[\"ending_balance\",\"credit_balance\"],\"type\":\"scatterpolar\"},{\"fill\":\"toself\",\"name\":\"cluster921\",\"r\":[301.79,-5273.88],\"theta\":[\"ending_balance\",\"credit_balance\"],\"type\":\"scatterpolar\"},{\"fill\":\"toself\",\"name\":\"cluster922\",\"r\":[1226.12,-5273.88],\"theta\":[\"ending_balance\",\"credit_balance\"],\"type\":\"scatterpolar\"},{\"fill\":\"toself\",\"name\":\"cluster923\",\"r\":[1572.98,-863.47],\"theta\":[\"ending_balance\",\"credit_balance\"],\"type\":\"scatterpolar\"},{\"fill\":\"toself\",\"name\":\"cluster924\",\"r\":[636.53,-863.47],\"theta\":[\"ending_balance\",\"credit_balance\"],\"type\":\"scatterpolar\"},{\"fill\":\"toself\",\"name\":\"cluster925\",\"r\":[52.8,-4244.66],\"theta\":[\"ending_balance\",\"credit_balance\"],\"type\":\"scatterpolar\"},{\"fill\":\"toself\",\"name\":\"cluster926\",\"r\":[1555.34,-4244.66],\"theta\":[\"ending_balance\",\"credit_balance\"],\"type\":\"scatterpolar\"},{\"fill\":\"toself\",\"name\":\"cluster927\",\"r\":[1067.7,-4244.66],\"theta\":[\"ending_balance\",\"credit_balance\"],\"type\":\"scatterpolar\"},{\"fill\":\"toself\",\"name\":\"cluster928\",\"r\":[1544.52,0.0],\"theta\":[\"ending_balance\",\"credit_balance\"],\"type\":\"scatterpolar\"},{\"fill\":\"toself\",\"name\":\"cluster929\",\"r\":[1000.0,0.0],\"theta\":[\"ending_balance\",\"credit_balance\"],\"type\":\"scatterpolar\"},{\"fill\":\"toself\",\"name\":\"cluster930\",\"r\":[272.05,0.0],\"theta\":[\"ending_balance\",\"credit_balance\"],\"type\":\"scatterpolar\"},{\"fill\":\"toself\",\"name\":\"cluster931\",\"r\":[125.43,-2780.0],\"theta\":[\"ending_balance\",\"credit_balance\"],\"type\":\"scatterpolar\"},{\"fill\":\"toself\",\"name\":\"cluster932\",\"r\":[20.0,-2780.0],\"theta\":[\"ending_balance\",\"credit_balance\"],\"type\":\"scatterpolar\"},{\"fill\":\"toself\",\"name\":\"cluster933\",\"r\":[373.65,-2780.0],\"theta\":[\"ending_balance\",\"credit_balance\"],\"type\":\"scatterpolar\"},{\"fill\":\"toself\",\"name\":\"cluster934\",\"r\":[11.38,-3000.0],\"theta\":[\"ending_balance\",\"credit_balance\"],\"type\":\"scatterpolar\"},{\"fill\":\"toself\",\"name\":\"cluster935\",\"r\":[0.0,-3000.0],\"theta\":[\"ending_balance\",\"credit_balance\"],\"type\":\"scatterpolar\"},{\"fill\":\"toself\",\"name\":\"cluster936\",\"r\":[596.47,-3000.0],\"theta\":[\"ending_balance\",\"credit_balance\"],\"type\":\"scatterpolar\"},{\"fill\":\"toself\",\"name\":\"cluster937\",\"r\":[746.6,-253.39999999999998],\"theta\":[\"ending_balance\",\"credit_balance\"],\"type\":\"scatterpolar\"},{\"fill\":\"toself\",\"name\":\"cluster938\",\"r\":[149.17,-253.39999999999998],\"theta\":[\"ending_balance\",\"credit_balance\"],\"type\":\"scatterpolar\"},{\"fill\":\"toself\",\"name\":\"cluster939\",\"r\":[343.51,-2989.9],\"theta\":[\"ending_balance\",\"credit_balance\"],\"type\":\"scatterpolar\"},{\"fill\":\"toself\",\"name\":\"cluster940\",\"r\":[310.1,-2989.9],\"theta\":[\"ending_balance\",\"credit_balance\"],\"type\":\"scatterpolar\"},{\"fill\":\"toself\",\"name\":\"cluster941\",\"r\":[2275.24,-2524.76],\"theta\":[\"ending_balance\",\"credit_balance\"],\"type\":\"scatterpolar\"},{\"fill\":\"toself\",\"name\":\"cluster942\",\"r\":[1209.67,-2524.76],\"theta\":[\"ending_balance\",\"credit_balance\"],\"type\":\"scatterpolar\"},{\"fill\":\"toself\",\"name\":\"cluster943\",\"r\":[1083.14,-6746.73],\"theta\":[\"ending_balance\",\"credit_balance\"],\"type\":\"scatterpolar\"},{\"fill\":\"toself\",\"name\":\"cluster944\",\"r\":[1953.27,-6746.73],\"theta\":[\"ending_balance\",\"credit_balance\"],\"type\":\"scatterpolar\"},{\"fill\":\"toself\",\"name\":\"cluster945\",\"r\":[24.41,0.0],\"theta\":[\"ending_balance\",\"credit_balance\"],\"type\":\"scatterpolar\"},{\"fill\":\"toself\",\"name\":\"cluster946\",\"r\":[1200.0,0.0],\"theta\":[\"ending_balance\",\"credit_balance\"],\"type\":\"scatterpolar\"},{\"fill\":\"toself\",\"name\":\"cluster947\",\"r\":[127.75,-2037.38],\"theta\":[\"ending_balance\",\"credit_balance\"],\"type\":\"scatterpolar\"},{\"fill\":\"toself\",\"name\":\"cluster948\",\"r\":[962.62,-2037.38],\"theta\":[\"ending_balance\",\"credit_balance\"],\"type\":\"scatterpolar\"},{\"fill\":\"toself\",\"name\":\"cluster949\",\"r\":[14.7,0.0],\"theta\":[\"ending_balance\",\"credit_balance\"],\"type\":\"scatterpolar\"},{\"fill\":\"toself\",\"name\":\"cluster950\",\"r\":[3000.0,0.0],\"theta\":[\"ending_balance\",\"credit_balance\"],\"type\":\"scatterpolar\"},{\"fill\":\"toself\",\"name\":\"cluster951\",\"r\":[389.24,0.0],\"theta\":[\"ending_balance\",\"credit_balance\"],\"type\":\"scatterpolar\"},{\"fill\":\"toself\",\"name\":\"cluster952\",\"r\":[14.45,0.0],\"theta\":[\"ending_balance\",\"credit_balance\"],\"type\":\"scatterpolar\"},{\"fill\":\"toself\",\"name\":\"cluster953\",\"r\":[1600.0,0.0],\"theta\":[\"ending_balance\",\"credit_balance\"],\"type\":\"scatterpolar\"},{\"fill\":\"toself\",\"name\":\"cluster954\",\"r\":[57.96,0.0],\"theta\":[\"ending_balance\",\"credit_balance\"],\"type\":\"scatterpolar\"},{\"fill\":\"toself\",\"name\":\"cluster955\",\"r\":[68.95,0.0],\"theta\":[\"ending_balance\",\"credit_balance\"],\"type\":\"scatterpolar\"},{\"fill\":\"toself\",\"name\":\"cluster956\",\"r\":[1000.0,0.0],\"theta\":[\"ending_balance\",\"credit_balance\"],\"type\":\"scatterpolar\"},{\"fill\":\"toself\",\"name\":\"cluster957\",\"r\":[253.92,0.0],\"theta\":[\"ending_balance\",\"credit_balance\"],\"type\":\"scatterpolar\"},{\"fill\":\"toself\",\"name\":\"cluster958\",\"r\":[312.45,-1663.6],\"theta\":[\"ending_balance\",\"credit_balance\"],\"type\":\"scatterpolar\"},{\"fill\":\"toself\",\"name\":\"cluster959\",\"r\":[1336.4,-1663.6],\"theta\":[\"ending_balance\",\"credit_balance\"],\"type\":\"scatterpolar\"},{\"fill\":\"toself\",\"name\":\"cluster960\",\"r\":[782.26,-1663.6],\"theta\":[\"ending_balance\",\"credit_balance\"],\"type\":\"scatterpolar\"},{\"fill\":\"toself\",\"name\":\"cluster961\",\"r\":[403.75,0.0],\"theta\":[\"ending_balance\",\"credit_balance\"],\"type\":\"scatterpolar\"},{\"fill\":\"toself\",\"name\":\"cluster962\",\"r\":[1000.0,0.0],\"theta\":[\"ending_balance\",\"credit_balance\"],\"type\":\"scatterpolar\"},{\"fill\":\"toself\",\"name\":\"cluster963\",\"r\":[175.42,-701.5799999999999],\"theta\":[\"ending_balance\",\"credit_balance\"],\"type\":\"scatterpolar\"},{\"fill\":\"toself\",\"name\":\"cluster964\",\"r\":[298.42,-701.5799999999999],\"theta\":[\"ending_balance\",\"credit_balance\"],\"type\":\"scatterpolar\"},{\"fill\":\"toself\",\"name\":\"cluster965\",\"r\":[1083.77,-701.5799999999999],\"theta\":[\"ending_balance\",\"credit_balance\"],\"type\":\"scatterpolar\"},{\"fill\":\"toself\",\"name\":\"cluster966\",\"r\":[587.99,-8291.8],\"theta\":[\"ending_balance\",\"credit_balance\"],\"type\":\"scatterpolar\"},{\"fill\":\"toself\",\"name\":\"cluster967\",\"r\":[708.2,-8291.8],\"theta\":[\"ending_balance\",\"credit_balance\"],\"type\":\"scatterpolar\"},{\"fill\":\"toself\",\"name\":\"cluster968\",\"r\":[592.84,-8291.8],\"theta\":[\"ending_balance\",\"credit_balance\"],\"type\":\"scatterpolar\"},{\"fill\":\"toself\",\"name\":\"cluster969\",\"r\":[165.23,-2796.64],\"theta\":[\"ending_balance\",\"credit_balance\"],\"type\":\"scatterpolar\"},{\"fill\":\"toself\",\"name\":\"cluster970\",\"r\":[903.36,-2796.64],\"theta\":[\"ending_balance\",\"credit_balance\"],\"type\":\"scatterpolar\"},{\"fill\":\"toself\",\"name\":\"cluster971\",\"r\":[366.99,-2066.7799999999997],\"theta\":[\"ending_balance\",\"credit_balance\"],\"type\":\"scatterpolar\"},{\"fill\":\"toself\",\"name\":\"cluster972\",\"r\":[933.22,-2066.7799999999997],\"theta\":[\"ending_balance\",\"credit_balance\"],\"type\":\"scatterpolar\"},{\"fill\":\"toself\",\"name\":\"cluster973\",\"r\":[195.07,-2066.7799999999997],\"theta\":[\"ending_balance\",\"credit_balance\"],\"type\":\"scatterpolar\"},{\"fill\":\"toself\",\"name\":\"cluster974\",\"r\":[114.94,-862.6],\"theta\":[\"ending_balance\",\"credit_balance\"],\"type\":\"scatterpolar\"},{\"fill\":\"toself\",\"name\":\"cluster975\",\"r\":[137.4,-862.6],\"theta\":[\"ending_balance\",\"credit_balance\"],\"type\":\"scatterpolar\"},{\"fill\":\"toself\",\"name\":\"cluster976\",\"r\":[1193.26,-862.6],\"theta\":[\"ending_balance\",\"credit_balance\"],\"type\":\"scatterpolar\"},{\"fill\":\"toself\",\"name\":\"cluster977\",\"r\":[145.82,-967.67],\"theta\":[\"ending_balance\",\"credit_balance\"],\"type\":\"scatterpolar\"},{\"fill\":\"toself\",\"name\":\"cluster978\",\"r\":[32.33,-967.67],\"theta\":[\"ending_balance\",\"credit_balance\"],\"type\":\"scatterpolar\"},{\"fill\":\"toself\",\"name\":\"cluster979\",\"r\":[581.29,-967.67],\"theta\":[\"ending_balance\",\"credit_balance\"],\"type\":\"scatterpolar\"},{\"fill\":\"toself\",\"name\":\"cluster980\",\"r\":[305.79,-694.21],\"theta\":[\"ending_balance\",\"credit_balance\"],\"type\":\"scatterpolar\"},{\"fill\":\"toself\",\"name\":\"cluster981\",\"r\":[124.01,-694.21],\"theta\":[\"ending_balance\",\"credit_balance\"],\"type\":\"scatterpolar\"},{\"fill\":\"toself\",\"name\":\"cluster982\",\"r\":[67.3,-6329.4400000000005],\"theta\":[\"ending_balance\",\"credit_balance\"],\"type\":\"scatterpolar\"},{\"fill\":\"toself\",\"name\":\"cluster983\",\"r\":[770.56,-6329.4400000000005],\"theta\":[\"ending_balance\",\"credit_balance\"],\"type\":\"scatterpolar\"},{\"fill\":\"toself\",\"name\":\"cluster984\",\"r\":[86.13,0.0],\"theta\":[\"ending_balance\",\"credit_balance\"],\"type\":\"scatterpolar\"},{\"fill\":\"toself\",\"name\":\"cluster985\",\"r\":[1000.0,0.0],\"theta\":[\"ending_balance\",\"credit_balance\"],\"type\":\"scatterpolar\"},{\"fill\":\"toself\",\"name\":\"cluster986\",\"r\":[39.22,0.0],\"theta\":[\"ending_balance\",\"credit_balance\"],\"type\":\"scatterpolar\"},{\"fill\":\"toself\",\"name\":\"cluster987\",\"r\":[1000.0,0.0],\"theta\":[\"ending_balance\",\"credit_balance\"],\"type\":\"scatterpolar\"},{\"fill\":\"toself\",\"name\":\"cluster988\",\"r\":[0.0,-2000.0],\"theta\":[\"ending_balance\",\"credit_balance\"],\"type\":\"scatterpolar\"},{\"fill\":\"toself\",\"name\":\"cluster989\",\"r\":[533.18,-3764.71],\"theta\":[\"ending_balance\",\"credit_balance\"],\"type\":\"scatterpolar\"},{\"fill\":\"toself\",\"name\":\"cluster990\",\"r\":[735.29,-3764.71],\"theta\":[\"ending_balance\",\"credit_balance\"],\"type\":\"scatterpolar\"},{\"fill\":\"toself\",\"name\":\"cluster991\",\"r\":[1179.4,-962.12],\"theta\":[\"ending_balance\",\"credit_balance\"],\"type\":\"scatterpolar\"},{\"fill\":\"toself\",\"name\":\"cluster992\",\"r\":[37.88,-962.12],\"theta\":[\"ending_balance\",\"credit_balance\"],\"type\":\"scatterpolar\"},{\"fill\":\"toself\",\"name\":\"cluster993\",\"r\":[120.25,-962.12],\"theta\":[\"ending_balance\",\"credit_balance\"],\"type\":\"scatterpolar\"},{\"fill\":\"toself\",\"name\":\"cluster994\",\"r\":[759.22,-8000.0],\"theta\":[\"ending_balance\",\"credit_balance\"],\"type\":\"scatterpolar\"},{\"fill\":\"toself\",\"name\":\"cluster995\",\"r\":[0.0,-8000.0],\"theta\":[\"ending_balance\",\"credit_balance\"],\"type\":\"scatterpolar\"},{\"fill\":\"toself\",\"name\":\"cluster996\",\"r\":[1133.1,-8000.0],\"theta\":[\"ending_balance\",\"credit_balance\"],\"type\":\"scatterpolar\"},{\"fill\":\"toself\",\"name\":\"cluster997\",\"r\":[473.45,-2217.23],\"theta\":[\"ending_balance\",\"credit_balance\"],\"type\":\"scatterpolar\"},{\"fill\":\"toself\",\"name\":\"cluster998\",\"r\":[782.77,-2217.23],\"theta\":[\"ending_balance\",\"credit_balance\"],\"type\":\"scatterpolar\"},{\"fill\":\"toself\",\"name\":\"cluster999\",\"r\":[232.76,-2217.23],\"theta\":[\"ending_balance\",\"credit_balance\"],\"type\":\"scatterpolar\"},{\"fill\":\"toself\",\"name\":\"cluster1000\",\"r\":[8600.0,0.0],\"theta\":[\"ending_balance\",\"credit_balance\"],\"type\":\"scatterpolar\"},{\"fill\":\"toself\",\"name\":\"cluster1001\",\"r\":[6273.27,0.0],\"theta\":[\"ending_balance\",\"credit_balance\"],\"type\":\"scatterpolar\"},{\"fill\":\"toself\",\"name\":\"cluster1002\",\"r\":[1606.69,0.0],\"theta\":[\"ending_balance\",\"credit_balance\"],\"type\":\"scatterpolar\"},{\"fill\":\"toself\",\"name\":\"cluster1003\",\"r\":[1000.0,0.0],\"theta\":[\"ending_balance\",\"credit_balance\"],\"type\":\"scatterpolar\"},{\"fill\":\"toself\",\"name\":\"cluster1004\",\"r\":[289.89,0.0],\"theta\":[\"ending_balance\",\"credit_balance\"],\"type\":\"scatterpolar\"},{\"fill\":\"toself\",\"name\":\"cluster1005\",\"r\":[361.31,-3466.13],\"theta\":[\"ending_balance\",\"credit_balance\"],\"type\":\"scatterpolar\"},{\"fill\":\"toself\",\"name\":\"cluster1006\",\"r\":[133.87,-3466.13],\"theta\":[\"ending_balance\",\"credit_balance\"],\"type\":\"scatterpolar\"},{\"fill\":\"toself\",\"name\":\"cluster1007\",\"r\":[0.0,-1300.0],\"theta\":[\"ending_balance\",\"credit_balance\"],\"type\":\"scatterpolar\"},{\"fill\":\"toself\",\"name\":\"cluster1008\",\"r\":[4.62,-564.81],\"theta\":[\"ending_balance\",\"credit_balance\"],\"type\":\"scatterpolar\"},{\"fill\":\"toself\",\"name\":\"cluster1009\",\"r\":[835.19,-564.81],\"theta\":[\"ending_balance\",\"credit_balance\"],\"type\":\"scatterpolar\"},{\"fill\":\"toself\",\"name\":\"cluster1010\",\"r\":[79.52,-564.81],\"theta\":[\"ending_balance\",\"credit_balance\"],\"type\":\"scatterpolar\"},{\"fill\":\"toself\",\"name\":\"cluster1011\",\"r\":[669.27,-461.07000000000005],\"theta\":[\"ending_balance\",\"credit_balance\"],\"type\":\"scatterpolar\"},{\"fill\":\"toself\",\"name\":\"cluster1012\",\"r\":[538.93,-461.07000000000005],\"theta\":[\"ending_balance\",\"credit_balance\"],\"type\":\"scatterpolar\"},{\"fill\":\"toself\",\"name\":\"cluster1013\",\"r\":[1308.55,-461.07000000000005],\"theta\":[\"ending_balance\",\"credit_balance\"],\"type\":\"scatterpolar\"},{\"fill\":\"toself\",\"name\":\"cluster1014\",\"r\":[446.35,-1139.33],\"theta\":[\"ending_balance\",\"credit_balance\"],\"type\":\"scatterpolar\"},{\"fill\":\"toself\",\"name\":\"cluster1015\",\"r\":[1860.67,-1139.33],\"theta\":[\"ending_balance\",\"credit_balance\"],\"type\":\"scatterpolar\"},{\"fill\":\"toself\",\"name\":\"cluster1016\",\"r\":[740.57,-1139.33],\"theta\":[\"ending_balance\",\"credit_balance\"],\"type\":\"scatterpolar\"},{\"fill\":\"toself\",\"name\":\"cluster1017\",\"r\":[3342.38,-2411.85],\"theta\":[\"ending_balance\",\"credit_balance\"],\"type\":\"scatterpolar\"},{\"fill\":\"toself\",\"name\":\"cluster1018\",\"r\":[588.15,-2411.85],\"theta\":[\"ending_balance\",\"credit_balance\"],\"type\":\"scatterpolar\"},{\"fill\":\"toself\",\"name\":\"cluster1019\",\"r\":[118.27,-487.27],\"theta\":[\"ending_balance\",\"credit_balance\"],\"type\":\"scatterpolar\"},{\"fill\":\"toself\",\"name\":\"cluster1020\",\"r\":[512.73,-487.27],\"theta\":[\"ending_balance\",\"credit_balance\"],\"type\":\"scatterpolar\"},{\"fill\":\"toself\",\"name\":\"cluster1021\",\"r\":[310.32,-487.27],\"theta\":[\"ending_balance\",\"credit_balance\"],\"type\":\"scatterpolar\"},{\"fill\":\"toself\",\"name\":\"cluster1022\",\"r\":[1.98,-5.350000000000023],\"theta\":[\"ending_balance\",\"credit_balance\"],\"type\":\"scatterpolar\"},{\"fill\":\"toself\",\"name\":\"cluster1023\",\"r\":[994.65,-5.350000000000023],\"theta\":[\"ending_balance\",\"credit_balance\"],\"type\":\"scatterpolar\"},{\"fill\":\"toself\",\"name\":\"cluster1024\",\"r\":[142.87,0.0],\"theta\":[\"ending_balance\",\"credit_balance\"],\"type\":\"scatterpolar\"},{\"fill\":\"toself\",\"name\":\"cluster1025\",\"r\":[1000.0,0.0],\"theta\":[\"ending_balance\",\"credit_balance\"],\"type\":\"scatterpolar\"},{\"fill\":\"toself\",\"name\":\"cluster1026\",\"r\":[270.7,0.0],\"theta\":[\"ending_balance\",\"credit_balance\"],\"type\":\"scatterpolar\"},{\"fill\":\"toself\",\"name\":\"cluster1027\",\"r\":[2516.2,-466.5899999999999],\"theta\":[\"ending_balance\",\"credit_balance\"],\"type\":\"scatterpolar\"},{\"fill\":\"toself\",\"name\":\"cluster1028\",\"r\":[2033.41,-466.5899999999999],\"theta\":[\"ending_balance\",\"credit_balance\"],\"type\":\"scatterpolar\"},{\"fill\":\"toself\",\"name\":\"cluster1029\",\"r\":[2510.16,-466.5899999999999],\"theta\":[\"ending_balance\",\"credit_balance\"],\"type\":\"scatterpolar\"},{\"fill\":\"toself\",\"name\":\"cluster1030\",\"r\":[554.35,-586.49],\"theta\":[\"ending_balance\",\"credit_balance\"],\"type\":\"scatterpolar\"},{\"fill\":\"toself\",\"name\":\"cluster1031\",\"r\":[813.51,-586.49],\"theta\":[\"ending_balance\",\"credit_balance\"],\"type\":\"scatterpolar\"},{\"fill\":\"toself\",\"name\":\"cluster1032\",\"r\":[5500.0,0.0],\"theta\":[\"ending_balance\",\"credit_balance\"],\"type\":\"scatterpolar\"},{\"fill\":\"toself\",\"name\":\"cluster1033\",\"r\":[927.28,0.0],\"theta\":[\"ending_balance\",\"credit_balance\"],\"type\":\"scatterpolar\"},{\"fill\":\"toself\",\"name\":\"cluster1034\",\"r\":[86.86,-2480.0],\"theta\":[\"ending_balance\",\"credit_balance\"],\"type\":\"scatterpolar\"},{\"fill\":\"toself\",\"name\":\"cluster1035\",\"r\":[20.0,-2480.0],\"theta\":[\"ending_balance\",\"credit_balance\"],\"type\":\"scatterpolar\"},{\"fill\":\"toself\",\"name\":\"cluster1036\",\"r\":[1187.97,-2480.0],\"theta\":[\"ending_balance\",\"credit_balance\"],\"type\":\"scatterpolar\"},{\"fill\":\"toself\",\"name\":\"cluster1037\",\"r\":[39.24,-932.1800000000001],\"theta\":[\"ending_balance\",\"credit_balance\"],\"type\":\"scatterpolar\"},{\"fill\":\"toself\",\"name\":\"cluster1038\",\"r\":[67.82,-932.1800000000001],\"theta\":[\"ending_balance\",\"credit_balance\"],\"type\":\"scatterpolar\"},{\"fill\":\"toself\",\"name\":\"cluster1039\",\"r\":[4.69,-2166.48],\"theta\":[\"ending_balance\",\"credit_balance\"],\"type\":\"scatterpolar\"},{\"fill\":\"toself\",\"name\":\"cluster1040\",\"r\":[33.52,-2166.48],\"theta\":[\"ending_balance\",\"credit_balance\"],\"type\":\"scatterpolar\"},{\"fill\":\"toself\",\"name\":\"cluster1041\",\"r\":[656.39,0.0],\"theta\":[\"ending_balance\",\"credit_balance\"],\"type\":\"scatterpolar\"},{\"fill\":\"toself\",\"name\":\"cluster1042\",\"r\":[1000.0,0.0],\"theta\":[\"ending_balance\",\"credit_balance\"],\"type\":\"scatterpolar\"},{\"fill\":\"toself\",\"name\":\"cluster1043\",\"r\":[994.79,-1000.0],\"theta\":[\"ending_balance\",\"credit_balance\"],\"type\":\"scatterpolar\"},{\"fill\":\"toself\",\"name\":\"cluster1044\",\"r\":[0.0,-1000.0],\"theta\":[\"ending_balance\",\"credit_balance\"],\"type\":\"scatterpolar\"},{\"fill\":\"toself\",\"name\":\"cluster1045\",\"r\":[711.32,-2288.68],\"theta\":[\"ending_balance\",\"credit_balance\"],\"type\":\"scatterpolar\"},{\"fill\":\"toself\",\"name\":\"cluster1046\",\"r\":[680.94,-2288.68],\"theta\":[\"ending_balance\",\"credit_balance\"],\"type\":\"scatterpolar\"},{\"fill\":\"toself\",\"name\":\"cluster1047\",\"r\":[92.92,0.0],\"theta\":[\"ending_balance\",\"credit_balance\"],\"type\":\"scatterpolar\"},{\"fill\":\"toself\",\"name\":\"cluster1048\",\"r\":[4400.0,0.0],\"theta\":[\"ending_balance\",\"credit_balance\"],\"type\":\"scatterpolar\"},{\"fill\":\"toself\",\"name\":\"cluster1049\",\"r\":[7.84,0.0],\"theta\":[\"ending_balance\",\"credit_balance\"],\"type\":\"scatterpolar\"},{\"fill\":\"toself\",\"name\":\"cluster1050\",\"r\":[1000.0,0.0],\"theta\":[\"ending_balance\",\"credit_balance\"],\"type\":\"scatterpolar\"},{\"fill\":\"toself\",\"name\":\"cluster1051\",\"r\":[611.94,0.0],\"theta\":[\"ending_balance\",\"credit_balance\"],\"type\":\"scatterpolar\"},{\"fill\":\"toself\",\"name\":\"cluster1052\",\"r\":[4400.0,0.0],\"theta\":[\"ending_balance\",\"credit_balance\"],\"type\":\"scatterpolar\"},{\"fill\":\"toself\",\"name\":\"cluster1053\",\"r\":[377.3,-2300.0],\"theta\":[\"ending_balance\",\"credit_balance\"],\"type\":\"scatterpolar\"},{\"fill\":\"toself\",\"name\":\"cluster1054\",\"r\":[0.0,-2300.0],\"theta\":[\"ending_balance\",\"credit_balance\"],\"type\":\"scatterpolar\"},{\"fill\":\"toself\",\"name\":\"cluster1055\",\"r\":[286.69,-713.31],\"theta\":[\"ending_balance\",\"credit_balance\"],\"type\":\"scatterpolar\"},{\"fill\":\"toself\",\"name\":\"cluster1056\",\"r\":[122.54,-713.31],\"theta\":[\"ending_balance\",\"credit_balance\"],\"type\":\"scatterpolar\"},{\"fill\":\"toself\",\"name\":\"cluster1057\",\"r\":[271.08,-41.809999999999945],\"theta\":[\"ending_balance\",\"credit_balance\"],\"type\":\"scatterpolar\"},{\"fill\":\"toself\",\"name\":\"cluster1058\",\"r\":[1358.19,-41.809999999999945],\"theta\":[\"ending_balance\",\"credit_balance\"],\"type\":\"scatterpolar\"},{\"fill\":\"toself\",\"name\":\"cluster1059\",\"r\":[941.16,-41.809999999999945],\"theta\":[\"ending_balance\",\"credit_balance\"],\"type\":\"scatterpolar\"},{\"fill\":\"toself\",\"name\":\"cluster1060\",\"r\":[1000.0,0.0],\"theta\":[\"ending_balance\",\"credit_balance\"],\"type\":\"scatterpolar\"},{\"fill\":\"toself\",\"name\":\"cluster1061\",\"r\":[2226.62,0.0],\"theta\":[\"ending_balance\",\"credit_balance\"],\"type\":\"scatterpolar\"},{\"fill\":\"toself\",\"name\":\"cluster1062\",\"r\":[8.13,-1400.0],\"theta\":[\"ending_balance\",\"credit_balance\"],\"type\":\"scatterpolar\"},{\"fill\":\"toself\",\"name\":\"cluster1063\",\"r\":[0.0,-1400.0],\"theta\":[\"ending_balance\",\"credit_balance\"],\"type\":\"scatterpolar\"},{\"fill\":\"toself\",\"name\":\"cluster1064\",\"r\":[895.56,-1400.0],\"theta\":[\"ending_balance\",\"credit_balance\"],\"type\":\"scatterpolar\"},{\"fill\":\"toself\",\"name\":\"cluster1065\",\"r\":[5651.4,-3601.94],\"theta\":[\"ending_balance\",\"credit_balance\"],\"type\":\"scatterpolar\"},{\"fill\":\"toself\",\"name\":\"cluster1066\",\"r\":[498.06,-3601.94],\"theta\":[\"ending_balance\",\"credit_balance\"],\"type\":\"scatterpolar\"},{\"fill\":\"toself\",\"name\":\"cluster1067\",\"r\":[1585.57,-3601.94],\"theta\":[\"ending_balance\",\"credit_balance\"],\"type\":\"scatterpolar\"},{\"fill\":\"toself\",\"name\":\"cluster1068\",\"r\":[68.65,0.0],\"theta\":[\"ending_balance\",\"credit_balance\"],\"type\":\"scatterpolar\"},{\"fill\":\"toself\",\"name\":\"cluster1069\",\"r\":[1000.0,0.0],\"theta\":[\"ending_balance\",\"credit_balance\"],\"type\":\"scatterpolar\"},{\"fill\":\"toself\",\"name\":\"cluster1070\",\"r\":[222.18,0.0],\"theta\":[\"ending_balance\",\"credit_balance\"],\"type\":\"scatterpolar\"},{\"fill\":\"toself\",\"name\":\"cluster1071\",\"r\":[13.46,0.0],\"theta\":[\"ending_balance\",\"credit_balance\"],\"type\":\"scatterpolar\"},{\"fill\":\"toself\",\"name\":\"cluster1072\",\"r\":[1000.0,0.0],\"theta\":[\"ending_balance\",\"credit_balance\"],\"type\":\"scatterpolar\"},{\"fill\":\"toself\",\"name\":\"cluster1073\",\"r\":[141.86,0.0],\"theta\":[\"ending_balance\",\"credit_balance\"],\"type\":\"scatterpolar\"},{\"fill\":\"toself\",\"name\":\"cluster1074\",\"r\":[1200.0,0.0],\"theta\":[\"ending_balance\",\"credit_balance\"],\"type\":\"scatterpolar\"},{\"fill\":\"toself\",\"name\":\"cluster1075\",\"r\":[2361.62,0.0],\"theta\":[\"ending_balance\",\"credit_balance\"],\"type\":\"scatterpolar\"},{\"fill\":\"toself\",\"name\":\"cluster1076\",\"r\":[1160.14,-3800.0],\"theta\":[\"ending_balance\",\"credit_balance\"],\"type\":\"scatterpolar\"},{\"fill\":\"toself\",\"name\":\"cluster1077\",\"r\":[0.0,-3800.0],\"theta\":[\"ending_balance\",\"credit_balance\"],\"type\":\"scatterpolar\"},{\"fill\":\"toself\",\"name\":\"cluster1078\",\"r\":[274.83,-3800.0],\"theta\":[\"ending_balance\",\"credit_balance\"],\"type\":\"scatterpolar\"},{\"fill\":\"toself\",\"name\":\"cluster1079\",\"r\":[1961.87,0.0],\"theta\":[\"ending_balance\",\"credit_balance\"],\"type\":\"scatterpolar\"},{\"fill\":\"toself\",\"name\":\"cluster1080\",\"r\":[1400.0,0.0],\"theta\":[\"ending_balance\",\"credit_balance\"],\"type\":\"scatterpolar\"},{\"fill\":\"toself\",\"name\":\"cluster1081\",\"r\":[1763.31,0.0],\"theta\":[\"ending_balance\",\"credit_balance\"],\"type\":\"scatterpolar\"},{\"fill\":\"toself\",\"name\":\"cluster1082\",\"r\":[13.37,-2900.1],\"theta\":[\"ending_balance\",\"credit_balance\"],\"type\":\"scatterpolar\"},{\"fill\":\"toself\",\"name\":\"cluster1083\",\"r\":[99.9,-2900.1],\"theta\":[\"ending_balance\",\"credit_balance\"],\"type\":\"scatterpolar\"},{\"fill\":\"toself\",\"name\":\"cluster1084\",\"r\":[162.53,-2900.1],\"theta\":[\"ending_balance\",\"credit_balance\"],\"type\":\"scatterpolar\"},{\"fill\":\"toself\",\"name\":\"cluster1085\",\"r\":[0.0,-954.77],\"theta\":[\"ending_balance\",\"credit_balance\"],\"type\":\"scatterpolar\"},{\"fill\":\"toself\",\"name\":\"cluster1086\",\"r\":[45.23,-954.77],\"theta\":[\"ending_balance\",\"credit_balance\"],\"type\":\"scatterpolar\"},{\"fill\":\"toself\",\"name\":\"cluster1087\",\"r\":[162.1,-2415.87],\"theta\":[\"ending_balance\",\"credit_balance\"],\"type\":\"scatterpolar\"},{\"fill\":\"toself\",\"name\":\"cluster1088\",\"r\":[584.13,-2415.87],\"theta\":[\"ending_balance\",\"credit_balance\"],\"type\":\"scatterpolar\"},{\"fill\":\"toself\",\"name\":\"cluster1089\",\"r\":[1493.41,-2415.87],\"theta\":[\"ending_balance\",\"credit_balance\"],\"type\":\"scatterpolar\"},{\"fill\":\"toself\",\"name\":\"cluster1090\",\"r\":[329.74,-356.65999999999997],\"theta\":[\"ending_balance\",\"credit_balance\"],\"type\":\"scatterpolar\"},{\"fill\":\"toself\",\"name\":\"cluster1091\",\"r\":[643.34,-356.65999999999997],\"theta\":[\"ending_balance\",\"credit_balance\"],\"type\":\"scatterpolar\"},{\"fill\":\"toself\",\"name\":\"cluster1092\",\"r\":[13185.47,-2268.41],\"theta\":[\"ending_balance\",\"credit_balance\"],\"type\":\"scatterpolar\"},{\"fill\":\"toself\",\"name\":\"cluster1093\",\"r\":[4231.59,-2268.41],\"theta\":[\"ending_balance\",\"credit_balance\"],\"type\":\"scatterpolar\"},{\"fill\":\"toself\",\"name\":\"cluster1094\",\"r\":[30.47,0.0],\"theta\":[\"ending_balance\",\"credit_balance\"],\"type\":\"scatterpolar\"},{\"fill\":\"toself\",\"name\":\"cluster1095\",\"r\":[1000.0,0.0],\"theta\":[\"ending_balance\",\"credit_balance\"],\"type\":\"scatterpolar\"},{\"fill\":\"toself\",\"name\":\"cluster1096\",\"r\":[1724.92,0.0],\"theta\":[\"ending_balance\",\"credit_balance\"],\"type\":\"scatterpolar\"},{\"fill\":\"toself\",\"name\":\"cluster1097\",\"r\":[1600.0,0.0],\"theta\":[\"ending_balance\",\"credit_balance\"],\"type\":\"scatterpolar\"},{\"fill\":\"toself\",\"name\":\"cluster1098\",\"r\":[1909.09,0.0],\"theta\":[\"ending_balance\",\"credit_balance\"],\"type\":\"scatterpolar\"},{\"fill\":\"toself\",\"name\":\"cluster1099\",\"r\":[1700.0,0.0],\"theta\":[\"ending_balance\",\"credit_balance\"],\"type\":\"scatterpolar\"},{\"fill\":\"toself\",\"name\":\"cluster1100\",\"r\":[42.85,0.0],\"theta\":[\"ending_balance\",\"credit_balance\"],\"type\":\"scatterpolar\"},{\"fill\":\"toself\",\"name\":\"cluster1101\",\"r\":[1000.0,0.0],\"theta\":[\"ending_balance\",\"credit_balance\"],\"type\":\"scatterpolar\"},{\"fill\":\"toself\",\"name\":\"cluster1102\",\"r\":[821.42,-178.58000000000004],\"theta\":[\"ending_balance\",\"credit_balance\"],\"type\":\"scatterpolar\"},{\"fill\":\"toself\",\"name\":\"cluster1103\",\"r\":[848.22,0.0],\"theta\":[\"ending_balance\",\"credit_balance\"],\"type\":\"scatterpolar\"},{\"fill\":\"toself\",\"name\":\"cluster1104\",\"r\":[1000.0,0.0],\"theta\":[\"ending_balance\",\"credit_balance\"],\"type\":\"scatterpolar\"},{\"fill\":\"toself\",\"name\":\"cluster1105\",\"r\":[237.69,-3780.0],\"theta\":[\"ending_balance\",\"credit_balance\"],\"type\":\"scatterpolar\"},{\"fill\":\"toself\",\"name\":\"cluster1106\",\"r\":[20.0,-3780.0],\"theta\":[\"ending_balance\",\"credit_balance\"],\"type\":\"scatterpolar\"},{\"fill\":\"toself\",\"name\":\"cluster1107\",\"r\":[0.0,-3000.0],\"theta\":[\"ending_balance\",\"credit_balance\"],\"type\":\"scatterpolar\"},{\"fill\":\"toself\",\"name\":\"cluster1108\",\"r\":[669.16,-773.4300000000001],\"theta\":[\"ending_balance\",\"credit_balance\"],\"type\":\"scatterpolar\"},{\"fill\":\"toself\",\"name\":\"cluster1109\",\"r\":[226.57,-773.4300000000001],\"theta\":[\"ending_balance\",\"credit_balance\"],\"type\":\"scatterpolar\"},{\"fill\":\"toself\",\"name\":\"cluster1110\",\"r\":[9.62,0.0],\"theta\":[\"ending_balance\",\"credit_balance\"],\"type\":\"scatterpolar\"},{\"fill\":\"toself\",\"name\":\"cluster1111\",\"r\":[1200.0,0.0],\"theta\":[\"ending_balance\",\"credit_balance\"],\"type\":\"scatterpolar\"},{\"fill\":\"toself\",\"name\":\"cluster1112\",\"r\":[660.4,-3839.6],\"theta\":[\"ending_balance\",\"credit_balance\"],\"type\":\"scatterpolar\"},{\"fill\":\"toself\",\"name\":\"cluster1113\",\"r\":[1241.78,-3839.6],\"theta\":[\"ending_balance\",\"credit_balance\"],\"type\":\"scatterpolar\"},{\"fill\":\"toself\",\"name\":\"cluster1114\",\"r\":[1218.94,-1781.06],\"theta\":[\"ending_balance\",\"credit_balance\"],\"type\":\"scatterpolar\"},{\"fill\":\"toself\",\"name\":\"cluster1115\",\"r\":[79.24,0.0],\"theta\":[\"ending_balance\",\"credit_balance\"],\"type\":\"scatterpolar\"},{\"fill\":\"toself\",\"name\":\"cluster1116\",\"r\":[3000.0,0.0],\"theta\":[\"ending_balance\",\"credit_balance\"],\"type\":\"scatterpolar\"},{\"fill\":\"toself\",\"name\":\"cluster1117\",\"r\":[93.66,-139.70000000000005],\"theta\":[\"ending_balance\",\"credit_balance\"],\"type\":\"scatterpolar\"},{\"fill\":\"toself\",\"name\":\"cluster1118\",\"r\":[1360.3,-139.70000000000005],\"theta\":[\"ending_balance\",\"credit_balance\"],\"type\":\"scatterpolar\"},{\"fill\":\"toself\",\"name\":\"cluster1119\",\"r\":[582.82,0.0],\"theta\":[\"ending_balance\",\"credit_balance\"],\"type\":\"scatterpolar\"},{\"fill\":\"toself\",\"name\":\"cluster1120\",\"r\":[2000.0,0.0],\"theta\":[\"ending_balance\",\"credit_balance\"],\"type\":\"scatterpolar\"},{\"fill\":\"toself\",\"name\":\"cluster1121\",\"r\":[5359.08,-1240.92],\"theta\":[\"ending_balance\",\"credit_balance\"],\"type\":\"scatterpolar\"},{\"fill\":\"toself\",\"name\":\"cluster1122\",\"r\":[1095.71,-35.32999999999993],\"theta\":[\"ending_balance\",\"credit_balance\"],\"type\":\"scatterpolar\"},{\"fill\":\"toself\",\"name\":\"cluster1123\",\"r\":[2764.67,-35.32999999999993],\"theta\":[\"ending_balance\",\"credit_balance\"],\"type\":\"scatterpolar\"},{\"fill\":\"toself\",\"name\":\"cluster1124\",\"r\":[380.37,0.0],\"theta\":[\"ending_balance\",\"credit_balance\"],\"type\":\"scatterpolar\"},{\"fill\":\"toself\",\"name\":\"cluster1125\",\"r\":[1100.0,0.0],\"theta\":[\"ending_balance\",\"credit_balance\"],\"type\":\"scatterpolar\"},{\"fill\":\"toself\",\"name\":\"cluster1126\",\"r\":[2877.12,-17.949999999999818],\"theta\":[\"ending_balance\",\"credit_balance\"],\"type\":\"scatterpolar\"},{\"fill\":\"toself\",\"name\":\"cluster1127\",\"r\":[3082.05,-17.949999999999818],\"theta\":[\"ending_balance\",\"credit_balance\"],\"type\":\"scatterpolar\"},{\"fill\":\"toself\",\"name\":\"cluster1128\",\"r\":[918.09,-1881.9099999999999],\"theta\":[\"ending_balance\",\"credit_balance\"],\"type\":\"scatterpolar\"},{\"fill\":\"toself\",\"name\":\"cluster1129\",\"r\":[13.37,-2081.34],\"theta\":[\"ending_balance\",\"credit_balance\"],\"type\":\"scatterpolar\"},{\"fill\":\"toself\",\"name\":\"cluster1130\",\"r\":[918.66,-2081.34],\"theta\":[\"ending_balance\",\"credit_balance\"],\"type\":\"scatterpolar\"},{\"fill\":\"toself\",\"name\":\"cluster1131\",\"r\":[58.47,0.0],\"theta\":[\"ending_balance\",\"credit_balance\"],\"type\":\"scatterpolar\"},{\"fill\":\"toself\",\"name\":\"cluster1132\",\"r\":[1500.0,0.0],\"theta\":[\"ending_balance\",\"credit_balance\"],\"type\":\"scatterpolar\"},{\"fill\":\"toself\",\"name\":\"cluster1133\",\"r\":[2744.43,0.0],\"theta\":[\"ending_balance\",\"credit_balance\"],\"type\":\"scatterpolar\"},{\"fill\":\"toself\",\"name\":\"cluster1134\",\"r\":[2500.0,0.0],\"theta\":[\"ending_balance\",\"credit_balance\"],\"type\":\"scatterpolar\"},{\"fill\":\"toself\",\"name\":\"cluster1135\",\"r\":[123.78,0.0],\"theta\":[\"ending_balance\",\"credit_balance\"],\"type\":\"scatterpolar\"},{\"fill\":\"toself\",\"name\":\"cluster1136\",\"r\":[5600.0,0.0],\"theta\":[\"ending_balance\",\"credit_balance\"],\"type\":\"scatterpolar\"},{\"fill\":\"toself\",\"name\":\"cluster1137\",\"r\":[777.0,-223.0],\"theta\":[\"ending_balance\",\"credit_balance\"],\"type\":\"scatterpolar\"},{\"fill\":\"toself\",\"name\":\"cluster1138\",\"r\":[431.33,-1950.0],\"theta\":[\"ending_balance\",\"credit_balance\"],\"type\":\"scatterpolar\"},{\"fill\":\"toself\",\"name\":\"cluster1139\",\"r\":[1050.0,-1950.0],\"theta\":[\"ending_balance\",\"credit_balance\"],\"type\":\"scatterpolar\"},{\"fill\":\"toself\",\"name\":\"cluster1140\",\"r\":[1000.0,0.0],\"theta\":[\"ending_balance\",\"credit_balance\"],\"type\":\"scatterpolar\"},{\"fill\":\"toself\",\"name\":\"cluster1141\",\"r\":[314.35,-892.18],\"theta\":[\"ending_balance\",\"credit_balance\"],\"type\":\"scatterpolar\"},{\"fill\":\"toself\",\"name\":\"cluster1142\",\"r\":[907.82,-892.18],\"theta\":[\"ending_balance\",\"credit_balance\"],\"type\":\"scatterpolar\"},{\"fill\":\"toself\",\"name\":\"cluster1143\",\"r\":[112.99,-2087.01],\"theta\":[\"ending_balance\",\"credit_balance\"],\"type\":\"scatterpolar\"},{\"fill\":\"toself\",\"name\":\"cluster1144\",\"r\":[0.0,-1000.0],\"theta\":[\"ending_balance\",\"credit_balance\"],\"type\":\"scatterpolar\"},{\"fill\":\"toself\",\"name\":\"cluster1145\",\"r\":[952.52,-3647.48],\"theta\":[\"ending_balance\",\"credit_balance\"],\"type\":\"scatterpolar\"},{\"fill\":\"toself\",\"name\":\"cluster1146\",\"r\":[545.57,-454.42999999999995],\"theta\":[\"ending_balance\",\"credit_balance\"],\"type\":\"scatterpolar\"},{\"fill\":\"toself\",\"name\":\"cluster1147\",\"r\":[523.08,-476.91999999999996],\"theta\":[\"ending_balance\",\"credit_balance\"],\"type\":\"scatterpolar\"},{\"fill\":\"toself\",\"name\":\"cluster1148\",\"r\":[457.29,-542.71],\"theta\":[\"ending_balance\",\"credit_balance\"],\"type\":\"scatterpolar\"}],                        {\"polar\":{\"radialaxis\":{\"visible\":true}},\"showlegend\":true,\"template\":{\"data\":{\"histogram2dcontour\":[{\"type\":\"histogram2dcontour\",\"colorbar\":{\"outlinewidth\":0,\"ticks\":\"\"},\"colorscale\":[[0.0,\"#0d0887\"],[0.1111111111111111,\"#46039f\"],[0.2222222222222222,\"#7201a8\"],[0.3333333333333333,\"#9c179e\"],[0.4444444444444444,\"#bd3786\"],[0.5555555555555556,\"#d8576b\"],[0.6666666666666666,\"#ed7953\"],[0.7777777777777778,\"#fb9f3a\"],[0.8888888888888888,\"#fdca26\"],[1.0,\"#f0f921\"]]}],\"choropleth\":[{\"type\":\"choropleth\",\"colorbar\":{\"outlinewidth\":0,\"ticks\":\"\"}}],\"histogram2d\":[{\"type\":\"histogram2d\",\"colorbar\":{\"outlinewidth\":0,\"ticks\":\"\"},\"colorscale\":[[0.0,\"#0d0887\"],[0.1111111111111111,\"#46039f\"],[0.2222222222222222,\"#7201a8\"],[0.3333333333333333,\"#9c179e\"],[0.4444444444444444,\"#bd3786\"],[0.5555555555555556,\"#d8576b\"],[0.6666666666666666,\"#ed7953\"],[0.7777777777777778,\"#fb9f3a\"],[0.8888888888888888,\"#fdca26\"],[1.0,\"#f0f921\"]]}],\"heatmap\":[{\"type\":\"heatmap\",\"colorbar\":{\"outlinewidth\":0,\"ticks\":\"\"},\"colorscale\":[[0.0,\"#0d0887\"],[0.1111111111111111,\"#46039f\"],[0.2222222222222222,\"#7201a8\"],[0.3333333333333333,\"#9c179e\"],[0.4444444444444444,\"#bd3786\"],[0.5555555555555556,\"#d8576b\"],[0.6666666666666666,\"#ed7953\"],[0.7777777777777778,\"#fb9f3a\"],[0.8888888888888888,\"#fdca26\"],[1.0,\"#f0f921\"]]}],\"heatmapgl\":[{\"type\":\"heatmapgl\",\"colorbar\":{\"outlinewidth\":0,\"ticks\":\"\"},\"colorscale\":[[0.0,\"#0d0887\"],[0.1111111111111111,\"#46039f\"],[0.2222222222222222,\"#7201a8\"],[0.3333333333333333,\"#9c179e\"],[0.4444444444444444,\"#bd3786\"],[0.5555555555555556,\"#d8576b\"],[0.6666666666666666,\"#ed7953\"],[0.7777777777777778,\"#fb9f3a\"],[0.8888888888888888,\"#fdca26\"],[1.0,\"#f0f921\"]]}],\"contourcarpet\":[{\"type\":\"contourcarpet\",\"colorbar\":{\"outlinewidth\":0,\"ticks\":\"\"}}],\"contour\":[{\"type\":\"contour\",\"colorbar\":{\"outlinewidth\":0,\"ticks\":\"\"},\"colorscale\":[[0.0,\"#0d0887\"],[0.1111111111111111,\"#46039f\"],[0.2222222222222222,\"#7201a8\"],[0.3333333333333333,\"#9c179e\"],[0.4444444444444444,\"#bd3786\"],[0.5555555555555556,\"#d8576b\"],[0.6666666666666666,\"#ed7953\"],[0.7777777777777778,\"#fb9f3a\"],[0.8888888888888888,\"#fdca26\"],[1.0,\"#f0f921\"]]}],\"surface\":[{\"type\":\"surface\",\"colorbar\":{\"outlinewidth\":0,\"ticks\":\"\"},\"colorscale\":[[0.0,\"#0d0887\"],[0.1111111111111111,\"#46039f\"],[0.2222222222222222,\"#7201a8\"],[0.3333333333333333,\"#9c179e\"],[0.4444444444444444,\"#bd3786\"],[0.5555555555555556,\"#d8576b\"],[0.6666666666666666,\"#ed7953\"],[0.7777777777777778,\"#fb9f3a\"],[0.8888888888888888,\"#fdca26\"],[1.0,\"#f0f921\"]]}],\"mesh3d\":[{\"type\":\"mesh3d\",\"colorbar\":{\"outlinewidth\":0,\"ticks\":\"\"}}],\"scatter\":[{\"fillpattern\":{\"fillmode\":\"overlay\",\"size\":10,\"solidity\":0.2},\"type\":\"scatter\"}],\"parcoords\":[{\"type\":\"parcoords\",\"line\":{\"colorbar\":{\"outlinewidth\":0,\"ticks\":\"\"}}}],\"scatterpolargl\":[{\"type\":\"scatterpolargl\",\"marker\":{\"colorbar\":{\"outlinewidth\":0,\"ticks\":\"\"}}}],\"bar\":[{\"error_x\":{\"color\":\"#2a3f5f\"},\"error_y\":{\"color\":\"#2a3f5f\"},\"marker\":{\"line\":{\"color\":\"#E5ECF6\",\"width\":0.5},\"pattern\":{\"fillmode\":\"overlay\",\"size\":10,\"solidity\":0.2}},\"type\":\"bar\"}],\"scattergeo\":[{\"type\":\"scattergeo\",\"marker\":{\"colorbar\":{\"outlinewidth\":0,\"ticks\":\"\"}}}],\"scatterpolar\":[{\"type\":\"scatterpolar\",\"marker\":{\"colorbar\":{\"outlinewidth\":0,\"ticks\":\"\"}}}],\"histogram\":[{\"marker\":{\"pattern\":{\"fillmode\":\"overlay\",\"size\":10,\"solidity\":0.2}},\"type\":\"histogram\"}],\"scattergl\":[{\"type\":\"scattergl\",\"marker\":{\"colorbar\":{\"outlinewidth\":0,\"ticks\":\"\"}}}],\"scatter3d\":[{\"type\":\"scatter3d\",\"line\":{\"colorbar\":{\"outlinewidth\":0,\"ticks\":\"\"}},\"marker\":{\"colorbar\":{\"outlinewidth\":0,\"ticks\":\"\"}}}],\"scattermapbox\":[{\"type\":\"scattermapbox\",\"marker\":{\"colorbar\":{\"outlinewidth\":0,\"ticks\":\"\"}}}],\"scatterternary\":[{\"type\":\"scatterternary\",\"marker\":{\"colorbar\":{\"outlinewidth\":0,\"ticks\":\"\"}}}],\"scattercarpet\":[{\"type\":\"scattercarpet\",\"marker\":{\"colorbar\":{\"outlinewidth\":0,\"ticks\":\"\"}}}],\"carpet\":[{\"aaxis\":{\"endlinecolor\":\"#2a3f5f\",\"gridcolor\":\"white\",\"linecolor\":\"white\",\"minorgridcolor\":\"white\",\"startlinecolor\":\"#2a3f5f\"},\"baxis\":{\"endlinecolor\":\"#2a3f5f\",\"gridcolor\":\"white\",\"linecolor\":\"white\",\"minorgridcolor\":\"white\",\"startlinecolor\":\"#2a3f5f\"},\"type\":\"carpet\"}],\"table\":[{\"cells\":{\"fill\":{\"color\":\"#EBF0F8\"},\"line\":{\"color\":\"white\"}},\"header\":{\"fill\":{\"color\":\"#C8D4E3\"},\"line\":{\"color\":\"white\"}},\"type\":\"table\"}],\"barpolar\":[{\"marker\":{\"line\":{\"color\":\"#E5ECF6\",\"width\":0.5},\"pattern\":{\"fillmode\":\"overlay\",\"size\":10,\"solidity\":0.2}},\"type\":\"barpolar\"}],\"pie\":[{\"automargin\":true,\"type\":\"pie\"}]},\"layout\":{\"autotypenumbers\":\"strict\",\"colorway\":[\"#636efa\",\"#EF553B\",\"#00cc96\",\"#ab63fa\",\"#FFA15A\",\"#19d3f3\",\"#FF6692\",\"#B6E880\",\"#FF97FF\",\"#FECB52\"],\"font\":{\"color\":\"#2a3f5f\"},\"hovermode\":\"closest\",\"hoverlabel\":{\"align\":\"left\"},\"paper_bgcolor\":\"white\",\"plot_bgcolor\":\"#E5ECF6\",\"polar\":{\"bgcolor\":\"#E5ECF6\",\"angularaxis\":{\"gridcolor\":\"white\",\"linecolor\":\"white\",\"ticks\":\"\"},\"radialaxis\":{\"gridcolor\":\"white\",\"linecolor\":\"white\",\"ticks\":\"\"}},\"ternary\":{\"bgcolor\":\"#E5ECF6\",\"aaxis\":{\"gridcolor\":\"white\",\"linecolor\":\"white\",\"ticks\":\"\"},\"baxis\":{\"gridcolor\":\"white\",\"linecolor\":\"white\",\"ticks\":\"\"},\"caxis\":{\"gridcolor\":\"white\",\"linecolor\":\"white\",\"ticks\":\"\"}},\"coloraxis\":{\"colorbar\":{\"outlinewidth\":0,\"ticks\":\"\"}},\"colorscale\":{\"sequential\":[[0.0,\"#0d0887\"],[0.1111111111111111,\"#46039f\"],[0.2222222222222222,\"#7201a8\"],[0.3333333333333333,\"#9c179e\"],[0.4444444444444444,\"#bd3786\"],[0.5555555555555556,\"#d8576b\"],[0.6666666666666666,\"#ed7953\"],[0.7777777777777778,\"#fb9f3a\"],[0.8888888888888888,\"#fdca26\"],[1.0,\"#f0f921\"]],\"sequentialminus\":[[0.0,\"#0d0887\"],[0.1111111111111111,\"#46039f\"],[0.2222222222222222,\"#7201a8\"],[0.3333333333333333,\"#9c179e\"],[0.4444444444444444,\"#bd3786\"],[0.5555555555555556,\"#d8576b\"],[0.6666666666666666,\"#ed7953\"],[0.7777777777777778,\"#fb9f3a\"],[0.8888888888888888,\"#fdca26\"],[1.0,\"#f0f921\"]],\"diverging\":[[0,\"#8e0152\"],[0.1,\"#c51b7d\"],[0.2,\"#de77ae\"],[0.3,\"#f1b6da\"],[0.4,\"#fde0ef\"],[0.5,\"#f7f7f7\"],[0.6,\"#e6f5d0\"],[0.7,\"#b8e186\"],[0.8,\"#7fbc41\"],[0.9,\"#4d9221\"],[1,\"#276419\"]]},\"xaxis\":{\"gridcolor\":\"white\",\"linecolor\":\"white\",\"ticks\":\"\",\"title\":{\"standoff\":15},\"zerolinecolor\":\"white\",\"automargin\":true,\"zerolinewidth\":2},\"yaxis\":{\"gridcolor\":\"white\",\"linecolor\":\"white\",\"ticks\":\"\",\"title\":{\"standoff\":15},\"zerolinecolor\":\"white\",\"automargin\":true,\"zerolinewidth\":2},\"scene\":{\"xaxis\":{\"backgroundcolor\":\"#E5ECF6\",\"gridcolor\":\"white\",\"linecolor\":\"white\",\"showbackground\":true,\"ticks\":\"\",\"zerolinecolor\":\"white\",\"gridwidth\":2},\"yaxis\":{\"backgroundcolor\":\"#E5ECF6\",\"gridcolor\":\"white\",\"linecolor\":\"white\",\"showbackground\":true,\"ticks\":\"\",\"zerolinecolor\":\"white\",\"gridwidth\":2},\"zaxis\":{\"backgroundcolor\":\"#E5ECF6\",\"gridcolor\":\"white\",\"linecolor\":\"white\",\"showbackground\":true,\"ticks\":\"\",\"zerolinecolor\":\"white\",\"gridwidth\":2}},\"shapedefaults\":{\"line\":{\"color\":\"#2a3f5f\"}},\"annotationdefaults\":{\"arrowcolor\":\"#2a3f5f\",\"arrowhead\":0,\"arrowwidth\":1},\"geo\":{\"bgcolor\":\"white\",\"landcolor\":\"#E5ECF6\",\"subunitcolor\":\"white\",\"showland\":true,\"showlakes\":true,\"lakecolor\":\"white\"},\"title\":{\"x\":0.05},\"mapbox\":{\"style\":\"light\"}}}},                        {\"responsive\": true}                    ).then(function(){\n",
       "                            \n",
       "var gd = document.getElementById('c60739d6-7b9a-4232-a3f3-a77b34edeab6');\n",
       "var x = new MutationObserver(function (mutations, observer) {{\n",
       "        var display = window.getComputedStyle(gd).display;\n",
       "        if (!display || display === 'none') {{\n",
       "            console.log([gd, 'removed!']);\n",
       "            Plotly.purge(gd);\n",
       "            observer.disconnect();\n",
       "        }}\n",
       "}});\n",
       "\n",
       "// Listen for the removal of the full notebook cells\n",
       "var notebookContainer = gd.closest('#notebook-container');\n",
       "if (notebookContainer) {{\n",
       "    x.observe(notebookContainer, {childList: true});\n",
       "}}\n",
       "\n",
       "// Listen for the clearing of the current output cell\n",
       "var outputEl = gd.closest('.output');\n",
       "if (outputEl) {{\n",
       "    x.observe(outputEl, {childList: true});\n",
       "}}\n",
       "\n",
       "                        })                };                });            </script>        </div>"
      ]
     },
     "metadata": {},
     "output_type": "display_data"
    }
   ],
   "source": [
    "plot_radarchart(acct_w_credit)"
   ]
  },
  {
   "cell_type": "code",
   "execution_count": 51,
   "id": "f4d100c5-7ec3-4fac-9006-69516ab7b996",
   "metadata": {},
   "outputs": [
    {
     "data": {
      "text/html": [
       "<div>\n",
       "<style scoped>\n",
       "    .dataframe tbody tr th:only-of-type {\n",
       "        vertical-align: middle;\n",
       "    }\n",
       "\n",
       "    .dataframe tbody tr th {\n",
       "        vertical-align: top;\n",
       "    }\n",
       "\n",
       "    .dataframe thead th {\n",
       "        text-align: right;\n",
       "    }\n",
       "</style>\n",
       "<table border=\"1\" class=\"dataframe\">\n",
       "  <thead>\n",
       "    <tr style=\"text-align: right;\">\n",
       "      <th></th>\n",
       "      <th>acct_nbr</th>\n",
       "      <th>tran_amt</th>\n",
       "    </tr>\n",
       "  </thead>\n",
       "  <tbody>\n",
       "    <tr>\n",
       "      <th>58300</th>\n",
       "      <td>13624802</td>\n",
       "      <td>1534.10</td>\n",
       "    </tr>\n",
       "    <tr>\n",
       "      <th>13412</th>\n",
       "      <td>13624802</td>\n",
       "      <td>-358.06</td>\n",
       "    </tr>\n",
       "    <tr>\n",
       "      <th>23044</th>\n",
       "      <td>13624802</td>\n",
       "      <td>-25.32</td>\n",
       "    </tr>\n",
       "    <tr>\n",
       "      <th>69300</th>\n",
       "      <td>13624802</td>\n",
       "      <td>-23.42</td>\n",
       "    </tr>\n",
       "    <tr>\n",
       "      <th>45824</th>\n",
       "      <td>13624802</td>\n",
       "      <td>-12.66</td>\n",
       "    </tr>\n",
       "  </tbody>\n",
       "</table>\n",
       "</div>"
      ],
      "text/plain": [
       "       acct_nbr  tran_amt\n",
       "58300  13624802   1534.10\n",
       "13412  13624802   -358.06\n",
       "23044  13624802    -25.32\n",
       "69300  13624802    -23.42\n",
       "45824  13624802    -12.66"
      ]
     },
     "execution_count": 51,
     "metadata": {},
     "output_type": "execute_result"
    }
   ],
   "source": [
    "transaction = transaction.drop(['tran_id', 'principal_amt', 'interest_amt', 'tran_time', 'channel', 'new_balance', 'tran_date', 'tran_code'], axis = 1)\n",
    "transaction.head()"
   ]
  },
  {
   "cell_type": "code",
   "execution_count": 52,
   "id": "b3019721-c7bf-49c4-acdc-599cc267556f",
   "metadata": {},
   "outputs": [
    {
     "data": {
      "text/html": [
       "<div>\n",
       "<style scoped>\n",
       "    .dataframe tbody tr th:only-of-type {\n",
       "        vertical-align: middle;\n",
       "    }\n",
       "\n",
       "    .dataframe tbody tr th {\n",
       "        vertical-align: top;\n",
       "    }\n",
       "\n",
       "    .dataframe thead th {\n",
       "        text-align: right;\n",
       "    }\n",
       "</style>\n",
       "<table border=\"1\" class=\"dataframe\">\n",
       "  <thead>\n",
       "    <tr style=\"text-align: right;\">\n",
       "      <th></th>\n",
       "      <th>acct_nbr</th>\n",
       "      <th>tran_amt</th>\n",
       "    </tr>\n",
       "  </thead>\n",
       "  <tbody>\n",
       "    <tr>\n",
       "      <th>58300</th>\n",
       "      <td>13624802</td>\n",
       "      <td>1534.10</td>\n",
       "    </tr>\n",
       "    <tr>\n",
       "      <th>44557</th>\n",
       "      <td>13624802</td>\n",
       "      <td>-0.15</td>\n",
       "    </tr>\n",
       "    <tr>\n",
       "      <th>3508</th>\n",
       "      <td>13624802</td>\n",
       "      <td>0.00</td>\n",
       "    </tr>\n",
       "    <tr>\n",
       "      <th>19208</th>\n",
       "      <td>13624802</td>\n",
       "      <td>1331.26</td>\n",
       "    </tr>\n",
       "    <tr>\n",
       "      <th>73638</th>\n",
       "      <td>13624802</td>\n",
       "      <td>-27.63</td>\n",
       "    </tr>\n",
       "  </tbody>\n",
       "</table>\n",
       "</div>"
      ],
      "text/plain": [
       "       acct_nbr  tran_amt\n",
       "58300  13624802   1534.10\n",
       "44557  13624802     -0.15\n",
       "3508   13624802      0.00\n",
       "19208  13624802   1331.26\n",
       "73638  13624802    -27.63"
      ]
     },
     "execution_count": 52,
     "metadata": {},
     "output_type": "execute_result"
    }
   ],
   "source": [
    "transaction = transaction.sort_values(['acct_nbr'])\n",
    "transaction.head()"
   ]
  },
  {
   "cell_type": "code",
   "execution_count": 54,
   "id": "faa9a1a7-c5e0-4d1d-9c99-bedf4c556370",
   "metadata": {},
   "outputs": [
    {
     "data": {
      "text/html": [
       "<div>\n",
       "<style scoped>\n",
       "    .dataframe tbody tr th:only-of-type {\n",
       "        vertical-align: middle;\n",
       "    }\n",
       "\n",
       "    .dataframe tbody tr th {\n",
       "        vertical-align: top;\n",
       "    }\n",
       "\n",
       "    .dataframe thead th {\n",
       "        text-align: right;\n",
       "    }\n",
       "</style>\n",
       "<table border=\"1\" class=\"dataframe\">\n",
       "  <thead>\n",
       "    <tr style=\"text-align: right;\">\n",
       "      <th></th>\n",
       "      <th></th>\n",
       "    </tr>\n",
       "    <tr>\n",
       "      <th>acct_nbr</th>\n",
       "      <th>tran_amt</th>\n",
       "    </tr>\n",
       "  </thead>\n",
       "  <tbody>\n",
       "    <tr>\n",
       "      <th rowspan=\"5\" valign=\"top\">13624802</th>\n",
       "      <th>-1488.51</th>\n",
       "    </tr>\n",
       "    <tr>\n",
       "      <th>-808.49</th>\n",
       "    </tr>\n",
       "    <tr>\n",
       "      <th>-421.47</th>\n",
       "    </tr>\n",
       "    <tr>\n",
       "      <th>-358.06</th>\n",
       "    </tr>\n",
       "    <tr>\n",
       "      <th>-332.29</th>\n",
       "    </tr>\n",
       "  </tbody>\n",
       "</table>\n",
       "</div>"
      ],
      "text/plain": [
       "Empty DataFrame\n",
       "Columns: []\n",
       "Index: [(13624802, -1488.51), (13624802, -808.49), (13624802, -421.47), (13624802, -358.06), (13624802, -332.29)]"
      ]
     },
     "execution_count": 54,
     "metadata": {},
     "output_type": "execute_result"
    }
   ],
   "source": [
    "transaction1 = transaction.groupby(['acct_nbr', 'tran_amt']).mean()\n",
    "transaction1.head()"
   ]
  },
  {
   "cell_type": "code",
   "execution_count": 78,
   "id": "c167b2f8-c2d6-4714-b2e5-32d4095e555c",
   "metadata": {},
   "outputs": [],
   "source": [
    "# we need to have customer_id column in transcations to merge on customers\n",
    "transaction = transaction.merge(accounts[['acct_nbr','cust_id']], \n",
    "                                        left_on = 'acct_nbr',\n",
    "                                        right_on = 'acct_nbr',\n",
    "                                        how = 'inner')"
   ]
  },
  {
   "cell_type": "code",
   "execution_count": 79,
   "id": "b29f772d-1e04-4e3d-a230-f8c7d5a67e4e",
   "metadata": {},
   "outputs": [
    {
     "data": {
      "text/html": [
       "<div>\n",
       "<style scoped>\n",
       "    .dataframe tbody tr th:only-of-type {\n",
       "        vertical-align: middle;\n",
       "    }\n",
       "\n",
       "    .dataframe tbody tr th {\n",
       "        vertical-align: top;\n",
       "    }\n",
       "\n",
       "    .dataframe thead th {\n",
       "        text-align: right;\n",
       "    }\n",
       "</style>\n",
       "<table border=\"1\" class=\"dataframe\">\n",
       "  <thead>\n",
       "    <tr style=\"text-align: right;\">\n",
       "      <th></th>\n",
       "      <th>tran_id</th>\n",
       "      <th>acct_nbr</th>\n",
       "      <th>tran_amt</th>\n",
       "      <th>principal_amt</th>\n",
       "      <th>interest_amt</th>\n",
       "      <th>new_balance</th>\n",
       "      <th>tran_date</th>\n",
       "      <th>tran_time</th>\n",
       "      <th>channel</th>\n",
       "      <th>tran_code</th>\n",
       "      <th>cust_id</th>\n",
       "    </tr>\n",
       "  </thead>\n",
       "  <tbody>\n",
       "    <tr>\n",
       "      <th>0</th>\n",
       "      <td>27</td>\n",
       "      <td>13625623</td>\n",
       "      <td>0.00</td>\n",
       "      <td>0.00</td>\n",
       "      <td>0.00</td>\n",
       "      <td>3753.34</td>\n",
       "      <td>21.10.1995</td>\n",
       "      <td>121656</td>\n",
       "      <td>A</td>\n",
       "      <td>IQ</td>\n",
       "      <td>1362562</td>\n",
       "    </tr>\n",
       "    <tr>\n",
       "      <th>1</th>\n",
       "      <td>39</td>\n",
       "      <td>13625623</td>\n",
       "      <td>140.63</td>\n",
       "      <td>140.63</td>\n",
       "      <td>0.00</td>\n",
       "      <td>3859.95</td>\n",
       "      <td>27.12.1995</td>\n",
       "      <td>170033</td>\n",
       "      <td>B</td>\n",
       "      <td>DP</td>\n",
       "      <td>1362562</td>\n",
       "    </tr>\n",
       "    <tr>\n",
       "      <th>2</th>\n",
       "      <td>2</td>\n",
       "      <td>13625623</td>\n",
       "      <td>0.49</td>\n",
       "      <td>0.00</td>\n",
       "      <td>0.49</td>\n",
       "      <td>392.94</td>\n",
       "      <td>28.2.1995</td>\n",
       "      <td>235959</td>\n",
       "      <td></td>\n",
       "      <td>IN</td>\n",
       "      <td>1362562</td>\n",
       "    </tr>\n",
       "    <tr>\n",
       "      <th>3</th>\n",
       "      <td>14</td>\n",
       "      <td>13625623</td>\n",
       "      <td>-120.00</td>\n",
       "      <td>-120.00</td>\n",
       "      <td>0.00</td>\n",
       "      <td>2253.68</td>\n",
       "      <td>6.8.1995</td>\n",
       "      <td>204727</td>\n",
       "      <td>A</td>\n",
       "      <td>WD</td>\n",
       "      <td>1362562</td>\n",
       "    </tr>\n",
       "    <tr>\n",
       "      <th>4</th>\n",
       "      <td>26</td>\n",
       "      <td>13625623</td>\n",
       "      <td>-140.00</td>\n",
       "      <td>-140.00</td>\n",
       "      <td>0.00</td>\n",
       "      <td>3753.34</td>\n",
       "      <td>21.10.1995</td>\n",
       "      <td>121543</td>\n",
       "      <td>A</td>\n",
       "      <td>WD</td>\n",
       "      <td>1362562</td>\n",
       "    </tr>\n",
       "  </tbody>\n",
       "</table>\n",
       "</div>"
      ],
      "text/plain": [
       "   tran_id  acct_nbr  tran_amt  principal_amt  interest_amt  new_balance  \\\n",
       "0       27  13625623      0.00           0.00          0.00      3753.34   \n",
       "1       39  13625623    140.63         140.63          0.00      3859.95   \n",
       "2        2  13625623      0.49           0.00          0.49       392.94   \n",
       "3       14  13625623   -120.00        -120.00          0.00      2253.68   \n",
       "4       26  13625623   -140.00        -140.00          0.00      3753.34   \n",
       "\n",
       "    tran_date  tran_time channel tran_code  cust_id  \n",
       "0  21.10.1995     121656      A       IQ    1362562  \n",
       "1  27.12.1995     170033      B       DP    1362562  \n",
       "2   28.2.1995     235959              IN    1362562  \n",
       "3    6.8.1995     204727      A       WD    1362562  \n",
       "4  21.10.1995     121543      A       WD    1362562  "
      ]
     },
     "execution_count": 79,
     "metadata": {},
     "output_type": "execute_result"
    }
   ],
   "source": [
    "transaction.head()"
   ]
  },
  {
   "cell_type": "code",
   "execution_count": 82,
   "id": "57928a76-8383-4d60-938b-0008ba52f21e",
   "metadata": {},
   "outputs": [],
   "source": [
    "# compute summary stats from transactions\n",
    "df_trans_grouped = transaction.groupby('cust_id').agg(avg_trans_amount = ('tran_amt', 'mean'),\n",
    "                                                          total_trans_amount = ('tran_amt','sum'),\n",
    "                                                          count_trans = ('tran_amt', 'count'))\\\n",
    "                                                      .reset_index()"
   ]
  },
  {
   "cell_type": "code",
   "execution_count": 83,
   "id": "e3e5fd08-cfba-49c4-ad3e-9eb846382621",
   "metadata": {},
   "outputs": [
    {
     "data": {
      "text/html": [
       "<div>\n",
       "<style scoped>\n",
       "    .dataframe tbody tr th:only-of-type {\n",
       "        vertical-align: middle;\n",
       "    }\n",
       "\n",
       "    .dataframe tbody tr th {\n",
       "        vertical-align: top;\n",
       "    }\n",
       "\n",
       "    .dataframe thead th {\n",
       "        text-align: right;\n",
       "    }\n",
       "</style>\n",
       "<table border=\"1\" class=\"dataframe\">\n",
       "  <thead>\n",
       "    <tr style=\"text-align: right;\">\n",
       "      <th></th>\n",
       "      <th>cust_id</th>\n",
       "      <th>avg_trans_amount</th>\n",
       "      <th>total_trans_amount</th>\n",
       "      <th>count_trans</th>\n",
       "    </tr>\n",
       "  </thead>\n",
       "  <tbody>\n",
       "    <tr>\n",
       "      <th>0</th>\n",
       "      <td>1362480</td>\n",
       "      <td>13.923503</td>\n",
       "      <td>2185.99</td>\n",
       "      <td>157</td>\n",
       "    </tr>\n",
       "    <tr>\n",
       "      <th>1</th>\n",
       "      <td>1362484</td>\n",
       "      <td>1.793529</td>\n",
       "      <td>335.39</td>\n",
       "      <td>187</td>\n",
       "    </tr>\n",
       "    <tr>\n",
       "      <th>2</th>\n",
       "      <td>1362485</td>\n",
       "      <td>-5.412398</td>\n",
       "      <td>-925.52</td>\n",
       "      <td>171</td>\n",
       "    </tr>\n",
       "    <tr>\n",
       "      <th>3</th>\n",
       "      <td>1362486</td>\n",
       "      <td>-22.167200</td>\n",
       "      <td>-1108.36</td>\n",
       "      <td>50</td>\n",
       "    </tr>\n",
       "    <tr>\n",
       "      <th>4</th>\n",
       "      <td>1362487</td>\n",
       "      <td>-34.496311</td>\n",
       "      <td>-3553.12</td>\n",
       "      <td>103</td>\n",
       "    </tr>\n",
       "  </tbody>\n",
       "</table>\n",
       "</div>"
      ],
      "text/plain": [
       "   cust_id  avg_trans_amount  total_trans_amount  count_trans\n",
       "0  1362480         13.923503             2185.99          157\n",
       "1  1362484          1.793529              335.39          187\n",
       "2  1362485         -5.412398             -925.52          171\n",
       "3  1362486        -22.167200            -1108.36           50\n",
       "4  1362487        -34.496311            -3553.12          103"
      ]
     },
     "execution_count": 83,
     "metadata": {},
     "output_type": "execute_result"
    }
   ],
   "source": [
    "df_trans_grouped.head()"
   ]
  },
  {
   "cell_type": "code",
   "execution_count": 84,
   "id": "efb76d8a-25a3-4a85-b2ef-8b88244233cf",
   "metadata": {},
   "outputs": [],
   "source": [
    "# merge transactions stats on customers\n",
    "df_bnk_behav = df_bnk_behav.merge(df_trans_grouped, \n",
    "                                  left_on='cust_id', \n",
    "                                  right_on = 'cust_id',\n",
    "                                  how='inner')"
   ]
  },
  {
   "cell_type": "code",
   "execution_count": 85,
   "id": "7fdbbbe0-c534-496d-b380-37bc00790af1",
   "metadata": {},
   "outputs": [],
   "source": [
    "# columns used in transaction segmentation\n",
    "cols_to_use = ['savings_account', 'total_saved', 'credit_account', 'credit_diff',\n",
    "               'credit_limit', 'avg_trans_amount', 'total_trans_amount','count_trans']\n",
    "df_trans_seg = df_bnk_behav[cols_to_use]"
   ]
  },
  {
   "cell_type": "code",
   "execution_count": 86,
   "id": "089f0ccf-c853-4adf-a5fc-f2a6b4aa1e32",
   "metadata": {},
   "outputs": [
    {
     "data": {
      "text/plain": [
       "savings_account        object\n",
       "total_saved           float64\n",
       "credit_account         object\n",
       "credit_diff           float64\n",
       "credit_limit          float64\n",
       "avg_trans_amount      float64\n",
       "total_trans_amount    float64\n",
       "count_trans             int64\n",
       "dtype: object"
      ]
     },
     "execution_count": 86,
     "metadata": {},
     "output_type": "execute_result"
    }
   ],
   "source": [
    "df_trans_seg.dtypes"
   ]
  },
  {
   "cell_type": "code",
   "execution_count": 87,
   "id": "a4c03b3a-5ce1-446f-b5ad-c8986475834b",
   "metadata": {},
   "outputs": [],
   "source": [
    "# create dummy variables\n",
    "df_trans_seg = pd.get_dummies(df_trans_seg, drop_first=True)"
   ]
  },
  {
   "cell_type": "code",
   "execution_count": 88,
   "id": "23ac8a30-36b4-463d-8a59-d9209589a81d",
   "metadata": {},
   "outputs": [],
   "source": [
    "# import MiMaxScaler\n",
    "from sklearn.preprocessing import MinMaxScaler"
   ]
  },
  {
   "cell_type": "code",
   "execution_count": 89,
   "id": "9e8c6c9e-16c9-4e88-a509-6f197faa29a8",
   "metadata": {},
   "outputs": [],
   "source": [
    "# scaling\n",
    "scaler = MinMaxScaler()\n",
    "\n",
    "df_trans_seg_scaled = pd.DataFrame(scaler.fit_transform(df_trans_seg), columns = df_trans_seg.columns)"
   ]
  },
  {
   "cell_type": "code",
   "execution_count": 90,
   "id": "1d763059-f148-49ea-942a-f50918c712bc",
   "metadata": {},
   "outputs": [],
   "source": [
    "# import Kmeans \n",
    "from sklearn.cluster import KMeans\n",
    "\n",
    "# import matplotlib\n",
    "import matplotlib.pyplot as plt"
   ]
  },
  {
   "cell_type": "code",
   "execution_count": 91,
   "id": "c2265c3c-a82d-4774-99d6-97af3f554fa3",
   "metadata": {},
   "outputs": [],
   "source": [
    "# elbow rule\n",
    "def plot_inertia(df):\n",
    "    distortions = []\n",
    "    for i in range(1, 11):\n",
    "        km = KMeans(n_clusters=i,\n",
    "                    n_init=10,\n",
    "                    random_state=0)\n",
    "        km.fit(df)\n",
    "        distortions.append(km.inertia_)\n",
    "\n",
    "    fig, ax = plt.subplots(figsize=(15,8))\n",
    "    ax.plot(range(1,11), distortions, marker='o')\n",
    "    ax.set_xlabel('Number of clusters')\n",
    "    ax.set_ylabel('Distortion')\n",
    "    ax.set_title('Elbow method')\n",
    "    plt.show()"
   ]
  },
  {
   "cell_type": "code",
   "execution_count": 92,
   "id": "c75fd1c1-5e6b-4bcb-8940-ec32c0a340b3",
   "metadata": {},
   "outputs": [
    {
     "data": {
      "image/png": "[encoded data removed]",
      "text/plain": [
       "<Figure size 1080x576 with 1 Axes>"
      ]
     },
     "metadata": {
      "needs_background": "light"
     },
     "output_type": "display_data"
    }
   ],
   "source": [
    "# elbow rule\n",
    "plot_inertia(df_trans_seg_scaled)"
   ]
  },
  {
   "cell_type": "code",
   "execution_count": 93,
   "id": "ac3242e8-b16e-4e76-ac32-491722ab0160",
   "metadata": {},
   "outputs": [],
   "source": [
    "# assign cluster to customers\n",
    "df_trans_seg_scaled['cluster'] = KMeans(n_clusters=3, n_init=10).fit_predict(df_trans_seg_scaled)"
   ]
  },
  {
   "cell_type": "code",
   "execution_count": 94,
   "id": "ea1ebf86-bc9f-4763-a80a-646dfa1268f7",
   "metadata": {},
   "outputs": [
    {
     "data": {
      "text/plain": [
       "1    265\n",
       "2    203\n",
       "0    196\n",
       "Name: cluster, dtype: int64"
      ]
     },
     "execution_count": 94,
     "metadata": {},
     "output_type": "execute_result"
    }
   ],
   "source": [
    "# clusters size\n",
    "df_trans_seg_scaled['cluster'].value_counts()"
   ]
  },
  {
   "cell_type": "code",
   "execution_count": 95,
   "id": "630d8f22-fecb-45a7-a9db-795cd1638e52",
   "metadata": {},
   "outputs": [],
   "source": [
    "# data to radar chart\n",
    "df_trans_radar = df_trans_seg_scaled.groupby('cluster').mean().divide(df_trans_seg_scaled.drop('cluster',axis=1).mean())*100"
   ]
  },
  {
   "cell_type": "code",
   "execution_count": 96,
   "id": "e328708c-e124-4048-86ef-d9a6c724c9dd",
   "metadata": {},
   "outputs": [],
   "source": [
    "# import plotly\n",
    "import plotly.graph_objects as go"
   ]
  },
  {
   "cell_type": "code",
   "execution_count": 97,
   "id": "37dac4b8-2ab7-4c41-b183-f779b5764140",
   "metadata": {},
   "outputs": [],
   "source": [
    "# function that plots radar chart\n",
    "def plot_radarchart(df):\n",
    "    data = []\n",
    "    for i in range(0,len(df)):\n",
    "        data.append(go.Scatterpolar(r = df.iloc[i].values,\n",
    "                                    theta = df.iloc[i].index,\n",
    "                                    name = f'cluster{df.index[i]}',\n",
    "                                    fill = 'toself'))\n",
    "\n",
    "\n",
    "    layout = go.Layout(polar = dict(radialaxis = dict(visible = True)),\n",
    "                       showlegend = True)\n",
    "    fig = go.Figure(data = data, layout = layout)\n",
    "    fig.show()"
   ]
  },
  {
   "cell_type": "code",
   "execution_count": 98,
   "id": "78a9ae4a-2d44-445f-8a2b-e37a7c0252a4",
   "metadata": {},
   "outputs": [
    {
     "data": {
      "application/vnd.plotly.v1+json": {
       "config": {
        "plotlyServerURL": "https://plot.ly"
       },
       "data": [
        {
         "fill": "toself",
         "name": "cluster0",
         "r": [
          101.09937061448981,
          99.55113123054744,
          0,
          98.10021912762271,
          101.09049749980299,
          66.97001834441642,
          99.37414965986393,
          338.7755102040816,
          0
         ],
         "theta": [
          "total_saved",
          "credit_diff",
          "credit_limit",
          "avg_trans_amount",
          "total_trans_amount",
          "count_trans",
          "savings_account_Y ",
          "credit_account_dont_have",
          "credit_account_inactive"
         ],
         "type": "scatterpolar"
        },
        {
         "fill": "toself",
         "name": "cluster1",
         "r": [
          104.69559221006874,
          99.77525275321689,
          145.29230741119164,
          98.8865625457004,
          101.01438399938235,
          121.05673725453245,
          177.06666666666666,
          0,
          116.9308176100629
         ],
         "theta": [
          "total_saved",
          "credit_diff",
          "credit_limit",
          "avg_trans_amount",
          "total_trans_amount",
          "count_trans",
          "savings_account_Y ",
          "credit_account_dont_have",
          "credit_account_inactive"
         ],
         "type": "scatterpolar"
        },
        {
         "fill": "toself",
         "name": "cluster2",
         "r": [
          92.80882474823532,
          100.72677979906517,
          137.4262982070651,
          103.28777328263716,
          97.6229100009965,
          104.40315779331664,
          0,
          0,
          174.44991789819375
         ],
         "theta": [
          "total_saved",
          "credit_diff",
          "credit_limit",
          "avg_trans_amount",
          "total_trans_amount",
          "count_trans",
          "savings_account_Y ",
          "credit_account_dont_have",
          "credit_account_inactive"
         ],
         "type": "scatterpolar"
        }
       ],
       "layout": {
        "polar": {
         "radialaxis": {
          "visible": true
         }
        },
        "showlegend": true,
        "template": {
         "data": {
          "bar": [
           {
            "error_x": {
             "color": "#2a3f5f"
            },
            "error_y": {
             "color": "#2a3f5f"
            },
            "marker": {
             "line": {
              "color": "#E5ECF6",
              "width": 0.5
             },
             "pattern": {
              "fillmode": "overlay",
              "size": 10,
              "solidity": 0.2
             }
            },
            "type": "bar"
           }
          ],
          "barpolar": [
           {
            "marker": {
             "line": {
              "color": "#E5ECF6",
              "width": 0.5
             },
             "pattern": {
              "fillmode": "overlay",
              "size": 10,
              "solidity": 0.2
             }
            },
            "type": "barpolar"
           }
          ],
          "carpet": [
           {
            "aaxis": {
             "endlinecolor": "#2a3f5f",
             "gridcolor": "white",
             "linecolor": "white",
             "minorgridcolor": "white",
             "startlinecolor": "#2a3f5f"
            },
            "baxis": {
             "endlinecolor": "#2a3f5f",
             "gridcolor": "white",
             "linecolor": "white",
             "minorgridcolor": "white",
             "startlinecolor": "#2a3f5f"
            },
            "type": "carpet"
           }
          ],
          "choropleth": [
           {
            "colorbar": {
             "outlinewidth": 0,
             "ticks": ""
            },
            "type": "choropleth"
           }
          ],
          "contour": [
           {
            "colorbar": {
             "outlinewidth": 0,
             "ticks": ""
            },
            "colorscale": [
             [
              0,
              "#0d0887"
             ],
             [
              0.1111111111111111,
              "#46039f"
             ],
             [
              0.2222222222222222,
              "#7201a8"
             ],
             [
              0.3333333333333333,
              "#9c179e"
             ],
             [
              0.4444444444444444,
              "#bd3786"
             ],
             [
              0.5555555555555556,
              "#d8576b"
             ],
             [
              0.6666666666666666,
              "#ed7953"
             ],
             [
              0.7777777777777778,
              "#fb9f3a"
             ],
             [
              0.8888888888888888,
              "#fdca26"
             ],
             [
              1,
              "#f0f921"
             ]
            ],
            "type": "contour"
           }
          ],
          "contourcarpet": [
           {
            "colorbar": {
             "outlinewidth": 0,
             "ticks": ""
            },
            "type": "contourcarpet"
           }
          ],
          "heatmap": [
           {
            "colorbar": {
             "outlinewidth": 0,
             "ticks": ""
            },
            "colorscale": [
             [
              0,
              "#0d0887"
             ],
             [
              0.1111111111111111,
              "#46039f"
             ],
             [
              0.2222222222222222,
              "#7201a8"
             ],
             [
              0.3333333333333333,
              "#9c179e"
             ],
             [
              0.4444444444444444,
              "#bd3786"
             ],
             [
              0.5555555555555556,
              "#d8576b"
             ],
             [
              0.6666666666666666,
              "#ed7953"
             ],
             [
              0.7777777777777778,
              "#fb9f3a"
             ],
             [
              0.8888888888888888,
              "#fdca26"
             ],
             [
              1,
              "#f0f921"
             ]
            ],
            "type": "heatmap"
           }
          ],
          "heatmapgl": [
           {
            "colorbar": {
             "outlinewidth": 0,
             "ticks": ""
            },
            "colorscale": [
             [
              0,
              "#0d0887"
             ],
             [
              0.1111111111111111,
              "#46039f"
             ],
             [
              0.2222222222222222,
              "#7201a8"
             ],
             [
              0.3333333333333333,
              "#9c179e"
             ],
             [
              0.4444444444444444,
              "#bd3786"
             ],
             [
              0.5555555555555556,
              "#d8576b"
             ],
             [
              0.6666666666666666,
              "#ed7953"
             ],
             [
              0.7777777777777778,
              "#fb9f3a"
             ],
             [
              0.8888888888888888,
              "#fdca26"
             ],
             [
              1,
              "#f0f921"
             ]
            ],
            "type": "heatmapgl"
           }
          ],
          "histogram": [
           {
            "marker": {
             "pattern": {
              "fillmode": "overlay",
              "size": 10,
              "solidity": 0.2
             }
            },
            "type": "histogram"
           }
          ],
          "histogram2d": [
           {
            "colorbar": {
             "outlinewidth": 0,
             "ticks": ""
            },
            "colorscale": [
             [
              0,
              "#0d0887"
             ],
             [
              0.1111111111111111,
              "#46039f"
             ],
             [
              0.2222222222222222,
              "#7201a8"
             ],
             [
              0.3333333333333333,
              "#9c179e"
             ],
             [
              0.4444444444444444,
              "#bd3786"
             ],
             [
              0.5555555555555556,
              "#d8576b"
             ],
             [
              0.6666666666666666,
              "#ed7953"
             ],
             [
              0.7777777777777778,
              "#fb9f3a"
             ],
             [
              0.8888888888888888,
              "#fdca26"
             ],
             [
              1,
              "#f0f921"
             ]
            ],
            "type": "histogram2d"
           }
          ],
          "histogram2dcontour": [
           {
            "colorbar": {
             "outlinewidth": 0,
             "ticks": ""
            },
            "colorscale": [
             [
              0,
              "#0d0887"
             ],
             [
              0.1111111111111111,
              "#46039f"
             ],
             [
              0.2222222222222222,
              "#7201a8"
             ],
             [
              0.3333333333333333,
              "#9c179e"
             ],
             [
              0.4444444444444444,
              "#bd3786"
             ],
             [
              0.5555555555555556,
              "#d8576b"
             ],
             [
              0.6666666666666666,
              "#ed7953"
             ],
             [
              0.7777777777777778,
              "#fb9f3a"
             ],
             [
              0.8888888888888888,
              "#fdca26"
             ],
             [
              1,
              "#f0f921"
             ]
            ],
            "type": "histogram2dcontour"
           }
          ],
          "mesh3d": [
           {
            "colorbar": {
             "outlinewidth": 0,
             "ticks": ""
            },
            "type": "mesh3d"
           }
          ],
          "parcoords": [
           {
            "line": {
             "colorbar": {
              "outlinewidth": 0,
              "ticks": ""
             }
            },
            "type": "parcoords"
           }
          ],
          "pie": [
           {
            "automargin": true,
            "type": "pie"
           }
          ],
          "scatter": [
           {
            "fillpattern": {
             "fillmode": "overlay",
             "size": 10,
             "solidity": 0.2
            },
            "type": "scatter"
           }
          ],
          "scatter3d": [
           {
            "line": {
             "colorbar": {
              "outlinewidth": 0,
              "ticks": ""
             }
            },
            "marker": {
             "colorbar": {
              "outlinewidth": 0,
              "ticks": ""
             }
            },
            "type": "scatter3d"
           }
          ],
          "scattercarpet": [
           {
            "marker": {
             "colorbar": {
              "outlinewidth": 0,
              "ticks": ""
             }
            },
            "type": "scattercarpet"
           }
          ],
          "scattergeo": [
           {
            "marker": {
             "colorbar": {
              "outlinewidth": 0,
              "ticks": ""
             }
            },
            "type": "scattergeo"
           }
          ],
          "scattergl": [
           {
            "marker": {
             "colorbar": {
              "outlinewidth": 0,
              "ticks": ""
             }
            },
            "type": "scattergl"
           }
          ],
          "scattermapbox": [
           {
            "marker": {
             "colorbar": {
              "outlinewidth": 0,
              "ticks": ""
             }
            },
            "type": "scattermapbox"
           }
          ],
          "scatterpolar": [
           {
            "marker": {
             "colorbar": {
              "outlinewidth": 0,
              "ticks": ""
             }
            },
            "type": "scatterpolar"
           }
          ],
          "scatterpolargl": [
           {
            "marker": {
             "colorbar": {
              "outlinewidth": 0,
              "ticks": ""
             }
            },
            "type": "scatterpolargl"
           }
          ],
          "scatterternary": [
           {
            "marker": {
             "colorbar": {
              "outlinewidth": 0,
              "ticks": ""
             }
            },
            "type": "scatterternary"
           }
          ],
          "surface": [
           {
            "colorbar": {
             "outlinewidth": 0,
             "ticks": ""
            },
            "colorscale": [
             [
              0,
              "#0d0887"
             ],
             [
              0.1111111111111111,
              "#46039f"
             ],
             [
              0.2222222222222222,
              "#7201a8"
             ],
             [
              0.3333333333333333,
              "#9c179e"
             ],
             [
              0.4444444444444444,
              "#bd3786"
             ],
             [
              0.5555555555555556,
              "#d8576b"
             ],
             [
              0.6666666666666666,
              "#ed7953"
             ],
             [
              0.7777777777777778,
              "#fb9f3a"
             ],
             [
              0.8888888888888888,
              "#fdca26"
             ],
             [
              1,
              "#f0f921"
             ]
            ],
            "type": "surface"
           }
          ],
          "table": [
           {
            "cells": {
             "fill": {
              "color": "#EBF0F8"
             },
             "line": {
              "color": "white"
             }
            },
            "header": {
             "fill": {
              "color": "#C8D4E3"
             },
             "line": {
              "color": "white"
             }
            },
            "type": "table"
           }
          ]
         },
         "layout": {
          "annotationdefaults": {
           "arrowcolor": "#2a3f5f",
           "arrowhead": 0,
           "arrowwidth": 1
          },
          "autotypenumbers": "strict",
          "coloraxis": {
           "colorbar": {
            "outlinewidth": 0,
            "ticks": ""
           }
          },
          "colorscale": {
           "diverging": [
            [
             0,
             "#8e0152"
            ],
            [
             0.1,
             "#c51b7d"
            ],
            [
             0.2,
             "#de77ae"
            ],
            [
             0.3,
             "#f1b6da"
            ],
            [
             0.4,
             "#fde0ef"
            ],
            [
             0.5,
             "#f7f7f7"
            ],
            [
             0.6,
             "#e6f5d0"
            ],
            [
             0.7,
             "#b8e186"
            ],
            [
             0.8,
             "#7fbc41"
            ],
            [
             0.9,
             "#4d9221"
            ],
            [
             1,
             "#276419"
            ]
           ],
           "sequential": [
            [
             0,
             "#0d0887"
            ],
            [
             0.1111111111111111,
             "#46039f"
            ],
            [
             0.2222222222222222,
             "#7201a8"
            ],
            [
             0.3333333333333333,
             "#9c179e"
            ],
            [
             0.4444444444444444,
             "#bd3786"
            ],
            [
             0.5555555555555556,
             "#d8576b"
            ],
            [
             0.6666666666666666,
             "#ed7953"
            ],
            [
             0.7777777777777778,
             "#fb9f3a"
            ],
            [
             0.8888888888888888,
             "#fdca26"
            ],
            [
             1,
             "#f0f921"
            ]
           ],
           "sequentialminus": [
            [
             0,
             "#0d0887"
            ],
            [
             0.1111111111111111,
             "#46039f"
            ],
            [
             0.2222222222222222,
             "#7201a8"
            ],
            [
             0.3333333333333333,
             "#9c179e"
            ],
            [
             0.4444444444444444,
             "#bd3786"
            ],
            [
             0.5555555555555556,
             "#d8576b"
            ],
            [
             0.6666666666666666,
             "#ed7953"
            ],
            [
             0.7777777777777778,
             "#fb9f3a"
            ],
            [
             0.8888888888888888,
             "#fdca26"
            ],
            [
             1,
             "#f0f921"
            ]
           ]
          },
          "colorway": [
           "#636efa",
           "#EF553B",
           "#00cc96",
           "#ab63fa",
           "#FFA15A",
           "#19d3f3",
           "#FF6692",
           "#B6E880",
           "#FF97FF",
           "#FECB52"
          ],
          "font": {
           "color": "#2a3f5f"
          },
          "geo": {
           "bgcolor": "white",
           "lakecolor": "white",
           "landcolor": "#E5ECF6",
           "showlakes": true,
           "showland": true,
           "subunitcolor": "white"
          },
          "hoverlabel": {
           "align": "left"
          },
          "hovermode": "closest",
          "mapbox": {
           "style": "light"
          },
          "paper_bgcolor": "white",
          "plot_bgcolor": "#E5ECF6",
          "polar": {
           "angularaxis": {
            "gridcolor": "white",
            "linecolor": "white",
            "ticks": ""
           },
           "bgcolor": "#E5ECF6",
           "radialaxis": {
            "gridcolor": "white",
            "linecolor": "white",
            "ticks": ""
           }
          },
          "scene": {
           "xaxis": {
            "backgroundcolor": "#E5ECF6",
            "gridcolor": "white",
            "gridwidth": 2,
            "linecolor": "white",
            "showbackground": true,
            "ticks": "",
            "zerolinecolor": "white"
           },
           "yaxis": {
            "backgroundcolor": "#E5ECF6",
            "gridcolor": "white",
            "gridwidth": 2,
            "linecolor": "white",
            "showbackground": true,
            "ticks": "",
            "zerolinecolor": "white"
           },
           "zaxis": {
            "backgroundcolor": "#E5ECF6",
            "gridcolor": "white",
            "gridwidth": 2,
            "linecolor": "white",
            "showbackground": true,
            "ticks": "",
            "zerolinecolor": "white"
           }
          },
          "shapedefaults": {
           "line": {
            "color": "#2a3f5f"
           }
          },
          "ternary": {
           "aaxis": {
            "gridcolor": "white",
            "linecolor": "white",
            "ticks": ""
           },
           "baxis": {
            "gridcolor": "white",
            "linecolor": "white",
            "ticks": ""
           },
           "bgcolor": "#E5ECF6",
           "caxis": {
            "gridcolor": "white",
            "linecolor": "white",
            "ticks": ""
           }
          },
          "title": {
           "x": 0.05
          },
          "xaxis": {
           "automargin": true,
           "gridcolor": "white",
           "linecolor": "white",
           "ticks": "",
           "title": {
            "standoff": 15
           },
           "zerolinecolor": "white",
           "zerolinewidth": 2
          },
          "yaxis": {
           "automargin": true,
           "gridcolor": "white",
           "linecolor": "white",
           "ticks": "",
           "title": {
            "standoff": 15
           },
           "zerolinecolor": "white",
           "zerolinewidth": 2
          }
         }
        }
       }
      },
      "text/html": [
       "<div>                            <div id=\"18fdab64-aab9-456c-8fc9-3e9b7e84334e\" class=\"plotly-graph-div\" style=\"height:525px; width:100%;\"></div>            <script type=\"text/javascript\">                require([\"plotly\"], function(Plotly) {                    window.PLOTLYENV=window.PLOTLYENV || {};                                    if (document.getElementById(\"18fdab64-aab9-456c-8fc9-3e9b7e84334e\")) {                    Plotly.newPlot(                        \"18fdab64-aab9-456c-8fc9-3e9b7e84334e\",                        [{\"fill\":\"toself\",\"name\":\"cluster0\",\"r\":[101.09937061448981,99.55113123054744,0.0,98.10021912762271,101.09049749980299,66.97001834441642,99.37414965986393,338.7755102040816,0.0],\"theta\":[\"total_saved\",\"credit_diff\",\"credit_limit\",\"avg_trans_amount\",\"total_trans_amount\",\"count_trans\",\"savings_account_Y \",\"credit_account_dont_have\",\"credit_account_inactive\"],\"type\":\"scatterpolar\"},{\"fill\":\"toself\",\"name\":\"cluster1\",\"r\":[104.69559221006874,99.77525275321689,145.29230741119164,98.8865625457004,101.01438399938235,121.05673725453245,177.06666666666666,0.0,116.9308176100629],\"theta\":[\"total_saved\",\"credit_diff\",\"credit_limit\",\"avg_trans_amount\",\"total_trans_amount\",\"count_trans\",\"savings_account_Y \",\"credit_account_dont_have\",\"credit_account_inactive\"],\"type\":\"scatterpolar\"},{\"fill\":\"toself\",\"name\":\"cluster2\",\"r\":[92.80882474823532,100.72677979906517,137.4262982070651,103.28777328263716,97.6229100009965,104.40315779331664,0.0,0.0,174.44991789819375],\"theta\":[\"total_saved\",\"credit_diff\",\"credit_limit\",\"avg_trans_amount\",\"total_trans_amount\",\"count_trans\",\"savings_account_Y \",\"credit_account_dont_have\",\"credit_account_inactive\"],\"type\":\"scatterpolar\"}],                        {\"polar\":{\"radialaxis\":{\"visible\":true}},\"showlegend\":true,\"template\":{\"data\":{\"histogram2dcontour\":[{\"type\":\"histogram2dcontour\",\"colorbar\":{\"outlinewidth\":0,\"ticks\":\"\"},\"colorscale\":[[0.0,\"#0d0887\"],[0.1111111111111111,\"#46039f\"],[0.2222222222222222,\"#7201a8\"],[0.3333333333333333,\"#9c179e\"],[0.4444444444444444,\"#bd3786\"],[0.5555555555555556,\"#d8576b\"],[0.6666666666666666,\"#ed7953\"],[0.7777777777777778,\"#fb9f3a\"],[0.8888888888888888,\"#fdca26\"],[1.0,\"#f0f921\"]]}],\"choropleth\":[{\"type\":\"choropleth\",\"colorbar\":{\"outlinewidth\":0,\"ticks\":\"\"}}],\"histogram2d\":[{\"type\":\"histogram2d\",\"colorbar\":{\"outlinewidth\":0,\"ticks\":\"\"},\"colorscale\":[[0.0,\"#0d0887\"],[0.1111111111111111,\"#46039f\"],[0.2222222222222222,\"#7201a8\"],[0.3333333333333333,\"#9c179e\"],[0.4444444444444444,\"#bd3786\"],[0.5555555555555556,\"#d8576b\"],[0.6666666666666666,\"#ed7953\"],[0.7777777777777778,\"#fb9f3a\"],[0.8888888888888888,\"#fdca26\"],[1.0,\"#f0f921\"]]}],\"heatmap\":[{\"type\":\"heatmap\",\"colorbar\":{\"outlinewidth\":0,\"ticks\":\"\"},\"colorscale\":[[0.0,\"#0d0887\"],[0.1111111111111111,\"#46039f\"],[0.2222222222222222,\"#7201a8\"],[0.3333333333333333,\"#9c179e\"],[0.4444444444444444,\"#bd3786\"],[0.5555555555555556,\"#d8576b\"],[0.6666666666666666,\"#ed7953\"],[0.7777777777777778,\"#fb9f3a\"],[0.8888888888888888,\"#fdca26\"],[1.0,\"#f0f921\"]]}],\"heatmapgl\":[{\"type\":\"heatmapgl\",\"colorbar\":{\"outlinewidth\":0,\"ticks\":\"\"},\"colorscale\":[[0.0,\"#0d0887\"],[0.1111111111111111,\"#46039f\"],[0.2222222222222222,\"#7201a8\"],[0.3333333333333333,\"#9c179e\"],[0.4444444444444444,\"#bd3786\"],[0.5555555555555556,\"#d8576b\"],[0.6666666666666666,\"#ed7953\"],[0.7777777777777778,\"#fb9f3a\"],[0.8888888888888888,\"#fdca26\"],[1.0,\"#f0f921\"]]}],\"contourcarpet\":[{\"type\":\"contourcarpet\",\"colorbar\":{\"outlinewidth\":0,\"ticks\":\"\"}}],\"contour\":[{\"type\":\"contour\",\"colorbar\":{\"outlinewidth\":0,\"ticks\":\"\"},\"colorscale\":[[0.0,\"#0d0887\"],[0.1111111111111111,\"#46039f\"],[0.2222222222222222,\"#7201a8\"],[0.3333333333333333,\"#9c179e\"],[0.4444444444444444,\"#bd3786\"],[0.5555555555555556,\"#d8576b\"],[0.6666666666666666,\"#ed7953\"],[0.7777777777777778,\"#fb9f3a\"],[0.8888888888888888,\"#fdca26\"],[1.0,\"#f0f921\"]]}],\"surface\":[{\"type\":\"surface\",\"colorbar\":{\"outlinewidth\":0,\"ticks\":\"\"},\"colorscale\":[[0.0,\"#0d0887\"],[0.1111111111111111,\"#46039f\"],[0.2222222222222222,\"#7201a8\"],[0.3333333333333333,\"#9c179e\"],[0.4444444444444444,\"#bd3786\"],[0.5555555555555556,\"#d8576b\"],[0.6666666666666666,\"#ed7953\"],[0.7777777777777778,\"#fb9f3a\"],[0.8888888888888888,\"#fdca26\"],[1.0,\"#f0f921\"]]}],\"mesh3d\":[{\"type\":\"mesh3d\",\"colorbar\":{\"outlinewidth\":0,\"ticks\":\"\"}}],\"scatter\":[{\"fillpattern\":{\"fillmode\":\"overlay\",\"size\":10,\"solidity\":0.2},\"type\":\"scatter\"}],\"parcoords\":[{\"type\":\"parcoords\",\"line\":{\"colorbar\":{\"outlinewidth\":0,\"ticks\":\"\"}}}],\"scatterpolargl\":[{\"type\":\"scatterpolargl\",\"marker\":{\"colorbar\":{\"outlinewidth\":0,\"ticks\":\"\"}}}],\"bar\":[{\"error_x\":{\"color\":\"#2a3f5f\"},\"error_y\":{\"color\":\"#2a3f5f\"},\"marker\":{\"line\":{\"color\":\"#E5ECF6\",\"width\":0.5},\"pattern\":{\"fillmode\":\"overlay\",\"size\":10,\"solidity\":0.2}},\"type\":\"bar\"}],\"scattergeo\":[{\"type\":\"scattergeo\",\"marker\":{\"colorbar\":{\"outlinewidth\":0,\"ticks\":\"\"}}}],\"scatterpolar\":[{\"type\":\"scatterpolar\",\"marker\":{\"colorbar\":{\"outlinewidth\":0,\"ticks\":\"\"}}}],\"histogram\":[{\"marker\":{\"pattern\":{\"fillmode\":\"overlay\",\"size\":10,\"solidity\":0.2}},\"type\":\"histogram\"}],\"scattergl\":[{\"type\":\"scattergl\",\"marker\":{\"colorbar\":{\"outlinewidth\":0,\"ticks\":\"\"}}}],\"scatter3d\":[{\"type\":\"scatter3d\",\"line\":{\"colorbar\":{\"outlinewidth\":0,\"ticks\":\"\"}},\"marker\":{\"colorbar\":{\"outlinewidth\":0,\"ticks\":\"\"}}}],\"scattermapbox\":[{\"type\":\"scattermapbox\",\"marker\":{\"colorbar\":{\"outlinewidth\":0,\"ticks\":\"\"}}}],\"scatterternary\":[{\"type\":\"scatterternary\",\"marker\":{\"colorbar\":{\"outlinewidth\":0,\"ticks\":\"\"}}}],\"scattercarpet\":[{\"type\":\"scattercarpet\",\"marker\":{\"colorbar\":{\"outlinewidth\":0,\"ticks\":\"\"}}}],\"carpet\":[{\"aaxis\":{\"endlinecolor\":\"#2a3f5f\",\"gridcolor\":\"white\",\"linecolor\":\"white\",\"minorgridcolor\":\"white\",\"startlinecolor\":\"#2a3f5f\"},\"baxis\":{\"endlinecolor\":\"#2a3f5f\",\"gridcolor\":\"white\",\"linecolor\":\"white\",\"minorgridcolor\":\"white\",\"startlinecolor\":\"#2a3f5f\"},\"type\":\"carpet\"}],\"table\":[{\"cells\":{\"fill\":{\"color\":\"#EBF0F8\"},\"line\":{\"color\":\"white\"}},\"header\":{\"fill\":{\"color\":\"#C8D4E3\"},\"line\":{\"color\":\"white\"}},\"type\":\"table\"}],\"barpolar\":[{\"marker\":{\"line\":{\"color\":\"#E5ECF6\",\"width\":0.5},\"pattern\":{\"fillmode\":\"overlay\",\"size\":10,\"solidity\":0.2}},\"type\":\"barpolar\"}],\"pie\":[{\"automargin\":true,\"type\":\"pie\"}]},\"layout\":{\"autotypenumbers\":\"strict\",\"colorway\":[\"#636efa\",\"#EF553B\",\"#00cc96\",\"#ab63fa\",\"#FFA15A\",\"#19d3f3\",\"#FF6692\",\"#B6E880\",\"#FF97FF\",\"#FECB52\"],\"font\":{\"color\":\"#2a3f5f\"},\"hovermode\":\"closest\",\"hoverlabel\":{\"align\":\"left\"},\"paper_bgcolor\":\"white\",\"plot_bgcolor\":\"#E5ECF6\",\"polar\":{\"bgcolor\":\"#E5ECF6\",\"angularaxis\":{\"gridcolor\":\"white\",\"linecolor\":\"white\",\"ticks\":\"\"},\"radialaxis\":{\"gridcolor\":\"white\",\"linecolor\":\"white\",\"ticks\":\"\"}},\"ternary\":{\"bgcolor\":\"#E5ECF6\",\"aaxis\":{\"gridcolor\":\"white\",\"linecolor\":\"white\",\"ticks\":\"\"},\"baxis\":{\"gridcolor\":\"white\",\"linecolor\":\"white\",\"ticks\":\"\"},\"caxis\":{\"gridcolor\":\"white\",\"linecolor\":\"white\",\"ticks\":\"\"}},\"coloraxis\":{\"colorbar\":{\"outlinewidth\":0,\"ticks\":\"\"}},\"colorscale\":{\"sequential\":[[0.0,\"#0d0887\"],[0.1111111111111111,\"#46039f\"],[0.2222222222222222,\"#7201a8\"],[0.3333333333333333,\"#9c179e\"],[0.4444444444444444,\"#bd3786\"],[0.5555555555555556,\"#d8576b\"],[0.6666666666666666,\"#ed7953\"],[0.7777777777777778,\"#fb9f3a\"],[0.8888888888888888,\"#fdca26\"],[1.0,\"#f0f921\"]],\"sequentialminus\":[[0.0,\"#0d0887\"],[0.1111111111111111,\"#46039f\"],[0.2222222222222222,\"#7201a8\"],[0.3333333333333333,\"#9c179e\"],[0.4444444444444444,\"#bd3786\"],[0.5555555555555556,\"#d8576b\"],[0.6666666666666666,\"#ed7953\"],[0.7777777777777778,\"#fb9f3a\"],[0.8888888888888888,\"#fdca26\"],[1.0,\"#f0f921\"]],\"diverging\":[[0,\"#8e0152\"],[0.1,\"#c51b7d\"],[0.2,\"#de77ae\"],[0.3,\"#f1b6da\"],[0.4,\"#fde0ef\"],[0.5,\"#f7f7f7\"],[0.6,\"#e6f5d0\"],[0.7,\"#b8e186\"],[0.8,\"#7fbc41\"],[0.9,\"#4d9221\"],[1,\"#276419\"]]},\"xaxis\":{\"gridcolor\":\"white\",\"linecolor\":\"white\",\"ticks\":\"\",\"title\":{\"standoff\":15},\"zerolinecolor\":\"white\",\"automargin\":true,\"zerolinewidth\":2},\"yaxis\":{\"gridcolor\":\"white\",\"linecolor\":\"white\",\"ticks\":\"\",\"title\":{\"standoff\":15},\"zerolinecolor\":\"white\",\"automargin\":true,\"zerolinewidth\":2},\"scene\":{\"xaxis\":{\"backgroundcolor\":\"#E5ECF6\",\"gridcolor\":\"white\",\"linecolor\":\"white\",\"showbackground\":true,\"ticks\":\"\",\"zerolinecolor\":\"white\",\"gridwidth\":2},\"yaxis\":{\"backgroundcolor\":\"#E5ECF6\",\"gridcolor\":\"white\",\"linecolor\":\"white\",\"showbackground\":true,\"ticks\":\"\",\"zerolinecolor\":\"white\",\"gridwidth\":2},\"zaxis\":{\"backgroundcolor\":\"#E5ECF6\",\"gridcolor\":\"white\",\"linecolor\":\"white\",\"showbackground\":true,\"ticks\":\"\",\"zerolinecolor\":\"white\",\"gridwidth\":2}},\"shapedefaults\":{\"line\":{\"color\":\"#2a3f5f\"}},\"annotationdefaults\":{\"arrowcolor\":\"#2a3f5f\",\"arrowhead\":0,\"arrowwidth\":1},\"geo\":{\"bgcolor\":\"white\",\"landcolor\":\"#E5ECF6\",\"subunitcolor\":\"white\",\"showland\":true,\"showlakes\":true,\"lakecolor\":\"white\"},\"title\":{\"x\":0.05},\"mapbox\":{\"style\":\"light\"}}}},                        {\"responsive\": true}                    ).then(function(){\n",
       "                            \n",
       "var gd = document.getElementById('18fdab64-aab9-456c-8fc9-3e9b7e84334e');\n",
       "var x = new MutationObserver(function (mutations, observer) {{\n",
       "        var display = window.getComputedStyle(gd).display;\n",
       "        if (!display || display === 'none') {{\n",
       "            console.log([gd, 'removed!']);\n",
       "            Plotly.purge(gd);\n",
       "            observer.disconnect();\n",
       "        }}\n",
       "}});\n",
       "\n",
       "// Listen for the removal of the full notebook cells\n",
       "var notebookContainer = gd.closest('#notebook-container');\n",
       "if (notebookContainer) {{\n",
       "    x.observe(notebookContainer, {childList: true});\n",
       "}}\n",
       "\n",
       "// Listen for the clearing of the current output cell\n",
       "var outputEl = gd.closest('.output');\n",
       "if (outputEl) {{\n",
       "    x.observe(outputEl, {childList: true});\n",
       "}}\n",
       "\n",
       "                        })                };                });            </script>        </div>"
      ]
     },
     "metadata": {},
     "output_type": "display_data"
    }
   ],
   "source": [
    "# plot radar chart\n",
    "plot_radarchart(df_trans_radar)"
   ]
  },
  {
   "cell_type": "code",
   "execution_count": 99,
   "id": "16ca0793-11d5-4c89-9d7d-aca60c0f3113",
   "metadata": {},
   "outputs": [
    {
     "data": {
      "text/html": [
       "<div>\n",
       "<style scoped>\n",
       "    .dataframe tbody tr th:only-of-type {\n",
       "        vertical-align: middle;\n",
       "    }\n",
       "\n",
       "    .dataframe tbody tr th {\n",
       "        vertical-align: top;\n",
       "    }\n",
       "\n",
       "    .dataframe thead th {\n",
       "        text-align: right;\n",
       "    }\n",
       "</style>\n",
       "<table border=\"1\" class=\"dataframe\">\n",
       "  <thead>\n",
       "    <tr style=\"text-align: right;\">\n",
       "      <th></th>\n",
       "      <th>acct_nbr</th>\n",
       "      <th>credit_diff</th>\n",
       "    </tr>\n",
       "  </thead>\n",
       "  <tbody>\n",
       "    <tr>\n",
       "      <th>0</th>\n",
       "      <td>4561143213631600</td>\n",
       "      <td>-370.77</td>\n",
       "    </tr>\n",
       "    <tr>\n",
       "      <th>1</th>\n",
       "      <td>4561143213624870</td>\n",
       "      <td>1548.23</td>\n",
       "    </tr>\n",
       "    <tr>\n",
       "      <th>2</th>\n",
       "      <td>4561143213625480</td>\n",
       "      <td>-6896.57</td>\n",
       "    </tr>\n",
       "    <tr>\n",
       "      <th>3</th>\n",
       "      <td>4561143213627520</td>\n",
       "      <td>-2302.14</td>\n",
       "    </tr>\n",
       "    <tr>\n",
       "      <th>4</th>\n",
       "      <td>4561143213630170</td>\n",
       "      <td>1000.00</td>\n",
       "    </tr>\n",
       "  </tbody>\n",
       "</table>\n",
       "</div>"
      ],
      "text/plain": [
       "           acct_nbr  credit_diff\n",
       "0  4561143213631600      -370.77\n",
       "1  4561143213624870      1548.23\n",
       "2  4561143213625480     -6896.57\n",
       "3  4561143213627520     -2302.14\n",
       "4  4561143213630170      1000.00"
      ]
     },
     "execution_count": 99,
     "metadata": {},
     "output_type": "execute_result"
    }
   ],
   "source": [
    "#remove non necessary features\n",
    "credit_acct = credit_acct.drop(['cust_id', 'credit_limit', 'credit_rating', 'account_active', 'acct_start_date', 'acct_end_date', 'starting_balance', 'ending_balance'], axis = 1)\n",
    "credit_acct.head()"
   ]
  },
  {
   "cell_type": "code",
   "execution_count": 102,
   "id": "ef2773aa-af57-4c5d-86a8-4b268fe252b9",
   "metadata": {},
   "outputs": [
    {
     "data": {
      "text/html": [
       "<div>\n",
       "<style scoped>\n",
       "    .dataframe tbody tr th:only-of-type {\n",
       "        vertical-align: middle;\n",
       "    }\n",
       "\n",
       "    .dataframe tbody tr th {\n",
       "        vertical-align: top;\n",
       "    }\n",
       "\n",
       "    .dataframe thead th {\n",
       "        text-align: right;\n",
       "    }\n",
       "</style>\n",
       "<table border=\"1\" class=\"dataframe\">\n",
       "  <thead>\n",
       "    <tr style=\"text-align: right;\">\n",
       "      <th></th>\n",
       "      <th>acct_nbr</th>\n",
       "      <th>cust_id</th>\n",
       "      <th>acct_type</th>\n",
       "      <th>account_active</th>\n",
       "      <th>acct_start_date</th>\n",
       "      <th>acct_end_date</th>\n",
       "      <th>starting_balance</th>\n",
       "      <th>ending_balance</th>\n",
       "      <th>credit_diff</th>\n",
       "    </tr>\n",
       "  </thead>\n",
       "  <tbody>\n",
       "    <tr>\n",
       "      <th>0</th>\n",
       "      <td>4561143213627090</td>\n",
       "      <td>1362709</td>\n",
       "      <td>CC</td>\n",
       "      <td>Y</td>\n",
       "      <td>15.3.1993</td>\n",
       "      <td>NaN</td>\n",
       "      <td>266.34</td>\n",
       "      <td>496.15</td>\n",
       "      <td>229.81</td>\n",
       "    </tr>\n",
       "    <tr>\n",
       "      <th>1</th>\n",
       "      <td>4561143213628360</td>\n",
       "      <td>1362836</td>\n",
       "      <td>CC</td>\n",
       "      <td>Y</td>\n",
       "      <td>18.3.1992</td>\n",
       "      <td>NaN</td>\n",
       "      <td>55.90</td>\n",
       "      <td>1000.00</td>\n",
       "      <td>944.10</td>\n",
       "    </tr>\n",
       "    <tr>\n",
       "      <th>2</th>\n",
       "      <td>4561143213633610</td>\n",
       "      <td>1363361</td>\n",
       "      <td>CC</td>\n",
       "      <td>Y</td>\n",
       "      <td>17.6.1994</td>\n",
       "      <td>NaN</td>\n",
       "      <td>849.37</td>\n",
       "      <td>462.28</td>\n",
       "      <td>-387.09</td>\n",
       "    </tr>\n",
       "    <tr>\n",
       "      <th>3</th>\n",
       "      <td>4561143213631020</td>\n",
       "      <td>1363102</td>\n",
       "      <td>CC</td>\n",
       "      <td>Y</td>\n",
       "      <td>30.11.1995</td>\n",
       "      <td>NaN</td>\n",
       "      <td>0.00</td>\n",
       "      <td>1000.00</td>\n",
       "      <td>1000.00</td>\n",
       "    </tr>\n",
       "    <tr>\n",
       "      <th>4</th>\n",
       "      <td>4561143213633270</td>\n",
       "      <td>1363327</td>\n",
       "      <td>CC</td>\n",
       "      <td>Y</td>\n",
       "      <td>2.4.1995</td>\n",
       "      <td>NaN</td>\n",
       "      <td>0.00</td>\n",
       "      <td>3000.00</td>\n",
       "      <td>3000.00</td>\n",
       "    </tr>\n",
       "  </tbody>\n",
       "</table>\n",
       "</div>"
      ],
      "text/plain": [
       "           acct_nbr  cust_id acct_type account_active acct_start_date  \\\n",
       "0  4561143213627090  1362709      CC               Y        15.3.1993   \n",
       "1  4561143213628360  1362836      CC               Y        18.3.1992   \n",
       "2  4561143213633610  1363361      CC               Y        17.6.1994   \n",
       "3  4561143213631020  1363102      CC               Y       30.11.1995   \n",
       "4  4561143213633270  1363327      CC               Y         2.4.1995   \n",
       "\n",
       "  acct_end_date  starting_balance  ending_balance  credit_diff  \n",
       "0           NaN            266.34          496.15       229.81  \n",
       "1           NaN             55.90         1000.00       944.10  \n",
       "2           NaN            849.37          462.28      -387.09  \n",
       "3           NaN              0.00         1000.00      1000.00  \n",
       "4           NaN              0.00         3000.00      3000.00  "
      ]
     },
     "execution_count": 102,
     "metadata": {},
     "output_type": "execute_result"
    }
   ],
   "source": [
    "# add credit_balance column to accounts df\n",
    "acct_w_credit = pd.merge(accounts, credit_acct, on='acct_nbr')\n",
    "acct_w_credit.head()"
   ]
  },
  {
   "cell_type": "code",
   "execution_count": 104,
   "id": "829159a9-20fd-4456-a1b1-45d847359e8a",
   "metadata": {
    "collapsed": true,
    "jupyter": {
     "outputs_hidden": true
    },
    "tags": []
   },
   "outputs": [
    {
     "ename": "KeyError",
     "evalue": "\"['tran_id', 'principal_amt', 'interest_amt', 'tran_time', 'channel', 'new_balance', 'tran_date', 'tran_code'] not found in axis\"",
     "output_type": "error",
     "traceback": [
      "\u001b[0;31m---------------------------------------------------------------------------\u001b[0m",
      "\u001b[0;31mKeyError\u001b[0m                                  Traceback (most recent call last)",
      "Input \u001b[0;32mIn [104]\u001b[0m, in \u001b[0;36m<cell line: 1>\u001b[0;34m()\u001b[0m\n\u001b[0;32m----> 1\u001b[0m transaction \u001b[38;5;241m=\u001b[39m \u001b[43mtransaction\u001b[49m\u001b[38;5;241;43m.\u001b[39;49m\u001b[43mdrop\u001b[49m\u001b[43m(\u001b[49m\u001b[43m[\u001b[49m\u001b[38;5;124;43m'\u001b[39;49m\u001b[38;5;124;43mtran_id\u001b[39;49m\u001b[38;5;124;43m'\u001b[39;49m\u001b[43m,\u001b[49m\u001b[43m \u001b[49m\u001b[38;5;124;43m'\u001b[39;49m\u001b[38;5;124;43mprincipal_amt\u001b[39;49m\u001b[38;5;124;43m'\u001b[39;49m\u001b[43m,\u001b[49m\u001b[43m \u001b[49m\u001b[38;5;124;43m'\u001b[39;49m\u001b[38;5;124;43minterest_amt\u001b[39;49m\u001b[38;5;124;43m'\u001b[39;49m\u001b[43m,\u001b[49m\u001b[43m \u001b[49m\u001b[38;5;124;43m'\u001b[39;49m\u001b[38;5;124;43mtran_time\u001b[39;49m\u001b[38;5;124;43m'\u001b[39;49m\u001b[43m,\u001b[49m\u001b[43m \u001b[49m\u001b[38;5;124;43m'\u001b[39;49m\u001b[38;5;124;43mchannel\u001b[39;49m\u001b[38;5;124;43m'\u001b[39;49m\u001b[43m,\u001b[49m\u001b[43m \u001b[49m\u001b[38;5;124;43m'\u001b[39;49m\u001b[38;5;124;43mnew_balance\u001b[39;49m\u001b[38;5;124;43m'\u001b[39;49m\u001b[43m,\u001b[49m\u001b[43m \u001b[49m\u001b[38;5;124;43m'\u001b[39;49m\u001b[38;5;124;43mtran_date\u001b[39;49m\u001b[38;5;124;43m'\u001b[39;49m\u001b[43m,\u001b[49m\u001b[43m \u001b[49m\u001b[38;5;124;43m'\u001b[39;49m\u001b[38;5;124;43mtran_code\u001b[39;49m\u001b[38;5;124;43m'\u001b[39;49m\u001b[43m]\u001b[49m\u001b[43m,\u001b[49m\u001b[43m \u001b[49m\u001b[43maxis\u001b[49m\u001b[43m \u001b[49m\u001b[38;5;241;43m=\u001b[39;49m\u001b[43m \u001b[49m\u001b[38;5;241;43m1\u001b[39;49m\u001b[43m)\u001b[49m\n\u001b[1;32m      2\u001b[0m transaction\u001b[38;5;241m.\u001b[39mhead()\n",
      "File \u001b[0;32m/opt/homebrew/lib/python3.8/site-packages/pandas/util/_decorators.py:311\u001b[0m, in \u001b[0;36mdeprecate_nonkeyword_arguments.<locals>.decorate.<locals>.wrapper\u001b[0;34m(*args, **kwargs)\u001b[0m\n\u001b[1;32m    305\u001b[0m \u001b[38;5;28;01mif\u001b[39;00m \u001b[38;5;28mlen\u001b[39m(args) \u001b[38;5;241m>\u001b[39m num_allow_args:\n\u001b[1;32m    306\u001b[0m     warnings\u001b[38;5;241m.\u001b[39mwarn(\n\u001b[1;32m    307\u001b[0m         msg\u001b[38;5;241m.\u001b[39mformat(arguments\u001b[38;5;241m=\u001b[39marguments),\n\u001b[1;32m    308\u001b[0m         \u001b[38;5;167;01mFutureWarning\u001b[39;00m,\n\u001b[1;32m    309\u001b[0m         stacklevel\u001b[38;5;241m=\u001b[39mstacklevel,\n\u001b[1;32m    310\u001b[0m     )\n\u001b[0;32m--> 311\u001b[0m \u001b[38;5;28;01mreturn\u001b[39;00m \u001b[43mfunc\u001b[49m\u001b[43m(\u001b[49m\u001b[38;5;241;43m*\u001b[39;49m\u001b[43margs\u001b[49m\u001b[43m,\u001b[49m\u001b[43m \u001b[49m\u001b[38;5;241;43m*\u001b[39;49m\u001b[38;5;241;43m*\u001b[39;49m\u001b[43mkwargs\u001b[49m\u001b[43m)\u001b[49m\n",
      "File \u001b[0;32m/opt/homebrew/lib/python3.8/site-packages/pandas/core/frame.py:4954\u001b[0m, in \u001b[0;36mDataFrame.drop\u001b[0;34m(self, labels, axis, index, columns, level, inplace, errors)\u001b[0m\n\u001b[1;32m   4806\u001b[0m \u001b[38;5;129m@deprecate_nonkeyword_arguments\u001b[39m(version\u001b[38;5;241m=\u001b[39m\u001b[38;5;28;01mNone\u001b[39;00m, allowed_args\u001b[38;5;241m=\u001b[39m[\u001b[38;5;124m\"\u001b[39m\u001b[38;5;124mself\u001b[39m\u001b[38;5;124m\"\u001b[39m, \u001b[38;5;124m\"\u001b[39m\u001b[38;5;124mlabels\u001b[39m\u001b[38;5;124m\"\u001b[39m])\n\u001b[1;32m   4807\u001b[0m \u001b[38;5;28;01mdef\u001b[39;00m \u001b[38;5;21mdrop\u001b[39m(\n\u001b[1;32m   4808\u001b[0m     \u001b[38;5;28mself\u001b[39m,\n\u001b[0;32m   (...)\u001b[0m\n\u001b[1;32m   4815\u001b[0m     errors: \u001b[38;5;28mstr\u001b[39m \u001b[38;5;241m=\u001b[39m \u001b[38;5;124m\"\u001b[39m\u001b[38;5;124mraise\u001b[39m\u001b[38;5;124m\"\u001b[39m,\n\u001b[1;32m   4816\u001b[0m ):\n\u001b[1;32m   4817\u001b[0m     \u001b[38;5;124;03m\"\"\"\u001b[39;00m\n\u001b[1;32m   4818\u001b[0m \u001b[38;5;124;03m    Drop specified labels from rows or columns.\u001b[39;00m\n\u001b[1;32m   4819\u001b[0m \n\u001b[0;32m   (...)\u001b[0m\n\u001b[1;32m   4952\u001b[0m \u001b[38;5;124;03m            weight  1.0     0.8\u001b[39;00m\n\u001b[1;32m   4953\u001b[0m \u001b[38;5;124;03m    \"\"\"\u001b[39;00m\n\u001b[0;32m-> 4954\u001b[0m     \u001b[38;5;28;01mreturn\u001b[39;00m \u001b[38;5;28;43msuper\u001b[39;49m\u001b[43m(\u001b[49m\u001b[43m)\u001b[49m\u001b[38;5;241;43m.\u001b[39;49m\u001b[43mdrop\u001b[49m\u001b[43m(\u001b[49m\n\u001b[1;32m   4955\u001b[0m \u001b[43m        \u001b[49m\u001b[43mlabels\u001b[49m\u001b[38;5;241;43m=\u001b[39;49m\u001b[43mlabels\u001b[49m\u001b[43m,\u001b[49m\n\u001b[1;32m   4956\u001b[0m \u001b[43m        \u001b[49m\u001b[43maxis\u001b[49m\u001b[38;5;241;43m=\u001b[39;49m\u001b[43maxis\u001b[49m\u001b[43m,\u001b[49m\n\u001b[1;32m   4957\u001b[0m \u001b[43m        \u001b[49m\u001b[43mindex\u001b[49m\u001b[38;5;241;43m=\u001b[39;49m\u001b[43mindex\u001b[49m\u001b[43m,\u001b[49m\n\u001b[1;32m   4958\u001b[0m \u001b[43m        \u001b[49m\u001b[43mcolumns\u001b[49m\u001b[38;5;241;43m=\u001b[39;49m\u001b[43mcolumns\u001b[49m\u001b[43m,\u001b[49m\n\u001b[1;32m   4959\u001b[0m \u001b[43m        \u001b[49m\u001b[43mlevel\u001b[49m\u001b[38;5;241;43m=\u001b[39;49m\u001b[43mlevel\u001b[49m\u001b[43m,\u001b[49m\n\u001b[1;32m   4960\u001b[0m \u001b[43m        \u001b[49m\u001b[43minplace\u001b[49m\u001b[38;5;241;43m=\u001b[39;49m\u001b[43minplace\u001b[49m\u001b[43m,\u001b[49m\n\u001b[1;32m   4961\u001b[0m \u001b[43m        \u001b[49m\u001b[43merrors\u001b[49m\u001b[38;5;241;43m=\u001b[39;49m\u001b[43merrors\u001b[49m\u001b[43m,\u001b[49m\n\u001b[1;32m   4962\u001b[0m \u001b[43m    \u001b[49m\u001b[43m)\u001b[49m\n",
      "File \u001b[0;32m/opt/homebrew/lib/python3.8/site-packages/pandas/core/generic.py:4267\u001b[0m, in \u001b[0;36mNDFrame.drop\u001b[0;34m(self, labels, axis, index, columns, level, inplace, errors)\u001b[0m\n\u001b[1;32m   4265\u001b[0m \u001b[38;5;28;01mfor\u001b[39;00m axis, labels \u001b[38;5;129;01min\u001b[39;00m axes\u001b[38;5;241m.\u001b[39mitems():\n\u001b[1;32m   4266\u001b[0m     \u001b[38;5;28;01mif\u001b[39;00m labels \u001b[38;5;129;01mis\u001b[39;00m \u001b[38;5;129;01mnot\u001b[39;00m \u001b[38;5;28;01mNone\u001b[39;00m:\n\u001b[0;32m-> 4267\u001b[0m         obj \u001b[38;5;241m=\u001b[39m \u001b[43mobj\u001b[49m\u001b[38;5;241;43m.\u001b[39;49m\u001b[43m_drop_axis\u001b[49m\u001b[43m(\u001b[49m\u001b[43mlabels\u001b[49m\u001b[43m,\u001b[49m\u001b[43m \u001b[49m\u001b[43maxis\u001b[49m\u001b[43m,\u001b[49m\u001b[43m \u001b[49m\u001b[43mlevel\u001b[49m\u001b[38;5;241;43m=\u001b[39;49m\u001b[43mlevel\u001b[49m\u001b[43m,\u001b[49m\u001b[43m \u001b[49m\u001b[43merrors\u001b[49m\u001b[38;5;241;43m=\u001b[39;49m\u001b[43merrors\u001b[49m\u001b[43m)\u001b[49m\n\u001b[1;32m   4269\u001b[0m \u001b[38;5;28;01mif\u001b[39;00m inplace:\n\u001b[1;32m   4270\u001b[0m     \u001b[38;5;28mself\u001b[39m\u001b[38;5;241m.\u001b[39m_update_inplace(obj)\n",
      "File \u001b[0;32m/opt/homebrew/lib/python3.8/site-packages/pandas/core/generic.py:4311\u001b[0m, in \u001b[0;36mNDFrame._drop_axis\u001b[0;34m(self, labels, axis, level, errors, consolidate, only_slice)\u001b[0m\n\u001b[1;32m   4309\u001b[0m         new_axis \u001b[38;5;241m=\u001b[39m axis\u001b[38;5;241m.\u001b[39mdrop(labels, level\u001b[38;5;241m=\u001b[39mlevel, errors\u001b[38;5;241m=\u001b[39merrors)\n\u001b[1;32m   4310\u001b[0m     \u001b[38;5;28;01melse\u001b[39;00m:\n\u001b[0;32m-> 4311\u001b[0m         new_axis \u001b[38;5;241m=\u001b[39m \u001b[43maxis\u001b[49m\u001b[38;5;241;43m.\u001b[39;49m\u001b[43mdrop\u001b[49m\u001b[43m(\u001b[49m\u001b[43mlabels\u001b[49m\u001b[43m,\u001b[49m\u001b[43m \u001b[49m\u001b[43merrors\u001b[49m\u001b[38;5;241;43m=\u001b[39;49m\u001b[43merrors\u001b[49m\u001b[43m)\u001b[49m\n\u001b[1;32m   4312\u001b[0m     indexer \u001b[38;5;241m=\u001b[39m axis\u001b[38;5;241m.\u001b[39mget_indexer(new_axis)\n\u001b[1;32m   4314\u001b[0m \u001b[38;5;66;03m# Case for non-unique axis\u001b[39;00m\n\u001b[1;32m   4315\u001b[0m \u001b[38;5;28;01melse\u001b[39;00m:\n",
      "File \u001b[0;32m/opt/homebrew/lib/python3.8/site-packages/pandas/core/indexes/base.py:6644\u001b[0m, in \u001b[0;36mIndex.drop\u001b[0;34m(self, labels, errors)\u001b[0m\n\u001b[1;32m   6642\u001b[0m \u001b[38;5;28;01mif\u001b[39;00m mask\u001b[38;5;241m.\u001b[39many():\n\u001b[1;32m   6643\u001b[0m     \u001b[38;5;28;01mif\u001b[39;00m errors \u001b[38;5;241m!=\u001b[39m \u001b[38;5;124m\"\u001b[39m\u001b[38;5;124mignore\u001b[39m\u001b[38;5;124m\"\u001b[39m:\n\u001b[0;32m-> 6644\u001b[0m         \u001b[38;5;28;01mraise\u001b[39;00m \u001b[38;5;167;01mKeyError\u001b[39;00m(\u001b[38;5;124mf\u001b[39m\u001b[38;5;124m\"\u001b[39m\u001b[38;5;132;01m{\u001b[39;00m\u001b[38;5;28mlist\u001b[39m(labels[mask])\u001b[38;5;132;01m}\u001b[39;00m\u001b[38;5;124m not found in axis\u001b[39m\u001b[38;5;124m\"\u001b[39m)\n\u001b[1;32m   6645\u001b[0m     indexer \u001b[38;5;241m=\u001b[39m indexer[\u001b[38;5;241m~\u001b[39mmask]\n\u001b[1;32m   6646\u001b[0m \u001b[38;5;28;01mreturn\u001b[39;00m \u001b[38;5;28mself\u001b[39m\u001b[38;5;241m.\u001b[39mdelete(indexer)\n",
      "\u001b[0;31mKeyError\u001b[0m: \"['tran_id', 'principal_amt', 'interest_amt', 'tran_time', 'channel', 'new_balance', 'tran_date', 'tran_code'] not found in axis\""
     ]
    }
   ],
   "source": [
    "transaction = transaction.drop(['tran_id', 'principal_amt', 'interest_amt', 'tran_time', 'channel', 'new_balance', 'tran_date', 'tran_code'], axis = 1)\n",
    "transaction.head()"
   ]
  },
  {
   "cell_type": "code",
   "execution_count": 105,
   "id": "6501ff3c-f2cc-4f08-a3dd-4bffdca5120e",
   "metadata": {},
   "outputs": [],
   "source": [
    "from sklearn.decomposition import PCA\n",
    "pca = PCA(n_components=2)\n",
    "principalComponents = pca.fit_transform(df_trans_seg_scaled)\n",
    "principalDf = pd.DataFrame(data = principalComponents\n",
    "             , columns = ['principal component 1', 'principal component 2'])"
   ]
  },
  {
   "cell_type": "code",
   "execution_count": 106,
   "id": "92428d24-4938-40d0-aa57-334a229482fb",
   "metadata": {},
   "outputs": [
    {
     "data": {
      "text/html": [
       "<div>\n",
       "<style scoped>\n",
       "    .dataframe tbody tr th:only-of-type {\n",
       "        vertical-align: middle;\n",
       "    }\n",
       "\n",
       "    .dataframe tbody tr th {\n",
       "        vertical-align: top;\n",
       "    }\n",
       "\n",
       "    .dataframe thead th {\n",
       "        text-align: right;\n",
       "    }\n",
       "</style>\n",
       "<table border=\"1\" class=\"dataframe\">\n",
       "  <thead>\n",
       "    <tr style=\"text-align: right;\">\n",
       "      <th></th>\n",
       "      <th>principal component 1</th>\n",
       "      <th>principal component 2</th>\n",
       "    </tr>\n",
       "  </thead>\n",
       "  <tbody>\n",
       "    <tr>\n",
       "      <th>0</th>\n",
       "      <td>-1.118627</td>\n",
       "      <td>0.353515</td>\n",
       "    </tr>\n",
       "    <tr>\n",
       "      <th>1</th>\n",
       "      <td>0.001267</td>\n",
       "      <td>-0.509042</td>\n",
       "    </tr>\n",
       "    <tr>\n",
       "      <th>2</th>\n",
       "      <td>-0.059225</td>\n",
       "      <td>-0.544903</td>\n",
       "    </tr>\n",
       "    <tr>\n",
       "      <th>3</th>\n",
       "      <td>-0.024216</td>\n",
       "      <td>-0.546241</td>\n",
       "    </tr>\n",
       "    <tr>\n",
       "      <th>4</th>\n",
       "      <td>-1.134283</td>\n",
       "      <td>0.315113</td>\n",
       "    </tr>\n",
       "  </tbody>\n",
       "</table>\n",
       "</div>"
      ],
      "text/plain": [
       "   principal component 1  principal component 2\n",
       "0              -1.118627               0.353515\n",
       "1               0.001267              -0.509042\n",
       "2              -0.059225              -0.544903\n",
       "3              -0.024216              -0.546241\n",
       "4              -1.134283               0.315113"
      ]
     },
     "execution_count": 106,
     "metadata": {},
     "output_type": "execute_result"
    }
   ],
   "source": [
    "principalDf.head()"
   ]
  },
  {
   "cell_type": "code",
   "execution_count": 107,
   "id": "a2e160b8-aee0-415d-b71d-4c1be72a0d7c",
   "metadata": {},
   "outputs": [
    {
     "data": {
      "image/png": "[encoded data removed]",
      "text/plain": [
       "<Figure size 432x288 with 1 Axes>"
      ]
     },
     "metadata": {
      "needs_background": "light"
     },
     "output_type": "display_data"
    },
    {
     "data": {
      "text/plain": [
       "<Figure size 432x288 with 0 Axes>"
      ]
     },
     "metadata": {},
     "output_type": "display_data"
    }
   ],
   "source": [
    "plot = plt.scatter(principalDf['principal component 1'], principalDf['principal component 2'], c='g')\n",
    "plt.show()\n",
    "plt.savefig('bank_scatter_pca')"
   ]
  },
  {
   "cell_type": "code",
   "execution_count": null,
   "id": "70c3931e-7bcb-4dea-8de5-9834ddcb1f96",
   "metadata": {},
   "outputs": [],
   "source": []
  }
 ],
 "metadata": {
  "kernelspec": {
   "display_name": "Python 3 (ipykernel)",
   "language": "python",
   "name": "python3"
  },
  "language_info": {
   "codemirror_mode": {
    "name": "ipython",
    "version": 3
   },
   "file_extension": ".py",
   "mimetype": "text/x-python",
   "name": "python",
   "nbconvert_exporter": "python",
   "pygments_lexer": "ipython3",
   "version": "3.8.13"
  }
 },
 "nbformat": 4,
 "nbformat_minor": 5
}
